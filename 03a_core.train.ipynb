{
 "cells": [
  {
   "cell_type": "code",
   "execution_count": null,
   "metadata": {},
   "outputs": [],
   "source": [
    "#default_exp core.train"
   ]
  },
  {
   "cell_type": "code",
   "execution_count": null,
   "metadata": {},
   "outputs": [],
   "source": [
    "#export\n",
    "import torch\n",
    "from torch import nn\n",
    "from torch.nn import functional as F\n",
    "from vase.config import DATA_PATH, PARAM_PATH\n",
    "from vase.core.utils import rec_likelihood, kl_div_stdnorm, euclidean\n"
   ]
  },
  {
   "cell_type": "code",
   "execution_count": null,
   "metadata": {},
   "outputs": [],
   "source": [
    "#hide\n",
    "from vase.core.models import FCEncoder, FCDecoder, Encoder, Decoder, PaperVanillaVAE, FCVAE, LatentMaskVAE, EnvInferVAE, GenReplayVAE\n",
    "from vase.core.datasets.moving_mnist import MovingFashionMNIST, MovingMNIST, CommonMNIST, CommonFashionMNIST, FixedMNIST\n",
    "from torch.utils.data import DataLoader\n",
    "from torchvision.transforms import ToTensor\n",
    "import matplotlib.pyplot as plt\n",
    "import os\n",
    "from  datetime import datetime as dt"
   ]
  },
  {
   "cell_type": "code",
   "execution_count": null,
   "metadata": {},
   "outputs": [],
   "source": [
    "train = False\n",
    "latents=24\n",
    "batch_size=64"
   ]
  },
  {
   "cell_type": "code",
   "execution_count": null,
   "metadata": {},
   "outputs": [],
   "source": [
    "#hide\n",
    "mnist_data = CommonMNIST(DATA_PATH, transform=ToTensor(), download=True)\n",
    "fc_vae_helper = FCVAE(latents)\n",
    "mnist_loader = DataLoader(mnist_data, batch_size=batch_size, shuffle=True)\n",
    "mnist_batch, _ = iter(mnist_loader).next()\n",
    "small_fashion = CommonFashionMNIST(DATA_PATH, transform=ToTensor())\n",
    "sf_loader = DataLoader(small_fashion, batch_size=batch_size, shuffle=True)\n",
    "sf_batch, _ = iter(sf_loader).next()\n",
    "rec, mu, logvar = fc_vae_helper(mnist_batch)\n",
    "fashion_data = MovingFashionMNIST(DATA_PATH, transform=ToTensor(), download=True)\n",
    "fashion_loader = DataLoader(fashion_data, batch_size, shuffle=True)\n",
    "fashion_batch, _, _ = iter(fashion_loader).next()\n",
    "mm_data = MovingMNIST(DATA_PATH, transform=ToTensor(), download=True)\n",
    "mm_loader = DataLoader(mm_data, batch_size, shuffle=True)\n",
    "mm_batch, _, _ = iter(mm_loader).next()"
   ]
  },
  {
   "cell_type": "markdown",
   "metadata": {},
   "source": [
    "# Training For VASE\n",
    "> all losses and training code for VASE (variational inference, environmental inference, latent masking, generative replay, object classification, location regresion)"
   ]
  },
  {
   "cell_type": "markdown",
   "metadata": {},
   "source": [
    "## Problem Setup\n",
    "\n",
    "TODO: add all the distributions"
   ]
  },
  {
   "cell_type": "markdown",
   "metadata": {},
   "source": [
    "## Standard VAE (Reconstruction + Target KL)\n",
    "The paper's \"The Minimum Length Description (MDL)\" loss is a variannt of the standard VAE ELBO loss, maximimzing the likelihood while minimizing the KL Divergence to the prior:\n",
    "\n",
    "$$\\mathcal{L}_{MDL}(\\phi, \\theta) = E_{\\mathbf{z}^s \\sim q_{\\phi}(\\dot|\\mathbf{x}^s)}[-\\log{p_{\\theta}(\\mathbf{x}|\\mathbf{z}^s, s)}] + \\gamma |KL(q_{\\phi}(\\mathbf{z}^s|\\mathbf{x}^s)||p(z)) - C|$$\n",
    "\n",
    "\n",
    "However, you'll notice the KL divergence term is slighly non-standard. Rather than penalizing the KLDiv at a fixed rate, the loss is the difference between the KLDiv and a dynamic target $C$, which increases over the course of training, allowing for gradually more representation capacity. This trick was taken from [Understanding disentanglement in the $\\beta$-VAE](https://arxiv.org/pdf/1804.03599.pdf) (Note that in keeping with that paper, I have dropped the square from the KL term)\n",
    "\n",
    "For now we'll also drop the environment super script s, just training an autoencoder on iid data:\n",
    "\n",
    "$$\\mathcal{L}_{MDL}(\\phi, \\theta) = E_{\\mathbf{z} \\sim q_{\\phi}(\\dot|\\mathbf{x})}[-\\log{p_{\\theta}(\\mathbf{x}|\\mathbf{z})}] + \\gamma |KL(q_{\\phi}(\\mathbf{z}|\\mathbf{x})||p(z)) - C|$$"
   ]
  },
  {
   "cell_type": "markdown",
   "metadata": {},
   "source": [
    "### Reconstruction Loss\n",
    "$$E_{\\mathbf{z}^s \\sim q_{\\phi}(\\dot|\\mathbf{x}^s)}[-\\log{p_{\\theta}(\\mathbf{x}|\\mathbf{z}^s, s)}]$$"
   ]
  },
  {
   "cell_type": "code",
   "execution_count": null,
   "metadata": {},
   "outputs": [],
   "source": [
    "#export \n",
    "def reconstruction_loss(x, x_rec):\n",
    "    \"\"\"Returns mean reconstruction loss across batch\"\"\"\n",
    "    return torch.mean(rec_likelihood(x, x_rec))"
   ]
  },
  {
   "cell_type": "markdown",
   "metadata": {},
   "source": [
    "### KL Div Target Loss"
   ]
  },
  {
   "cell_type": "markdown",
   "metadata": {},
   "source": [
    "#### KLDiv Target Loss\n",
    "\n",
    "Now we can define the full loss:\n",
    "\n",
    "$$\\gamma |KL(q_{\\phi}(\\mathbf{z}^s|\\mathbf{x}^s)||p(z)) - C|$$\n",
    "\n",
    "I'm not sure if the difference is computed element wise, or by batch...."
   ]
  },
  {
   "cell_type": "code",
   "execution_count": null,
   "metadata": {},
   "outputs": [],
   "source": [
    "#export\n",
    "def kl_div_target(mu, logvar, C=0, gamma=1):\n",
    "    \"\"\"Returns target loss: squared difference of mean kldivergence and target C scaled by gamma\"\"\"\n",
    "    return gamma * torch.mean(torch.abs((kl_div_stdnorm(mu, logvar) - C)))"
   ]
  },
  {
   "cell_type": "code",
   "execution_count": null,
   "metadata": {},
   "outputs": [],
   "source": [
    "#assert kl_div_target(torch.Tensor([0]), torch.log(torch.Tensor([1]))) == 0"
   ]
  },
  {
   "cell_type": "code",
   "execution_count": null,
   "metadata": {},
   "outputs": [],
   "source": [
    "#assert kl_div_target(torch.Tensor([0]), torch.log(torch.Tensor([1])), C=1) == 1"
   ]
  },
  {
   "cell_type": "code",
   "execution_count": null,
   "metadata": {},
   "outputs": [],
   "source": [
    "#assert kl_div_target(torch.Tensor([0]), torch.log(torch.Tensor([1])), C=2, gamma=3) == 6"
   ]
  },
  {
   "cell_type": "markdown",
   "metadata": {},
   "source": [
    "### Train "
   ]
  },
  {
   "cell_type": "code",
   "execution_count": null,
   "metadata": {},
   "outputs": [],
   "source": [
    "device = torch.device('cuda:0' if torch.cuda.is_available() else 'cpu')"
   ]
  },
  {
   "cell_type": "markdown",
   "metadata": {},
   "source": [
    "### Hyper Parameters\n",
    "The original payer uses $\\gamma=100$, but will a scaling $C$ and 24 available latents (8 of which are actually used). For now we'll use a fixed C and define 8 latents (all of which are available to the VAE) "
   ]
  },
  {
   "cell_type": "code",
   "execution_count": null,
   "metadata": {},
   "outputs": [],
   "source": [
    "gamma=100\n",
    "lr=1e-3\n",
    "batch_size = 64\n",
    "latents=8\n",
    "C=0\n",
    "epochs = 1"
   ]
  },
  {
   "cell_type": "code",
   "execution_count": null,
   "metadata": {},
   "outputs": [],
   "source": [
    "vanilla_vae = PaperVanillaVAE(latents=latents, device=device) #VanillaVAE(latents=latents)\n",
    "optimizer = torch.optim.Adam(params = vanilla_vae.parameters(), lr=lr)\n",
    "loader = DataLoader(fashion_data, batch_size, shuffle=True) #DataLoader(fashion_data, batch_size)"
   ]
  },
  {
   "cell_type": "code",
   "execution_count": null,
   "metadata": {},
   "outputs": [
    {
     "data": {
      "text/plain": [
       "PaperVanillaVAE(\n",
       "  (encoder): Encoder(\n",
       "    (conv1): Conv2d(1, 64, kernel_size=(4, 4), stride=(2, 2), padding=(1, 1))\n",
       "    (conv2): Conv2d(64, 64, kernel_size=(4, 4), stride=(2, 2), padding=(1, 1))\n",
       "    (conv3): Conv2d(64, 128, kernel_size=(4, 4), stride=(2, 2), padding=(1, 1))\n",
       "    (conv4): Conv2d(128, 128, kernel_size=(4, 4), stride=(2, 2), padding=(1, 1))\n",
       "    (linear): Linear(in_features=2048, out_features=256, bias=True)\n",
       "    (linear_mu): Linear(in_features=256, out_features=8, bias=True)\n",
       "    (linear_logvar): Linear(in_features=256, out_features=8, bias=True)\n",
       "    (relu): ReLU()\n",
       "  )\n",
       "  (decoder): Decoder(\n",
       "    (linear2): Linear(in_features=8, out_features=256, bias=True)\n",
       "    (linear1): Linear(in_features=256, out_features=2048, bias=True)\n",
       "    (conv4): ConvTranspose2d(128, 128, kernel_size=(4, 4), stride=(2, 2), padding=(1, 1))\n",
       "    (conv3): ConvTranspose2d(128, 64, kernel_size=(4, 4), stride=(2, 2), padding=(1, 1))\n",
       "    (conv2): ConvTranspose2d(64, 64, kernel_size=(4, 4), stride=(2, 2), padding=(1, 1))\n",
       "    (conv1): ConvTranspose2d(64, 1, kernel_size=(4, 4), stride=(2, 2), padding=(1, 1))\n",
       "    (relu): ReLU()\n",
       "    (sigmoid): Sigmoid()\n",
       "  )\n",
       ")"
      ]
     },
     "execution_count": null,
     "metadata": {},
     "output_type": "execute_result"
    }
   ],
   "source": [
    "vanilla_vae.to(device)"
   ]
  },
  {
   "cell_type": "code",
   "execution_count": null,
   "metadata": {},
   "outputs": [],
   "source": [
    "if not train:\n",
    "    epochs = 0"
   ]
  },
  {
   "cell_type": "code",
   "execution_count": null,
   "metadata": {},
   "outputs": [],
   "source": [
    "for epoch in range(epochs):\n",
    "    total_loss = 0\n",
    "    total_rec_loss = 0\n",
    "    total_div_loss = 0\n",
    "    for X, _y, _pos in loader:\n",
    "        X = X.to(device)\n",
    "        optimizer.zero_grad()\n",
    "\n",
    "        rec_X, mu, logvar = vanilla_vae(X)\n",
    "\n",
    "        rec_loss = reconstruction_loss(X, rec_X)\n",
    "        kl_loss = kl_div_target(mu, logvar, C=C, gamma=gamma)\n",
    "        loss = rec_loss + kl_loss\n",
    "\n",
    "        loss.backward()\n",
    "        optimizer.step()\n",
    "        total_loss += loss\n",
    "        total_rec_loss += rec_loss\n",
    "        total_div_loss += kl_loss\n",
    "    print(f\"epoch: {epoch}, loss={total_loss/batch_size}, rec_loss={total_rec_loss/batch_size}, total_div_loss={total_div_loss/batch_size}\")"
   ]
  },
  {
   "cell_type": "code",
   "execution_count": null,
   "metadata": {},
   "outputs": [
    {
     "data": {
      "text/plain": [
       "PaperVanillaVAE(\n",
       "  (encoder): Encoder(\n",
       "    (conv1): Conv2d(1, 64, kernel_size=(4, 4), stride=(2, 2), padding=(1, 1))\n",
       "    (conv2): Conv2d(64, 64, kernel_size=(4, 4), stride=(2, 2), padding=(1, 1))\n",
       "    (conv3): Conv2d(64, 128, kernel_size=(4, 4), stride=(2, 2), padding=(1, 1))\n",
       "    (conv4): Conv2d(128, 128, kernel_size=(4, 4), stride=(2, 2), padding=(1, 1))\n",
       "    (linear): Linear(in_features=2048, out_features=256, bias=True)\n",
       "    (linear_mu): Linear(in_features=256, out_features=8, bias=True)\n",
       "    (linear_logvar): Linear(in_features=256, out_features=8, bias=True)\n",
       "    (relu): ReLU()\n",
       "  )\n",
       "  (decoder): Decoder(\n",
       "    (linear2): Linear(in_features=8, out_features=256, bias=True)\n",
       "    (linear1): Linear(in_features=256, out_features=2048, bias=True)\n",
       "    (conv4): ConvTranspose2d(128, 128, kernel_size=(4, 4), stride=(2, 2), padding=(1, 1))\n",
       "    (conv3): ConvTranspose2d(128, 64, kernel_size=(4, 4), stride=(2, 2), padding=(1, 1))\n",
       "    (conv2): ConvTranspose2d(64, 64, kernel_size=(4, 4), stride=(2, 2), padding=(1, 1))\n",
       "    (conv1): ConvTranspose2d(64, 1, kernel_size=(4, 4), stride=(2, 2), padding=(1, 1))\n",
       "    (relu): ReLU()\n",
       "    (sigmoid): Sigmoid()\n",
       "  )\n",
       ")"
      ]
     },
     "execution_count": null,
     "metadata": {},
     "output_type": "execute_result"
    }
   ],
   "source": [
    "if train:\n",
    "    torch.save(vanilla_vae.state_dict(), os.path.join(PARAM_PATH, 'vae_fashion'))\n",
    "state_dict = torch.load(os.path.join(PARAM_PATH, 'vae_fashion'), map_location=torch.device(device))\n",
    "vanilla_vae.load_state_dict(state_dict=state_dict)\n",
    "vanilla_vae.eval()"
   ]
  },
  {
   "cell_type": "code",
   "execution_count": null,
   "metadata": {},
   "outputs": [],
   "source": [
    "with torch.no_grad():\n",
    "    rec_img, _mu, _logvar = vanilla_vae(fashion_batch)"
   ]
  },
  {
   "cell_type": "code",
   "execution_count": null,
   "metadata": {},
   "outputs": [
    {
     "data": {
      "text/plain": [
       "<matplotlib.image.AxesImage at 0x116d66ee0>"
      ]
     },
     "execution_count": null,
     "metadata": {},
     "output_type": "execute_result"
    },
    {
     "data": {
      "image/png": "[encoded data removed]",
      "text/plain": [
       "<Figure size 432x288 with 1 Axes>"
      ]
     },
     "metadata": {
      "needs_background": "light"
     },
     "output_type": "display_data"
    }
   ],
   "source": [
    "plt.imshow(fashion_batch[0].cpu().detach().numpy().squeeze())"
   ]
  },
  {
   "cell_type": "code",
   "execution_count": null,
   "metadata": {},
   "outputs": [
    {
     "data": {
      "text/plain": [
       "<matplotlib.image.AxesImage at 0x116c2f370>"
      ]
     },
     "execution_count": null,
     "metadata": {},
     "output_type": "execute_result"
    },
    {
     "data": {
      "image/png": "[encoded data removed]",
      "text/plain": [
       "<Figure size 432x288 with 1 Axes>"
      ]
     },
     "metadata": {
      "needs_background": "light"
     },
     "output_type": "display_data"
    }
   ],
   "source": [
    "plt.imshow(rec_img[0].cpu().detach().numpy().squeeze())"
   ]
  },
  {
   "cell_type": "markdown",
   "metadata": {},
   "source": [
    "## Latent Masking VAE"
   ]
  },
  {
   "cell_type": "markdown",
   "metadata": {},
   "source": [
    "### Train"
   ]
  },
  {
   "cell_type": "code",
   "execution_count": null,
   "metadata": {},
   "outputs": [],
   "source": [
    "device = torch.device('cuda:0' if torch.cuda.is_available() else 'cpu')"
   ]
  },
  {
   "cell_type": "code",
   "execution_count": null,
   "metadata": {},
   "outputs": [],
   "source": [
    "lam=.2\n",
    "gamma=10\n",
    "lr=6e-4\n",
    "latents=8\n",
    "C=0\n",
    "epochs = 30 #30 for movign fashion, 20 for mnist (change to 64x64), 30 for moving mnist\n",
    "model_save_steps = 2500 #save model after this many \"training steps\"? (batchs, ~once every 2.5 epochs\n",
    "exp_name = 'latent_mask_fashion'\n",
    "steps_per_save = 2500"
   ]
  },
  {
   "cell_type": "code",
   "execution_count": null,
   "metadata": {},
   "outputs": [],
   "source": [
    "save_dir = os.path.join(PARAM_PATH, exp_name + dt.now().strftime('%m_%d_%y_%H_%M_%S'))\n",
    "os.mkdir(save_dir)"
   ]
  },
  {
   "cell_type": "code",
   "execution_count": null,
   "metadata": {},
   "outputs": [],
   "source": [
    "masked_vae = LatentMaskVAE(encoder=Encoder, decoder=Decoder, latents=latents, device=device, lam=lam) #VanillaVAE(latents=latents)\n",
    "masked_vae.to(device)\n",
    "optimizer = torch.optim.Adam(params = masked_vae.parameters(), lr=lr)"
   ]
  },
  {
   "cell_type": "code",
   "execution_count": null,
   "metadata": {},
   "outputs": [],
   "source": [
    "if not train:\n",
    "    epochs=0"
   ]
  },
  {
   "cell_type": "code",
   "execution_count": null,
   "metadata": {},
   "outputs": [],
   "source": [
    "steps = 0\n",
    "for epoch in range(epochs):\n",
    "    total_loss = 0\n",
    "    total_rec_loss = 0\n",
    "    total_div_loss = 0\n",
    "    for X, _y, _pos in fashion_loader:\n",
    "        X = X.to(device)\n",
    "        optimizer.zero_grad()\n",
    "\n",
    "        rec_X, mu, logvar = masked_vae(X)\n",
    "\n",
    "        rec_loss = reconstruction_loss(X, rec_X)\n",
    "        kl_loss = kl_div_target(mu, logvar, C=C, gamma=gamma)\n",
    "        loss = rec_loss + kl_loss\n",
    "\n",
    "        loss.backward()\n",
    "        optimizer.step()\n",
    "        total_loss += loss\n",
    "        total_rec_loss += rec_loss\n",
    "        total_div_loss += kl_loss\n",
    "        \n",
    "        #save model for training regression and classification \n",
    "        if steps % steps_per_save == 0:\n",
    "            torch.save(masked_vae.state_dict(), os.path.join(save_dir, f\"step_{steps}\"))\n",
    "\n",
    "        steps += 1\n",
    "    print(f\"epoch: {epoch}, loss={total_loss/batch_size}, rec_loss={total_rec_loss/batch_size}, total_div_loss={total_div_loss/batch_size}\")"
   ]
  },
  {
   "cell_type": "code",
   "execution_count": null,
   "metadata": {},
   "outputs": [
    {
     "ename": "RuntimeError",
     "evalue": "Error(s) in loading state_dict for LatentMaskVAE:\n\tMissing key(s) in state_dict: \"encoder.conv1.weight\", \"encoder.conv1.bias\", \"encoder.conv2.weight\", \"encoder.conv2.bias\", \"encoder.conv3.weight\", \"encoder.conv3.bias\", \"encoder.conv4.weight\", \"encoder.conv4.bias\", \"encoder.linear.weight\", \"encoder.linear.bias\", \"decoder.conv4.weight\", \"decoder.conv4.bias\", \"decoder.conv3.weight\", \"decoder.conv3.bias\", \"decoder.conv2.weight\", \"decoder.conv2.bias\", \"decoder.conv1.weight\", \"decoder.conv1.bias\". \n\tUnexpected key(s) in state_dict: \"encoder.linear1.weight\", \"encoder.linear1.bias\". \n\tsize mismatch for encoder.linear_mu.weight: copying a param with shape torch.Size([8, 50]) from checkpoint, the shape in current model is torch.Size([8, 256]).\n\tsize mismatch for encoder.linear_logvar.weight: copying a param with shape torch.Size([8, 50]) from checkpoint, the shape in current model is torch.Size([8, 256]).\n\tsize mismatch for decoder.linear2.weight: copying a param with shape torch.Size([784, 50]) from checkpoint, the shape in current model is torch.Size([256, 8]).\n\tsize mismatch for decoder.linear2.bias: copying a param with shape torch.Size([784]) from checkpoint, the shape in current model is torch.Size([256]).\n\tsize mismatch for decoder.linear1.weight: copying a param with shape torch.Size([50, 8]) from checkpoint, the shape in current model is torch.Size([2048, 256]).\n\tsize mismatch for decoder.linear1.bias: copying a param with shape torch.Size([50]) from checkpoint, the shape in current model is torch.Size([2048]).",
     "output_type": "error",
     "traceback": [
      "\u001b[0;31m---------------------------------------------------------------------------\u001b[0m",
      "\u001b[0;31mRuntimeError\u001b[0m                              Traceback (most recent call last)",
      "\u001b[1;32m/Users/oliverdaniels-koch/NotebookProjects/lifelong_disrep/03a_core.train.ipynb Cell 37'\u001b[0m in \u001b[0;36m<cell line: 8>\u001b[0;34m()\u001b[0m\n\u001b[1;32m      <a href='vscode-notebook-cell:/Users/oliverdaniels-koch/NotebookProjects/lifelong_disrep/03a_core.train.ipynb#ch0000036?line=3'>4</a>\u001b[0m \u001b[39melse\u001b[39;00m:\n\u001b[1;32m      <a href='vscode-notebook-cell:/Users/oliverdaniels-koch/NotebookProjects/lifelong_disrep/03a_core.train.ipynb#ch0000036?line=4'>5</a>\u001b[0m     state_dict \u001b[39m=\u001b[39m torch\u001b[39m.\u001b[39mload(os\u001b[39m.\u001b[39mpath\u001b[39m.\u001b[39mjoin(PARAM_PATH\u001b[39m+\u001b[39m\u001b[39m\"\u001b[39m\u001b[39m/latent_mask_mnist04_27_22_12_17_50\u001b[39m\u001b[39m\"\u001b[39m, \u001b[39m\"\u001b[39m\u001b[39mstep_27500\u001b[39m\u001b[39m\"\u001b[39m), map_location\u001b[39m=\u001b[39mtorch\u001b[39m.\u001b[39mdevice(device))\n\u001b[0;32m----> <a href='vscode-notebook-cell:/Users/oliverdaniels-koch/NotebookProjects/lifelong_disrep/03a_core.train.ipynb#ch0000036?line=7'>8</a>\u001b[0m masked_vae\u001b[39m.\u001b[39;49mload_state_dict(state_dict\u001b[39m=\u001b[39;49mstate_dict)\n\u001b[1;32m      <a href='vscode-notebook-cell:/Users/oliverdaniels-koch/NotebookProjects/lifelong_disrep/03a_core.train.ipynb#ch0000036?line=8'>9</a>\u001b[0m masked_vae\u001b[39m.\u001b[39meval()\n",
      "File \u001b[0;32m~/miniforge3/envs/lifelong_disrep/lib/python3.9/site-packages/torch/nn/modules/module.py:1497\u001b[0m, in \u001b[0;36mModule.load_state_dict\u001b[0;34m(self, state_dict, strict)\u001b[0m\n\u001b[1;32m   <a href='file:///Users/oliverdaniels-koch/miniforge3/envs/lifelong_disrep/lib/python3.9/site-packages/torch/nn/modules/module.py?line=1491'>1492</a>\u001b[0m         error_msgs\u001b[39m.\u001b[39minsert(\n\u001b[1;32m   <a href='file:///Users/oliverdaniels-koch/miniforge3/envs/lifelong_disrep/lib/python3.9/site-packages/torch/nn/modules/module.py?line=1492'>1493</a>\u001b[0m             \u001b[39m0\u001b[39m, \u001b[39m'\u001b[39m\u001b[39mMissing key(s) in state_dict: \u001b[39m\u001b[39m{}\u001b[39;00m\u001b[39m. \u001b[39m\u001b[39m'\u001b[39m\u001b[39m.\u001b[39mformat(\n\u001b[1;32m   <a href='file:///Users/oliverdaniels-koch/miniforge3/envs/lifelong_disrep/lib/python3.9/site-packages/torch/nn/modules/module.py?line=1493'>1494</a>\u001b[0m                 \u001b[39m'\u001b[39m\u001b[39m, \u001b[39m\u001b[39m'\u001b[39m\u001b[39m.\u001b[39mjoin(\u001b[39m'\u001b[39m\u001b[39m\"\u001b[39m\u001b[39m{}\u001b[39;00m\u001b[39m\"\u001b[39m\u001b[39m'\u001b[39m\u001b[39m.\u001b[39mformat(k) \u001b[39mfor\u001b[39;00m k \u001b[39min\u001b[39;00m missing_keys)))\n\u001b[1;32m   <a href='file:///Users/oliverdaniels-koch/miniforge3/envs/lifelong_disrep/lib/python3.9/site-packages/torch/nn/modules/module.py?line=1495'>1496</a>\u001b[0m \u001b[39mif\u001b[39;00m \u001b[39mlen\u001b[39m(error_msgs) \u001b[39m>\u001b[39m \u001b[39m0\u001b[39m:\n\u001b[0;32m-> <a href='file:///Users/oliverdaniels-koch/miniforge3/envs/lifelong_disrep/lib/python3.9/site-packages/torch/nn/modules/module.py?line=1496'>1497</a>\u001b[0m     \u001b[39mraise\u001b[39;00m \u001b[39mRuntimeError\u001b[39;00m(\u001b[39m'\u001b[39m\u001b[39mError(s) in loading state_dict for \u001b[39m\u001b[39m{}\u001b[39;00m\u001b[39m:\u001b[39m\u001b[39m\\n\u001b[39;00m\u001b[39m\\t\u001b[39;00m\u001b[39m{}\u001b[39;00m\u001b[39m'\u001b[39m\u001b[39m.\u001b[39mformat(\n\u001b[1;32m   <a href='file:///Users/oliverdaniels-koch/miniforge3/envs/lifelong_disrep/lib/python3.9/site-packages/torch/nn/modules/module.py?line=1497'>1498</a>\u001b[0m                        \u001b[39mself\u001b[39m\u001b[39m.\u001b[39m\u001b[39m__class__\u001b[39m\u001b[39m.\u001b[39m\u001b[39m__name__\u001b[39m, \u001b[39m\"\u001b[39m\u001b[39m\\n\u001b[39;00m\u001b[39m\\t\u001b[39;00m\u001b[39m\"\u001b[39m\u001b[39m.\u001b[39mjoin(error_msgs)))\n\u001b[1;32m   <a href='file:///Users/oliverdaniels-koch/miniforge3/envs/lifelong_disrep/lib/python3.9/site-packages/torch/nn/modules/module.py?line=1498'>1499</a>\u001b[0m \u001b[39mreturn\u001b[39;00m _IncompatibleKeys(missing_keys, unexpected_keys)\n",
      "\u001b[0;31mRuntimeError\u001b[0m: Error(s) in loading state_dict for LatentMaskVAE:\n\tMissing key(s) in state_dict: \"encoder.conv1.weight\", \"encoder.conv1.bias\", \"encoder.conv2.weight\", \"encoder.conv2.bias\", \"encoder.conv3.weight\", \"encoder.conv3.bias\", \"encoder.conv4.weight\", \"encoder.conv4.bias\", \"encoder.linear.weight\", \"encoder.linear.bias\", \"decoder.conv4.weight\", \"decoder.conv4.bias\", \"decoder.conv3.weight\", \"decoder.conv3.bias\", \"decoder.conv2.weight\", \"decoder.conv2.bias\", \"decoder.conv1.weight\", \"decoder.conv1.bias\". \n\tUnexpected key(s) in state_dict: \"encoder.linear1.weight\", \"encoder.linear1.bias\". \n\tsize mismatch for encoder.linear_mu.weight: copying a param with shape torch.Size([8, 50]) from checkpoint, the shape in current model is torch.Size([8, 256]).\n\tsize mismatch for encoder.linear_logvar.weight: copying a param with shape torch.Size([8, 50]) from checkpoint, the shape in current model is torch.Size([8, 256]).\n\tsize mismatch for decoder.linear2.weight: copying a param with shape torch.Size([784, 50]) from checkpoint, the shape in current model is torch.Size([256, 8]).\n\tsize mismatch for decoder.linear2.bias: copying a param with shape torch.Size([784]) from checkpoint, the shape in current model is torch.Size([256]).\n\tsize mismatch for decoder.linear1.weight: copying a param with shape torch.Size([50, 8]) from checkpoint, the shape in current model is torch.Size([2048, 256]).\n\tsize mismatch for decoder.linear1.bias: copying a param with shape torch.Size([50]) from checkpoint, the shape in current model is torch.Size([2048])."
     ]
    }
   ],
   "source": [
    "if train:\n",
    "    torch.save(masked_vae.state_dict(), os.path.join(save_dir, \"final\"))\n",
    "    state_dict = torch.load(os.path.join(save_dir, \"final\"), map_location=torch.device(device))\n",
    "else:\n",
    "    state_dict = torch.load(os.path.join(PARAM_PATH+\"/latent_mask_mnist04_27_22_12_17_50\", \"step_27500\"), map_location=torch.device(device))\n",
    "\n",
    "\n",
    "masked_vae.load_state_dict(state_dict=state_dict)\n",
    "masked_vae.eval()"
   ]
  },
  {
   "cell_type": "code",
   "execution_count": null,
   "metadata": {},
   "outputs": [],
   "source": [
    "with torch.no_grad():\n",
    "    rec_img, _mu, _logvar = masked_vae(fashion_batch)"
   ]
  },
  {
   "cell_type": "code",
   "execution_count": null,
   "metadata": {},
   "outputs": [
    {
     "data": {
      "text/plain": [
       "<matplotlib.image.AxesImage at 0x157eabe20>"
      ]
     },
     "execution_count": null,
     "metadata": {},
     "output_type": "execute_result"
    },
    {
     "data": {
      "image/png": "[encoded data removed]",
      "text/plain": [
       "<Figure size 432x288 with 1 Axes>"
      ]
     },
     "metadata": {
      "needs_background": "light"
     },
     "output_type": "display_data"
    }
   ],
   "source": [
    "plt.imshow(fashion_batch[0].detach().numpy().squeeze())"
   ]
  },
  {
   "cell_type": "code",
   "execution_count": null,
   "metadata": {},
   "outputs": [
    {
     "data": {
      "text/plain": [
       "<matplotlib.image.AxesImage at 0x128c39640>"
      ]
     },
     "execution_count": null,
     "metadata": {},
     "output_type": "execute_result"
    },
    {
     "data": {
      "image/png": "[encoded data removed]",
      "text/plain": [
       "<Figure size 432x288 with 1 Axes>"
      ]
     },
     "metadata": {
      "needs_background": "light"
     },
     "output_type": "display_data"
    }
   ],
   "source": [
    "plt.imshow(rec_img[0].detach().numpy().squeeze())"
   ]
  },
  {
   "cell_type": "markdown",
   "metadata": {},
   "source": [
    "## Environmental Inference"
   ]
  },
  {
   "cell_type": "code",
   "execution_count": null,
   "metadata": {},
   "outputs": [],
   "source": [
    "#NOTE: I think the reconstruction loss stuff has bugs, (or I should run it for more iterations, or there's a thing where anomolus rec loss gets put in different env, and then the next env adopts that as its env, which is just a flaw in the system or something)"
   ]
  },
  {
   "cell_type": "code",
   "execution_count": null,
   "metadata": {},
   "outputs": [],
   "source": [
    "device = torch.device('cuda:0' if torch.cuda.is_available() else 'cpu')"
   ]
  },
  {
   "cell_type": "code",
   "execution_count": null,
   "metadata": {},
   "outputs": [],
   "source": [
    "small_fashion = CommonFashionMNIST(DATA_PATH, transform=ToTensor())\n",
    "sf_loader = DataLoader(small_fashion, batch_size=batch_size, shuffle=True)"
   ]
  },
  {
   "cell_type": "code",
   "execution_count": null,
   "metadata": {},
   "outputs": [],
   "source": [
    "lam=2\n",
    "kappa=1.5\n",
    "gamma=10\n",
    "lr=6e-4\n",
    "latents=8\n",
    "max_envs = 7\n",
    "C=0\n",
    "epochs = 10 #30 for movign fashion, 20 for mnist (change to 64x64), 30 for moving mnist\n",
    "model_save_steps = 2500 #save model after this many \"training steps\"? (batchs, ~once every 2.5 epochs\n",
    "exp_name = 'env_infer_small'\n",
    "steps_per_save = 2500"
   ]
  },
  {
   "cell_type": "code",
   "execution_count": null,
   "metadata": {},
   "outputs": [],
   "source": [
    "save_dir = os.path.join(PARAM_PATH, exp_name + dt.now().strftime('%m_%d_%y_%H_%M_%S'))\n",
    "os.mkdir(save_dir)"
   ]
  },
  {
   "cell_type": "code",
   "execution_count": null,
   "metadata": {},
   "outputs": [],
   "source": [
    "envinfer_vae = EnvInferVAE(encoder=FCEncoder, decoder=FCDecoder, latents=latents, max_envs=max_envs, lam=lam, kappa=kappa, device=device) #VanillaVAE(latents=latents)\n",
    "envinfer_vae.to(device)\n",
    "optimizer = torch.optim.Adam(params = envinfer_vae.parameters(), lr=lr)"
   ]
  },
  {
   "cell_type": "code",
   "execution_count": null,
   "metadata": {},
   "outputs": [
    {
     "name": "stdout",
     "output_type": "stream",
     "text": [
      "epoch: 0, loss=3565.50537109375, rec_loss=3406.205810546875, total_div_loss=159.2944793701172, last_env=0\n"
     ]
    },
    {
     "ename": "KeyboardInterrupt",
     "evalue": "",
     "output_type": "error",
     "traceback": [
      "\u001b[0;31m---------------------------------------------------------------------------\u001b[0m",
      "\u001b[0;31mKeyboardInterrupt\u001b[0m                         Traceback (most recent call last)",
      "\u001b[1;32m/Users/oliverdaniels-koch/NotebookProjects/lifelong_disrep/03a_core.train.ipynb Cell 48'\u001b[0m in \u001b[0;36m<cell line: 2>\u001b[0;34m()\u001b[0m\n\u001b[1;32m      <a href='vscode-notebook-cell:/Users/oliverdaniels-koch/NotebookProjects/lifelong_disrep/03a_core.train.ipynb#ch0000047?line=3'>4</a>\u001b[0m total_rec_loss \u001b[39m=\u001b[39m \u001b[39m0\u001b[39m\n\u001b[1;32m      <a href='vscode-notebook-cell:/Users/oliverdaniels-koch/NotebookProjects/lifelong_disrep/03a_core.train.ipynb#ch0000047?line=4'>5</a>\u001b[0m total_div_loss \u001b[39m=\u001b[39m \u001b[39m0\u001b[39m\n\u001b[0;32m----> <a href='vscode-notebook-cell:/Users/oliverdaniels-koch/NotebookProjects/lifelong_disrep/03a_core.train.ipynb#ch0000047?line=5'>6</a>\u001b[0m \u001b[39mfor\u001b[39;00m X, _y \u001b[39min\u001b[39;00m mnist_loader:\n\u001b[1;32m      <a href='vscode-notebook-cell:/Users/oliverdaniels-koch/NotebookProjects/lifelong_disrep/03a_core.train.ipynb#ch0000047?line=6'>7</a>\u001b[0m     X \u001b[39m=\u001b[39m X\u001b[39m.\u001b[39mto(device)\n\u001b[1;32m      <a href='vscode-notebook-cell:/Users/oliverdaniels-koch/NotebookProjects/lifelong_disrep/03a_core.train.ipynb#ch0000047?line=7'>8</a>\u001b[0m     optimizer\u001b[39m.\u001b[39mzero_grad()\n",
      "File \u001b[0;32m~/miniforge3/envs/lifelong_disrep/lib/python3.9/site-packages/torch/utils/data/dataloader.py:530\u001b[0m, in \u001b[0;36m_BaseDataLoaderIter.__next__\u001b[0;34m(self)\u001b[0m\n\u001b[1;32m    <a href='file:///Users/oliverdaniels-koch/miniforge3/envs/lifelong_disrep/lib/python3.9/site-packages/torch/utils/data/dataloader.py?line=527'>528</a>\u001b[0m \u001b[39mif\u001b[39;00m \u001b[39mself\u001b[39m\u001b[39m.\u001b[39m_sampler_iter \u001b[39mis\u001b[39;00m \u001b[39mNone\u001b[39;00m:\n\u001b[1;32m    <a href='file:///Users/oliverdaniels-koch/miniforge3/envs/lifelong_disrep/lib/python3.9/site-packages/torch/utils/data/dataloader.py?line=528'>529</a>\u001b[0m     \u001b[39mself\u001b[39m\u001b[39m.\u001b[39m_reset()\n\u001b[0;32m--> <a href='file:///Users/oliverdaniels-koch/miniforge3/envs/lifelong_disrep/lib/python3.9/site-packages/torch/utils/data/dataloader.py?line=529'>530</a>\u001b[0m data \u001b[39m=\u001b[39m \u001b[39mself\u001b[39;49m\u001b[39m.\u001b[39;49m_next_data()\n\u001b[1;32m    <a href='file:///Users/oliverdaniels-koch/miniforge3/envs/lifelong_disrep/lib/python3.9/site-packages/torch/utils/data/dataloader.py?line=530'>531</a>\u001b[0m \u001b[39mself\u001b[39m\u001b[39m.\u001b[39m_num_yielded \u001b[39m+\u001b[39m\u001b[39m=\u001b[39m \u001b[39m1\u001b[39m\n\u001b[1;32m    <a href='file:///Users/oliverdaniels-koch/miniforge3/envs/lifelong_disrep/lib/python3.9/site-packages/torch/utils/data/dataloader.py?line=531'>532</a>\u001b[0m \u001b[39mif\u001b[39;00m \u001b[39mself\u001b[39m\u001b[39m.\u001b[39m_dataset_kind \u001b[39m==\u001b[39m _DatasetKind\u001b[39m.\u001b[39mIterable \u001b[39mand\u001b[39;00m \\\n\u001b[1;32m    <a href='file:///Users/oliverdaniels-koch/miniforge3/envs/lifelong_disrep/lib/python3.9/site-packages/torch/utils/data/dataloader.py?line=532'>533</a>\u001b[0m         \u001b[39mself\u001b[39m\u001b[39m.\u001b[39m_IterableDataset_len_called \u001b[39mis\u001b[39;00m \u001b[39mnot\u001b[39;00m \u001b[39mNone\u001b[39;00m \u001b[39mand\u001b[39;00m \\\n\u001b[1;32m    <a href='file:///Users/oliverdaniels-koch/miniforge3/envs/lifelong_disrep/lib/python3.9/site-packages/torch/utils/data/dataloader.py?line=533'>534</a>\u001b[0m         \u001b[39mself\u001b[39m\u001b[39m.\u001b[39m_num_yielded \u001b[39m>\u001b[39m \u001b[39mself\u001b[39m\u001b[39m.\u001b[39m_IterableDataset_len_called:\n",
      "File \u001b[0;32m~/miniforge3/envs/lifelong_disrep/lib/python3.9/site-packages/torch/utils/data/dataloader.py:570\u001b[0m, in \u001b[0;36m_SingleProcessDataLoaderIter._next_data\u001b[0;34m(self)\u001b[0m\n\u001b[1;32m    <a href='file:///Users/oliverdaniels-koch/miniforge3/envs/lifelong_disrep/lib/python3.9/site-packages/torch/utils/data/dataloader.py?line=567'>568</a>\u001b[0m \u001b[39mdef\u001b[39;00m \u001b[39m_next_data\u001b[39m(\u001b[39mself\u001b[39m):\n\u001b[1;32m    <a href='file:///Users/oliverdaniels-koch/miniforge3/envs/lifelong_disrep/lib/python3.9/site-packages/torch/utils/data/dataloader.py?line=568'>569</a>\u001b[0m     index \u001b[39m=\u001b[39m \u001b[39mself\u001b[39m\u001b[39m.\u001b[39m_next_index()  \u001b[39m# may raise StopIteration\u001b[39;00m\n\u001b[0;32m--> <a href='file:///Users/oliverdaniels-koch/miniforge3/envs/lifelong_disrep/lib/python3.9/site-packages/torch/utils/data/dataloader.py?line=569'>570</a>\u001b[0m     data \u001b[39m=\u001b[39m \u001b[39mself\u001b[39;49m\u001b[39m.\u001b[39;49m_dataset_fetcher\u001b[39m.\u001b[39;49mfetch(index)  \u001b[39m# may raise StopIteration\u001b[39;00m\n\u001b[1;32m    <a href='file:///Users/oliverdaniels-koch/miniforge3/envs/lifelong_disrep/lib/python3.9/site-packages/torch/utils/data/dataloader.py?line=570'>571</a>\u001b[0m     \u001b[39mif\u001b[39;00m \u001b[39mself\u001b[39m\u001b[39m.\u001b[39m_pin_memory:\n\u001b[1;32m    <a href='file:///Users/oliverdaniels-koch/miniforge3/envs/lifelong_disrep/lib/python3.9/site-packages/torch/utils/data/dataloader.py?line=571'>572</a>\u001b[0m         data \u001b[39m=\u001b[39m _utils\u001b[39m.\u001b[39mpin_memory\u001b[39m.\u001b[39mpin_memory(data)\n",
      "File \u001b[0;32m~/miniforge3/envs/lifelong_disrep/lib/python3.9/site-packages/torch/utils/data/_utils/fetch.py:49\u001b[0m, in \u001b[0;36m_MapDatasetFetcher.fetch\u001b[0;34m(self, possibly_batched_index)\u001b[0m\n\u001b[1;32m     <a href='file:///Users/oliverdaniels-koch/miniforge3/envs/lifelong_disrep/lib/python3.9/site-packages/torch/utils/data/_utils/fetch.py?line=46'>47</a>\u001b[0m \u001b[39mdef\u001b[39;00m \u001b[39mfetch\u001b[39m(\u001b[39mself\u001b[39m, possibly_batched_index):\n\u001b[1;32m     <a href='file:///Users/oliverdaniels-koch/miniforge3/envs/lifelong_disrep/lib/python3.9/site-packages/torch/utils/data/_utils/fetch.py?line=47'>48</a>\u001b[0m     \u001b[39mif\u001b[39;00m \u001b[39mself\u001b[39m\u001b[39m.\u001b[39mauto_collation:\n\u001b[0;32m---> <a href='file:///Users/oliverdaniels-koch/miniforge3/envs/lifelong_disrep/lib/python3.9/site-packages/torch/utils/data/_utils/fetch.py?line=48'>49</a>\u001b[0m         data \u001b[39m=\u001b[39m [\u001b[39mself\u001b[39m\u001b[39m.\u001b[39mdataset[idx] \u001b[39mfor\u001b[39;00m idx \u001b[39min\u001b[39;00m possibly_batched_index]\n\u001b[1;32m     <a href='file:///Users/oliverdaniels-koch/miniforge3/envs/lifelong_disrep/lib/python3.9/site-packages/torch/utils/data/_utils/fetch.py?line=49'>50</a>\u001b[0m     \u001b[39melse\u001b[39;00m:\n\u001b[1;32m     <a href='file:///Users/oliverdaniels-koch/miniforge3/envs/lifelong_disrep/lib/python3.9/site-packages/torch/utils/data/_utils/fetch.py?line=50'>51</a>\u001b[0m         data \u001b[39m=\u001b[39m \u001b[39mself\u001b[39m\u001b[39m.\u001b[39mdataset[possibly_batched_index]\n",
      "File \u001b[0;32m~/miniforge3/envs/lifelong_disrep/lib/python3.9/site-packages/torch/utils/data/_utils/fetch.py:49\u001b[0m, in \u001b[0;36m<listcomp>\u001b[0;34m(.0)\u001b[0m\n\u001b[1;32m     <a href='file:///Users/oliverdaniels-koch/miniforge3/envs/lifelong_disrep/lib/python3.9/site-packages/torch/utils/data/_utils/fetch.py?line=46'>47</a>\u001b[0m \u001b[39mdef\u001b[39;00m \u001b[39mfetch\u001b[39m(\u001b[39mself\u001b[39m, possibly_batched_index):\n\u001b[1;32m     <a href='file:///Users/oliverdaniels-koch/miniforge3/envs/lifelong_disrep/lib/python3.9/site-packages/torch/utils/data/_utils/fetch.py?line=47'>48</a>\u001b[0m     \u001b[39mif\u001b[39;00m \u001b[39mself\u001b[39m\u001b[39m.\u001b[39mauto_collation:\n\u001b[0;32m---> <a href='file:///Users/oliverdaniels-koch/miniforge3/envs/lifelong_disrep/lib/python3.9/site-packages/torch/utils/data/_utils/fetch.py?line=48'>49</a>\u001b[0m         data \u001b[39m=\u001b[39m [\u001b[39mself\u001b[39;49m\u001b[39m.\u001b[39;49mdataset[idx] \u001b[39mfor\u001b[39;00m idx \u001b[39min\u001b[39;00m possibly_batched_index]\n\u001b[1;32m     <a href='file:///Users/oliverdaniels-koch/miniforge3/envs/lifelong_disrep/lib/python3.9/site-packages/torch/utils/data/_utils/fetch.py?line=49'>50</a>\u001b[0m     \u001b[39melse\u001b[39;00m:\n\u001b[1;32m     <a href='file:///Users/oliverdaniels-koch/miniforge3/envs/lifelong_disrep/lib/python3.9/site-packages/torch/utils/data/_utils/fetch.py?line=50'>51</a>\u001b[0m         data \u001b[39m=\u001b[39m \u001b[39mself\u001b[39m\u001b[39m.\u001b[39mdataset[possibly_batched_index]\n",
      "File \u001b[0;32m~/miniforge3/envs/lifelong_disrep/lib/python3.9/site-packages/torchvision/datasets/mnist.py:145\u001b[0m, in \u001b[0;36mMNIST.__getitem__\u001b[0;34m(self, index)\u001b[0m\n\u001b[1;32m    <a href='file:///Users/oliverdaniels-koch/miniforge3/envs/lifelong_disrep/lib/python3.9/site-packages/torchvision/datasets/mnist.py?line=141'>142</a>\u001b[0m img \u001b[39m=\u001b[39m Image\u001b[39m.\u001b[39mfromarray(img\u001b[39m.\u001b[39mnumpy(), mode\u001b[39m=\u001b[39m\u001b[39m\"\u001b[39m\u001b[39mL\u001b[39m\u001b[39m\"\u001b[39m)\n\u001b[1;32m    <a href='file:///Users/oliverdaniels-koch/miniforge3/envs/lifelong_disrep/lib/python3.9/site-packages/torchvision/datasets/mnist.py?line=143'>144</a>\u001b[0m \u001b[39mif\u001b[39;00m \u001b[39mself\u001b[39m\u001b[39m.\u001b[39mtransform \u001b[39mis\u001b[39;00m \u001b[39mnot\u001b[39;00m \u001b[39mNone\u001b[39;00m:\n\u001b[0;32m--> <a href='file:///Users/oliverdaniels-koch/miniforge3/envs/lifelong_disrep/lib/python3.9/site-packages/torchvision/datasets/mnist.py?line=144'>145</a>\u001b[0m     img \u001b[39m=\u001b[39m \u001b[39mself\u001b[39;49m\u001b[39m.\u001b[39;49mtransform(img)\n\u001b[1;32m    <a href='file:///Users/oliverdaniels-koch/miniforge3/envs/lifelong_disrep/lib/python3.9/site-packages/torchvision/datasets/mnist.py?line=146'>147</a>\u001b[0m \u001b[39mif\u001b[39;00m \u001b[39mself\u001b[39m\u001b[39m.\u001b[39mtarget_transform \u001b[39mis\u001b[39;00m \u001b[39mnot\u001b[39;00m \u001b[39mNone\u001b[39;00m:\n\u001b[1;32m    <a href='file:///Users/oliverdaniels-koch/miniforge3/envs/lifelong_disrep/lib/python3.9/site-packages/torchvision/datasets/mnist.py?line=147'>148</a>\u001b[0m     target \u001b[39m=\u001b[39m \u001b[39mself\u001b[39m\u001b[39m.\u001b[39mtarget_transform(target)\n",
      "File \u001b[0;32m~/miniforge3/envs/lifelong_disrep/lib/python3.9/site-packages/torchvision/transforms/transforms.py:135\u001b[0m, in \u001b[0;36mToTensor.__call__\u001b[0;34m(self, pic)\u001b[0m\n\u001b[1;32m    <a href='file:///Users/oliverdaniels-koch/miniforge3/envs/lifelong_disrep/lib/python3.9/site-packages/torchvision/transforms/transforms.py?line=126'>127</a>\u001b[0m \u001b[39mdef\u001b[39;00m \u001b[39m__call__\u001b[39m(\u001b[39mself\u001b[39m, pic):\n\u001b[1;32m    <a href='file:///Users/oliverdaniels-koch/miniforge3/envs/lifelong_disrep/lib/python3.9/site-packages/torchvision/transforms/transforms.py?line=127'>128</a>\u001b[0m     \u001b[39m\"\"\"\u001b[39;00m\n\u001b[1;32m    <a href='file:///Users/oliverdaniels-koch/miniforge3/envs/lifelong_disrep/lib/python3.9/site-packages/torchvision/transforms/transforms.py?line=128'>129</a>\u001b[0m \u001b[39m    Args:\u001b[39;00m\n\u001b[1;32m    <a href='file:///Users/oliverdaniels-koch/miniforge3/envs/lifelong_disrep/lib/python3.9/site-packages/torchvision/transforms/transforms.py?line=129'>130</a>\u001b[0m \u001b[39m        pic (PIL Image or numpy.ndarray): Image to be converted to tensor.\u001b[39;00m\n\u001b[0;32m   (...)\u001b[0m\n\u001b[1;32m    <a href='file:///Users/oliverdaniels-koch/miniforge3/envs/lifelong_disrep/lib/python3.9/site-packages/torchvision/transforms/transforms.py?line=132'>133</a>\u001b[0m \u001b[39m        Tensor: Converted image.\u001b[39;00m\n\u001b[1;32m    <a href='file:///Users/oliverdaniels-koch/miniforge3/envs/lifelong_disrep/lib/python3.9/site-packages/torchvision/transforms/transforms.py?line=133'>134</a>\u001b[0m \u001b[39m    \"\"\"\u001b[39;00m\n\u001b[0;32m--> <a href='file:///Users/oliverdaniels-koch/miniforge3/envs/lifelong_disrep/lib/python3.9/site-packages/torchvision/transforms/transforms.py?line=134'>135</a>\u001b[0m     \u001b[39mreturn\u001b[39;00m F\u001b[39m.\u001b[39;49mto_tensor(pic)\n",
      "File \u001b[0;32m~/miniforge3/envs/lifelong_disrep/lib/python3.9/site-packages/torchvision/transforms/functional.py:151\u001b[0m, in \u001b[0;36mto_tensor\u001b[0;34m(pic)\u001b[0m\n\u001b[1;32m    <a href='file:///Users/oliverdaniels-koch/miniforge3/envs/lifelong_disrep/lib/python3.9/site-packages/torchvision/transforms/functional.py?line=148'>149</a>\u001b[0m \u001b[39mif\u001b[39;00m pic\u001b[39m.\u001b[39mmode \u001b[39m==\u001b[39m \u001b[39m\"\u001b[39m\u001b[39m1\u001b[39m\u001b[39m\"\u001b[39m:\n\u001b[1;32m    <a href='file:///Users/oliverdaniels-koch/miniforge3/envs/lifelong_disrep/lib/python3.9/site-packages/torchvision/transforms/functional.py?line=149'>150</a>\u001b[0m     img \u001b[39m=\u001b[39m \u001b[39m255\u001b[39m \u001b[39m*\u001b[39m img\n\u001b[0;32m--> <a href='file:///Users/oliverdaniels-koch/miniforge3/envs/lifelong_disrep/lib/python3.9/site-packages/torchvision/transforms/functional.py?line=150'>151</a>\u001b[0m img \u001b[39m=\u001b[39m img\u001b[39m.\u001b[39mview(pic\u001b[39m.\u001b[39;49msize[\u001b[39m1\u001b[39m], pic\u001b[39m.\u001b[39msize[\u001b[39m0\u001b[39m], \u001b[39mlen\u001b[39m(pic\u001b[39m.\u001b[39mgetbands()))\n\u001b[1;32m    <a href='file:///Users/oliverdaniels-koch/miniforge3/envs/lifelong_disrep/lib/python3.9/site-packages/torchvision/transforms/functional.py?line=151'>152</a>\u001b[0m \u001b[39m# put it from HWC to CHW format\u001b[39;00m\n\u001b[1;32m    <a href='file:///Users/oliverdaniels-koch/miniforge3/envs/lifelong_disrep/lib/python3.9/site-packages/torchvision/transforms/functional.py?line=152'>153</a>\u001b[0m img \u001b[39m=\u001b[39m img\u001b[39m.\u001b[39mpermute((\u001b[39m2\u001b[39m, \u001b[39m0\u001b[39m, \u001b[39m1\u001b[39m))\u001b[39m.\u001b[39mcontiguous()\n",
      "File \u001b[0;32m~/miniforge3/envs/lifelong_disrep/lib/python3.9/site-packages/PIL/Image.py:558\u001b[0m, in \u001b[0;36mImage.size\u001b[0;34m(self)\u001b[0m\n\u001b[1;32m    <a href='file:///Users/oliverdaniels-koch/miniforge3/envs/lifelong_disrep/lib/python3.9/site-packages/PIL/Image.py?line=553'>554</a>\u001b[0m \u001b[39m@property\u001b[39m\n\u001b[1;32m    <a href='file:///Users/oliverdaniels-koch/miniforge3/envs/lifelong_disrep/lib/python3.9/site-packages/PIL/Image.py?line=554'>555</a>\u001b[0m \u001b[39mdef\u001b[39;00m \u001b[39mheight\u001b[39m(\u001b[39mself\u001b[39m):\n\u001b[1;32m    <a href='file:///Users/oliverdaniels-koch/miniforge3/envs/lifelong_disrep/lib/python3.9/site-packages/PIL/Image.py?line=555'>556</a>\u001b[0m     \u001b[39mreturn\u001b[39;00m \u001b[39mself\u001b[39m\u001b[39m.\u001b[39msize[\u001b[39m1\u001b[39m]\n\u001b[0;32m--> <a href='file:///Users/oliverdaniels-koch/miniforge3/envs/lifelong_disrep/lib/python3.9/site-packages/PIL/Image.py?line=557'>558</a>\u001b[0m \u001b[39m@property\u001b[39m\n\u001b[1;32m    <a href='file:///Users/oliverdaniels-koch/miniforge3/envs/lifelong_disrep/lib/python3.9/site-packages/PIL/Image.py?line=558'>559</a>\u001b[0m \u001b[39mdef\u001b[39;00m \u001b[39msize\u001b[39m(\u001b[39mself\u001b[39m):\n\u001b[1;32m    <a href='file:///Users/oliverdaniels-koch/miniforge3/envs/lifelong_disrep/lib/python3.9/site-packages/PIL/Image.py?line=559'>560</a>\u001b[0m     \u001b[39mreturn\u001b[39;00m \u001b[39mself\u001b[39m\u001b[39m.\u001b[39m_size\n\u001b[1;32m    <a href='file:///Users/oliverdaniels-koch/miniforge3/envs/lifelong_disrep/lib/python3.9/site-packages/PIL/Image.py?line=561'>562</a>\u001b[0m \u001b[39mdef\u001b[39;00m \u001b[39m_new\u001b[39m(\u001b[39mself\u001b[39m, im):\n",
      "\u001b[0;31mKeyboardInterrupt\u001b[0m: "
     ]
    }
   ],
   "source": [
    "steps = 0\n",
    "for epoch in range(epochs):\n",
    "    total_loss = 0\n",
    "    total_rec_loss = 0\n",
    "    total_div_loss = 0\n",
    "    for X, _y in mnist_loader:\n",
    "        X = X.to(device)\n",
    "        optimizer.zero_grad()\n",
    "\n",
    "        rec_X, mu, logvar, env_idx, z = envinfer_vae(X)\n",
    "\n",
    "        rec_loss = reconstruction_loss(X, rec_X)\n",
    "        kl_loss = kl_div_target(mu, logvar, C=C, gamma=gamma)\n",
    "        loss = rec_loss + kl_loss\n",
    "\n",
    "        loss.backward()\n",
    "        optimizer.step()\n",
    "        total_loss += loss\n",
    "        total_rec_loss += rec_loss\n",
    "        total_div_loss += kl_loss\n",
    "        \n",
    "        #save model for training regression and classification \n",
    "        if steps % steps_per_save == 0:\n",
    "            torch.save(envinfer_vae.state_dict(), os.path.join(save_dir, f\"mnist_step_{steps}\"))\n",
    "\n",
    "        steps += 1\n",
    "    print(f\"epoch: {epoch}, loss={total_loss/batch_size}, rec_loss={total_rec_loss/batch_size}, total_div_loss={total_div_loss/batch_size}, last_env={env_idx}\")"
   ]
  },
  {
   "cell_type": "code",
   "execution_count": null,
   "metadata": {},
   "outputs": [
    {
     "name": "stdout",
     "output_type": "stream",
     "text": [
      "New environment: anomolous reconstruction loss\n",
      "epoch: 0, loss=5029.16943359375, rec_loss=4721.36962890625, total_div_loss=307.7991943359375, last_env=1\n"
     ]
    },
    {
     "ename": "KeyboardInterrupt",
     "evalue": "",
     "output_type": "error",
     "traceback": [
      "\u001b[0;31m---------------------------------------------------------------------------\u001b[0m",
      "\u001b[0;31mKeyboardInterrupt\u001b[0m                         Traceback (most recent call last)",
      "\u001b[1;32m/Users/oliverdaniels-koch/NotebookProjects/lifelong_disrep/03a_core.train.ipynb Cell 49'\u001b[0m in \u001b[0;36m<cell line: 2>\u001b[0;34m()\u001b[0m\n\u001b[1;32m     <a href='vscode-notebook-cell:/Users/oliverdaniels-koch/NotebookProjects/lifelong_disrep/03a_core.train.ipynb#ch0000048?line=13'>14</a>\u001b[0m loss \u001b[39m=\u001b[39m rec_loss \u001b[39m+\u001b[39m kl_loss\n\u001b[1;32m     <a href='vscode-notebook-cell:/Users/oliverdaniels-koch/NotebookProjects/lifelong_disrep/03a_core.train.ipynb#ch0000048?line=15'>16</a>\u001b[0m loss\u001b[39m.\u001b[39mbackward()\n\u001b[0;32m---> <a href='vscode-notebook-cell:/Users/oliverdaniels-koch/NotebookProjects/lifelong_disrep/03a_core.train.ipynb#ch0000048?line=16'>17</a>\u001b[0m optimizer\u001b[39m.\u001b[39;49mstep()\n\u001b[1;32m     <a href='vscode-notebook-cell:/Users/oliverdaniels-koch/NotebookProjects/lifelong_disrep/03a_core.train.ipynb#ch0000048?line=17'>18</a>\u001b[0m total_loss \u001b[39m+\u001b[39m\u001b[39m=\u001b[39m loss\n\u001b[1;32m     <a href='vscode-notebook-cell:/Users/oliverdaniels-koch/NotebookProjects/lifelong_disrep/03a_core.train.ipynb#ch0000048?line=18'>19</a>\u001b[0m total_rec_loss \u001b[39m+\u001b[39m\u001b[39m=\u001b[39m rec_loss\n",
      "File \u001b[0;32m~/miniforge3/envs/lifelong_disrep/lib/python3.9/site-packages/torch/optim/optimizer.py:88\u001b[0m, in \u001b[0;36mOptimizer._hook_for_profile.<locals>.profile_hook_step.<locals>.wrapper\u001b[0;34m(*args, **kwargs)\u001b[0m\n\u001b[1;32m     <a href='file:///Users/oliverdaniels-koch/miniforge3/envs/lifelong_disrep/lib/python3.9/site-packages/torch/optim/optimizer.py?line=85'>86</a>\u001b[0m profile_name \u001b[39m=\u001b[39m \u001b[39m\"\u001b[39m\u001b[39mOptimizer.step#\u001b[39m\u001b[39m{}\u001b[39;00m\u001b[39m.step\u001b[39m\u001b[39m\"\u001b[39m\u001b[39m.\u001b[39mformat(obj\u001b[39m.\u001b[39m\u001b[39m__class__\u001b[39m\u001b[39m.\u001b[39m\u001b[39m__name__\u001b[39m)\n\u001b[1;32m     <a href='file:///Users/oliverdaniels-koch/miniforge3/envs/lifelong_disrep/lib/python3.9/site-packages/torch/optim/optimizer.py?line=86'>87</a>\u001b[0m \u001b[39mwith\u001b[39;00m torch\u001b[39m.\u001b[39mautograd\u001b[39m.\u001b[39mprofiler\u001b[39m.\u001b[39mrecord_function(profile_name):\n\u001b[0;32m---> <a href='file:///Users/oliverdaniels-koch/miniforge3/envs/lifelong_disrep/lib/python3.9/site-packages/torch/optim/optimizer.py?line=87'>88</a>\u001b[0m     \u001b[39mreturn\u001b[39;00m func(\u001b[39m*\u001b[39;49margs, \u001b[39m*\u001b[39;49m\u001b[39m*\u001b[39;49mkwargs)\n",
      "File \u001b[0;32m~/miniforge3/envs/lifelong_disrep/lib/python3.9/site-packages/torch/autograd/grad_mode.py:27\u001b[0m, in \u001b[0;36m_DecoratorContextManager.__call__.<locals>.decorate_context\u001b[0;34m(*args, **kwargs)\u001b[0m\n\u001b[1;32m     <a href='file:///Users/oliverdaniels-koch/miniforge3/envs/lifelong_disrep/lib/python3.9/site-packages/torch/autograd/grad_mode.py?line=23'>24</a>\u001b[0m \u001b[39m@functools\u001b[39m\u001b[39m.\u001b[39mwraps(func)\n\u001b[1;32m     <a href='file:///Users/oliverdaniels-koch/miniforge3/envs/lifelong_disrep/lib/python3.9/site-packages/torch/autograd/grad_mode.py?line=24'>25</a>\u001b[0m \u001b[39mdef\u001b[39;00m \u001b[39mdecorate_context\u001b[39m(\u001b[39m*\u001b[39margs, \u001b[39m*\u001b[39m\u001b[39m*\u001b[39mkwargs):\n\u001b[1;32m     <a href='file:///Users/oliverdaniels-koch/miniforge3/envs/lifelong_disrep/lib/python3.9/site-packages/torch/autograd/grad_mode.py?line=25'>26</a>\u001b[0m     \u001b[39mwith\u001b[39;00m \u001b[39mself\u001b[39m\u001b[39m.\u001b[39mclone():\n\u001b[0;32m---> <a href='file:///Users/oliverdaniels-koch/miniforge3/envs/lifelong_disrep/lib/python3.9/site-packages/torch/autograd/grad_mode.py?line=26'>27</a>\u001b[0m         \u001b[39mreturn\u001b[39;00m func(\u001b[39m*\u001b[39;49margs, \u001b[39m*\u001b[39;49m\u001b[39m*\u001b[39;49mkwargs)\n",
      "File \u001b[0;32m~/miniforge3/envs/lifelong_disrep/lib/python3.9/site-packages/torch/optim/adam.py:141\u001b[0m, in \u001b[0;36mAdam.step\u001b[0;34m(self, closure)\u001b[0m\n\u001b[1;32m    <a href='file:///Users/oliverdaniels-koch/miniforge3/envs/lifelong_disrep/lib/python3.9/site-packages/torch/optim/adam.py?line=137'>138</a>\u001b[0m             \u001b[39m# record the step after step update\u001b[39;00m\n\u001b[1;32m    <a href='file:///Users/oliverdaniels-koch/miniforge3/envs/lifelong_disrep/lib/python3.9/site-packages/torch/optim/adam.py?line=138'>139</a>\u001b[0m             state_steps\u001b[39m.\u001b[39mappend(state[\u001b[39m'\u001b[39m\u001b[39mstep\u001b[39m\u001b[39m'\u001b[39m])\n\u001b[0;32m--> <a href='file:///Users/oliverdaniels-koch/miniforge3/envs/lifelong_disrep/lib/python3.9/site-packages/torch/optim/adam.py?line=140'>141</a>\u001b[0m     F\u001b[39m.\u001b[39;49madam(params_with_grad,\n\u001b[1;32m    <a href='file:///Users/oliverdaniels-koch/miniforge3/envs/lifelong_disrep/lib/python3.9/site-packages/torch/optim/adam.py?line=141'>142</a>\u001b[0m            grads,\n\u001b[1;32m    <a href='file:///Users/oliverdaniels-koch/miniforge3/envs/lifelong_disrep/lib/python3.9/site-packages/torch/optim/adam.py?line=142'>143</a>\u001b[0m            exp_avgs,\n\u001b[1;32m    <a href='file:///Users/oliverdaniels-koch/miniforge3/envs/lifelong_disrep/lib/python3.9/site-packages/torch/optim/adam.py?line=143'>144</a>\u001b[0m            exp_avg_sqs,\n\u001b[1;32m    <a href='file:///Users/oliverdaniels-koch/miniforge3/envs/lifelong_disrep/lib/python3.9/site-packages/torch/optim/adam.py?line=144'>145</a>\u001b[0m            max_exp_avg_sqs,\n\u001b[1;32m    <a href='file:///Users/oliverdaniels-koch/miniforge3/envs/lifelong_disrep/lib/python3.9/site-packages/torch/optim/adam.py?line=145'>146</a>\u001b[0m            state_steps,\n\u001b[1;32m    <a href='file:///Users/oliverdaniels-koch/miniforge3/envs/lifelong_disrep/lib/python3.9/site-packages/torch/optim/adam.py?line=146'>147</a>\u001b[0m            amsgrad\u001b[39m=\u001b[39;49mgroup[\u001b[39m'\u001b[39;49m\u001b[39mamsgrad\u001b[39;49m\u001b[39m'\u001b[39;49m],\n\u001b[1;32m    <a href='file:///Users/oliverdaniels-koch/miniforge3/envs/lifelong_disrep/lib/python3.9/site-packages/torch/optim/adam.py?line=147'>148</a>\u001b[0m            beta1\u001b[39m=\u001b[39;49mbeta1,\n\u001b[1;32m    <a href='file:///Users/oliverdaniels-koch/miniforge3/envs/lifelong_disrep/lib/python3.9/site-packages/torch/optim/adam.py?line=148'>149</a>\u001b[0m            beta2\u001b[39m=\u001b[39;49mbeta2,\n\u001b[1;32m    <a href='file:///Users/oliverdaniels-koch/miniforge3/envs/lifelong_disrep/lib/python3.9/site-packages/torch/optim/adam.py?line=149'>150</a>\u001b[0m            lr\u001b[39m=\u001b[39;49mgroup[\u001b[39m'\u001b[39;49m\u001b[39mlr\u001b[39;49m\u001b[39m'\u001b[39;49m],\n\u001b[1;32m    <a href='file:///Users/oliverdaniels-koch/miniforge3/envs/lifelong_disrep/lib/python3.9/site-packages/torch/optim/adam.py?line=150'>151</a>\u001b[0m            weight_decay\u001b[39m=\u001b[39;49mgroup[\u001b[39m'\u001b[39;49m\u001b[39mweight_decay\u001b[39;49m\u001b[39m'\u001b[39;49m],\n\u001b[1;32m    <a href='file:///Users/oliverdaniels-koch/miniforge3/envs/lifelong_disrep/lib/python3.9/site-packages/torch/optim/adam.py?line=151'>152</a>\u001b[0m            eps\u001b[39m=\u001b[39;49mgroup[\u001b[39m'\u001b[39;49m\u001b[39meps\u001b[39;49m\u001b[39m'\u001b[39;49m],\n\u001b[1;32m    <a href='file:///Users/oliverdaniels-koch/miniforge3/envs/lifelong_disrep/lib/python3.9/site-packages/torch/optim/adam.py?line=152'>153</a>\u001b[0m            maximize\u001b[39m=\u001b[39;49mgroup[\u001b[39m'\u001b[39;49m\u001b[39mmaximize\u001b[39;49m\u001b[39m'\u001b[39;49m])\n\u001b[1;32m    <a href='file:///Users/oliverdaniels-koch/miniforge3/envs/lifelong_disrep/lib/python3.9/site-packages/torch/optim/adam.py?line=153'>154</a>\u001b[0m \u001b[39mreturn\u001b[39;00m loss\n",
      "File \u001b[0;32m~/miniforge3/envs/lifelong_disrep/lib/python3.9/site-packages/torch/optim/_functional.py:97\u001b[0m, in \u001b[0;36madam\u001b[0;34m(params, grads, exp_avgs, exp_avg_sqs, max_exp_avg_sqs, state_steps, amsgrad, beta1, beta2, lr, weight_decay, eps, maximize)\u001b[0m\n\u001b[1;32m     <a href='file:///Users/oliverdaniels-koch/miniforge3/envs/lifelong_disrep/lib/python3.9/site-packages/torch/optim/_functional.py?line=93'>94</a>\u001b[0m     grad \u001b[39m=\u001b[39m grad\u001b[39m.\u001b[39madd(param, alpha\u001b[39m=\u001b[39mweight_decay)\n\u001b[1;32m     <a href='file:///Users/oliverdaniels-koch/miniforge3/envs/lifelong_disrep/lib/python3.9/site-packages/torch/optim/_functional.py?line=95'>96</a>\u001b[0m \u001b[39m# Decay the first and second moment running average coefficient\u001b[39;00m\n\u001b[0;32m---> <a href='file:///Users/oliverdaniels-koch/miniforge3/envs/lifelong_disrep/lib/python3.9/site-packages/torch/optim/_functional.py?line=96'>97</a>\u001b[0m exp_avg\u001b[39m.\u001b[39;49mmul_(beta1)\u001b[39m.\u001b[39madd_(grad, alpha\u001b[39m=\u001b[39m\u001b[39m1\u001b[39m \u001b[39m-\u001b[39m beta1)\n\u001b[1;32m     <a href='file:///Users/oliverdaniels-koch/miniforge3/envs/lifelong_disrep/lib/python3.9/site-packages/torch/optim/_functional.py?line=97'>98</a>\u001b[0m exp_avg_sq\u001b[39m.\u001b[39mmul_(beta2)\u001b[39m.\u001b[39maddcmul_(grad, grad\u001b[39m.\u001b[39mconj(), value\u001b[39m=\u001b[39m\u001b[39m1\u001b[39m \u001b[39m-\u001b[39m beta2)\n\u001b[1;32m     <a href='file:///Users/oliverdaniels-koch/miniforge3/envs/lifelong_disrep/lib/python3.9/site-packages/torch/optim/_functional.py?line=98'>99</a>\u001b[0m \u001b[39mif\u001b[39;00m amsgrad:\n\u001b[1;32m    <a href='file:///Users/oliverdaniels-koch/miniforge3/envs/lifelong_disrep/lib/python3.9/site-packages/torch/optim/_functional.py?line=99'>100</a>\u001b[0m     \u001b[39m# Maintains the maximum of all 2nd moment running avg. till now\u001b[39;00m\n",
      "\u001b[0;31mKeyboardInterrupt\u001b[0m: "
     ]
    }
   ],
   "source": [
    "steps = 0\n",
    "for epoch in range(epochs):\n",
    "    total_loss = 0\n",
    "    total_rec_loss = 0\n",
    "    total_div_loss = 0\n",
    "    for X, _y in sf_loader:\n",
    "        X = X.to(device)\n",
    "        optimizer.zero_grad()\n",
    "\n",
    "        rec_X, mu, logvar, env_idx, z = envinfer_vae(X)\n",
    "\n",
    "        rec_loss = reconstruction_loss(X, rec_X)\n",
    "        kl_loss = kl_div_target(mu, logvar, C=C, gamma=gamma)\n",
    "        loss = rec_loss + kl_loss\n",
    "\n",
    "        loss.backward()\n",
    "        optimizer.step()\n",
    "        total_loss += loss\n",
    "        total_rec_loss += rec_loss\n",
    "        total_div_loss += kl_loss\n",
    "        \n",
    "        #save model for training regression and classification \n",
    "        if steps % steps_per_save == 0:\n",
    "            torch.save(masked_vae.state_dict(), os.path.join(save_dir, f\"fashion_step_{steps}\"))\n",
    "\n",
    "        steps += 1\n",
    "    print(f\"epoch: {epoch}, loss={total_loss/batch_size}, rec_loss={total_rec_loss/batch_size}, total_div_loss={total_div_loss/batch_size}, last_env={env_idx}\")"
   ]
  },
  {
   "cell_type": "code",
   "execution_count": null,
   "metadata": {},
   "outputs": [
    {
     "ename": "NameError",
     "evalue": "name 'envinfer_vae' is not defined",
     "output_type": "error",
     "traceback": [
      "\u001b[0;31m---------------------------------------------------------------------------\u001b[0m",
      "\u001b[0;31mNameError\u001b[0m                                 Traceback (most recent call last)",
      "\u001b[1;32m/Users/oliverdaniels-koch/NotebookProjects/lifelong_disrep/03a_core.train.ipynb Cell 50'\u001b[0m in \u001b[0;36m<cell line: 1>\u001b[0;34m()\u001b[0m\n\u001b[0;32m----> <a href='vscode-notebook-cell:/Users/oliverdaniels-koch/NotebookProjects/lifelong_disrep/03a_core.train.ipynb#ch0000049?line=0'>1</a>\u001b[0m envinfer_vae\u001b[39m.\u001b[39mlatent_masks\n",
      "\u001b[0;31mNameError\u001b[0m: name 'envinfer_vae' is not defined"
     ]
    }
   ],
   "source": [
    "envinfer_vae.latent_masks"
   ]
  },
  {
   "cell_type": "code",
   "execution_count": null,
   "metadata": {},
   "outputs": [],
   "source": [
    "with torch.no_grad():\n",
    "    rec_img, _mu, _logvar, _envidx, _z = envinfer_vae(sf_batch)"
   ]
  },
  {
   "cell_type": "code",
   "execution_count": null,
   "metadata": {},
   "outputs": [
    {
     "data": {
      "text/plain": [
       "<matplotlib.image.AxesImage at 0x142959d90>"
      ]
     },
     "execution_count": null,
     "metadata": {},
     "output_type": "execute_result"
    },
    {
     "data": {
      "image/png": "[encoded data removed]",
      "text/plain": [
       "<Figure size 432x288 with 1 Axes>"
      ]
     },
     "metadata": {
      "needs_background": "light"
     },
     "output_type": "display_data"
    }
   ],
   "source": [
    "plt.imshow(sf_batch[0].to('cpu').detach().numpy().squeeze())"
   ]
  },
  {
   "cell_type": "code",
   "execution_count": null,
   "metadata": {},
   "outputs": [
    {
     "data": {
      "text/plain": [
       "<matplotlib.image.AxesImage at 0x142a31850>"
      ]
     },
     "execution_count": null,
     "metadata": {},
     "output_type": "execute_result"
    },
    {
     "data": {
      "image/png": "[encoded data removed]",
      "text/plain": [
       "<Figure size 432x288 with 1 Axes>"
      ]
     },
     "metadata": {
      "needs_background": "light"
     },
     "output_type": "display_data"
    }
   ],
   "source": [
    "plt.imshow(rec_img[0].to('cpu').detach().numpy().squeeze())"
   ]
  },
  {
   "cell_type": "code",
   "execution_count": null,
   "metadata": {},
   "outputs": [],
   "source": [
    "with torch.no_grad():\n",
    "    rec_img, _mu, _logvar, _envidx, _z = envinfer_vae(mnist_batch)"
   ]
  },
  {
   "cell_type": "code",
   "execution_count": null,
   "metadata": {},
   "outputs": [
    {
     "data": {
      "text/plain": [
       "tensor(1)"
      ]
     },
     "execution_count": null,
     "metadata": {},
     "output_type": "execute_result"
    }
   ],
   "source": [
    "_envidx"
   ]
  },
  {
   "cell_type": "code",
   "execution_count": null,
   "metadata": {},
   "outputs": [
    {
     "data": {
      "text/plain": [
       "<matplotlib.image.AxesImage at 0x1421555e0>"
      ]
     },
     "execution_count": null,
     "metadata": {},
     "output_type": "execute_result"
    },
    {
     "data": {
      "image/png": "[encoded data removed]",
      "text/plain": [
       "<Figure size 432x288 with 1 Axes>"
      ]
     },
     "metadata": {
      "needs_background": "light"
     },
     "output_type": "display_data"
    }
   ],
   "source": [
    "plt.imshow(mnist_batch[3].to('cpu').detach().numpy().squeeze())"
   ]
  },
  {
   "cell_type": "code",
   "execution_count": null,
   "metadata": {},
   "outputs": [
    {
     "data": {
      "text/plain": [
       "<matplotlib.image.AxesImage at 0x1421b5580>"
      ]
     },
     "execution_count": null,
     "metadata": {},
     "output_type": "execute_result"
    },
    {
     "data": {
      "image/png": "[encoded data removed]",
      "text/plain": [
       "<Figure size 432x288 with 1 Axes>"
      ]
     },
     "metadata": {
      "needs_background": "light"
     },
     "output_type": "display_data"
    }
   ],
   "source": [
    "plt.imshow(rec_img[3].to('cpu').detach().numpy().squeeze())"
   ]
  },
  {
   "cell_type": "code",
   "execution_count": null,
   "metadata": {},
   "outputs": [],
   "source": [
    "#TODO: see what happens when you change the environment to 6, more fashion-y?"
   ]
  },
  {
   "cell_type": "code",
   "execution_count": null,
   "metadata": {},
   "outputs": [
    {
     "ename": "NameError",
     "evalue": "name 'torch' is not defined",
     "output_type": "error",
     "traceback": [
      "\u001b[0;31m---------------------------------------------------------------------------\u001b[0m",
      "\u001b[0;31mNameError\u001b[0m                                 Traceback (most recent call last)",
      "\u001b[1;32m/Users/oliverdaniels-koch/NotebookProjects/lifelong_disrep/03a_core.train.ipynb Cell 59'\u001b[0m in \u001b[0;36m<cell line: 1>\u001b[0;34m()\u001b[0m\n\u001b[0;32m----> <a href='vscode-notebook-cell:/Users/oliverdaniels-koch/NotebookProjects/lifelong_disrep/03a_core.train.ipynb#ch0000058?line=0'>1</a>\u001b[0m \u001b[39mwith\u001b[39;00m torch\u001b[39m.\u001b[39mno_grad():\n\u001b[1;32m      <a href='vscode-notebook-cell:/Users/oliverdaniels-koch/NotebookProjects/lifelong_disrep/03a_core.train.ipynb#ch0000058?line=1'>2</a>\u001b[0m     mu, _logvar, _final \u001b[39m=\u001b[39m envinfer_vae\u001b[39m.\u001b[39mencoder(mnist_batch)\n\u001b[1;32m      <a href='vscode-notebook-cell:/Users/oliverdaniels-koch/NotebookProjects/lifelong_disrep/03a_core.train.ipynb#ch0000058?line=2'>3</a>\u001b[0m     env_idx \u001b[39m=\u001b[39m \u001b[39m1\u001b[39m\n",
      "\u001b[0;31mNameError\u001b[0m: name 'torch' is not defined"
     ]
    }
   ],
   "source": [
    "with torch.no_grad():\n",
    "    mu, _logvar, _final = envinfer_vae.encoder(mnist_batch)\n",
    "    env_idx = 1\n",
    "    s = torch.ones(batch_size, dtype=torch.int64) * env_idx\n",
    "    rec_img = envinfer_vae.decoder(mu, s)"
   ]
  },
  {
   "cell_type": "code",
   "execution_count": null,
   "metadata": {},
   "outputs": [
    {
     "data": {
      "text/plain": [
       "<matplotlib.image.AxesImage at 0x15dbdaf10>"
      ]
     },
     "execution_count": null,
     "metadata": {},
     "output_type": "execute_result"
    },
    {
     "data": {
      "image/png": "[encoded data removed]",
      "text/plain": [
       "<Figure size 432x288 with 1 Axes>"
      ]
     },
     "metadata": {
      "needs_background": "light"
     },
     "output_type": "display_data"
    }
   ],
   "source": [
    "plt.imshow(mnist_batch[3].to('cpu').detach().numpy().squeeze())"
   ]
  },
  {
   "cell_type": "code",
   "execution_count": null,
   "metadata": {},
   "outputs": [
    {
     "data": {
      "text/plain": [
       "<matplotlib.image.AxesImage at 0x15dc4a130>"
      ]
     },
     "execution_count": null,
     "metadata": {},
     "output_type": "execute_result"
    },
    {
     "data": {
      "image/png": "[encoded data removed]",
      "text/plain": [
       "<Figure size 432x288 with 1 Axes>"
      ]
     },
     "metadata": {
      "needs_background": "light"
     },
     "output_type": "display_data"
    }
   ],
   "source": [
    "plt.imshow(rec_img[3].to('cpu').detach().numpy().squeeze())"
   ]
  },
  {
   "cell_type": "code",
   "execution_count": null,
   "metadata": {},
   "outputs": [],
   "source": [
    "#hyper params\n",
    "#optimizer\n",
    "#dataset\n",
    "#model\n",
    "#training loop"
   ]
  },
  {
   "cell_type": "markdown",
   "metadata": {},
   "source": [
    "## Generative Replay\n",
    "\n",
    "To prevent catastrophic forgetting, the paper uses generative replay, sampling from the previous verion of the model, and penalizing distances between the old and new latent representations and reconstructions of this sample.\n",
    "\n",
    "More formally, we have parameter snapshots $$\\phi_{old}, \\theta_{old}$$ from which we sample $x_{old} \\sim q_{\\theta_{old}}(\\cdot|z, s_{old})$, sampling $z$ from the prior. (I think without the latent mask because no s superscript - see generative process). With $x_{old}$, we compute the following loss:\n",
    "\n",
    "$$ \\mathcal{L}_{past}(\\phi, \\theta) = E_{z, s', x'}[D(q_{\\phi}(D[q_{\\phi}(z|x'), q_{\\phi}'(z'|x')] + D[q_{\\theta}(x|z,s'), q_{\\theta'}(x'|z, s')]))]$$\n",
    "\n",
    "Where the first D is the [Wasserstein distance](https://en.wikipedia.org/wiki/Wasserstein_metric) and the second in the [KL Divergence between two Bernoullis](https://math.stackexchange.com/questions/2604566/kl-divergence-between-two-multivariate-bernoulli-distribution)\n",
    "\n",
    "The parameters $\\phi_{old}, \\theta_{old}$ get synced with the current network every $\\tau$ steps, with $\\tau$ a hyper parameter"
   ]
  },
  {
   "cell_type": "markdown",
   "metadata": {},
   "source": [
    "### Encoder Proximity\n",
    "\n",
    "The first part of the loss function is the encoder proximity: \n",
    "$$E_{z, s', x'}[D(q_{\\phi}(D[q_{\\phi}(z|x'), q_{\\phi}'(z'|x')]]$$\n",
    "\n",
    "With D the Wasserstein distance. But what _is_ the Wassertein distance..\n",
    "\n",
    "[See here](https://dfdazac.github.io/sinkhorn.html) for explanation - but with diagonal gaussians, the Wassertein distance just reduces to the Euclidean distance:\n",
    "$$D(q_{\\phi}(D[q_{\\phi}(z|x'), q_{\\phi'}(z'|x')] = ||(q_{\\phi}(z|x') - q_{\\phi'}(z'|x'))||^2_2$$\n"
   ]
  },
  {
   "cell_type": "code",
   "execution_count": null,
   "metadata": {},
   "outputs": [],
   "source": [
    "#export\n",
    "def encoder_proximity(z, z_old):\n",
    "    return torch.mean(euclidean(z, z_old))"
   ]
  },
  {
   "cell_type": "code",
   "execution_count": null,
   "metadata": {},
   "outputs": [],
   "source": [
    "assert encoder_proximity(mu, mu).shape == torch.Size([])"
   ]
  },
  {
   "cell_type": "markdown",
   "metadata": {},
   "source": [
    "### Decoder Proximity \n",
    "\n",
    "$$D[q_{\\theta}(x|z,s'), q_{\\theta'}(x'|z, s')])$$ \n",
    "\n",
    "Here D is the KL Divergence between the reconstructions (which are HxW independant Bernoullis). Since $\\theta_{old}$ is fixed, this is equivalent to minimizing the cross entropy loss"
   ]
  },
  {
   "cell_type": "code",
   "execution_count": null,
   "metadata": {},
   "outputs": [],
   "source": [
    "#export\n",
    "def decoder_proximity(x, x_old):\n",
    "    return torch.mean(rec_likelihood(x, x_old))"
   ]
  },
  {
   "cell_type": "code",
   "execution_count": null,
   "metadata": {},
   "outputs": [],
   "source": [
    "assert decoder_proximity(mnist_batch, rec).shape == torch.Size([])"
   ]
  },
  {
   "cell_type": "markdown",
   "metadata": {},
   "source": [
    "### Train"
   ]
  },
  {
   "cell_type": "code",
   "execution_count": null,
   "metadata": {},
   "outputs": [],
   "source": [
    "device = torch.device('cuda:0' if torch.cuda.is_available() else 'cpu')"
   ]
  },
  {
   "cell_type": "markdown",
   "metadata": {},
   "source": [
    "NOTE: I wonder if the whole $alpha < \\lambda_1 -> \\alpha=0$ prevents these degenerate cases - maybe masking unused ones does to...."
   ]
  },
  {
   "cell_type": "code",
   "execution_count": null,
   "metadata": {},
   "outputs": [],
   "source": [
    "alpha=1\n",
    "beta=1\n",
    "tau=5000\n",
    "sample_batch_size = batch_size * 2\n",
    "lam=100\n",
    "kappa=3\n",
    "gamma=10\n",
    "lr=6e-4\n",
    "latents=8\n",
    "max_envs = 7\n",
    "C=0\n",
    "epochs = 10 #30 for movign fashion, 20 for mnist (change to 64x64), 30 for moving mnist\n",
    "model_save_steps = 2500 #save model after this many \"training steps\"? (batchs, ~once every 2.5 epochs\n",
    "exp_name = 'gen_replay_small'\n",
    "steps_per_save = 2500"
   ]
  },
  {
   "cell_type": "code",
   "execution_count": null,
   "metadata": {},
   "outputs": [],
   "source": [
    "save_dir = os.path.join(PARAM_PATH, exp_name + dt.now().strftime('%m_%d_%y_%H_%M_%S'))\n",
    "os.mkdir(save_dir)"
   ]
  },
  {
   "cell_type": "code",
   "execution_count": null,
   "metadata": {},
   "outputs": [],
   "source": [
    "gen_vae = GenReplayVAE(FCEncoder, FCDecoder, latents, max_envs, lam, kappa, tau, device)\n",
    "optimizer = torch.optim.Adam(params = gen_vae.model.parameters(), lr=lr, eps=1e-4)"
   ]
  },
  {
   "cell_type": "markdown",
   "metadata": {},
   "source": [
    "bug happens immediately after _second_ parameter update..."
   ]
  },
  {
   "cell_type": "code",
   "execution_count": null,
   "metadata": {},
   "outputs": [
    {
     "name": "stdout",
     "output_type": "stream",
     "text": [
      "epoch: 0, loss=11364.966796875, rec_loss=3422.363037109375, total_div_loss=187.06246948242188, encode_loss=3362.549072265625, decode_loss=492991.5625, last_env=0\n",
      "epoch: 1, loss=10475.7490234375, rec_loss=2812.869873046875, total_div_loss=167.5354766845703, encode_loss=4924.357421875, decode_loss=474777.6875, last_env=0\n",
      "epoch: 2, loss=10383.130859375, rec_loss=2653.090087890625, total_div_loss=253.99563598632812, encode_loss=4264.94580078125, decode_loss=474201.4375, last_env=0\n",
      "epoch: 3, loss=10318.6015625, rec_loss=2541.29541015625, total_div_loss=313.8886413574219, encode_loss=3730.681396484375, decode_loss=473927.25, last_env=0\n",
      "epoch: 4, loss=10279.638671875, rec_loss=2484.191162109375, total_div_loss=340.6321716308594, encode_loss=3356.17431640625, decode_loss=473752.65625, last_env=0\n",
      "epoch: 5, loss=6832.9189453125, rec_loss=2444.7294921875, total_div_loss=465.66558837890625, encode_loss=2307.84814453125, decode_loss=248733.890625, last_env=0\n",
      "epoch: 6, loss=4976.80126953125, rec_loss=2407.33447265625, total_div_loss=524.71630859375, encode_loss=1988.885009765625, decode_loss=128875.125, last_env=0\n",
      "epoch: 7, loss=4869.69384765625, rec_loss=2375.114501953125, total_div_loss=538.3318481445312, encode_loss=2291.5390625, decode_loss=122907.9375, last_env=0\n",
      "epoch: 8, loss=4807.369140625, rec_loss=2352.7109375, total_div_loss=540.3934326171875, encode_loss=2469.421142578125, decode_loss=120043.578125, last_env=0\n",
      "epoch: 9, loss=4767.3330078125, rec_loss=2337.948486328125, total_div_loss=540.0244750976562, encode_loss=2585.301513671875, decode_loss=118333.7578125, last_env=0\n"
     ]
    }
   ],
   "source": [
    "steps = 0\n",
    "for epoch in range(epochs):\n",
    "    total_loss = 0\n",
    "    total_rec_loss = 0\n",
    "    total_div_loss = 0\n",
    "    total_encode_loss = 0\n",
    "    total_decode_loss = 0\n",
    "    for X, _y in mnist_loader:\n",
    "        X = X.to(device)\n",
    "        optimizer.zero_grad()\n",
    "\n",
    "        #forward pass on current batch\n",
    "        rec_X, mu, logvar, env_idx, z = gen_vae(X)\n",
    "        rec_loss = reconstruction_loss(X, rec_X)\n",
    "        kl_loss = kl_div_target(mu, logvar, C=C, gamma=gamma)\n",
    "        cur_loss = rec_loss + kl_loss\n",
    "\n",
    "        #generate halucinated data\n",
    "        X_h = gen_vae.sample(sample_batch_size)\n",
    "\n",
    "        #forward pass on imagined samples\n",
    "        rec_X_h, old_rec_X_h, z, old_z = gen_vae.forward_halu(X_h)\n",
    "        encode_loss = alpha * encoder_proximity(z, old_z)\n",
    "        decode_loss = beta * decoder_proximity(rec_X_h, old_rec_X_h)\n",
    "        replay_loss = encode_loss + decode_loss\n",
    "\n",
    "        #backward pass\n",
    "        loss = cur_loss + replay_loss\n",
    "        loss.backward()\n",
    "        optimizer.step()\n",
    "        total_loss += loss\n",
    "        total_rec_loss += rec_loss\n",
    "        total_div_loss += kl_loss\n",
    "        total_encode_loss += encode_loss\n",
    "        total_decode_loss += decode_loss\n",
    "        \n",
    "        #save model for training regression and classification \n",
    "        if steps % steps_per_save == 0:\n",
    "            torch.save(gen_vae.state_dict(), os.path.join(save_dir, f\"mnist_step_{steps}\"))\n",
    "\n",
    "        steps += 1\n",
    "    print(f\"epoch: {epoch}, loss={total_loss/batch_size}, rec_loss={total_rec_loss/batch_size}, total_div_loss={total_div_loss/batch_size}, encode_loss={total_encode_loss}, decode_loss={total_decode_loss}, last_env={env_idx}\")"
   ]
  },
  {
   "cell_type": "code",
   "execution_count": null,
   "metadata": {},
   "outputs": [
    {
     "name": "stdout",
     "output_type": "stream",
     "text": [
      "New environment: anomolous reconstruction loss\n",
      "epoch: 0, loss=7248.33544921875, rec_loss=4847.71435546875, total_div_loss=675.9827880859375, encode_loss=2595.0068359375, decode_loss=107782.3046875, last_env=1\n",
      "epoch: 1, loss=5878.02734375, rec_loss=4213.63818359375, total_div_loss=597.3408813476562, encode_loss=2332.27978515625, decode_loss=65958.828125, last_env=1\n",
      "epoch: 2, loss=5697.8525390625, rec_loss=4094.260498046875, total_div_loss=575.869873046875, encode_loss=2714.385498046875, decode_loss=63060.00390625, last_env=1\n",
      "epoch: 3, loss=5606.8212890625, rec_loss=4034.160888671875, total_div_loss=567.8511352539062, encode_loss=2862.005615234375, decode_loss=61445.8046875, last_env=1\n",
      "epoch: 4, loss=5554.13671875, rec_loss=3999.262451171875, total_div_loss=563.2952880859375, encode_loss=2902.9326171875, decode_loss=60558.07421875, last_env=1\n"
     ]
    },
    {
     "ename": "RuntimeError",
     "evalue": "all elements of input should be between 0 and 1",
     "output_type": "error",
     "traceback": [
      "\u001b[0;31m---------------------------------------------------------------------------\u001b[0m",
      "\u001b[0;31mRuntimeError\u001b[0m                              Traceback (most recent call last)",
      "\u001b[1;32m/Users/oliverdaniels-koch/NotebookProjects/lifelong_disrep/03a_core.train.ipynb Cell 77'\u001b[0m in \u001b[0;36m<cell line: 2>\u001b[0;34m()\u001b[0m\n\u001b[1;32m     <a href='vscode-notebook-cell:/Users/oliverdaniels-koch/NotebookProjects/lifelong_disrep/03a_core.train.ipynb#ch0000078?line=9'>10</a>\u001b[0m optimizer\u001b[39m.\u001b[39mzero_grad()\n\u001b[1;32m     <a href='vscode-notebook-cell:/Users/oliverdaniels-koch/NotebookProjects/lifelong_disrep/03a_core.train.ipynb#ch0000078?line=11'>12</a>\u001b[0m \u001b[39m#forward pass on current batch\u001b[39;00m\n\u001b[0;32m---> <a href='vscode-notebook-cell:/Users/oliverdaniels-koch/NotebookProjects/lifelong_disrep/03a_core.train.ipynb#ch0000078?line=12'>13</a>\u001b[0m rec_X, mu, logvar, env_idx, z \u001b[39m=\u001b[39m gen_vae(X)\n\u001b[1;32m     <a href='vscode-notebook-cell:/Users/oliverdaniels-koch/NotebookProjects/lifelong_disrep/03a_core.train.ipynb#ch0000078?line=13'>14</a>\u001b[0m rec_loss \u001b[39m=\u001b[39m reconstruction_loss(X, rec_X)\n\u001b[1;32m     <a href='vscode-notebook-cell:/Users/oliverdaniels-koch/NotebookProjects/lifelong_disrep/03a_core.train.ipynb#ch0000078?line=14'>15</a>\u001b[0m kl_loss \u001b[39m=\u001b[39m kl_div_target(mu, logvar, C\u001b[39m=\u001b[39mC, gamma\u001b[39m=\u001b[39mgamma)\n",
      "File \u001b[0;32m~/miniforge3/envs/lifelong_disrep/lib/python3.9/site-packages/torch/nn/modules/module.py:1110\u001b[0m, in \u001b[0;36mModule._call_impl\u001b[0;34m(self, *input, **kwargs)\u001b[0m\n\u001b[1;32m   <a href='file:///Users/oliverdaniels-koch/miniforge3/envs/lifelong_disrep/lib/python3.9/site-packages/torch/nn/modules/module.py?line=1105'>1106</a>\u001b[0m \u001b[39m# If we don't have any hooks, we want to skip the rest of the logic in\u001b[39;00m\n\u001b[1;32m   <a href='file:///Users/oliverdaniels-koch/miniforge3/envs/lifelong_disrep/lib/python3.9/site-packages/torch/nn/modules/module.py?line=1106'>1107</a>\u001b[0m \u001b[39m# this function, and just call forward.\u001b[39;00m\n\u001b[1;32m   <a href='file:///Users/oliverdaniels-koch/miniforge3/envs/lifelong_disrep/lib/python3.9/site-packages/torch/nn/modules/module.py?line=1107'>1108</a>\u001b[0m \u001b[39mif\u001b[39;00m \u001b[39mnot\u001b[39;00m (\u001b[39mself\u001b[39m\u001b[39m.\u001b[39m_backward_hooks \u001b[39mor\u001b[39;00m \u001b[39mself\u001b[39m\u001b[39m.\u001b[39m_forward_hooks \u001b[39mor\u001b[39;00m \u001b[39mself\u001b[39m\u001b[39m.\u001b[39m_forward_pre_hooks \u001b[39mor\u001b[39;00m _global_backward_hooks\n\u001b[1;32m   <a href='file:///Users/oliverdaniels-koch/miniforge3/envs/lifelong_disrep/lib/python3.9/site-packages/torch/nn/modules/module.py?line=1108'>1109</a>\u001b[0m         \u001b[39mor\u001b[39;00m _global_forward_hooks \u001b[39mor\u001b[39;00m _global_forward_pre_hooks):\n\u001b[0;32m-> <a href='file:///Users/oliverdaniels-koch/miniforge3/envs/lifelong_disrep/lib/python3.9/site-packages/torch/nn/modules/module.py?line=1109'>1110</a>\u001b[0m     \u001b[39mreturn\u001b[39;00m forward_call(\u001b[39m*\u001b[39;49m\u001b[39minput\u001b[39;49m, \u001b[39m*\u001b[39;49m\u001b[39m*\u001b[39;49mkwargs)\n\u001b[1;32m   <a href='file:///Users/oliverdaniels-koch/miniforge3/envs/lifelong_disrep/lib/python3.9/site-packages/torch/nn/modules/module.py?line=1110'>1111</a>\u001b[0m \u001b[39m# Do not call functions when jit is used\u001b[39;00m\n\u001b[1;32m   <a href='file:///Users/oliverdaniels-koch/miniforge3/envs/lifelong_disrep/lib/python3.9/site-packages/torch/nn/modules/module.py?line=1111'>1112</a>\u001b[0m full_backward_hooks, non_full_backward_hooks \u001b[39m=\u001b[39m [], []\n",
      "File \u001b[0;32m~/NotebookProjects/lifelong_disrep/vase/core/models.py:319\u001b[0m, in \u001b[0;36mGenReplayVAE.forward\u001b[0;34m(self, x)\u001b[0m\n\u001b[1;32m    <a href='file:///Users/oliverdaniels-koch/NotebookProjects/lifelong_disrep/vase/core/models.py?line=317'>318</a>\u001b[0m \u001b[39mdef\u001b[39;00m \u001b[39mforward\u001b[39m(\u001b[39mself\u001b[39m, x):\n\u001b[0;32m--> <a href='file:///Users/oliverdaniels-koch/NotebookProjects/lifelong_disrep/vase/core/models.py?line=318'>319</a>\u001b[0m     \u001b[39mreturn\u001b[39;00m \u001b[39mself\u001b[39;49m\u001b[39m.\u001b[39;49mmodel(x)\n",
      "File \u001b[0;32m~/miniforge3/envs/lifelong_disrep/lib/python3.9/site-packages/torch/nn/modules/module.py:1110\u001b[0m, in \u001b[0;36mModule._call_impl\u001b[0;34m(self, *input, **kwargs)\u001b[0m\n\u001b[1;32m   <a href='file:///Users/oliverdaniels-koch/miniforge3/envs/lifelong_disrep/lib/python3.9/site-packages/torch/nn/modules/module.py?line=1105'>1106</a>\u001b[0m \u001b[39m# If we don't have any hooks, we want to skip the rest of the logic in\u001b[39;00m\n\u001b[1;32m   <a href='file:///Users/oliverdaniels-koch/miniforge3/envs/lifelong_disrep/lib/python3.9/site-packages/torch/nn/modules/module.py?line=1106'>1107</a>\u001b[0m \u001b[39m# this function, and just call forward.\u001b[39;00m\n\u001b[1;32m   <a href='file:///Users/oliverdaniels-koch/miniforge3/envs/lifelong_disrep/lib/python3.9/site-packages/torch/nn/modules/module.py?line=1107'>1108</a>\u001b[0m \u001b[39mif\u001b[39;00m \u001b[39mnot\u001b[39;00m (\u001b[39mself\u001b[39m\u001b[39m.\u001b[39m_backward_hooks \u001b[39mor\u001b[39;00m \u001b[39mself\u001b[39m\u001b[39m.\u001b[39m_forward_hooks \u001b[39mor\u001b[39;00m \u001b[39mself\u001b[39m\u001b[39m.\u001b[39m_forward_pre_hooks \u001b[39mor\u001b[39;00m _global_backward_hooks\n\u001b[1;32m   <a href='file:///Users/oliverdaniels-koch/miniforge3/envs/lifelong_disrep/lib/python3.9/site-packages/torch/nn/modules/module.py?line=1108'>1109</a>\u001b[0m         \u001b[39mor\u001b[39;00m _global_forward_hooks \u001b[39mor\u001b[39;00m _global_forward_pre_hooks):\n\u001b[0;32m-> <a href='file:///Users/oliverdaniels-koch/miniforge3/envs/lifelong_disrep/lib/python3.9/site-packages/torch/nn/modules/module.py?line=1109'>1110</a>\u001b[0m     \u001b[39mreturn\u001b[39;00m forward_call(\u001b[39m*\u001b[39;49m\u001b[39minput\u001b[39;49m, \u001b[39m*\u001b[39;49m\u001b[39m*\u001b[39;49mkwargs)\n\u001b[1;32m   <a href='file:///Users/oliverdaniels-koch/miniforge3/envs/lifelong_disrep/lib/python3.9/site-packages/torch/nn/modules/module.py?line=1110'>1111</a>\u001b[0m \u001b[39m# Do not call functions when jit is used\u001b[39;00m\n\u001b[1;32m   <a href='file:///Users/oliverdaniels-koch/miniforge3/envs/lifelong_disrep/lib/python3.9/site-packages/torch/nn/modules/module.py?line=1111'>1112</a>\u001b[0m full_backward_hooks, non_full_backward_hooks \u001b[39m=\u001b[39m [], []\n",
      "File \u001b[0;32m~/NotebookProjects/lifelong_disrep/vase/core/models.py:256\u001b[0m, in \u001b[0;36mEnvInferVAE.forward\u001b[0;34m(self, x)\u001b[0m\n\u001b[1;32m    <a href='file:///Users/oliverdaniels-koch/NotebookProjects/lifelong_disrep/vase/core/models.py?line=252'>253</a>\u001b[0m masked_z \u001b[39m=\u001b[39m apply_mask(a, z)\n\u001b[1;32m    <a href='file:///Users/oliverdaniels-koch/NotebookProjects/lifelong_disrep/vase/core/models.py?line=254'>255</a>\u001b[0m \u001b[39m#infer environment\u001b[39;00m\n\u001b[0;32m--> <a href='file:///Users/oliverdaniels-koch/NotebookProjects/lifelong_disrep/vase/core/models.py?line=255'>256</a>\u001b[0m env_idx \u001b[39m=\u001b[39m \u001b[39mself\u001b[39;49m\u001b[39m.\u001b[39;49minfer_env(x, z, a, masked_z)\n\u001b[1;32m    <a href='file:///Users/oliverdaniels-koch/NotebookProjects/lifelong_disrep/vase/core/models.py?line=256'>257</a>\u001b[0m s \u001b[39m=\u001b[39m torch\u001b[39m.\u001b[39mones(batch_size, dtype\u001b[39m=\u001b[39mtorch\u001b[39m.\u001b[39mint64) \u001b[39m*\u001b[39m env_idx\n\u001b[1;32m    <a href='file:///Users/oliverdaniels-koch/NotebookProjects/lifelong_disrep/vase/core/models.py?line=258'>259</a>\u001b[0m rec_img \u001b[39m=\u001b[39m \u001b[39mself\u001b[39m\u001b[39m.\u001b[39mdecoder(z\u001b[39m=\u001b[39mmasked_z, s\u001b[39m=\u001b[39ms)\n",
      "File \u001b[0;32m~/NotebookProjects/lifelong_disrep/vase/core/models.py:272\u001b[0m, in \u001b[0;36mEnvInferVAE.infer_env\u001b[0;34m(self, x, z, a, masked_z)\u001b[0m\n\u001b[1;32m    <a href='file:///Users/oliverdaniels-koch/NotebookProjects/lifelong_disrep/vase/core/models.py?line=269'>270</a>\u001b[0m     \u001b[39mwith\u001b[39;00m torch\u001b[39m.\u001b[39mno_grad():\n\u001b[1;32m    <a href='file:///Users/oliverdaniels-koch/NotebookProjects/lifelong_disrep/vase/core/models.py?line=270'>271</a>\u001b[0m         x_rec \u001b[39m=\u001b[39m \u001b[39mself\u001b[39m\u001b[39m.\u001b[39mdecoder(masked_z, s)\n\u001b[0;32m--> <a href='file:///Users/oliverdaniels-koch/NotebookProjects/lifelong_disrep/vase/core/models.py?line=271'>272</a>\u001b[0m         losses\u001b[39m.\u001b[39mappend(torch\u001b[39m.\u001b[39msum(rec_likelihood(x, x_rec)))\n\u001b[1;32m    <a href='file:///Users/oliverdaniels-koch/NotebookProjects/lifelong_disrep/vase/core/models.py?line=272'>273</a>\u001b[0m env_idx \u001b[39m=\u001b[39m torch\u001b[39m.\u001b[39margmin(torch\u001b[39m.\u001b[39mtensor(losses))\n\u001b[1;32m    <a href='file:///Users/oliverdaniels-koch/NotebookProjects/lifelong_disrep/vase/core/models.py?line=274'>275</a>\u001b[0m rec_loss \u001b[39m=\u001b[39m losses[env_idx]\n",
      "File \u001b[0;32m~/NotebookProjects/lifelong_disrep/vase/core/utils.py:12\u001b[0m, in \u001b[0;36mrec_likelihood\u001b[0;34m(x, x_rec)\u001b[0m\n\u001b[1;32m     <a href='file:///Users/oliverdaniels-koch/NotebookProjects/lifelong_disrep/vase/core/utils.py?line=9'>10</a>\u001b[0m \u001b[39mdef\u001b[39;00m \u001b[39mrec_likelihood\u001b[39m(x, x_rec):\n\u001b[1;32m     <a href='file:///Users/oliverdaniels-koch/NotebookProjects/lifelong_disrep/vase/core/utils.py?line=10'>11</a>\u001b[0m     \u001b[39m\"\"\"Returns element wise reconstruction loss across batch\"\"\"\u001b[39;00m\n\u001b[0;32m---> <a href='file:///Users/oliverdaniels-koch/NotebookProjects/lifelong_disrep/vase/core/utils.py?line=11'>12</a>\u001b[0m     \u001b[39mreturn\u001b[39;00m F\u001b[39m.\u001b[39;49mbinary_cross_entropy(x_rec, x, reduction\u001b[39m=\u001b[39;49m\u001b[39m'\u001b[39;49m\u001b[39mnone\u001b[39;49m\u001b[39m'\u001b[39;49m)\u001b[39m.\u001b[39mflatten(start_dim\u001b[39m=\u001b[39m\u001b[39m1\u001b[39m)\u001b[39m.\u001b[39msum(dim\u001b[39m=\u001b[39m\u001b[39m1\u001b[39m)\n",
      "File \u001b[0;32m~/miniforge3/envs/lifelong_disrep/lib/python3.9/site-packages/torch/nn/functional.py:3065\u001b[0m, in \u001b[0;36mbinary_cross_entropy\u001b[0;34m(input, target, weight, size_average, reduce, reduction)\u001b[0m\n\u001b[1;32m   <a href='file:///Users/oliverdaniels-koch/miniforge3/envs/lifelong_disrep/lib/python3.9/site-packages/torch/nn/functional.py?line=3061'>3062</a>\u001b[0m     new_size \u001b[39m=\u001b[39m _infer_size(target\u001b[39m.\u001b[39msize(), weight\u001b[39m.\u001b[39msize())\n\u001b[1;32m   <a href='file:///Users/oliverdaniels-koch/miniforge3/envs/lifelong_disrep/lib/python3.9/site-packages/torch/nn/functional.py?line=3062'>3063</a>\u001b[0m     weight \u001b[39m=\u001b[39m weight\u001b[39m.\u001b[39mexpand(new_size)\n\u001b[0;32m-> <a href='file:///Users/oliverdaniels-koch/miniforge3/envs/lifelong_disrep/lib/python3.9/site-packages/torch/nn/functional.py?line=3064'>3065</a>\u001b[0m \u001b[39mreturn\u001b[39;00m torch\u001b[39m.\u001b[39;49m_C\u001b[39m.\u001b[39;49m_nn\u001b[39m.\u001b[39;49mbinary_cross_entropy(\u001b[39minput\u001b[39;49m, target, weight, reduction_enum)\n",
      "\u001b[0;31mRuntimeError\u001b[0m: all elements of input should be between 0 and 1"
     ]
    }
   ],
   "source": [
    "steps = 0\n",
    "for epoch in range(epochs):\n",
    "    total_loss = 0\n",
    "    total_rec_loss = 0\n",
    "    total_div_loss = 0\n",
    "    total_encode_loss = 0\n",
    "    total_decode_loss = 0\n",
    "    for X, _y in sf_loader:\n",
    "        X = X.to(device)\n",
    "        optimizer.zero_grad()\n",
    "\n",
    "        #forward pass on current batch\n",
    "        rec_X, mu, logvar, env_idx, z = gen_vae(X)\n",
    "        rec_loss = reconstruction_loss(X, rec_X)\n",
    "        kl_loss = kl_div_target(mu, logvar, C=C, gamma=gamma)\n",
    "        cur_loss = rec_loss + kl_loss\n",
    "\n",
    "        #generate halucinated data\n",
    "        X_h = gen_vae.sample(sample_batch_size)\n",
    "\n",
    "        #forward pass on imagined samples\n",
    "        rec_X_h, old_rec_X_h, z, old_z = gen_vae.forward_halu(X_h)\n",
    "        encode_loss = alpha * encoder_proximity(z, old_z)\n",
    "        decode_loss = beta * decoder_proximity(rec_X_h, old_rec_X_h)\n",
    "        replay_loss = encode_loss + decode_loss\n",
    "\n",
    "        #backward pass\n",
    "        loss = cur_loss + replay_loss\n",
    "        loss.backward()\n",
    "        optimizer.step()\n",
    "        total_loss += loss\n",
    "        total_rec_loss += rec_loss\n",
    "        total_div_loss += kl_loss\n",
    "        total_encode_loss += encode_loss\n",
    "        total_decode_loss += decode_loss\n",
    "        \n",
    "        #save model for training regression and classification \n",
    "        if steps % steps_per_save == 0:\n",
    "            torch.save(gen_vae.state_dict(), os.path.join(save_dir, f\"mnist_step_{steps}\"))\n",
    "\n",
    "        steps += 1\n",
    "    print(f\"epoch: {epoch}, loss={total_loss/batch_size}, rec_loss={total_rec_loss/batch_size}, total_div_loss={total_div_loss/batch_size}, encode_loss={total_encode_loss}, decode_loss={total_decode_loss}, last_env={env_idx}\")"
   ]
  },
  {
   "cell_type": "code",
   "execution_count": null,
   "metadata": {},
   "outputs": [],
   "source": [
    "with torch.no_grad():\n",
    "    rec_img, _mu, _logvar, _envidx, _z = gen_vae(mnist_batch)"
   ]
  },
  {
   "cell_type": "code",
   "execution_count": null,
   "metadata": {},
   "outputs": [
    {
     "data": {
      "text/plain": [
       "tensor(3)"
      ]
     },
     "execution_count": null,
     "metadata": {},
     "output_type": "execute_result"
    }
   ],
   "source": [
    "_envidx"
   ]
  },
  {
   "cell_type": "code",
   "execution_count": null,
   "metadata": {},
   "outputs": [
    {
     "data": {
      "text/plain": [
       "<matplotlib.image.AxesImage at 0x2917bdb20>"
      ]
     },
     "execution_count": null,
     "metadata": {},
     "output_type": "execute_result"
    },
    {
     "data": {
      "image/png": "[encoded data removed]",
      "text/plain": [
       "<Figure size 432x288 with 1 Axes>"
      ]
     },
     "metadata": {
      "needs_background": "light"
     },
     "output_type": "display_data"
    }
   ],
   "source": [
    "plt.imshow(mnist_batch[1].to('cpu').detach().numpy().squeeze())"
   ]
  },
  {
   "cell_type": "code",
   "execution_count": null,
   "metadata": {},
   "outputs": [
    {
     "data": {
      "text/plain": [
       "<matplotlib.image.AxesImage at 0x29181efd0>"
      ]
     },
     "execution_count": null,
     "metadata": {},
     "output_type": "execute_result"
    },
    {
     "data": {
      "image/png": "[encoded data removed]",
      "text/plain": [
       "<Figure size 432x288 with 1 Axes>"
      ]
     },
     "metadata": {
      "needs_background": "light"
     },
     "output_type": "display_data"
    }
   ],
   "source": [
    "plt.imshow(rec_img[1].to('cpu').detach().numpy().squeeze())"
   ]
  },
  {
   "cell_type": "code",
   "execution_count": null,
   "metadata": {},
   "outputs": [
    {
     "data": {
      "text/plain": [
       "<matplotlib.image.AxesImage at 0x2844f3310>"
      ]
     },
     "execution_count": null,
     "metadata": {},
     "output_type": "execute_result"
    },
    {
     "data": {
      "image/png": "[encoded data removed]",
      "text/plain": [
       "<Figure size 432x288 with 1 Axes>"
      ]
     },
     "metadata": {
      "needs_background": "light"
     },
     "output_type": "display_data"
    }
   ],
   "source": [
    "plt.imshow(rec_img[0].to('cpu').detach().numpy().squeeze())"
   ]
  },
  {
   "cell_type": "markdown",
   "metadata": {},
   "source": [
    "## Classification and Regression"
   ]
  }
 ],
 "metadata": {
  "kernelspec": {
   "display_name": "Python 3.9.10 ('lifelong_disrep')",
   "language": "python",
   "name": "python3"
  }
 },
 "nbformat": 4,
 "nbformat_minor": 2
}
