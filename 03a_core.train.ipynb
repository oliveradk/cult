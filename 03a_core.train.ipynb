{
 "cells": [
  {
   "cell_type": "code",
   "execution_count": null,
   "metadata": {},
   "outputs": [],
   "source": [
    "#default_exp core.train"
   ]
  },
  {
   "cell_type": "code",
   "execution_count": null,
   "metadata": {},
   "outputs": [],
   "source": [
    "#export\n",
    "import torch\n",
    "from torch import nn\n",
    "from torch.nn import functional as F\n",
    "from vase.config import DATA_PATH, PARAM_PATH\n",
    "from vase.core.utils import rec_likelihood, kl_div_stdnorm, euclidean\n"
   ]
  },
  {
   "cell_type": "code",
   "execution_count": null,
   "metadata": {},
   "outputs": [],
   "source": [
    "#hide\n",
    "from vase.core.models import FCEncoder, FCDecoder, Encoder, Decoder, PaperVanillaVAE, FCVAE, LatentMaskVAE, EnvInferVAE\n",
    "from vase.core.datasets.moving_mnist import MovingFashionMNIST, MovingMNIST, CommonMNIST, CommonFashionMNIST, FixedMNIST\n",
    "from torch.utils.data import DataLoader\n",
    "from torchvision.transforms import ToTensor\n",
    "import matplotlib.pyplot as plt\n",
    "import os\n",
    "from  datetime import datetime as dt"
   ]
  },
  {
   "cell_type": "code",
   "execution_count": null,
   "metadata": {},
   "outputs": [],
   "source": [
    "train = False\n",
    "latents=24\n",
    "batch_size=64"
   ]
  },
  {
   "cell_type": "code",
   "execution_count": null,
   "metadata": {},
   "outputs": [],
   "source": [
    "#hide\n",
    "mnist_data = CommonMNIST(DATA_PATH, transform=ToTensor(), download=True)\n",
    "fc_vae_helper = FCVAE(latents)\n",
    "mnist_loader = DataLoader(mnist_data, batch_size=batch_size, shuffle=True)\n",
    "mnist_batch, _ = iter(mnist_loader).next()\n",
    "small_fashion = CommonFashionMNIST(DATA_PATH, transform=ToTensor())\n",
    "sf_loader = DataLoader(small_fashion, batch_size=batch_size, shuffle=True)\n",
    "sf_batch, _ = iter(sf_loader).next()\n",
    "rec, mu, logvar = fc_vae_helper(mnist_batch)\n",
    "fashion_data = MovingFashionMNIST(DATA_PATH, transform=ToTensor(), download=True)\n",
    "fashion_loader = DataLoader(fashion_data, batch_size, shuffle=True)\n",
    "fashion_batch, _, _ = iter(fashion_loader).next()\n",
    "mm_data = MovingMNIST(DATA_PATH, transform=ToTensor(), download=True)\n",
    "mm_loader = DataLoader(mm_data, batch_size, shuffle=True)\n",
    "mm_batch, _, _ = iter(mm_loader).next()"
   ]
  },
  {
   "cell_type": "markdown",
   "metadata": {},
   "source": [
    "# Training For VASE\n",
    "> all losses and training code for VASE (variational inference, environmental inference, latent masking, generative replay, object classification, location regresion)"
   ]
  },
  {
   "cell_type": "markdown",
   "metadata": {},
   "source": [
    "## Problem Setup\n",
    "\n",
    "TODO: add all the distributions"
   ]
  },
  {
   "cell_type": "markdown",
   "metadata": {},
   "source": [
    "## Standard VAE (Reconstruction + Target KL)\n",
    "The paper's \"The Minimum Length Description (MDL)\" loss is a variannt of the standard VAE ELBO loss, maximimzing the likelihood while minimizing the KL Divergence to the prior:\n",
    "\n",
    "$$\\mathcal{L}_{MDL}(\\phi, \\theta) = E_{\\mathbf{z}^s \\sim q_{\\phi}(\\dot|\\mathbf{x}^s)}[-\\log{p_{\\theta}(\\mathbf{x}|\\mathbf{z}^s, s)}] + \\gamma |KL(q_{\\phi}(\\mathbf{z}^s|\\mathbf{x}^s)||p(z)) - C|$$\n",
    "\n",
    "\n",
    "However, you'll notice the KL divergence term is slighly non-standard. Rather than penalizing the KLDiv at a fixed rate, the loss is the difference between the KLDiv and a dynamic target $C$, which increases over the course of training, allowing for gradually more representation capacity. This trick was taken from [Understanding disentanglement in the $\\beta$-VAE](https://arxiv.org/pdf/1804.03599.pdf) (Note that in keeping with that paper, I have dropped the square from the KL term)\n",
    "\n",
    "For now we'll also drop the environment super script s, just training an autoencoder on iid data:\n",
    "\n",
    "$$\\mathcal{L}_{MDL}(\\phi, \\theta) = E_{\\mathbf{z} \\sim q_{\\phi}(\\dot|\\mathbf{x})}[-\\log{p_{\\theta}(\\mathbf{x}|\\mathbf{z})}] + \\gamma |KL(q_{\\phi}(\\mathbf{z}|\\mathbf{x})||p(z)) - C|$$"
   ]
  },
  {
   "cell_type": "markdown",
   "metadata": {},
   "source": [
    "### Reconstruction Loss\n",
    "$$E_{\\mathbf{z}^s \\sim q_{\\phi}(\\dot|\\mathbf{x}^s)}[-\\log{p_{\\theta}(\\mathbf{x}|\\mathbf{z}^s, s)}]$$"
   ]
  },
  {
   "cell_type": "code",
   "execution_count": null,
   "metadata": {},
   "outputs": [],
   "source": [
    "#export \n",
    "def reconstruction_loss(x, x_rec):\n",
    "    \"\"\"Returns mean reconstruction loss across batch\"\"\"\n",
    "    return torch.mean(rec_likelihood(x, x_rec))"
   ]
  },
  {
   "cell_type": "markdown",
   "metadata": {},
   "source": [
    "### KL Div Target Loss"
   ]
  },
  {
   "cell_type": "markdown",
   "metadata": {},
   "source": [
    "#### KLDiv Target Loss\n",
    "\n",
    "Now we can define the full loss:\n",
    "\n",
    "$$\\gamma |KL(q_{\\phi}(\\mathbf{z}^s|\\mathbf{x}^s)||p(z)) - C|$$\n",
    "\n",
    "I'm not sure if the difference is computed element wise, or by batch...."
   ]
  },
  {
   "cell_type": "code",
   "execution_count": null,
   "metadata": {},
   "outputs": [],
   "source": [
    "#export\n",
    "def kl_div_target(mu, logvar, C=0, gamma=1):\n",
    "    \"\"\"Returns target loss: squared difference of mean kldivergence and target C scaled by gamma\"\"\"\n",
    "    return gamma * torch.mean(torch.abs((kl_div_stdnorm(mu, logvar) - C)))"
   ]
  },
  {
   "cell_type": "code",
   "execution_count": null,
   "metadata": {},
   "outputs": [],
   "source": [
    "#assert kl_div_target(torch.Tensor([0]), torch.log(torch.Tensor([1]))) == 0"
   ]
  },
  {
   "cell_type": "code",
   "execution_count": null,
   "metadata": {},
   "outputs": [],
   "source": [
    "#assert kl_div_target(torch.Tensor([0]), torch.log(torch.Tensor([1])), C=1) == 1"
   ]
  },
  {
   "cell_type": "code",
   "execution_count": null,
   "metadata": {},
   "outputs": [],
   "source": [
    "#assert kl_div_target(torch.Tensor([0]), torch.log(torch.Tensor([1])), C=2, gamma=3) == 6"
   ]
  },
  {
   "cell_type": "markdown",
   "metadata": {},
   "source": [
    "### Train "
   ]
  },
  {
   "cell_type": "code",
   "execution_count": null,
   "metadata": {},
   "outputs": [],
   "source": [
    "device = torch.device('cuda:0' if torch.cuda.is_available() else 'cpu')"
   ]
  },
  {
   "cell_type": "markdown",
   "metadata": {},
   "source": [
    "### Hyper Parameters\n",
    "The original payer uses $\\gamma=100$, but will a scaling $C$ and 24 available latents (8 of which are actually used). For now we'll use a fixed C and define 8 latents (all of which are available to the VAE) "
   ]
  },
  {
   "cell_type": "code",
   "execution_count": null,
   "metadata": {},
   "outputs": [],
   "source": [
    "gamma=100\n",
    "lr=1e-3\n",
    "batch_size = 64\n",
    "latents=8\n",
    "C=0\n",
    "epochs = 1"
   ]
  },
  {
   "cell_type": "code",
   "execution_count": null,
   "metadata": {},
   "outputs": [],
   "source": [
    "vanilla_vae = PaperVanillaVAE(latents=latents, device=device) #VanillaVAE(latents=latents)\n",
    "optimizer = torch.optim.Adam(params = vanilla_vae.parameters(), lr=lr)\n",
    "loader = DataLoader(fashion_data, batch_size, shuffle=True) #DataLoader(fashion_data, batch_size)"
   ]
  },
  {
   "cell_type": "code",
   "execution_count": null,
   "metadata": {},
   "outputs": [
    {
     "data": {
      "text/plain": [
       "PaperVanillaVAE(\n",
       "  (encoder): Encoder(\n",
       "    (conv1): Conv2d(1, 64, kernel_size=(4, 4), stride=(2, 2), padding=(1, 1))\n",
       "    (conv2): Conv2d(64, 64, kernel_size=(4, 4), stride=(2, 2), padding=(1, 1))\n",
       "    (conv3): Conv2d(64, 128, kernel_size=(4, 4), stride=(2, 2), padding=(1, 1))\n",
       "    (conv4): Conv2d(128, 128, kernel_size=(4, 4), stride=(2, 2), padding=(1, 1))\n",
       "    (linear): Linear(in_features=2048, out_features=256, bias=True)\n",
       "    (linear_mu): Linear(in_features=256, out_features=8, bias=True)\n",
       "    (linear_logvar): Linear(in_features=256, out_features=8, bias=True)\n",
       "    (relu): ReLU()\n",
       "  )\n",
       "  (decoder): Decoder(\n",
       "    (linear2): Linear(in_features=8, out_features=256, bias=True)\n",
       "    (linear1): Linear(in_features=256, out_features=2048, bias=True)\n",
       "    (conv4): ConvTranspose2d(128, 128, kernel_size=(4, 4), stride=(2, 2), padding=(1, 1))\n",
       "    (conv3): ConvTranspose2d(128, 64, kernel_size=(4, 4), stride=(2, 2), padding=(1, 1))\n",
       "    (conv2): ConvTranspose2d(64, 64, kernel_size=(4, 4), stride=(2, 2), padding=(1, 1))\n",
       "    (conv1): ConvTranspose2d(64, 1, kernel_size=(4, 4), stride=(2, 2), padding=(1, 1))\n",
       "    (relu): ReLU()\n",
       "    (sigmoid): Sigmoid()\n",
       "  )\n",
       ")"
      ]
     },
     "execution_count": null,
     "metadata": {},
     "output_type": "execute_result"
    }
   ],
   "source": [
    "vanilla_vae.to(device)"
   ]
  },
  {
   "cell_type": "code",
   "execution_count": null,
   "metadata": {},
   "outputs": [],
   "source": [
    "if not train:\n",
    "    epochs = 0"
   ]
  },
  {
   "cell_type": "code",
   "execution_count": null,
   "metadata": {},
   "outputs": [],
   "source": [
    "for epoch in range(epochs):\n",
    "    total_loss = 0\n",
    "    total_rec_loss = 0\n",
    "    total_div_loss = 0\n",
    "    for X, _y, _pos in loader:\n",
    "        X = X.to(device)\n",
    "        optimizer.zero_grad()\n",
    "\n",
    "        rec_X, mu, logvar = vanilla_vae(X)\n",
    "\n",
    "        rec_loss = reconstruction_loss(X, rec_X)\n",
    "        kl_loss = kl_div_target(mu, logvar, C=C, gamma=gamma)\n",
    "        loss = rec_loss + kl_loss\n",
    "\n",
    "        loss.backward()\n",
    "        optimizer.step()\n",
    "        total_loss += loss\n",
    "        total_rec_loss += rec_loss\n",
    "        total_div_loss += kl_loss\n",
    "    print(f\"epoch: {epoch}, loss={total_loss/batch_size}, rec_loss={total_rec_loss/batch_size}, total_div_loss={total_div_loss/batch_size}\")"
   ]
  },
  {
   "cell_type": "code",
   "execution_count": null,
   "metadata": {},
   "outputs": [
    {
     "data": {
      "text/plain": [
       "PaperVanillaVAE(\n",
       "  (encoder): Encoder(\n",
       "    (conv1): Conv2d(1, 64, kernel_size=(4, 4), stride=(2, 2), padding=(1, 1))\n",
       "    (conv2): Conv2d(64, 64, kernel_size=(4, 4), stride=(2, 2), padding=(1, 1))\n",
       "    (conv3): Conv2d(64, 128, kernel_size=(4, 4), stride=(2, 2), padding=(1, 1))\n",
       "    (conv4): Conv2d(128, 128, kernel_size=(4, 4), stride=(2, 2), padding=(1, 1))\n",
       "    (linear): Linear(in_features=2048, out_features=256, bias=True)\n",
       "    (linear_mu): Linear(in_features=256, out_features=8, bias=True)\n",
       "    (linear_logvar): Linear(in_features=256, out_features=8, bias=True)\n",
       "    (relu): ReLU()\n",
       "  )\n",
       "  (decoder): Decoder(\n",
       "    (linear2): Linear(in_features=8, out_features=256, bias=True)\n",
       "    (linear1): Linear(in_features=256, out_features=2048, bias=True)\n",
       "    (conv4): ConvTranspose2d(128, 128, kernel_size=(4, 4), stride=(2, 2), padding=(1, 1))\n",
       "    (conv3): ConvTranspose2d(128, 64, kernel_size=(4, 4), stride=(2, 2), padding=(1, 1))\n",
       "    (conv2): ConvTranspose2d(64, 64, kernel_size=(4, 4), stride=(2, 2), padding=(1, 1))\n",
       "    (conv1): ConvTranspose2d(64, 1, kernel_size=(4, 4), stride=(2, 2), padding=(1, 1))\n",
       "    (relu): ReLU()\n",
       "    (sigmoid): Sigmoid()\n",
       "  )\n",
       ")"
      ]
     },
     "execution_count": null,
     "metadata": {},
     "output_type": "execute_result"
    }
   ],
   "source": [
    "if train:\n",
    "    torch.save(vanilla_vae.state_dict(), os.path.join(PARAM_PATH, 'vae_fashion'))\n",
    "state_dict = torch.load(os.path.join(PARAM_PATH, 'vae_fashion'), map_location=torch.device(device))\n",
    "vanilla_vae.load_state_dict(state_dict=state_dict)\n",
    "vanilla_vae.eval()"
   ]
  },
  {
   "cell_type": "code",
   "execution_count": null,
   "metadata": {},
   "outputs": [],
   "source": [
    "with torch.no_grad():\n",
    "    rec_img, _mu, _logvar = vanilla_vae(fashion_batch)"
   ]
  },
  {
   "cell_type": "code",
   "execution_count": null,
   "metadata": {},
   "outputs": [
    {
     "data": {
      "text/plain": [
       "<matplotlib.image.AxesImage at 0x117865c10>"
      ]
     },
     "execution_count": null,
     "metadata": {},
     "output_type": "execute_result"
    },
    {
     "data": {
      "image/png": "[encoded data removed]",
      "text/plain": [
       "<Figure size 432x288 with 1 Axes>"
      ]
     },
     "metadata": {
      "needs_background": "light"
     },
     "output_type": "display_data"
    }
   ],
   "source": [
    "plt.imshow(fashion_batch[0].cpu().detach().numpy().squeeze())"
   ]
  },
  {
   "cell_type": "code",
   "execution_count": null,
   "metadata": {},
   "outputs": [
    {
     "data": {
      "text/plain": [
       "<matplotlib.image.AxesImage at 0x1177330d0>"
      ]
     },
     "execution_count": null,
     "metadata": {},
     "output_type": "execute_result"
    },
    {
     "data": {
      "image/png": "[encoded data removed]",
      "text/plain": [
       "<Figure size 432x288 with 1 Axes>"
      ]
     },
     "metadata": {
      "needs_background": "light"
     },
     "output_type": "display_data"
    }
   ],
   "source": [
    "plt.imshow(rec_img[0].cpu().detach().numpy().squeeze())"
   ]
  },
  {
   "cell_type": "markdown",
   "metadata": {},
   "source": [
    "## Latent Masking VAE"
   ]
  },
  {
   "cell_type": "markdown",
   "metadata": {},
   "source": [
    "### Train"
   ]
  },
  {
   "cell_type": "code",
   "execution_count": null,
   "metadata": {},
   "outputs": [],
   "source": [
    "device = torch.device('cuda:0' if torch.cuda.is_available() else 'cpu')"
   ]
  },
  {
   "cell_type": "code",
   "execution_count": null,
   "metadata": {},
   "outputs": [],
   "source": [
    "lam=.2\n",
    "gamma=10\n",
    "lr=6e-4\n",
    "latents=8\n",
    "C=0\n",
    "epochs = 30 #30 for movign fashion, 20 for mnist (change to 64x64), 30 for moving mnist\n",
    "model_save_steps = 2500 #save model after this many \"training steps\"? (batchs, ~once every 2.5 epochs\n",
    "exp_name = 'latent_mask_fashion'\n",
    "steps_per_save = 2500"
   ]
  },
  {
   "cell_type": "code",
   "execution_count": null,
   "metadata": {},
   "outputs": [],
   "source": [
    "save_dir = os.path.join(PARAM_PATH, exp_name + dt.now().strftime('%m_%d_%y_%H_%M_%S'))\n",
    "os.mkdir(save_dir)"
   ]
  },
  {
   "cell_type": "code",
   "execution_count": null,
   "metadata": {},
   "outputs": [],
   "source": [
    "masked_vae = LatentMaskVAE(encoder=Encoder, decoder=Decoder, latents=latents, device=device, lam=lam) #VanillaVAE(latents=latents)\n",
    "masked_vae.to(device)\n",
    "optimizer = torch.optim.Adam(params = masked_vae.parameters(), lr=lr)"
   ]
  },
  {
   "cell_type": "code",
   "execution_count": null,
   "metadata": {},
   "outputs": [],
   "source": [
    "if not train:\n",
    "    epochs=0"
   ]
  },
  {
   "cell_type": "code",
   "execution_count": null,
   "metadata": {},
   "outputs": [],
   "source": [
    "steps = 0\n",
    "for epoch in range(epochs):\n",
    "    total_loss = 0\n",
    "    total_rec_loss = 0\n",
    "    total_div_loss = 0\n",
    "    for X, _y, _pos in fashion_loader:\n",
    "        X = X.to(device)\n",
    "        optimizer.zero_grad()\n",
    "\n",
    "        rec_X, mu, logvar = masked_vae(X)\n",
    "\n",
    "        rec_loss = reconstruction_loss(X, rec_X)\n",
    "        kl_loss = kl_div_target(mu, logvar, C=C, gamma=gamma)\n",
    "        loss = rec_loss + kl_loss\n",
    "\n",
    "        loss.backward()\n",
    "        optimizer.step()\n",
    "        total_loss += loss\n",
    "        total_rec_loss += rec_loss\n",
    "        total_div_loss += kl_loss\n",
    "        \n",
    "        #save model for training regression and classification \n",
    "        if steps % steps_per_save == 0:\n",
    "            torch.save(masked_vae.state_dict(), os.path.join(save_dir, f\"step_{steps}\"))\n",
    "\n",
    "        steps += 1\n",
    "    print(f\"epoch: {epoch}, loss={total_loss/batch_size}, rec_loss={total_rec_loss/batch_size}, total_div_loss={total_div_loss/batch_size}\")"
   ]
  },
  {
   "cell_type": "code",
   "execution_count": null,
   "metadata": {},
   "outputs": [
    {
     "ename": "RuntimeError",
     "evalue": "Error(s) in loading state_dict for LatentMaskVAE:\n\tMissing key(s) in state_dict: \"encoder.conv1.weight\", \"encoder.conv1.bias\", \"encoder.conv2.weight\", \"encoder.conv2.bias\", \"encoder.conv3.weight\", \"encoder.conv3.bias\", \"encoder.conv4.weight\", \"encoder.conv4.bias\", \"encoder.linear.weight\", \"encoder.linear.bias\", \"decoder.conv4.weight\", \"decoder.conv4.bias\", \"decoder.conv3.weight\", \"decoder.conv3.bias\", \"decoder.conv2.weight\", \"decoder.conv2.bias\", \"decoder.conv1.weight\", \"decoder.conv1.bias\". \n\tUnexpected key(s) in state_dict: \"encoder.linear1.weight\", \"encoder.linear1.bias\". \n\tsize mismatch for encoder.linear_mu.weight: copying a param with shape torch.Size([8, 50]) from checkpoint, the shape in current model is torch.Size([8, 256]).\n\tsize mismatch for encoder.linear_logvar.weight: copying a param with shape torch.Size([8, 50]) from checkpoint, the shape in current model is torch.Size([8, 256]).\n\tsize mismatch for decoder.linear2.weight: copying a param with shape torch.Size([784, 50]) from checkpoint, the shape in current model is torch.Size([256, 8]).\n\tsize mismatch for decoder.linear2.bias: copying a param with shape torch.Size([784]) from checkpoint, the shape in current model is torch.Size([256]).\n\tsize mismatch for decoder.linear1.weight: copying a param with shape torch.Size([50, 8]) from checkpoint, the shape in current model is torch.Size([2048, 256]).\n\tsize mismatch for decoder.linear1.bias: copying a param with shape torch.Size([50]) from checkpoint, the shape in current model is torch.Size([2048]).",
     "output_type": "error",
     "traceback": [
      "\u001b[0;31m---------------------------------------------------------------------------\u001b[0m",
      "\u001b[0;31mRuntimeError\u001b[0m                              Traceback (most recent call last)",
      "\u001b[1;32m/Users/oliverdaniels-koch/NotebookProjects/lifelong_disrep/03a_core.train.ipynb Cell 37'\u001b[0m in \u001b[0;36m<cell line: 8>\u001b[0;34m()\u001b[0m\n\u001b[1;32m      <a href='vscode-notebook-cell:/Users/oliverdaniels-koch/NotebookProjects/lifelong_disrep/03a_core.train.ipynb#ch0000036?line=3'>4</a>\u001b[0m \u001b[39melse\u001b[39;00m:\n\u001b[1;32m      <a href='vscode-notebook-cell:/Users/oliverdaniels-koch/NotebookProjects/lifelong_disrep/03a_core.train.ipynb#ch0000036?line=4'>5</a>\u001b[0m     state_dict \u001b[39m=\u001b[39m torch\u001b[39m.\u001b[39mload(os\u001b[39m.\u001b[39mpath\u001b[39m.\u001b[39mjoin(PARAM_PATH\u001b[39m+\u001b[39m\u001b[39m\"\u001b[39m\u001b[39m/latent_mask_mnist04_27_22_12_17_50\u001b[39m\u001b[39m\"\u001b[39m, \u001b[39m\"\u001b[39m\u001b[39mstep_27500\u001b[39m\u001b[39m\"\u001b[39m), map_location\u001b[39m=\u001b[39mtorch\u001b[39m.\u001b[39mdevice(device))\n\u001b[0;32m----> <a href='vscode-notebook-cell:/Users/oliverdaniels-koch/NotebookProjects/lifelong_disrep/03a_core.train.ipynb#ch0000036?line=7'>8</a>\u001b[0m masked_vae\u001b[39m.\u001b[39;49mload_state_dict(state_dict\u001b[39m=\u001b[39;49mstate_dict)\n\u001b[1;32m      <a href='vscode-notebook-cell:/Users/oliverdaniels-koch/NotebookProjects/lifelong_disrep/03a_core.train.ipynb#ch0000036?line=8'>9</a>\u001b[0m masked_vae\u001b[39m.\u001b[39meval()\n",
      "File \u001b[0;32m~/miniforge3/envs/lifelong_disrep/lib/python3.9/site-packages/torch/nn/modules/module.py:1497\u001b[0m, in \u001b[0;36mModule.load_state_dict\u001b[0;34m(self, state_dict, strict)\u001b[0m\n\u001b[1;32m   <a href='file:///Users/oliverdaniels-koch/miniforge3/envs/lifelong_disrep/lib/python3.9/site-packages/torch/nn/modules/module.py?line=1491'>1492</a>\u001b[0m         error_msgs\u001b[39m.\u001b[39minsert(\n\u001b[1;32m   <a href='file:///Users/oliverdaniels-koch/miniforge3/envs/lifelong_disrep/lib/python3.9/site-packages/torch/nn/modules/module.py?line=1492'>1493</a>\u001b[0m             \u001b[39m0\u001b[39m, \u001b[39m'\u001b[39m\u001b[39mMissing key(s) in state_dict: \u001b[39m\u001b[39m{}\u001b[39;00m\u001b[39m. \u001b[39m\u001b[39m'\u001b[39m\u001b[39m.\u001b[39mformat(\n\u001b[1;32m   <a href='file:///Users/oliverdaniels-koch/miniforge3/envs/lifelong_disrep/lib/python3.9/site-packages/torch/nn/modules/module.py?line=1493'>1494</a>\u001b[0m                 \u001b[39m'\u001b[39m\u001b[39m, \u001b[39m\u001b[39m'\u001b[39m\u001b[39m.\u001b[39mjoin(\u001b[39m'\u001b[39m\u001b[39m\"\u001b[39m\u001b[39m{}\u001b[39;00m\u001b[39m\"\u001b[39m\u001b[39m'\u001b[39m\u001b[39m.\u001b[39mformat(k) \u001b[39mfor\u001b[39;00m k \u001b[39min\u001b[39;00m missing_keys)))\n\u001b[1;32m   <a href='file:///Users/oliverdaniels-koch/miniforge3/envs/lifelong_disrep/lib/python3.9/site-packages/torch/nn/modules/module.py?line=1495'>1496</a>\u001b[0m \u001b[39mif\u001b[39;00m \u001b[39mlen\u001b[39m(error_msgs) \u001b[39m>\u001b[39m \u001b[39m0\u001b[39m:\n\u001b[0;32m-> <a href='file:///Users/oliverdaniels-koch/miniforge3/envs/lifelong_disrep/lib/python3.9/site-packages/torch/nn/modules/module.py?line=1496'>1497</a>\u001b[0m     \u001b[39mraise\u001b[39;00m \u001b[39mRuntimeError\u001b[39;00m(\u001b[39m'\u001b[39m\u001b[39mError(s) in loading state_dict for \u001b[39m\u001b[39m{}\u001b[39;00m\u001b[39m:\u001b[39m\u001b[39m\\n\u001b[39;00m\u001b[39m\\t\u001b[39;00m\u001b[39m{}\u001b[39;00m\u001b[39m'\u001b[39m\u001b[39m.\u001b[39mformat(\n\u001b[1;32m   <a href='file:///Users/oliverdaniels-koch/miniforge3/envs/lifelong_disrep/lib/python3.9/site-packages/torch/nn/modules/module.py?line=1497'>1498</a>\u001b[0m                        \u001b[39mself\u001b[39m\u001b[39m.\u001b[39m\u001b[39m__class__\u001b[39m\u001b[39m.\u001b[39m\u001b[39m__name__\u001b[39m, \u001b[39m\"\u001b[39m\u001b[39m\\n\u001b[39;00m\u001b[39m\\t\u001b[39;00m\u001b[39m\"\u001b[39m\u001b[39m.\u001b[39mjoin(error_msgs)))\n\u001b[1;32m   <a href='file:///Users/oliverdaniels-koch/miniforge3/envs/lifelong_disrep/lib/python3.9/site-packages/torch/nn/modules/module.py?line=1498'>1499</a>\u001b[0m \u001b[39mreturn\u001b[39;00m _IncompatibleKeys(missing_keys, unexpected_keys)\n",
      "\u001b[0;31mRuntimeError\u001b[0m: Error(s) in loading state_dict for LatentMaskVAE:\n\tMissing key(s) in state_dict: \"encoder.conv1.weight\", \"encoder.conv1.bias\", \"encoder.conv2.weight\", \"encoder.conv2.bias\", \"encoder.conv3.weight\", \"encoder.conv3.bias\", \"encoder.conv4.weight\", \"encoder.conv4.bias\", \"encoder.linear.weight\", \"encoder.linear.bias\", \"decoder.conv4.weight\", \"decoder.conv4.bias\", \"decoder.conv3.weight\", \"decoder.conv3.bias\", \"decoder.conv2.weight\", \"decoder.conv2.bias\", \"decoder.conv1.weight\", \"decoder.conv1.bias\". \n\tUnexpected key(s) in state_dict: \"encoder.linear1.weight\", \"encoder.linear1.bias\". \n\tsize mismatch for encoder.linear_mu.weight: copying a param with shape torch.Size([8, 50]) from checkpoint, the shape in current model is torch.Size([8, 256]).\n\tsize mismatch for encoder.linear_logvar.weight: copying a param with shape torch.Size([8, 50]) from checkpoint, the shape in current model is torch.Size([8, 256]).\n\tsize mismatch for decoder.linear2.weight: copying a param with shape torch.Size([784, 50]) from checkpoint, the shape in current model is torch.Size([256, 8]).\n\tsize mismatch for decoder.linear2.bias: copying a param with shape torch.Size([784]) from checkpoint, the shape in current model is torch.Size([256]).\n\tsize mismatch for decoder.linear1.weight: copying a param with shape torch.Size([50, 8]) from checkpoint, the shape in current model is torch.Size([2048, 256]).\n\tsize mismatch for decoder.linear1.bias: copying a param with shape torch.Size([50]) from checkpoint, the shape in current model is torch.Size([2048])."
     ]
    }
   ],
   "source": [
    "if train:\n",
    "    torch.save(masked_vae.state_dict(), os.path.join(save_dir, \"final\"))\n",
    "    state_dict = torch.load(os.path.join(save_dir, \"final\"), map_location=torch.device(device))\n",
    "else:\n",
    "    state_dict = torch.load(os.path.join(PARAM_PATH+\"/latent_mask_mnist04_27_22_12_17_50\", \"step_27500\"), map_location=torch.device(device))\n",
    "\n",
    "\n",
    "masked_vae.load_state_dict(state_dict=state_dict)\n",
    "masked_vae.eval()"
   ]
  },
  {
   "cell_type": "code",
   "execution_count": null,
   "metadata": {},
   "outputs": [],
   "source": [
    "with torch.no_grad():\n",
    "    rec_img, _mu, _logvar = masked_vae(fashion_batch)"
   ]
  },
  {
   "cell_type": "code",
   "execution_count": null,
   "metadata": {},
   "outputs": [
    {
     "data": {
      "text/plain": [
       "<matplotlib.image.AxesImage at 0x14f858880>"
      ]
     },
     "execution_count": null,
     "metadata": {},
     "output_type": "execute_result"
    },
    {
     "data": {
      "image/png": "[encoded data removed]",
      "text/plain": [
       "<Figure size 432x288 with 1 Axes>"
      ]
     },
     "metadata": {
      "needs_background": "light"
     },
     "output_type": "display_data"
    }
   ],
   "source": [
    "plt.imshow(fashion_batch[0].detach().numpy().squeeze())"
   ]
  },
  {
   "cell_type": "code",
   "execution_count": null,
   "metadata": {},
   "outputs": [
    {
     "data": {
      "text/plain": [
       "<matplotlib.image.AxesImage at 0x11fa72790>"
      ]
     },
     "execution_count": null,
     "metadata": {},
     "output_type": "execute_result"
    },
    {
     "data": {
      "image/png": "[encoded data removed]",
      "text/plain": [
       "<Figure size 432x288 with 1 Axes>"
      ]
     },
     "metadata": {
      "needs_background": "light"
     },
     "output_type": "display_data"
    }
   ],
   "source": [
    "plt.imshow(rec_img[0].detach().numpy().squeeze())"
   ]
  },
  {
   "cell_type": "markdown",
   "metadata": {},
   "source": [
    "## Environmental Inference"
   ]
  },
  {
   "cell_type": "code",
   "execution_count": null,
   "metadata": {},
   "outputs": [],
   "source": [
    "#NOTE: I think the reconstruction loss stuff has bugs, (or I should run it for more iterations, or there's a thing where anomolus rec loss gets put in different env, and then the next env adopts that as its env, which is just a flaw in the system or something)"
   ]
  },
  {
   "cell_type": "code",
   "execution_count": null,
   "metadata": {},
   "outputs": [],
   "source": [
    "device = torch.device('cuda:0' if torch.cuda.is_available() else 'cpu')"
   ]
  },
  {
   "cell_type": "code",
   "execution_count": null,
   "metadata": {},
   "outputs": [],
   "source": [
    "small_fashion = CommonFashionMNIST(DATA_PATH, transform=ToTensor())\n",
    "sf_loader = DataLoader(small_fashion, batch_size=batch_size, shuffle=True)"
   ]
  },
  {
   "cell_type": "code",
   "execution_count": null,
   "metadata": {},
   "outputs": [],
   "source": [
    "lam=1\n",
    "kappa=1.1\n",
    "gamma=10\n",
    "lr=6e-4\n",
    "latents=8\n",
    "max_envs = 7\n",
    "C=0\n",
    "epochs = 10 #30 for movign fashion, 20 for mnist (change to 64x64), 30 for moving mnist\n",
    "model_save_steps = 2500 #save model after this many \"training steps\"? (batchs, ~once every 2.5 epochs\n",
    "exp_name = 'env_infer_small'\n",
    "steps_per_save = 2500"
   ]
  },
  {
   "cell_type": "code",
   "execution_count": null,
   "metadata": {},
   "outputs": [],
   "source": [
    "save_dir = os.path.join(PARAM_PATH, exp_name + dt.now().strftime('%m_%d_%y_%H_%M_%S'))\n",
    "os.mkdir(save_dir)"
   ]
  },
  {
   "cell_type": "code",
   "execution_count": null,
   "metadata": {},
   "outputs": [],
   "source": [
    "envinfer_vae = EnvInferVAE(encoder=FCEncoder, decoder=FCDecoder, latents=latents, max_envs=max_envs, lam=lam, kappa=kappa, device=device) #VanillaVAE(latents=latents)\n",
    "envinfer_vae.to(device)\n",
    "optimizer = torch.optim.Adam(params = envinfer_vae.parameters(), lr=lr)"
   ]
  },
  {
   "cell_type": "code",
   "execution_count": null,
   "metadata": {},
   "outputs": [
    {
     "name": "stdout",
     "output_type": "stream",
     "text": [
      "New environment: latent masks did not match\n",
      "New environment: latent masks did not match\n",
      "New environment: latent masks did not match\n",
      "epoch: 0, loss=3588.542236328125, rec_loss=3424.2890625, total_div_loss=164.25534057617188, last_env=0\n",
      "epoch: 1, loss=2936.15771484375, rec_loss=2796.917724609375, total_div_loss=139.2418975830078, last_env=0\n",
      "epoch: 2, loss=2873.522216796875, rec_loss=2643.54345703125, total_div_loss=229.976806640625, last_env=0\n",
      "epoch: 3, loss=2840.53662109375, rec_loss=2563.4560546875, total_div_loss=277.07952880859375, last_env=0\n",
      "epoch: 4, loss=2814.486083984375, rec_loss=2494.1923828125, total_div_loss=320.2911071777344, last_env=0\n",
      "epoch: 5, loss=2795.65576171875, rec_loss=2451.056640625, total_div_loss=344.597900390625, last_env=0\n",
      "epoch: 6, loss=2780.4765625, rec_loss=2413.179443359375, total_div_loss=367.29986572265625, last_env=0\n",
      "epoch: 7, loss=2768.704833984375, rec_loss=2383.8115234375, total_div_loss=384.89215087890625, last_env=0\n",
      "epoch: 8, loss=2760.22216796875, rec_loss=2361.567138671875, total_div_loss=398.6561584472656, last_env=0\n",
      "epoch: 9, loss=2752.775146484375, rec_loss=2345.38525390625, total_div_loss=407.3896179199219, last_env=0\n"
     ]
    }
   ],
   "source": [
    "steps = 0\n",
    "for epoch in range(epochs):\n",
    "    total_loss = 0\n",
    "    total_rec_loss = 0\n",
    "    total_div_loss = 0\n",
    "    for X, _y in mnist_loader:\n",
    "        X = X.to(device)\n",
    "        optimizer.zero_grad()\n",
    "\n",
    "        rec_X, mu, logvar, env_idx = envinfer_vae(X)\n",
    "\n",
    "        rec_loss = reconstruction_loss(X, rec_X)\n",
    "        kl_loss = kl_div_target(mu, logvar, C=C, gamma=gamma)\n",
    "        loss = rec_loss + kl_loss\n",
    "\n",
    "        loss.backward()\n",
    "        optimizer.step()\n",
    "        total_loss += loss\n",
    "        total_rec_loss += rec_loss\n",
    "        total_div_loss += kl_loss\n",
    "        \n",
    "        #save model for training regression and classification \n",
    "        if steps % steps_per_save == 0:\n",
    "            torch.save(envinfer_vae.state_dict(), os.path.join(save_dir, f\"mnist_step_{steps}\"))\n",
    "\n",
    "        steps += 1\n",
    "    print(f\"epoch: {epoch}, loss={total_loss/batch_size}, rec_loss={total_rec_loss/batch_size}, total_div_loss={total_div_loss/batch_size}, last_env={env_idx}\")"
   ]
  },
  {
   "cell_type": "code",
   "execution_count": null,
   "metadata": {},
   "outputs": [
    {
     "name": "stdout",
     "output_type": "stream",
     "text": [
      "New environment: anomolous reconstruction loss\n",
      "New environment: anomolous reconstruction loss\n",
      "New environment: anomolous reconstruction loss\n",
      "epoch: 0, loss=4964.10205078125, rec_loss=4501.3896484375, total_div_loss=462.7048645019531, last_env=3\n",
      "epoch: 1, loss=4610.162109375, rec_loss=4105.09326171875, total_div_loss=505.06591796875, last_env=3\n",
      "epoch: 2, loss=4544.74658203125, rec_loss=4018.630126953125, total_div_loss=526.1143188476562, last_env=3\n",
      "epoch: 3, loss=4504.08349609375, rec_loss=3969.3681640625, total_div_loss=534.719482421875, last_env=3\n",
      "epoch: 4, loss=4470.89453125, rec_loss=3938.52880859375, total_div_loss=532.36572265625, last_env=3\n",
      "epoch: 5, loss=4454.14990234375, rec_loss=3920.208740234375, total_div_loss=533.9367065429688, last_env=3\n",
      "epoch: 6, loss=4446.0791015625, rec_loss=3908.45263671875, total_div_loss=537.6279907226562, last_env=3\n",
      "epoch: 7, loss=4437.43896484375, rec_loss=3899.728271484375, total_div_loss=537.7083129882812, last_env=3\n",
      "epoch: 8, loss=4431.41943359375, rec_loss=3893.267333984375, total_div_loss=538.1504516601562, last_env=3\n",
      "epoch: 9, loss=4428.28466796875, rec_loss=3888.008056640625, total_div_loss=540.2764282226562, last_env=3\n"
     ]
    }
   ],
   "source": [
    "steps = 0\n",
    "for epoch in range(epochs):\n",
    "    total_loss = 0\n",
    "    total_rec_loss = 0\n",
    "    total_div_loss = 0\n",
    "    for X, _y in sf_loader:\n",
    "        X = X.to(device)\n",
    "        optimizer.zero_grad()\n",
    "\n",
    "        rec_X, mu, logvar, env_idx = envinfer_vae(X)\n",
    "\n",
    "        rec_loss = reconstruction_loss(X, rec_X)\n",
    "        kl_loss = kl_div_target(mu, logvar, C=C, gamma=gamma)\n",
    "        loss = rec_loss + kl_loss\n",
    "\n",
    "        loss.backward()\n",
    "        optimizer.step()\n",
    "        total_loss += loss\n",
    "        total_rec_loss += rec_loss\n",
    "        total_div_loss += kl_loss\n",
    "        \n",
    "        #save model for training regression and classification \n",
    "        if steps % steps_per_save == 0:\n",
    "            torch.save(masked_vae.state_dict(), os.path.join(save_dir, f\"fashion_step_{steps}\"))\n",
    "\n",
    "        steps += 1\n",
    "    print(f\"epoch: {epoch}, loss={total_loss/batch_size}, rec_loss={total_rec_loss/batch_size}, total_div_loss={total_div_loss/batch_size}, last_env={env_idx}\")"
   ]
  },
  {
   "cell_type": "code",
   "execution_count": null,
   "metadata": {},
   "outputs": [
    {
     "data": {
      "text/plain": [
       "[tensor([True, True, True, True, True, True, True, True]),\n",
       " tensor([ True,  True,  True,  True, False,  True,  True,  True]),\n",
       " tensor([ True,  True,  True,  True,  True,  True,  True, False]),\n",
       " tensor([ True,  True,  True,  True,  True, False,  True,  True]),\n",
       " tensor([True, True, True, True, True, True, True, True]),\n",
       " tensor([True, True, True, True, True, True, True, True]),\n",
       " tensor([True, True, True, True, True, True, True, True])]"
      ]
     },
     "execution_count": null,
     "metadata": {},
     "output_type": "execute_result"
    }
   ],
   "source": [
    "envinfer_vae.latent_masks"
   ]
  },
  {
   "cell_type": "code",
   "execution_count": null,
   "metadata": {},
   "outputs": [],
   "source": [
    "with torch.no_grad():\n",
    "    rec_img, _mu, _logvar, _envidx = envinfer_vae(sf_batch)"
   ]
  },
  {
   "cell_type": "code",
   "execution_count": null,
   "metadata": {},
   "outputs": [
    {
     "data": {
      "text/plain": [
       "<matplotlib.image.AxesImage at 0x147feec70>"
      ]
     },
     "execution_count": null,
     "metadata": {},
     "output_type": "execute_result"
    },
    {
     "data": {
      "image/png": "[encoded data removed]",
      "text/plain": [
       "<Figure size 432x288 with 1 Axes>"
      ]
     },
     "metadata": {
      "needs_background": "light"
     },
     "output_type": "display_data"
    }
   ],
   "source": [
    "plt.imshow(sf_batch[0].to('cpu').detach().numpy().squeeze())"
   ]
  },
  {
   "cell_type": "code",
   "execution_count": null,
   "metadata": {},
   "outputs": [
    {
     "data": {
      "text/plain": [
       "<matplotlib.image.AxesImage at 0x15408eeb0>"
      ]
     },
     "execution_count": null,
     "metadata": {},
     "output_type": "execute_result"
    },
    {
     "data": {
      "image/png": "[encoded data removed]",
      "text/plain": [
       "<Figure size 432x288 with 1 Axes>"
      ]
     },
     "metadata": {
      "needs_background": "light"
     },
     "output_type": "display_data"
    }
   ],
   "source": [
    "plt.imshow(rec_img[0].to('cpu').detach().numpy().squeeze())"
   ]
  },
  {
   "cell_type": "code",
   "execution_count": null,
   "metadata": {},
   "outputs": [],
   "source": [
    "with torch.no_grad():\n",
    "    rec_img, _mu, _logvar, _envidx = envinfer_vae(mnist_batch)"
   ]
  },
  {
   "cell_type": "code",
   "execution_count": null,
   "metadata": {},
   "outputs": [
    {
     "data": {
      "text/plain": [
       "tensor(1)"
      ]
     },
     "execution_count": null,
     "metadata": {},
     "output_type": "execute_result"
    }
   ],
   "source": [
    "_envidx"
   ]
  },
  {
   "cell_type": "code",
   "execution_count": null,
   "metadata": {},
   "outputs": [
    {
     "data": {
      "text/plain": [
       "<matplotlib.image.AxesImage at 0x157874be0>"
      ]
     },
     "execution_count": null,
     "metadata": {},
     "output_type": "execute_result"
    },
    {
     "data": {
      "image/png": "[encoded data removed]",
      "text/plain": [
       "<Figure size 432x288 with 1 Axes>"
      ]
     },
     "metadata": {
      "needs_background": "light"
     },
     "output_type": "display_data"
    }
   ],
   "source": [
    "plt.imshow(mnist_batch[3].to('cpu').detach().numpy().squeeze())"
   ]
  },
  {
   "cell_type": "code",
   "execution_count": null,
   "metadata": {},
   "outputs": [
    {
     "data": {
      "text/plain": [
       "<matplotlib.image.AxesImage at 0x153cf7f10>"
      ]
     },
     "execution_count": null,
     "metadata": {},
     "output_type": "execute_result"
    },
    {
     "data": {
      "image/png": "[encoded data removed]",
      "text/plain": [
       "<Figure size 432x288 with 1 Axes>"
      ]
     },
     "metadata": {
      "needs_background": "light"
     },
     "output_type": "display_data"
    }
   ],
   "source": [
    "plt.imshow(rec_img[3].to('cpu').detach().numpy().squeeze())"
   ]
  },
  {
   "cell_type": "code",
   "execution_count": null,
   "metadata": {},
   "outputs": [],
   "source": [
    "#TODO: see what happens when you change the environment to 6, more fashion-y?"
   ]
  },
  {
   "cell_type": "code",
   "execution_count": null,
   "metadata": {},
   "outputs": [],
   "source": [
    "with torch.no_grad():\n",
    "    mu, _logvar, _final = envinfer_vae.encoder(mnist_batch)\n",
    "    env_idx = 5\n",
    "    env_one_hot = F.one_hot(torch.tensor(env_idx, dtype=torch.int64), num_classes=max_envs)\n",
    "    rec_img = envinfer_vae.decoder(mu, env_one_hot)"
   ]
  },
  {
   "cell_type": "code",
   "execution_count": null,
   "metadata": {},
   "outputs": [
    {
     "data": {
      "text/plain": [
       "<matplotlib.image.AxesImage at 0x156f98d00>"
      ]
     },
     "execution_count": null,
     "metadata": {},
     "output_type": "execute_result"
    },
    {
     "data": {
      "image/png": "[encoded data removed]",
      "text/plain": [
       "<Figure size 432x288 with 1 Axes>"
      ]
     },
     "metadata": {
      "needs_background": "light"
     },
     "output_type": "display_data"
    }
   ],
   "source": [
    "plt.imshow(mnist_batch[3].to('cpu').detach().numpy().squeeze())"
   ]
  },
  {
   "cell_type": "code",
   "execution_count": null,
   "metadata": {},
   "outputs": [
    {
     "data": {
      "text/plain": [
       "<matplotlib.image.AxesImage at 0x156ffbb20>"
      ]
     },
     "execution_count": null,
     "metadata": {},
     "output_type": "execute_result"
    },
    {
     "data": {
      "image/png": "[encoded data removed]",
      "text/plain": [
       "<Figure size 432x288 with 1 Axes>"
      ]
     },
     "metadata": {
      "needs_background": "light"
     },
     "output_type": "display_data"
    }
   ],
   "source": [
    "plt.imshow(rec_img[3].to('cpu').detach().numpy().squeeze())"
   ]
  },
  {
   "cell_type": "code",
   "execution_count": null,
   "metadata": {},
   "outputs": [],
   "source": [
    "#hyper params\n",
    "#optimizer\n",
    "#dataset\n",
    "#model\n",
    "#training loop"
   ]
  },
  {
   "cell_type": "markdown",
   "metadata": {},
   "source": [
    "## Generative Replay\n",
    "\n",
    "To prevent catastrophic forgetting, the paper uses generative replay, sampling from the previous verion of the model, and penalizing distances between the old and new latent representations and reconstructions of this sample.\n",
    "\n",
    "More formally, we have parameter snapshots $$\\phi_{old}, \\theta_{old}$$ from which we sample $x_{old} \\sim q_{\\theta_{old}}(\\cdot|z, s_{old})$, sampling $z$ from the prior. (I think without the latent mask because no s superscript - see generative process). With $x_{old}$, we compute the following loss:\n",
    "\n",
    "$$ \\mathcal{L}_{past}(\\phi, \\theta) = E_{z, s', x'}[D(q_{\\phi}(D[q_{\\phi}(z|x'), q_{\\phi}'(z'|x')] + D[q_{\\theta}(x|z,s'), q_{\\theta'}(x'|z, s')]))]$$\n",
    "\n",
    "Where the first D is the [Wasserstein distance](https://en.wikipedia.org/wiki/Wasserstein_metric) and the second in the [KL Divergence between two Bernoullis](https://math.stackexchange.com/questions/2604566/kl-divergence-between-two-multivariate-bernoulli-distribution)\n",
    "\n",
    "The parameters $\\phi_{old}, \\theta_{old}$ get synced with the current network every $\\tau$ steps, with $\\tau$ a hyper parameter"
   ]
  },
  {
   "cell_type": "markdown",
   "metadata": {},
   "source": [
    "### Encoder Proximity\n",
    "\n",
    "The first part of the loss function is the encoder proximity: \n",
    "$$E_{z, s', x'}[D(q_{\\phi}(D[q_{\\phi}(z|x'), q_{\\phi}'(z'|x')]]$$\n",
    "\n",
    "With D the Wasserstein distance. But what _is_ the Wassertein distance..\n",
    "\n",
    "[See here](https://dfdazac.github.io/sinkhorn.html) for explanation - but with diagonal gaussians, the Wassertein distance just reduces to the Euclidean distance:\n",
    "$$D(q_{\\phi}(D[q_{\\phi}(z|x'), q_{\\phi'}(z'|x')] = ||(q_{\\phi}(z|x') - q_{\\phi'}(z'|x'))||^2_2$$\n"
   ]
  },
  {
   "cell_type": "code",
   "execution_count": null,
   "metadata": {},
   "outputs": [],
   "source": [
    "#export\n",
    "def encoder_proximity(z, z_old):\n",
    "    return torch.mean(euclidean(z, z_old))"
   ]
  },
  {
   "cell_type": "code",
   "execution_count": null,
   "metadata": {},
   "outputs": [
    {
     "data": {
      "text/plain": [
       "True"
      ]
     },
     "execution_count": null,
     "metadata": {},
     "output_type": "execute_result"
    }
   ],
   "source": [
    "assert encoder_proximity(mu, mu).shape == torch.Size([])"
   ]
  },
  {
   "cell_type": "markdown",
   "metadata": {},
   "source": [
    "### Decoder Proximity \n",
    "\n",
    "$$D[q_{\\theta}(x|z,s'), q_{\\theta'}(x'|z, s')])$$ \n",
    "\n",
    "Here D is the KL Divergence between the reconstructions (which are HxW independant Bernoullis). Since $\\theta_{old}$ is fixed, this is equivalent to minimizing the cross entropy loss"
   ]
  },
  {
   "cell_type": "code",
   "execution_count": null,
   "metadata": {},
   "outputs": [],
   "source": [
    "#export\n",
    "def decoder_proximity(x, x_old):\n",
    "    return torch.mean(rec_likelihood(x, x_old))"
   ]
  },
  {
   "cell_type": "code",
   "execution_count": null,
   "metadata": {},
   "outputs": [],
   "source": [
    "assert decoder_proximity(mnist_batch, rec).shape == torch.Size([])"
   ]
  },
  {
   "cell_type": "markdown",
   "metadata": {},
   "source": [
    "### Generative Sampling"
   ]
  },
  {
   "cell_type": "code",
   "execution_count": null,
   "metadata": {},
   "outputs": [],
   "source": [
    "#TODO: move to models\n",
    "# export\n",
    "class GenReplayVAE(EnvInferVAE):\n",
    "    \n",
    "    def \n"
   ]
  },
  {
   "cell_type": "markdown",
   "metadata": {},
   "source": [
    "### Train"
   ]
  },
  {
   "cell_type": "code",
   "execution_count": null,
   "metadata": {},
   "outputs": [],
   "source": [
    "device = torch.device('cuda:0' if torch.cuda.is_available() else 'cpu')"
   ]
  },
  {
   "cell_type": "code",
   "execution_count": null,
   "metadata": {},
   "outputs": [],
   "source": [
    "lam=1\n",
    "kappa=1.1\n",
    "gamma=10\n",
    "lr=6e-4\n",
    "latents=8\n",
    "max_envs = 7\n",
    "C=0\n",
    "epochs = 10 #30 for movign fashion, 20 for mnist (change to 64x64), 30 for moving mnist\n",
    "model_save_steps = 2500 #save model after this many \"training steps\"? (batchs, ~once every 2.5 epochs\n",
    "exp_name = 'env_infer_small'\n",
    "steps_per_save = 2500"
   ]
  },
  {
   "cell_type": "code",
   "execution_count": null,
   "metadata": {},
   "outputs": [],
   "source": [
    "save_dir = os.path.join(PARAM_PATH, exp_name + dt.now().strftime('%m_%d_%y_%H_%M_%S'))\n",
    "os.mkdir(save_dir)"
   ]
  },
  {
   "cell_type": "code",
   "execution_count": null,
   "metadata": {},
   "outputs": [],
   "source": [
    "vae_cur = EnvInferVAE(encoder=FCEncoder, decoder=FCDecoder, latents=latents, max_envs=max_envs, lam=lam, kappa=kappa, device=device)\n",
    "vae_old = EnvInferVAE(encoder=FCEncoder, decoder=FCDecoder, latents=latents, max_envs=max_envs, lam=lam, kappa=kappa, device=device)\n",
    "vae_old.load_state_dict(vae_cur.state_dict())\n",
    "vae_cur.to(device)\n",
    "vae_old.to(device)\n",
    "optimizer = torch.optim.Adam(params = vae_cur.parameters(), lr=lr)"
   ]
  },
  {
   "cell_type": "code",
   "execution_count": null,
   "metadata": {},
   "outputs": [
    {
     "name": "stdout",
     "output_type": "stream",
     "text": [
      "New environment: latent masks did not match\n",
      "New environment: latent masks did not match\n",
      "New environment: latent masks did not match\n",
      "epoch: 0, loss=3588.542236328125, rec_loss=3424.2890625, total_div_loss=164.25534057617188, last_env=0\n",
      "epoch: 1, loss=2936.15771484375, rec_loss=2796.917724609375, total_div_loss=139.2418975830078, last_env=0\n",
      "epoch: 2, loss=2873.522216796875, rec_loss=2643.54345703125, total_div_loss=229.976806640625, last_env=0\n",
      "epoch: 3, loss=2840.53662109375, rec_loss=2563.4560546875, total_div_loss=277.07952880859375, last_env=0\n",
      "epoch: 4, loss=2814.486083984375, rec_loss=2494.1923828125, total_div_loss=320.2911071777344, last_env=0\n",
      "epoch: 5, loss=2795.65576171875, rec_loss=2451.056640625, total_div_loss=344.597900390625, last_env=0\n",
      "epoch: 6, loss=2780.4765625, rec_loss=2413.179443359375, total_div_loss=367.29986572265625, last_env=0\n",
      "epoch: 7, loss=2768.704833984375, rec_loss=2383.8115234375, total_div_loss=384.89215087890625, last_env=0\n",
      "epoch: 8, loss=2760.22216796875, rec_loss=2361.567138671875, total_div_loss=398.6561584472656, last_env=0\n",
      "epoch: 9, loss=2752.775146484375, rec_loss=2345.38525390625, total_div_loss=407.3896179199219, last_env=0\n"
     ]
    }
   ],
   "source": [
    "steps = 0\n",
    "for epoch in range(epochs):\n",
    "    total_loss = 0\n",
    "    total_rec_loss = 0\n",
    "    total_div_loss = 0\n",
    "    for X, _y in mnist_loader:\n",
    "        X = X.to(device)\n",
    "        optimizer.zero_grad()\n",
    "\n",
    "        #forward pass on current batch\n",
    "        rec_X, mu, logvar, env_idx = vae_cur(X)\n",
    "        \n",
    "\n",
    "        rec_loss = reconstruction_loss(X, rec_X)\n",
    "        kl_loss = kl_div_target(mu, logvar, C=C, gamma=gamma)\n",
    "        loss = rec_loss + kl_loss\n",
    "\n",
    "        loss.backward()\n",
    "        optimizer.step()\n",
    "        total_loss += loss\n",
    "        total_rec_loss += rec_loss\n",
    "        total_div_loss += kl_loss\n",
    "        \n",
    "        #save model for training regression and classification \n",
    "        if steps % steps_per_save == 0:\n",
    "            torch.save(envinfer_vae.state_dict(), os.path.join(save_dir, f\"mnist_step_{steps}\"))\n",
    "\n",
    "        steps += 1\n",
    "    print(f\"epoch: {epoch}, loss={total_loss/batch_size}, rec_loss={total_rec_loss/batch_size}, total_div_loss={total_div_loss/batch_size}, last_env={env_idx}\")"
   ]
  },
  {
   "cell_type": "code",
   "execution_count": null,
   "metadata": {},
   "outputs": [],
   "source": [
    "#train function:\n",
    "    # forward pass\n",
    "    #compute loss\n",
    "    #sample batch from old vae\n",
    "        #sample from prior (z ~ N(O,1), s ~ unif[0,m]) to generate images \n",
    "        #forward pass on generated images from old network\n",
    "        #forward pass on generated images from new network\n",
    "        #compute encoder and decoder proximity losses \n",
    "    #if step % tau == 0:\n",
    "        #update old parametesr to current parameters\n",
    "        #"
   ]
  },
  {
   "cell_type": "markdown",
   "metadata": {},
   "source": [
    "## Classification and Regression"
   ]
  }
 ],
 "metadata": {
  "kernelspec": {
   "display_name": "Python 3.9.10 ('lifelong_disrep')",
   "language": "python",
   "name": "python3"
  }
 },
 "nbformat": 4,
 "nbformat_minor": 2
}
