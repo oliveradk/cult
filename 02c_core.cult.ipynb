{
 "cells": [
  {
   "cell_type": "code",
   "execution_count": null,
   "metadata": {},
   "outputs": [],
   "source": [
    "#default_exp core.cult"
   ]
  },
  {
   "cell_type": "code",
   "execution_count": null,
   "metadata": {},
   "outputs": [],
   "source": [
    "#export\n",
    "import torch\n",
    "from torch import nn\n",
    "from torch.utils.tensorboard import SummaryWriter\n",
    "from cmaes import CMA\n",
    "import os\n",
    "import numpy as np\n",
    "import copy\n",
    "\n",
    "from cult.core.models import FCEncoder, FCDecoder, CNNEncoder, CNNDecoder, EnvironmentInference\n",
    "from cult.core.utils import rec_likelihood, disable_gradient, kl_div_stdnorm, euclidean, show_batch, save_model, load_model\n",
    "from cult.config import DATA_PATH, LOG_PATH, PARAM_PATH"
   ]
  },
  {
   "cell_type": "code",
   "execution_count": null,
   "metadata": {},
   "outputs": [],
   "source": [
    "#hide\n",
    "from cult.core.datasets.moving_mnist import CommonMNIST, CommonFashionMNIST, MovingMNIST, MovingFashionMNIST, FixedMNIST\n",
    "from torchvision.transforms import ToTensor\n",
    "from torch.utils.data import DataLoader\n",
    "import matplotlib.pyplot as plt\n",
    "import datetime as dt\n",
    "from tqdm import tqdm"
   ]
  },
  {
   "cell_type": "code",
   "execution_count": null,
   "metadata": {},
   "outputs": [],
   "source": [
    "batch_size = 64"
   ]
  },
  {
   "cell_type": "code",
   "execution_count": null,
   "metadata": {},
   "outputs": [],
   "source": [
    "#hide\n",
    "mnist_data = CommonMNIST(DATA_PATH, transform=ToTensor(), download=True)\n",
    "mnist_loader = DataLoader(mnist_data, batch_size=batch_size, shuffle=True)\n",
    "mnist_batch, _ = iter(mnist_loader).next()\n",
    "small_fashion = CommonFashionMNIST(DATA_PATH, transform=ToTensor())\n",
    "sf_loader = DataLoader(small_fashion, batch_size=batch_size, shuffle=True)\n",
    "sf_batch, _ = iter(sf_loader).next()\n",
    "fashion_data = MovingFashionMNIST(DATA_PATH, transform=ToTensor(), download=True)\n",
    "fashion_loader = DataLoader(fashion_data, batch_size, shuffle=True)\n",
    "fashion_batch, _, _ = iter(fashion_loader).next()\n",
    "mm_data = MovingMNIST(DATA_PATH, transform=ToTensor(), download=True)\n",
    "mm_loader = DataLoader(mm_data, batch_size, shuffle=True)\n",
    "mm_batch, _, _ = iter(mm_loader).next()\n",
    "\n",
    "mnist_test = CommonMNIST(DATA_PATH, transform=ToTensor(), train=False, download=True)\n",
    "mnist_test_loader =  DataLoader(mnist_test, batch_size=batch_size, shuffle=True)\n",
    "\n",
    "fashion_test = CommonFashionMNIST(DATA_PATH, transform=ToTensor(), train=False, download=True)\n",
    "fashion_test_loader = DataLoader(fashion_test, batch_size=batch_size, shuffle=True)\n"
   ]
  },
  {
   "cell_type": "markdown",
   "metadata": {},
   "source": [
    "# Continually Learning Variational Autoencoder\n",
    "> Performs unsupervised continual representation learning with generative replay and environment likelihood detection\n",
    "\n",
    "Notes: assumes sequential tasks - \"local stationarity\" i.e. will stay on distribution long enough to learn it"
   ]
  },
  {
   "cell_type": "code",
   "execution_count": null,
   "metadata": {},
   "outputs": [],
   "source": [
    "#export\n",
    "class CULT(nn.Module):\n",
    "    def __init__(self, \n",
    "        encoder_type: type,\n",
    "        decoder_type: type,\n",
    "        final_size: int, \n",
    "        latents: int,\n",
    "        max_envs: int,\n",
    "        atyp_min: float,\n",
    "        atyp_max: float,\n",
    "        env_optim: type,\n",
    "        env_lr: float,\n",
    "        env_epochs: int,\n",
    "        replay_batch_size: int,\n",
    "        device: str,\n",
    "    ):\n",
    "        super().__init__()\n",
    "        self.latents = latents\n",
    "        self.max_envs = max_envs\n",
    "        self.final_size = final_size\n",
    "        self.atyp_min = atyp_min\n",
    "        self.atyp_max = atyp_max\n",
    "        self.device = device\n",
    "        self.encoder = encoder_type(self.latents, device=self.device)\n",
    "        self.decoder = decoder_type(self.latents, self.max_envs, device=self.device)\n",
    "        self.old_encoder = encoder_type(self.latents, device=self.device)\n",
    "        self.old_decoder = decoder_type(self.latents, self.max_envs, device=self.device)\n",
    "        self.copy_and_freeze()\n",
    "        self.encoder.to(self.device), self.decoder.to(self.device), self.old_encoder.to(self.device), self.old_decoder.to(self.device)\n",
    "        self.replay_batch_size = replay_batch_size\n",
    "        self.env_net = EnvironmentInference(self.max_envs, self.final_size)\n",
    "        self.env_net.to(self.device)\n",
    "        self.env_optim = env_optim(params=self.env_net.parameters(), lr=env_lr)\n",
    "        self.env_loss = nn.CrossEntropyLoss()\n",
    "        self.env_epochs = env_epochs\n",
    "       \n",
    "        self.m = -1\n",
    "        self.steps = 0\n",
    "        self.learning = False\n",
    "\n",
    "    def forward(self, x):\n",
    "        batch_size = x.shape[0]\n",
    "        self.steps += 1\n",
    "\n",
    "        x_halu, s_halu = self.sample_old()\n",
    "        \n",
    "        mu, logvar, final = self.encoder(x)\n",
    "\n",
    "        if not self.training:\n",
    "            z = mu \n",
    "            s = torch.argmax(self.env_net(final)[:, 0:self.m+1], dim=1)\n",
    "            rec_x = self.decoder(z, self.int_to_vec(s, batch_size))\n",
    "            atyp = self.get_atyp(z)\n",
    "            mu_halu_old, logvar_halu_old, final_halu_old = self.old_encoder(x_halu)\n",
    "            mu_halu, logvar_halu, final_halu = self.encoder(x_halu)\n",
    "            rec_x_halo = self.decoder(mu_halu, s_halu)\n",
    "            return rec_x, mu, logvar, x_halu, rec_x_halo, mu_halu_old, mu_halu, s_halu, atyp\n",
    "        \n",
    "        s = self.m if self.m != -1 else 0\n",
    "        z = self.reparam(mu, logvar)\n",
    "        rec_x = self.decoder(z, self.int_to_vec(s, batch_size))\n",
    "\n",
    "        atyp = self.get_atyp(z)\n",
    "\n",
    "        if self.m == -1:\n",
    "            if atyp > self.atyp_max:\n",
    "                self.m = 0\n",
    "                self.learning = True\n",
    "        \n",
    "        elif self.learning:\n",
    "            if atyp < self.atyp_min:\n",
    "                self.learning = False\n",
    "        \n",
    "        elif atyp > self.atyp_max:\n",
    "            self.learning = True\n",
    "            self.m += 1\n",
    "            if self.m > self.max_envs:\n",
    "                print(\"Warning: too many environments\")\n",
    "            self.copy_and_freeze()\n",
    "        \n",
    "        \n",
    "        with torch.no_grad():\n",
    "            mu_halu_old, logvar_halu_old, final_halu_old = self.old_encoder(x_halu)\n",
    "            z_halu_old = self.reparam(mu_halu_old, logvar_halu_old)\n",
    "        \n",
    "        mu_halu, logvar_halu, final_halu = self.encoder(x_halu)\n",
    "        z_halu = self.reparam(mu_halu, logvar_halu)\n",
    "        rec_x_halo = self.decoder(z_halu, s_halu)\n",
    "\n",
    "        if self.training:\n",
    "            self.train_env_network(final, s, final_halu_old, s_halu)\n",
    "\n",
    "        return rec_x, mu, logvar, x_halu, rec_x_halo, z_halu_old, z_halu, s_halu, atyp\n",
    "\n",
    "    def get_likely_env(self, final):\n",
    "        env_logits = self.env_net(final)\n",
    "        avg_env_logits = torch.mean(env_logits, dim=0)\n",
    "        valid_logits = avg_env_logits[0:self.m+1]\n",
    "        return torch.argmax(valid_logits), env_logits\n",
    "    \n",
    "    def get_atyp(self, z):\n",
    "        with torch.no_grad():\n",
    "            std, mean = torch.std_mean(z, dim=0)\n",
    "            std = std[:,None]\n",
    "            mean = mean[:, None]\n",
    "            logvar = torch.log(std.pow(2))\n",
    "            atyps = kl_div_stdnorm(mean, logvar)\n",
    "        return torch.sum(atyps)\n",
    "    \n",
    "    def reparam(self, mu, logvar):\n",
    "        eps = torch.randn(logvar.shape).to(self.device)\n",
    "        std = (0.5 * logvar).exp()\n",
    "        return mu + std * eps\n",
    "    \n",
    "    def int_to_vec(self, i, size):\n",
    "        return torch.ones([size], dtype=torch.int64).to(self.device) * i\n",
    "    \n",
    "    def copy_model(self, old_model, cur_model):\n",
    "        old_model.load_state_dict(cur_model.state_dict())\n",
    "    \n",
    "    def freeze_model(self, model):\n",
    "        disable_gradient(model)\n",
    "    \n",
    "    def copy_and_freeze(self):\n",
    "        self.copy_model(self.old_encoder, self.encoder)\n",
    "        self.freeze_model(self.old_encoder)\n",
    "        self.copy_model(self.old_decoder, self.decoder)\n",
    "        self.freeze_model(self.old_decoder)\n",
    "    \n",
    "    def train_env_network(self, final, s, final_halu_old, s_halu):\n",
    "        env_logits = self.env_net(final)\n",
    "        final_halu_old = final_halu_old[s != s_halu]\n",
    "        s_halu = s_halu[s != s_halu]\n",
    "        self.env_optim.zero_grad()\n",
    "        cur_loss = self.env_loss(env_logits, self.int_to_vec(s, env_logits.shape[0])) #don't know if dims work here\n",
    "        if len(s_halu) > 0:\n",
    "            env_logits_halu = self.env_net(final_halu_old)\n",
    "            replay_loss = self.env_loss(env_logits_halu, s_halu)\n",
    "        else: \n",
    "            replay_loss = 0\n",
    "        loss = cur_loss + replay_loss\n",
    "        loss.backward(retain_graph=True)\n",
    "        self.env_optim.step()\n",
    "    \n",
    "    def sample_old(self):\n",
    "        max_env = self.m+1 if self.m != -1 else 1\n",
    "        s = torch.randint(0, max_env, (self.replay_batch_size,)).to(self.device)\n",
    "        z = torch.randn([self.replay_batch_size, self.latents]).to(self.device)\n",
    "        with torch.no_grad():\n",
    "            halu_x = self.old_decoder(z, s)\n",
    "        return halu_x, s"
   ]
  },
  {
   "cell_type": "code",
   "execution_count": null,
   "metadata": {},
   "outputs": [],
   "source": [
    "#export\n",
    "class LatentClassifier(nn.Module):\n",
    "    def __init__(self, latents, hidden_size, n_classes):\n",
    "        super().__init__()\n",
    "        self.linear1 = nn.Linear(latents, hidden_size)\n",
    "        self.linear2 = nn.Linear(hidden_size, n_classes)\n",
    "        self.relu = nn.ReLU()\n",
    "    \n",
    "    def forward(self, x):\n",
    "        x = self.relu(self.linear1(x))\n",
    "        logits = self.linear2(x)\n",
    "        return logits"
   ]
  },
  {
   "cell_type": "code",
   "execution_count": null,
   "metadata": {},
   "outputs": [],
   "source": [
    "#export\n",
    "class CULTTrainer():\n",
    "    def __init__(self,\n",
    "        name: str,\n",
    "        optim_type: type,\n",
    "        lr: float,\n",
    "        kl_scale: float, \n",
    "        e_prox_scale: float,\n",
    "        d_prox_scale: float,\n",
    "        encoder_type: type, \n",
    "        decoder_type: type, \n",
    "        final_size: int, \n",
    "        latents: int, \n",
    "        max_envs: int, \n",
    "        atyp_min: float, \n",
    "        atyp_max: float, \n",
    "        env_optim: type, \n",
    "        env_lr: float, \n",
    "        env_epochs: int, \n",
    "        replay_batch_size: int,\n",
    "        steps_per_save: int, \n",
    "        device: str\n",
    "    ):\n",
    "        self.name = name\n",
    "        self.device = device\n",
    "        self.model = CULT(encoder_type, decoder_type, final_size, latents, max_envs, atyp_min, atyp_max, env_optim, env_lr, env_epochs, replay_batch_size, device)\n",
    "        self.snap_model = CULT(encoder_type, decoder_type, final_size, latents, max_envs, atyp_min, atyp_max, env_optim, env_lr, env_epochs, replay_batch_size, device)\n",
    "        #TODO: add toggle for step based gen model update\n",
    "        self.optimizer = optim_type(params=self.model.parameters(), lr=lr)\n",
    "        self.kl_scale = kl_scale\n",
    "        self.e_prox_scale = e_prox_scale\n",
    "        self.d_prox_scale = d_prox_scale\n",
    "        self.steps_per_save = steps_per_save\n",
    "        self.writer = SummaryWriter(os.path.join(LOG_PATH, name))\n",
    "        self.param_dir = os.path.join(PARAM_PATH, name)\n",
    "        if not os.path.isdir(self.param_dir):\n",
    "            os.mkdir(self.param_dir)\n",
    "    \n",
    "    def train(self, loader, epochs, verbose=True):\n",
    "        for epoch in range(epochs):\n",
    "            total_loss = 0\n",
    "            total_rec_loss = 0\n",
    "            total_div_loss = 0\n",
    "            for contents in loader:\n",
    "                X = contents[0]\n",
    "                X = X.to(self.device)\n",
    "                self.optimizer.zero_grad()\n",
    "\n",
    "                rec_x, mu, logvar, x_halu, rec_x_halo, z_halu_old, z_halu, s_halu, atyp = self.model(X)\n",
    "\n",
    "                rec_loss = torch.mean(rec_likelihood(X, rec_x))\n",
    "                kl_loss = self.kl_scale * torch.mean(torch.square(kl_div_stdnorm(mu, logvar))) #NOTE: should I square this?\n",
    "                mdl_loss = rec_loss + kl_loss\n",
    "\n",
    "                e_prox_loss = self.e_prox_scale * torch.mean(euclidean(z_halu, z_halu_old))\n",
    "                d_prox_loss = self.d_prox_scale * torch.mean(rec_likelihood(x_halu, rec_x_halo)) #NOTE: not sure if this order is correct\n",
    "                \n",
    "                dream_loss = e_prox_loss + d_prox_loss\n",
    "\n",
    "                loss = mdl_loss + dream_loss\n",
    "\n",
    "                loss.backward(retain_graph=True)\n",
    "                self.optimizer.step()\n",
    "\n",
    "                if self.model.steps % self.steps_per_save == 0:\n",
    "                    save_model(self.model, os.path.join(self.param_dir, f\"step_{self.model.steps}\"))\n",
    "                \n",
    "                self.writer.add_scalar(\"train/loss\", loss, self.model.steps)\n",
    "                self.writer.add_scalar(\"train/rec_loss\", rec_loss, self.model.steps)\n",
    "                self.writer.add_scalar(\"train/kl_loss\", kl_loss, self.model.steps)\n",
    "                self.writer.add_scalar(\"train/e_prox_loss\", e_prox_loss, self.model.steps)\n",
    "                self.writer.add_scalar(\"train/d_prox_loss\", d_prox_loss, self.model.steps)\n",
    "                self.writer.add_scalar(\"train/num_envs\", self.model.m+1, self.model.steps)\n",
    "                self.writer.add_scalar(\"train/atypicality\", atyp, self.model.steps)\n",
    "                total_loss += loss\n",
    "                total_rec_loss += rec_loss\n",
    "                total_div_loss += kl_loss\n",
    "            if verbose:\n",
    "                print(f\"epoch: {epoch}, loss={total_loss/batch_size}, rec_loss={total_rec_loss/batch_size}, total_div_loss={total_div_loss/batch_size}\")\n",
    "    \n",
    "    \n",
    "    def train_latent_classifiers(self, train_loaders, test_loaders, names, n_classes_list, epochs=10, hidden_size=50, lr=1e-3, verbose=True): #TODO: allow for simultaneous training on n datasets\n",
    "        for param_path in tqdm(sorted(os.listdir(self.param_dir), key=lambda name: int(name.split(\"_\")[1]))):\n",
    "            load_model(self.snap_model, os.path.join(self.param_dir, param_path))\n",
    "            steps = int(param_path.split(\"_\")[1])\n",
    "            n_classifiers = len(train_loaders)\n",
    "            for i in range(n_classifiers):\n",
    "                acc = self.train_latent_classifier(train_loaders[i], test_loaders[i], epochs, n_classes_list[i], hidden_size, lr=lr, verbose=verbose)\n",
    "                self.writer.add_scalar(f\"classifiers/{names[i]}\", acc, steps)\n",
    "    \n",
    "\n",
    "    def train_latent_classifier(self, train_loader, test_loader, epochs, n_classes=10, hidden_size=50, lr=1e-3, verbose=True):\n",
    "        self.snap_model.eval()\n",
    "        classifier = LatentClassifier(self.snap_model.latents, hidden_size, n_classes)\n",
    "        criterion = nn.CrossEntropyLoss()\n",
    "        optimizer = torch.optim.Adam(params=classifier.parameters(), lr=lr)\n",
    "        for epoch in range(epochs):\n",
    "            total_loss = 0\n",
    "            for X, y in train_loader:\n",
    "                optimizer.zero_grad()\n",
    "                with torch.no_grad():\n",
    "                    Z = self.snap_model.encoder(X)[0]\n",
    "                logits = classifier(Z)\n",
    "                loss = criterion(logits, y)\n",
    "                loss.backward()\n",
    "                optimizer.step()\n",
    "                total_loss += loss\n",
    "            if verbose:\n",
    "                print(\"epoch\", epoch, \"acc\", self._accuracy(self.snap_model, classifier,test_loader))\n",
    "        \n",
    "        return self._accuracy(self.snap_model, classifier, test_loader)\n",
    "    \n",
    "    def _accuracy(self, model, classifier, test_loader):\n",
    "        total_acc = 0\n",
    "        size = 0\n",
    "        for x_test, y_test in test_loader:\n",
    "            size += x_test.shape[0]\n",
    "            with torch.no_grad():\n",
    "                Z = model.encoder(x_test)[0]\n",
    "                logits = classifier(Z)\n",
    "            y_hat = torch.argmax(logits, dim=1)\n",
    "            total_acc += (y_test == y_hat).sum()\n",
    "        return total_acc / size"
   ]
  },
  {
   "cell_type": "code",
   "execution_count": null,
   "metadata": {},
   "outputs": [],
   "source": [
    "device = torch.device('cuda:0' if torch.cuda.is_available() else 'cpu')\n",
    "name = \"cult\" + dt.datetime.now().strftime('-%Y-%m-%d-%H-%M-%S')\n",
    "optimizer = torch.optim.Adam\n",
    "lr = 1e-3\n",
    "kl_scale = 1\n",
    "e_prox_scale = 1\n",
    "d_prox_scale = 1\n",
    "encoder_type = FCEncoder\n",
    "decoder_type = FCDecoder\n",
    "final_size = 50\n",
    "latents = 16\n",
    "max_envs = 7\n",
    "atyp_min = .25\n",
    "atyp_max = 1.4\n",
    "env_optim = torch.optim.Adam\n",
    "env_lr=1e-3\n",
    "env_epochs = 30\n",
    "replay_batch_size = 64\n",
    "steps_per_save = 500\n",
    "cult_trainer = CULTTrainer(name, optimizer, lr, kl_scale, e_prox_scale, d_prox_scale, encoder_type, decoder_type, final_size, latents, max_envs, atyp_min, atyp_max, env_optim, env_lr, env_epochs, replay_batch_size, steps_per_save, device) "
   ]
  },
  {
   "cell_type": "code",
   "execution_count": null,
   "metadata": {},
   "outputs": [
    {
     "name": "stdout",
     "output_type": "stream",
     "text": [
      "epoch: 0, loss=12950.2421875, rec_loss=4771.02490234375, total_div_loss=166.6100311279297\n",
      "epoch: 1, loss=12359.109375, rec_loss=4132.72412109375, total_div_loss=226.76177978515625\n",
      "epoch: 2, loss=12220.4423828125, rec_loss=3983.071044921875, total_div_loss=240.68487548828125\n",
      "epoch: 3, loss=12170.5244140625, rec_loss=3930.171142578125, total_div_loss=244.8157958984375\n",
      "epoch: 4, loss=12141.5625, rec_loss=3897.190673828125, total_div_loss=249.52493286132812\n",
      "epoch: 5, loss=12122.6455078125, rec_loss=3877.119384765625, total_div_loss=251.10267639160156\n",
      "epoch: 6, loss=12107.1650390625, rec_loss=3861.772705078125, total_div_loss=251.71133422851562\n",
      "epoch: 7, loss=12099.76171875, rec_loss=3852.6533203125, total_div_loss=253.6853485107422\n",
      "epoch: 8, loss=12091.9658203125, rec_loss=3844.6015625, total_div_loss=254.049560546875\n",
      "epoch: 9, loss=12087.9521484375, rec_loss=3839.017333984375, total_div_loss=256.0087890625\n",
      "epoch: 0, loss=6949.42578125, rec_loss=2643.813720703125, total_div_loss=173.97747802734375\n",
      "epoch: 1, loss=6690.22265625, rec_loss=2414.166259765625, total_div_loss=181.11880493164062\n",
      "epoch: 2, loss=6627.1845703125, rec_loss=2343.569091796875, total_div_loss=193.7088165283203\n",
      "epoch: 3, loss=6593.14697265625, rec_loss=2305.616455078125, total_div_loss=202.3141632080078\n",
      "epoch: 4, loss=6569.26416015625, rec_loss=2280.470703125, total_div_loss=210.89622497558594\n",
      "epoch: 5, loss=6550.52490234375, rec_loss=2263.250244140625, total_div_loss=217.03550720214844\n",
      "epoch: 6, loss=6540.01318359375, rec_loss=2249.6962890625, total_div_loss=220.7565460205078\n",
      "epoch: 7, loss=6534.71240234375, rec_loss=2239.8359375, total_div_loss=224.2659149169922\n",
      "epoch: 8, loss=6523.318359375, rec_loss=2233.002685546875, total_div_loss=226.1675567626953\n",
      "epoch: 9, loss=6511.2939453125, rec_loss=2223.181640625, total_div_loss=227.8543701171875\n"
     ]
    }
   ],
   "source": [
    "epochs = 30\n",
    "cult_trainer.train(sf_loader, epochs)\n",
    "cult_trainer.train(mnist_loader, epochs)"
   ]
  },
  {
   "cell_type": "code",
   "execution_count": null,
   "metadata": {},
   "outputs": [],
   "source": [
    "#cult_trainer.model.train()\n",
    "cult_trainer.model.eval()\n",
    "rec_x, mu, logvar, x_halu, rec_x_halo, z_halu_old, z_halu, s_halu, atyp = cult_trainer.model(sf_batch)"
   ]
  },
  {
   "cell_type": "code",
   "execution_count": null,
   "metadata": {},
   "outputs": [
    {
     "data": {
      "text/plain": [
       "1"
      ]
     },
     "execution_count": null,
     "metadata": {},
     "output_type": "execute_result"
    }
   ],
   "source": [
    "cult_trainer.model.m"
   ]
  },
  {
   "cell_type": "code",
   "execution_count": null,
   "metadata": {},
   "outputs": [
    {
     "data": {
      "image/png": "[encoded data removed]",
      "text/plain": [
       "<Figure size 432x288 with 1 Axes>"
      ]
     },
     "metadata": {},
     "output_type": "display_data"
    },
    {
     "data": {
      "image/png": "[encoded data removed]",
      "text/plain": [
       "<Figure size 432x288 with 1 Axes>"
      ]
     },
     "metadata": {},
     "output_type": "display_data"
    }
   ],
   "source": [
    "show_batch(sf_batch)\n",
    "show_batch(rec_x)"
   ]
  },
  {
   "cell_type": "code",
   "execution_count": null,
   "metadata": {},
   "outputs": [
    {
     "name": "stderr",
     "output_type": "stream",
     "text": [
      "  0%|          | 0/37 [00:00<?, ?it/s]"
     ]
    },
    {
     "name": "stdout",
     "output_type": "stream",
     "text": [
      "epoch 0 acc tensor(0.7250)\n",
      "epoch 1 acc tensor(0.7391)\n",
      "epoch 2 acc tensor(0.7507)\n",
      "epoch 3 acc tensor(0.7423)\n",
      "epoch 4 acc tensor(0.7413)\n",
      "epoch 0 acc tensor(0.6573)\n",
      "epoch 1 acc tensor(0.7100)\n",
      "epoch 2 acc tensor(0.7163)\n",
      "epoch 3 acc tensor(0.7347)\n",
      "epoch 4 acc tensor(0.7422)\n"
     ]
    },
    {
     "name": "stderr",
     "output_type": "stream",
     "text": [
      "  3%|▎         | 1/37 [00:20<12:18, 20.51s/it]"
     ]
    },
    {
     "name": "stdout",
     "output_type": "stream",
     "text": [
      "epoch 0 acc tensor(0.7470)\n",
      "epoch 1 acc tensor(0.7463)\n",
      "epoch 2 acc tensor(0.7580)\n",
      "epoch 3 acc tensor(0.7670)\n",
      "epoch 4 acc tensor(0.7630)\n",
      "epoch 0 acc tensor(0.6988)\n",
      "epoch 1 acc tensor(0.7343)\n",
      "epoch 2 acc tensor(0.7589)\n",
      "epoch 3 acc tensor(0.7702)\n",
      "epoch 4 acc tensor(0.7737)\n"
     ]
    },
    {
     "name": "stderr",
     "output_type": "stream",
     "text": [
      "  5%|▌         | 2/37 [00:40<11:54, 20.43s/it]"
     ]
    },
    {
     "name": "stdout",
     "output_type": "stream",
     "text": [
      "epoch 0 acc tensor(0.7492)\n",
      "epoch 1 acc tensor(0.7680)\n",
      "epoch 2 acc tensor(0.7700)\n",
      "epoch 3 acc tensor(0.7760)\n",
      "epoch 4 acc tensor(0.7729)\n",
      "epoch 0 acc tensor(0.7392)\n",
      "epoch 1 acc tensor(0.7687)\n",
      "epoch 2 acc tensor(0.7827)\n",
      "epoch 3 acc tensor(0.7768)\n",
      "epoch 4 acc tensor(0.7967)\n"
     ]
    },
    {
     "name": "stderr",
     "output_type": "stream",
     "text": [
      "  8%|▊         | 3/37 [01:01<11:35, 20.46s/it]"
     ]
    },
    {
     "name": "stdout",
     "output_type": "stream",
     "text": [
      "epoch 0 acc tensor(0.7564)\n",
      "epoch 1 acc tensor(0.7649)\n",
      "epoch 2 acc tensor(0.7601)\n",
      "epoch 3 acc tensor(0.7793)\n",
      "epoch 4 acc tensor(0.7803)\n",
      "epoch 0 acc tensor(0.7445)\n",
      "epoch 1 acc tensor(0.7734)\n",
      "epoch 2 acc tensor(0.7936)\n",
      "epoch 3 acc tensor(0.8012)\n",
      "epoch 4 acc tensor(0.8071)\n"
     ]
    },
    {
     "name": "stderr",
     "output_type": "stream",
     "text": [
      " 11%|█         | 4/37 [01:23<11:31, 20.95s/it]"
     ]
    },
    {
     "name": "stdout",
     "output_type": "stream",
     "text": [
      "epoch 0 acc tensor(0.7551)\n",
      "epoch 1 acc tensor(0.7562)\n",
      "epoch 2 acc tensor(0.7715)\n",
      "epoch 3 acc tensor(0.7790)\n",
      "epoch 4 acc tensor(0.7794)\n",
      "epoch 0 acc tensor(0.7366)\n",
      "epoch 1 acc tensor(0.7585)\n",
      "epoch 2 acc tensor(0.7851)\n",
      "epoch 3 acc tensor(0.7853)\n",
      "epoch 4 acc tensor(0.7977)\n"
     ]
    },
    {
     "name": "stderr",
     "output_type": "stream",
     "text": [
      " 14%|█▎        | 5/37 [01:44<11:19, 21.22s/it]"
     ]
    },
    {
     "name": "stdout",
     "output_type": "stream",
     "text": [
      "epoch 0 acc tensor(0.7522)\n",
      "epoch 1 acc tensor(0.7527)\n",
      "epoch 2 acc tensor(0.7766)\n",
      "epoch 3 acc tensor(0.7821)\n",
      "epoch 4 acc tensor(0.7744)\n",
      "epoch 0 acc tensor(0.7141)\n",
      "epoch 1 acc tensor(0.7612)\n",
      "epoch 2 acc tensor(0.7751)\n",
      "epoch 3 acc tensor(0.7918)\n",
      "epoch 4 acc tensor(0.7867)\n"
     ]
    },
    {
     "name": "stderr",
     "output_type": "stream",
     "text": [
      " 16%|█▌        | 6/37 [02:05<10:49, 20.95s/it]"
     ]
    },
    {
     "name": "stdout",
     "output_type": "stream",
     "text": [
      "epoch 0 acc tensor(0.7492)\n",
      "epoch 1 acc tensor(0.7649)\n",
      "epoch 2 acc tensor(0.7559)\n",
      "epoch 3 acc tensor(0.7743)\n",
      "epoch 4 acc tensor(0.7802)\n",
      "epoch 0 acc tensor(0.6989)\n",
      "epoch 1 acc tensor(0.7352)\n",
      "epoch 2 acc tensor(0.7641)\n",
      "epoch 3 acc tensor(0.7775)\n",
      "epoch 4 acc tensor(0.7887)\n"
     ]
    },
    {
     "name": "stderr",
     "output_type": "stream",
     "text": [
      " 19%|█▉        | 7/37 [02:25<10:21, 20.71s/it]"
     ]
    },
    {
     "name": "stdout",
     "output_type": "stream",
     "text": [
      "epoch 0 acc tensor(0.7675)\n",
      "epoch 1 acc tensor(0.7707)\n",
      "epoch 2 acc tensor(0.7675)\n",
      "epoch 3 acc tensor(0.7751)\n",
      "epoch 4 acc tensor(0.7827)\n",
      "epoch 0 acc tensor(0.6968)\n",
      "epoch 1 acc tensor(0.7372)\n",
      "epoch 2 acc tensor(0.7540)\n",
      "epoch 3 acc tensor(0.7770)\n",
      "epoch 4 acc tensor(0.7805)\n"
     ]
    },
    {
     "name": "stderr",
     "output_type": "stream",
     "text": [
      " 22%|██▏       | 8/37 [02:46<10:00, 20.72s/it]"
     ]
    },
    {
     "name": "stdout",
     "output_type": "stream",
     "text": [
      "epoch 0 acc tensor(0.7485)\n",
      "epoch 1 acc tensor(0.7646)\n",
      "epoch 2 acc tensor(0.7696)\n",
      "epoch 3 acc tensor(0.7755)\n",
      "epoch 4 acc tensor(0.7765)\n",
      "epoch 0 acc tensor(0.6861)\n",
      "epoch 1 acc tensor(0.7288)\n",
      "epoch 2 acc tensor(0.7438)\n",
      "epoch 3 acc tensor(0.7557)\n",
      "epoch 4 acc tensor(0.7646)\n"
     ]
    },
    {
     "name": "stderr",
     "output_type": "stream",
     "text": [
      " 24%|██▍       | 9/37 [03:06<09:35, 20.55s/it]"
     ]
    },
    {
     "name": "stdout",
     "output_type": "stream",
     "text": [
      "epoch 0 acc tensor(0.7498)\n",
      "epoch 1 acc tensor(0.7672)\n",
      "epoch 2 acc tensor(0.7709)\n",
      "epoch 3 acc tensor(0.7694)\n",
      "epoch 4 acc tensor(0.7801)\n",
      "epoch 0 acc tensor(0.6688)\n",
      "epoch 1 acc tensor(0.7066)\n",
      "epoch 2 acc tensor(0.7298)\n",
      "epoch 3 acc tensor(0.7344)\n",
      "epoch 4 acc tensor(0.7524)\n"
     ]
    },
    {
     "name": "stderr",
     "output_type": "stream",
     "text": [
      " 27%|██▋       | 10/37 [03:26<09:13, 20.51s/it]"
     ]
    },
    {
     "name": "stdout",
     "output_type": "stream",
     "text": [
      "epoch 0 acc tensor(0.7616)\n",
      "epoch 1 acc tensor(0.7622)\n",
      "epoch 2 acc tensor(0.7763)\n",
      "epoch 3 acc tensor(0.7762)\n",
      "epoch 4 acc tensor(0.7740)\n",
      "epoch 0 acc tensor(0.6907)\n",
      "epoch 1 acc tensor(0.7253)\n",
      "epoch 2 acc tensor(0.7461)\n",
      "epoch 3 acc tensor(0.7581)\n",
      "epoch 4 acc tensor(0.7677)\n"
     ]
    },
    {
     "name": "stderr",
     "output_type": "stream",
     "text": [
      " 30%|██▉       | 11/37 [03:47<08:52, 20.50s/it]"
     ]
    },
    {
     "name": "stdout",
     "output_type": "stream",
     "text": [
      "epoch 0 acc tensor(0.7540)\n",
      "epoch 1 acc tensor(0.7728)\n",
      "epoch 2 acc tensor(0.7734)\n",
      "epoch 3 acc tensor(0.7742)\n",
      "epoch 4 acc tensor(0.7790)\n",
      "epoch 0 acc tensor(0.6793)\n",
      "epoch 1 acc tensor(0.7305)\n",
      "epoch 2 acc tensor(0.7422)\n",
      "epoch 3 acc tensor(0.7650)\n",
      "epoch 4 acc tensor(0.7755)\n"
     ]
    },
    {
     "name": "stderr",
     "output_type": "stream",
     "text": [
      " 32%|███▏      | 12/37 [04:07<08:31, 20.45s/it]"
     ]
    },
    {
     "name": "stdout",
     "output_type": "stream",
     "text": [
      "epoch 0 acc tensor(0.7560)\n",
      "epoch 1 acc tensor(0.7618)\n",
      "epoch 2 acc tensor(0.7690)\n",
      "epoch 3 acc tensor(0.7751)\n",
      "epoch 4 acc tensor(0.7715)\n",
      "epoch 0 acc tensor(0.6463)\n",
      "epoch 1 acc tensor(0.6972)\n",
      "epoch 2 acc tensor(0.7232)\n",
      "epoch 3 acc tensor(0.7365)\n",
      "epoch 4 acc tensor(0.7459)\n"
     ]
    },
    {
     "name": "stderr",
     "output_type": "stream",
     "text": [
      " 35%|███▌      | 13/37 [04:28<08:14, 20.59s/it]"
     ]
    },
    {
     "name": "stdout",
     "output_type": "stream",
     "text": [
      "epoch 0 acc tensor(0.7635)\n",
      "epoch 1 acc tensor(0.7671)\n",
      "epoch 2 acc tensor(0.7619)\n",
      "epoch 3 acc tensor(0.7734)\n",
      "epoch 4 acc tensor(0.7683)\n",
      "epoch 0 acc tensor(0.6726)\n",
      "epoch 1 acc tensor(0.7062)\n",
      "epoch 2 acc tensor(0.7281)\n",
      "epoch 3 acc tensor(0.7577)\n",
      "epoch 4 acc tensor(0.7568)\n"
     ]
    },
    {
     "name": "stderr",
     "output_type": "stream",
     "text": [
      " 38%|███▊      | 14/37 [04:49<07:56, 20.72s/it]"
     ]
    },
    {
     "name": "stdout",
     "output_type": "stream",
     "text": [
      "epoch 0 acc tensor(0.7395)\n",
      "epoch 1 acc tensor(0.7545)\n",
      "epoch 2 acc tensor(0.7717)\n",
      "epoch 3 acc tensor(0.7702)\n",
      "epoch 4 acc tensor(0.7699)\n",
      "epoch 0 acc tensor(0.6406)\n",
      "epoch 1 acc tensor(0.6996)\n",
      "epoch 2 acc tensor(0.7355)\n",
      "epoch 3 acc tensor(0.7476)\n",
      "epoch 4 acc tensor(0.7607)\n"
     ]
    },
    {
     "name": "stderr",
     "output_type": "stream",
     "text": [
      " 41%|████      | 15/37 [05:09<07:31, 20.53s/it]"
     ]
    },
    {
     "name": "stdout",
     "output_type": "stream",
     "text": [
      "epoch 0 acc tensor(0.7505)\n",
      "epoch 1 acc tensor(0.7549)\n",
      "epoch 2 acc tensor(0.7688)\n",
      "epoch 3 acc tensor(0.7682)\n",
      "epoch 4 acc tensor(0.7690)\n",
      "epoch 0 acc tensor(0.6603)\n",
      "epoch 1 acc tensor(0.6803)\n",
      "epoch 2 acc tensor(0.7073)\n",
      "epoch 3 acc tensor(0.7120)\n",
      "epoch 4 acc tensor(0.7329)\n"
     ]
    },
    {
     "name": "stderr",
     "output_type": "stream",
     "text": [
      " 43%|████▎     | 16/37 [05:29<07:05, 20.27s/it]"
     ]
    },
    {
     "name": "stdout",
     "output_type": "stream",
     "text": [
      "epoch 0 acc tensor(0.7334)\n",
      "epoch 1 acc tensor(0.7575)\n",
      "epoch 2 acc tensor(0.7704)\n",
      "epoch 3 acc tensor(0.7656)\n",
      "epoch 4 acc tensor(0.7721)\n",
      "epoch 0 acc tensor(0.6729)\n",
      "epoch 1 acc tensor(0.6964)\n",
      "epoch 2 acc tensor(0.7257)\n",
      "epoch 3 acc tensor(0.7301)\n",
      "epoch 4 acc tensor(0.7425)\n"
     ]
    },
    {
     "name": "stderr",
     "output_type": "stream",
     "text": [
      " 46%|████▌     | 17/37 [05:50<06:49, 20.47s/it]"
     ]
    },
    {
     "name": "stdout",
     "output_type": "stream",
     "text": [
      "epoch 0 acc tensor(0.7556)\n",
      "epoch 1 acc tensor(0.7521)\n",
      "epoch 2 acc tensor(0.7597)\n",
      "epoch 3 acc tensor(0.7703)\n",
      "epoch 4 acc tensor(0.7734)\n",
      "epoch 0 acc tensor(0.6796)\n",
      "epoch 1 acc tensor(0.7144)\n",
      "epoch 2 acc tensor(0.7281)\n",
      "epoch 3 acc tensor(0.7427)\n",
      "epoch 4 acc tensor(0.7527)\n"
     ]
    },
    {
     "name": "stderr",
     "output_type": "stream",
     "text": [
      " 49%|████▊     | 18/37 [06:11<06:33, 20.73s/it]"
     ]
    },
    {
     "name": "stdout",
     "output_type": "stream",
     "text": [
      "epoch 0 acc tensor(0.7512)\n",
      "epoch 1 acc tensor(0.7584)\n",
      "epoch 2 acc tensor(0.7710)\n",
      "epoch 3 acc tensor(0.7692)\n",
      "epoch 4 acc tensor(0.7760)\n",
      "epoch 0 acc tensor(0.6974)\n",
      "epoch 1 acc tensor(0.7386)\n",
      "epoch 2 acc tensor(0.7462)\n",
      "epoch 3 acc tensor(0.7694)\n",
      "epoch 4 acc tensor(0.7694)\n"
     ]
    },
    {
     "name": "stderr",
     "output_type": "stream",
     "text": [
      " 51%|█████▏    | 19/37 [06:32<06:13, 20.76s/it]"
     ]
    },
    {
     "name": "stdout",
     "output_type": "stream",
     "text": [
      "epoch 0 acc tensor(0.7462)\n",
      "epoch 1 acc tensor(0.7509)\n",
      "epoch 2 acc tensor(0.7578)\n",
      "epoch 3 acc tensor(0.7708)\n",
      "epoch 4 acc tensor(0.7548)\n",
      "epoch 0 acc tensor(0.7326)\n",
      "epoch 1 acc tensor(0.7668)\n",
      "epoch 2 acc tensor(0.7823)\n",
      "epoch 3 acc tensor(0.7814)\n",
      "epoch 4 acc tensor(0.7977)\n"
     ]
    },
    {
     "name": "stderr",
     "output_type": "stream",
     "text": [
      " 54%|█████▍    | 20/37 [06:53<05:57, 21.01s/it]"
     ]
    },
    {
     "name": "stdout",
     "output_type": "stream",
     "text": [
      "epoch 0 acc tensor(0.7530)\n",
      "epoch 1 acc tensor(0.7592)\n",
      "epoch 2 acc tensor(0.7655)\n",
      "epoch 3 acc tensor(0.7597)\n",
      "epoch 4 acc tensor(0.7665)\n",
      "epoch 0 acc tensor(0.7748)\n",
      "epoch 1 acc tensor(0.7838)\n",
      "epoch 2 acc tensor(0.8042)\n",
      "epoch 3 acc tensor(0.8135)\n",
      "epoch 4 acc tensor(0.8137)\n"
     ]
    },
    {
     "name": "stderr",
     "output_type": "stream",
     "text": [
      " 57%|█████▋    | 21/37 [07:15<05:37, 21.07s/it]"
     ]
    },
    {
     "name": "stdout",
     "output_type": "stream",
     "text": [
      "epoch 0 acc tensor(0.7210)\n",
      "epoch 1 acc tensor(0.7496)\n",
      "epoch 2 acc tensor(0.7615)\n",
      "epoch 3 acc tensor(0.7673)\n",
      "epoch 4 acc tensor(0.7700)\n",
      "epoch 0 acc tensor(0.7935)\n",
      "epoch 1 acc tensor(0.8160)\n",
      "epoch 2 acc tensor(0.8108)\n",
      "epoch 3 acc tensor(0.8282)\n",
      "epoch 4 acc tensor(0.8317)\n"
     ]
    },
    {
     "name": "stderr",
     "output_type": "stream",
     "text": [
      " 59%|█████▉    | 22/37 [07:36<05:15, 21.01s/it]"
     ]
    },
    {
     "name": "stdout",
     "output_type": "stream",
     "text": [
      "epoch 0 acc tensor(0.7530)\n",
      "epoch 1 acc tensor(0.7519)\n",
      "epoch 2 acc tensor(0.7639)\n",
      "epoch 3 acc tensor(0.7702)\n",
      "epoch 4 acc tensor(0.7646)\n",
      "epoch 0 acc tensor(0.8061)\n",
      "epoch 1 acc tensor(0.8272)\n",
      "epoch 2 acc tensor(0.8296)\n",
      "epoch 3 acc tensor(0.8402)\n",
      "epoch 4 acc tensor(0.8406)\n"
     ]
    },
    {
     "name": "stderr",
     "output_type": "stream",
     "text": [
      " 62%|██████▏   | 23/37 [07:57<04:57, 21.24s/it]"
     ]
    },
    {
     "name": "stdout",
     "output_type": "stream",
     "text": [
      "epoch 0 acc tensor(0.7494)\n",
      "epoch 1 acc tensor(0.7557)\n",
      "epoch 2 acc tensor(0.7588)\n",
      "epoch 3 acc tensor(0.7655)\n",
      "epoch 4 acc tensor(0.7666)\n",
      "epoch 0 acc tensor(0.8158)\n",
      "epoch 1 acc tensor(0.8375)\n",
      "epoch 2 acc tensor(0.8405)\n",
      "epoch 3 acc tensor(0.8450)\n",
      "epoch 4 acc tensor(0.8507)\n"
     ]
    },
    {
     "name": "stderr",
     "output_type": "stream",
     "text": [
      " 65%|██████▍   | 24/37 [08:19<04:36, 21.26s/it]"
     ]
    },
    {
     "name": "stdout",
     "output_type": "stream",
     "text": [
      "epoch 0 acc tensor(0.7474)\n",
      "epoch 1 acc tensor(0.7508)\n",
      "epoch 2 acc tensor(0.7658)\n",
      "epoch 3 acc tensor(0.7634)\n",
      "epoch 4 acc tensor(0.7551)\n",
      "epoch 0 acc tensor(0.8228)\n",
      "epoch 1 acc tensor(0.8404)\n",
      "epoch 2 acc tensor(0.8497)\n",
      "epoch 3 acc tensor(0.8537)\n",
      "epoch 4 acc tensor(0.8590)\n"
     ]
    },
    {
     "name": "stderr",
     "output_type": "stream",
     "text": [
      " 68%|██████▊   | 25/37 [08:39<04:13, 21.13s/it]"
     ]
    },
    {
     "name": "stdout",
     "output_type": "stream",
     "text": [
      "epoch 0 acc tensor(0.7465)\n",
      "epoch 1 acc tensor(0.7574)\n",
      "epoch 2 acc tensor(0.7551)\n",
      "epoch 3 acc tensor(0.7555)\n",
      "epoch 4 acc tensor(0.7640)\n",
      "epoch 0 acc tensor(0.8405)\n",
      "epoch 1 acc tensor(0.8416)\n",
      "epoch 2 acc tensor(0.8564)\n",
      "epoch 3 acc tensor(0.8534)\n",
      "epoch 4 acc tensor(0.8583)\n"
     ]
    },
    {
     "name": "stderr",
     "output_type": "stream",
     "text": [
      " 70%|███████   | 26/37 [09:00<03:51, 21.07s/it]"
     ]
    },
    {
     "name": "stdout",
     "output_type": "stream",
     "text": [
      "epoch 0 acc tensor(0.7580)\n",
      "epoch 1 acc tensor(0.7590)\n",
      "epoch 2 acc tensor(0.7607)\n",
      "epoch 3 acc tensor(0.7685)\n",
      "epoch 4 acc tensor(0.7604)\n",
      "epoch 0 acc tensor(0.8348)\n",
      "epoch 1 acc tensor(0.8464)\n",
      "epoch 2 acc tensor(0.8561)\n",
      "epoch 3 acc tensor(0.8527)\n",
      "epoch 4 acc tensor(0.8533)\n"
     ]
    },
    {
     "name": "stderr",
     "output_type": "stream",
     "text": [
      " 73%|███████▎  | 27/37 [09:21<03:29, 20.99s/it]"
     ]
    },
    {
     "name": "stdout",
     "output_type": "stream",
     "text": [
      "epoch 0 acc tensor(0.7452)\n",
      "epoch 1 acc tensor(0.7530)\n",
      "epoch 2 acc tensor(0.7546)\n",
      "epoch 3 acc tensor(0.7557)\n",
      "epoch 4 acc tensor(0.7573)\n",
      "epoch 0 acc tensor(0.8386)\n",
      "epoch 1 acc tensor(0.8535)\n",
      "epoch 2 acc tensor(0.8544)\n",
      "epoch 3 acc tensor(0.8538)\n",
      "epoch 4 acc tensor(0.8655)\n"
     ]
    },
    {
     "name": "stderr",
     "output_type": "stream",
     "text": [
      " 76%|███████▌  | 28/37 [09:42<03:08, 20.94s/it]"
     ]
    },
    {
     "name": "stdout",
     "output_type": "stream",
     "text": [
      "epoch 0 acc tensor(0.7484)\n",
      "epoch 1 acc tensor(0.7528)\n",
      "epoch 2 acc tensor(0.7607)\n",
      "epoch 3 acc tensor(0.7560)\n",
      "epoch 4 acc tensor(0.7575)\n",
      "epoch 0 acc tensor(0.8330)\n",
      "epoch 1 acc tensor(0.8461)\n",
      "epoch 2 acc tensor(0.8594)\n",
      "epoch 3 acc tensor(0.8576)\n",
      "epoch 4 acc tensor(0.8579)\n"
     ]
    },
    {
     "name": "stderr",
     "output_type": "stream",
     "text": [
      " 78%|███████▊  | 29/37 [10:03<02:48, 21.01s/it]"
     ]
    },
    {
     "name": "stdout",
     "output_type": "stream",
     "text": [
      "epoch 0 acc tensor(0.7503)\n",
      "epoch 1 acc tensor(0.7572)\n",
      "epoch 2 acc tensor(0.7448)\n",
      "epoch 3 acc tensor(0.7595)\n",
      "epoch 4 acc tensor(0.7596)\n",
      "epoch 0 acc tensor(0.8302)\n",
      "epoch 1 acc tensor(0.8498)\n",
      "epoch 2 acc tensor(0.8443)\n",
      "epoch 3 acc tensor(0.8620)\n",
      "epoch 4 acc tensor(0.8644)\n"
     ]
    },
    {
     "name": "stderr",
     "output_type": "stream",
     "text": [
      " 81%|████████  | 30/37 [10:24<02:26, 20.88s/it]"
     ]
    },
    {
     "name": "stdout",
     "output_type": "stream",
     "text": [
      "epoch 0 acc tensor(0.7466)\n",
      "epoch 1 acc tensor(0.7461)\n",
      "epoch 2 acc tensor(0.7510)\n",
      "epoch 3 acc tensor(0.7502)\n",
      "epoch 4 acc tensor(0.7573)\n",
      "epoch 0 acc tensor(0.8359)\n",
      "epoch 1 acc tensor(0.8518)\n",
      "epoch 2 acc tensor(0.8607)\n",
      "epoch 3 acc tensor(0.8622)\n",
      "epoch 4 acc tensor(0.8661)\n"
     ]
    },
    {
     "name": "stderr",
     "output_type": "stream",
     "text": [
      " 84%|████████▍ | 31/37 [10:44<02:04, 20.68s/it]"
     ]
    },
    {
     "name": "stdout",
     "output_type": "stream",
     "text": [
      "epoch 0 acc tensor(0.7284)\n",
      "epoch 1 acc tensor(0.7456)\n",
      "epoch 2 acc tensor(0.7381)\n",
      "epoch 3 acc tensor(0.7536)\n",
      "epoch 4 acc tensor(0.7449)\n",
      "epoch 0 acc tensor(0.8461)\n",
      "epoch 1 acc tensor(0.8555)\n",
      "epoch 2 acc tensor(0.8615)\n",
      "epoch 3 acc tensor(0.8656)\n",
      "epoch 4 acc tensor(0.8713)\n"
     ]
    },
    {
     "name": "stderr",
     "output_type": "stream",
     "text": [
      " 86%|████████▋ | 32/37 [11:04<01:42, 20.59s/it]"
     ]
    },
    {
     "name": "stdout",
     "output_type": "stream",
     "text": [
      "epoch 0 acc tensor(0.7463)\n",
      "epoch 1 acc tensor(0.7482)\n",
      "epoch 2 acc tensor(0.7496)\n",
      "epoch 3 acc tensor(0.7506)\n",
      "epoch 4 acc tensor(0.7522)\n",
      "epoch 0 acc tensor(0.8421)\n",
      "epoch 1 acc tensor(0.8573)\n",
      "epoch 2 acc tensor(0.8619)\n",
      "epoch 3 acc tensor(0.8647)\n",
      "epoch 4 acc tensor(0.8655)\n"
     ]
    },
    {
     "name": "stderr",
     "output_type": "stream",
     "text": [
      " 89%|████████▉ | 33/37 [11:25<01:22, 20.53s/it]"
     ]
    },
    {
     "name": "stdout",
     "output_type": "stream",
     "text": [
      "epoch 0 acc tensor(0.7321)\n",
      "epoch 1 acc tensor(0.7359)\n",
      "epoch 2 acc tensor(0.7469)\n",
      "epoch 3 acc tensor(0.7477)\n",
      "epoch 4 acc tensor(0.7566)\n",
      "epoch 0 acc tensor(0.8488)\n",
      "epoch 1 acc tensor(0.8612)\n",
      "epoch 2 acc tensor(0.8665)\n",
      "epoch 3 acc tensor(0.8750)\n",
      "epoch 4 acc tensor(0.8718)\n"
     ]
    },
    {
     "name": "stderr",
     "output_type": "stream",
     "text": [
      " 92%|█████████▏| 34/37 [11:45<01:01, 20.57s/it]"
     ]
    },
    {
     "name": "stdout",
     "output_type": "stream",
     "text": [
      "epoch 0 acc tensor(0.7311)\n",
      "epoch 1 acc tensor(0.7312)\n",
      "epoch 2 acc tensor(0.7486)\n",
      "epoch 3 acc tensor(0.7428)\n",
      "epoch 4 acc tensor(0.7501)\n",
      "epoch 0 acc tensor(0.8472)\n",
      "epoch 1 acc tensor(0.8639)\n",
      "epoch 2 acc tensor(0.8728)\n",
      "epoch 3 acc tensor(0.8702)\n",
      "epoch 4 acc tensor(0.8742)\n"
     ]
    },
    {
     "name": "stderr",
     "output_type": "stream",
     "text": [
      " 95%|█████████▍| 35/37 [12:06<00:41, 20.65s/it]"
     ]
    },
    {
     "name": "stdout",
     "output_type": "stream",
     "text": [
      "epoch 0 acc tensor(0.7377)\n",
      "epoch 1 acc tensor(0.7413)\n",
      "epoch 2 acc tensor(0.7509)\n",
      "epoch 3 acc tensor(0.7527)\n",
      "epoch 4 acc tensor(0.7590)\n",
      "epoch 0 acc tensor(0.8558)\n",
      "epoch 1 acc tensor(0.8709)\n",
      "epoch 2 acc tensor(0.8773)\n",
      "epoch 3 acc tensor(0.8841)\n",
      "epoch 4 acc tensor(0.8790)\n"
     ]
    },
    {
     "name": "stderr",
     "output_type": "stream",
     "text": [
      " 97%|█████████▋| 36/37 [12:27<00:20, 20.61s/it]"
     ]
    },
    {
     "name": "stdout",
     "output_type": "stream",
     "text": [
      "epoch 0 acc tensor(0.7304)\n",
      "epoch 1 acc tensor(0.7428)\n",
      "epoch 2 acc tensor(0.7351)\n",
      "epoch 3 acc tensor(0.7471)\n",
      "epoch 4 acc tensor(0.7506)\n",
      "epoch 0 acc tensor(0.8550)\n",
      "epoch 1 acc tensor(0.8721)\n",
      "epoch 2 acc tensor(0.8745)\n",
      "epoch 3 acc tensor(0.8771)\n",
      "epoch 4 acc tensor(0.8811)\n"
     ]
    },
    {
     "name": "stderr",
     "output_type": "stream",
     "text": [
      "100%|██████████| 37/37 [12:47<00:00, 20.75s/it]\n"
     ]
    }
   ],
   "source": [
    "cult_trainer.train_latent_classifiers([sf_loader, mnist_loader], [fashion_test_loader, mnist_test_loader], [\"fashion_mnist\", \"mnist\"], [10, 10], epochs=3, lr=1e-2)"
   ]
  },
  {
   "cell_type": "code",
   "execution_count": null,
   "metadata": {},
   "outputs": [
    {
     "data": {
      "text/plain": [
       "(tensor(1.), tensor(0.1406))"
      ]
     },
     "execution_count": null,
     "metadata": {},
     "output_type": "execute_result"
    }
   ],
   "source": [
    "mnist_test_batch, _labels = iter(mnist_test_loader).next()\n",
    "fashion_test_batch, _labels = iter(fashion_test_loader).next()\n",
    "with torch.no_grad():\n",
    "    _, _, final_mnist = cult_trainer.model.encoder(mnist_test_batch)\n",
    "    _, _, final_fashion = cult_trainer.model.encoder(fashion_test_batch)\n",
    "    mnist_logits = cult_trainer.model.env_net(final_mnist)\n",
    "    fashion_logits = cult_trainer.model.env_net(final_fashion)\n",
    "\n",
    "mnist_acc = (torch.argmax(mnist_logits, dim=1) == 1).sum() / mnist_logits.shape[0]\n",
    "fashion_acc = (torch.argmax(fashion_logits, dim=1) == 0).sum() / fashion_logits.shape[0]\n",
    "mnist_acc, fashion_acc"
   ]
  }
 ],
 "metadata": {
  "kernelspec": {
   "display_name": "Python 3.9.10 ('lifelong_disrep')",
   "language": "python",
   "name": "python3"
  }
 },
 "nbformat": 4,
 "nbformat_minor": 2
}
