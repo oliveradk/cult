{
 "cells": [
  {
   "cell_type": "code",
   "execution_count": null,
   "metadata": {},
   "outputs": [],
   "source": [
    "#default_exp experiments.cult_experiments"
   ]
  },
  {
   "cell_type": "code",
   "execution_count": null,
   "metadata": {},
   "outputs": [],
   "source": [
    "from cult.core.cult import CULT, CULTTrainer\n",
    "from cult.core.models import FCEncoder, FCDecoder\n",
    "from cult.core.datasets.moving_mnist import CommonMNIST, CommonFashionMNIST\n",
    "from cult.core.utils import show_batch, rec_likelihood\n",
    "from cult.config import DATA_PATH\n",
    "\n",
    "import torch\n",
    "from torch.utils.data import DataLoader\n",
    "from torchvision.transforms import ToTensor\n",
    "from datetime import datetime as dt"
   ]
  },
  {
   "cell_type": "markdown",
   "metadata": {},
   "source": [
    "# Cult Experiments"
   ]
  },
  {
   "cell_type": "code",
   "execution_count": null,
   "metadata": {},
   "outputs": [],
   "source": [
    "batch_size = 64"
   ]
  },
  {
   "cell_type": "code",
   "execution_count": null,
   "metadata": {},
   "outputs": [],
   "source": [
    "device = torch.device('cuda:0' if torch.cuda.is_available() else 'cpu')\n",
    "mnist_train = CommonMNIST(DATA_PATH, train=True, transform=ToTensor())\n",
    "mnist_test = CommonMNIST(DATA_PATH, train=False, transform=ToTensor())\n",
    "mnist_train_loader = DataLoader(mnist_train, batch_size=batch_size, shuffle=True)\n",
    "mnist_test_loader = DataLoader(mnist_test, batch_size=batch_size, shuffle=True)\n",
    "\n",
    "mnist_test_batch, _ = iter(mnist_test_loader).next()\n",
    "\n",
    "fashion_train = CommonFashionMNIST(DATA_PATH, train=True, transform=ToTensor())\n",
    "fashion_test = CommonFashionMNIST(DATA_PATH, train=False, transform=ToTensor())\n",
    "fashion_train_loader = DataLoader(fashion_train, batch_size=batch_size, shuffle=True)\n",
    "fashion_test_loader = DataLoader(fashion_test, batch_size=batch_size, shuffle=True)\n",
    "\n",
    "fashion_test_batch, _ = iter(fashion_test_loader).next()\n"
   ]
  },
  {
   "cell_type": "markdown",
   "metadata": {},
   "source": [
    "## FashionMNIST -> MNIST"
   ]
  },
  {
   "cell_type": "code",
   "execution_count": null,
   "metadata": {},
   "outputs": [],
   "source": [
    "optimizer = torch.optim.Adam\n",
    "lr = 1e-3\n",
    "kl_scale = 1\n",
    "e_prox_scale = 1 #might need to scale?\n",
    "d_prox_scale = 1 #might need to scale\n",
    "encoder_type = FCEncoder\n",
    "decoder_type = FCDecoder\n",
    "final_size = 50\n",
    "latents = 16\n",
    "max_envs = 7\n",
    "atyp_min = .25\n",
    "atyp_max = 1.4\n",
    "env_optim = torch.optim.Adam\n",
    "env_lr=1e-4\n",
    "env_epochs = 1 #increasing due to poor performance\n",
    "replay_batch_size = 64\n",
    "steps_per_save = 2500"
   ]
  },
  {
   "cell_type": "code",
   "execution_count": null,
   "metadata": {},
   "outputs": [],
   "source": [
    "foo = CULTTrainer('foo', optimizer, lr, kl_scale, e_prox_scale, d_prox_scale, encoder_type, decoder_type, final_size, latents, max_envs, atyp_min, atyp_max, env_optim, env_lr, env_epochs, replay_batch_size, steps_per_save, device)"
   ]
  },
  {
   "cell_type": "code",
   "execution_count": null,
   "metadata": {},
   "outputs": [
    {
     "data": {
      "text/plain": [
       "0"
      ]
     },
     "execution_count": null,
     "metadata": {},
     "output_type": "execute_result"
    }
   ],
   "source": [
    "foo.model.steps"
   ]
  },
  {
   "cell_type": "code",
   "execution_count": null,
   "metadata": {},
   "outputs": [
    {
     "data": {
      "text/plain": [
       "9380"
      ]
     },
     "execution_count": null,
     "metadata": {},
     "output_type": "execute_result"
    }
   ],
   "source": [
    "len(mnist_train_loader) * 10"
   ]
  },
  {
   "cell_type": "code",
   "execution_count": null,
   "metadata": {},
   "outputs": [
    {
     "name": "stdout",
     "output_type": "stream",
     "text": [
      "epoch: 0, loss=882.3352661132812, rec_loss=323.55364990234375, total_div_loss=11.868779182434082\n",
      "epoch: 1, loss=842.9118041992188, rec_loss=280.90960693359375, total_div_loss=15.95385456085205\n",
      "epoch: 2, loss=833.99072265625, rec_loss=271.1559753417969, total_div_loss=16.97806167602539\n",
      "epoch: 3, loss=831.0304565429688, rec_loss=267.6246643066406, total_div_loss=17.66572380065918\n",
      "epoch: 4, loss=829.6016235351562, rec_loss=265.91729736328125, total_div_loss=18.010046005249023\n",
      "epoch: 5, loss=828.77587890625, rec_loss=264.83648681640625, total_div_loss=18.28383445739746\n",
      "epoch: 6, loss=827.836669921875, rec_loss=264.0345764160156, total_div_loss=18.204912185668945\n",
      "epoch: 7, loss=827.3883056640625, rec_loss=263.50250244140625, total_div_loss=18.299375534057617\n",
      "epoch: 8, loss=827.0670776367188, rec_loss=263.1199951171875, total_div_loss=18.399784088134766\n",
      "epoch: 9, loss=826.61328125, rec_loss=262.71893310546875, total_div_loss=18.371368408203125\n",
      "epoch: 0, loss=480.257568359375, rec_loss=180.7962188720703, total_div_loss=11.223749160766602\n",
      "epoch: 1, loss=463.4721374511719, rec_loss=166.48196411132812, total_div_loss=11.950913429260254\n",
      "epoch: 2, loss=459.0633239746094, rec_loss=161.16990661621094, total_div_loss=13.168041229248047\n",
      "epoch: 3, loss=455.5267639160156, rec_loss=158.26902770996094, total_div_loss=13.970429420471191\n",
      "epoch: 4, loss=454.1923522949219, rec_loss=155.95193481445312, total_div_loss=14.592455863952637\n",
      "epoch: 5, loss=452.9972229003906, rec_loss=154.64329528808594, total_div_loss=15.095809936523438\n",
      "epoch: 6, loss=452.40826416015625, rec_loss=153.8228302001953, total_div_loss=15.386085510253906\n",
      "epoch: 7, loss=451.502685546875, rec_loss=153.05657958984375, total_div_loss=15.550819396972656\n",
      "epoch: 8, loss=451.2484130859375, rec_loss=152.47164916992188, total_div_loss=15.684959411621094\n",
      "epoch: 9, loss=451.37640380859375, rec_loss=151.9574737548828, total_div_loss=15.727404594421387\n"
     ]
    },
    {
     "name": "stderr",
     "output_type": "stream",
     "text": [
      "100%|██████████| 7/7 [02:35<00:00, 22.25s/it]\n"
     ]
    },
    {
     "name": "stdout",
     "output_type": "stream",
     "text": [
      "epoch: 0, loss=881.1354370117188, rec_loss=323.1217956542969, total_div_loss=11.409282684326172\n",
      "epoch: 1, loss=840.3844604492188, rec_loss=280.5863342285156, total_div_loss=14.154522895812988\n",
      "epoch: 2, loss=832.8284912109375, rec_loss=272.1751403808594, total_div_loss=15.182563781738281\n",
      "epoch: 3, loss=830.2005004882812, rec_loss=269.0063171386719, total_div_loss=15.82284164428711\n",
      "epoch: 4, loss=828.2120971679688, rec_loss=266.6905517578125, total_div_loss=16.234737396240234\n",
      "epoch: 5, loss=827.1129150390625, rec_loss=265.1929931640625, total_div_loss=16.66802215576172\n",
      "epoch: 6, loss=826.1986083984375, rec_loss=264.15045166015625, total_div_loss=16.832855224609375\n",
      "epoch: 7, loss=825.40869140625, rec_loss=263.3125305175781, total_div_loss=16.91683006286621\n",
      "epoch: 8, loss=825.094482421875, rec_loss=262.8172912597656, total_div_loss=17.133073806762695\n",
      "epoch: 9, loss=824.730224609375, rec_loss=262.4314880371094, total_div_loss=17.17717933654785\n",
      "epoch: 0, loss=470.5045166015625, rec_loss=180.0088348388672, total_div_loss=11.536503791809082\n",
      "epoch: 1, loss=453.14068603515625, rec_loss=164.5802764892578, total_div_loss=12.554841995239258\n",
      "epoch: 2, loss=448.10614013671875, rec_loss=159.45216369628906, total_div_loss=13.722496032714844\n",
      "epoch: 3, loss=446.2685241699219, rec_loss=156.7733154296875, total_div_loss=14.399116516113281\n",
      "epoch: 4, loss=444.85931396484375, rec_loss=155.1386260986328, total_div_loss=14.844923973083496\n",
      "epoch: 5, loss=443.3915710449219, rec_loss=154.09103393554688, total_div_loss=15.046222686767578\n",
      "epoch: 6, loss=443.3196716308594, rec_loss=153.1833953857422, total_div_loss=15.306703567504883\n",
      "epoch: 7, loss=442.7177734375, rec_loss=152.5723419189453, total_div_loss=15.520484924316406\n",
      "epoch: 8, loss=442.406494140625, rec_loss=152.1327362060547, total_div_loss=15.729125022888184\n",
      "epoch: 9, loss=442.1541442871094, rec_loss=151.72836303710938, total_div_loss=15.780738830566406\n"
     ]
    },
    {
     "name": "stderr",
     "output_type": "stream",
     "text": [
      "100%|██████████| 7/7 [02:39<00:00, 22.72s/it]\n"
     ]
    },
    {
     "name": "stdout",
     "output_type": "stream",
     "text": [
      "epoch: 0, loss=881.8001708984375, rec_loss=322.51666259765625, total_div_loss=12.228106498718262\n",
      "epoch: 1, loss=841.5650024414062, rec_loss=280.15765380859375, total_div_loss=14.926261901855469\n",
      "epoch: 2, loss=833.6214599609375, rec_loss=271.47430419921875, total_div_loss=15.76183032989502\n",
      "epoch: 3, loss=830.1779174804688, rec_loss=267.527099609375, total_div_loss=16.33484649658203\n",
      "epoch: 4, loss=828.6974487304688, rec_loss=265.6979064941406, total_div_loss=16.721275329589844\n",
      "epoch: 5, loss=827.6818237304688, rec_loss=264.5208435058594, total_div_loss=16.94794273376465\n",
      "epoch: 6, loss=827.0484008789062, rec_loss=263.6932067871094, total_div_loss=17.18001937866211\n",
      "epoch: 7, loss=826.3844604492188, rec_loss=262.96099853515625, total_div_loss=17.270259857177734\n",
      "epoch: 8, loss=826.1036987304688, rec_loss=262.4926452636719, total_div_loss=17.47995948791504\n",
      "epoch: 9, loss=825.6807250976562, rec_loss=262.0513916015625, total_div_loss=17.549592971801758\n",
      "epoch: 0, loss=471.3250732421875, rec_loss=178.61634826660156, total_div_loss=11.691905975341797\n",
      "epoch: 1, loss=454.27874755859375, rec_loss=163.34585571289062, total_div_loss=12.660562515258789\n",
      "epoch: 2, loss=450.16021728515625, rec_loss=158.43934631347656, total_div_loss=13.77157211303711\n",
      "epoch: 3, loss=448.535400390625, rec_loss=156.1959228515625, total_div_loss=14.520931243896484\n",
      "epoch: 4, loss=446.9637756347656, rec_loss=154.67626953125, total_div_loss=14.924477577209473\n",
      "epoch: 5, loss=446.49560546875, rec_loss=153.51141357421875, total_div_loss=15.34890079498291\n",
      "epoch: 6, loss=445.5931701660156, rec_loss=152.61642456054688, total_div_loss=15.567792892456055\n",
      "epoch: 7, loss=444.8638916015625, rec_loss=152.04843139648438, total_div_loss=15.7583646774292\n",
      "epoch: 8, loss=444.6882019042969, rec_loss=151.5793914794922, total_div_loss=15.883545875549316\n",
      "epoch: 9, loss=443.50250244140625, rec_loss=151.13461303710938, total_div_loss=15.897793769836426\n"
     ]
    },
    {
     "name": "stderr",
     "output_type": "stream",
     "text": [
      "100%|██████████| 7/7 [02:47<00:00, 23.96s/it]\n"
     ]
    },
    {
     "name": "stdout",
     "output_type": "stream",
     "text": [
      "epoch: 0, loss=881.3013305664062, rec_loss=322.6269226074219, total_div_loss=12.005391120910645\n",
      "epoch: 1, loss=840.9617919921875, rec_loss=279.283203125, total_div_loss=15.9032621383667\n",
      "epoch: 2, loss=833.8262939453125, rec_loss=271.3272705078125, total_div_loss=16.869237899780273\n",
      "epoch: 3, loss=830.8634643554688, rec_loss=267.99371337890625, total_div_loss=17.312910079956055\n",
      "epoch: 4, loss=828.9489135742188, rec_loss=265.96630859375, total_div_loss=17.44205665588379\n",
      "epoch: 5, loss=827.3142700195312, rec_loss=264.4073791503906, total_div_loss=17.378774642944336\n",
      "epoch: 6, loss=826.317626953125, rec_loss=263.4772644042969, total_div_loss=17.303197860717773\n",
      "epoch: 7, loss=825.4873657226562, rec_loss=262.6854553222656, total_div_loss=17.28038787841797\n",
      "epoch: 8, loss=825.0408935546875, rec_loss=262.201171875, total_div_loss=17.330080032348633\n",
      "epoch: 9, loss=824.6445922851562, rec_loss=261.77069091796875, total_div_loss=17.38921356201172\n",
      "epoch: 0, loss=472.3203430175781, rec_loss=180.36363220214844, total_div_loss=10.951373100280762\n",
      "epoch: 1, loss=456.3710632324219, rec_loss=166.51832580566406, total_div_loss=11.355367660522461\n",
      "epoch: 2, loss=451.2344665527344, rec_loss=160.3104248046875, total_div_loss=12.916444778442383\n",
      "epoch: 3, loss=448.26123046875, rec_loss=157.20309448242188, total_div_loss=13.91618537902832\n",
      "epoch: 4, loss=446.2479553222656, rec_loss=154.94129943847656, total_div_loss=14.50240421295166\n",
      "epoch: 5, loss=445.2660827636719, rec_loss=153.4153594970703, total_div_loss=15.114827156066895\n",
      "epoch: 6, loss=444.51959228515625, rec_loss=152.4987335205078, total_div_loss=15.407416343688965\n",
      "epoch: 7, loss=443.2972106933594, rec_loss=151.80897521972656, total_div_loss=15.677643775939941\n",
      "epoch: 8, loss=443.1138916015625, rec_loss=151.24081420898438, total_div_loss=15.815500259399414\n",
      "epoch: 9, loss=443.0014953613281, rec_loss=150.8484344482422, total_div_loss=15.97745132446289\n"
     ]
    },
    {
     "name": "stderr",
     "output_type": "stream",
     "text": [
      "100%|██████████| 7/7 [02:40<00:00, 22.92s/it]\n"
     ]
    }
   ],
   "source": [
    "for exp_num in range(5):\n",
    "    epochs = 10\n",
    "    name = f\"fash_to_mnist_{exp_num}\"\n",
    "    cult_trainer = CULTTrainer(name, optimizer, lr, kl_scale, e_prox_scale, d_prox_scale, encoder_type, decoder_type, final_size, latents, max_envs, atyp_min, atyp_max, env_optim, env_lr, env_epochs, replay_batch_size, steps_per_save, device)\n",
    "    cult_trainer.train(fashion_train_loader, epochs, [fashion_test_batch, mnist_test_batch])\n",
    "    cult_trainer.train(mnist_train_loader, epochs, [fashion_test_batch, mnist_test_batch])\n",
    "    cult_trainer.train_latent_classifiers([fashion_train_loader, mnist_train_loader], [fashion_test_loader, mnist_test_loader], [\"fashion_mnist\", \"mnist\"], [10, 10], epochs=3, lr=1e-2, verbose=False)\n",
    "    cult_trainer.model.eval()\n",
    "    cult_trainer.model.env_net.eval()\n",
    "    fashion_rec_loss = cult_trainer.rec_loss(fashion_test_loader)\n",
    "    mnist_rec_loss = cult_trainer.rec_loss(mnist_test_loader)\n",
    "    cult_trainer.writer.add_scalar(\"eval/fashion_rec_loss\", fashion_rec_loss)\n",
    "    cult_trainer.writer.add_scalar(\"eval/mnist_recc_loss\", mnist_rec_loss)\n",
    "    fashion_env_acc = cult_trainer.env_accuracy(fashion_test_loader, 0)\n",
    "    mnist_env_acc = cult_trainer.env_accuracy(mnist_test_loader, 1)\n",
    "    cult_trainer.writer.add_scalar(\"eval/fashion_env_acc\", fashion_env_acc)\n",
    "    cult_trainer.writer.add_scalar(\"eval/mnist_env_acc\", mnist_env_acc)"
   ]
  },
  {
   "cell_type": "markdown",
   "metadata": {},
   "source": [
    "## MNIST -> Fashion MNIST"
   ]
  },
  {
   "cell_type": "code",
   "execution_count": null,
   "metadata": {},
   "outputs": [],
   "source": [
    "optimizer = torch.optim.Adam\n",
    "lr = 1e-3\n",
    "kl_scale = 1\n",
    "e_prox_scale = 1 #might need to scale?\n",
    "d_prox_scale = 1 #might need to scale\n",
    "encoder_type = FCEncoder\n",
    "decoder_type = FCDecoder\n",
    "final_size = 50\n",
    "latents = 16\n",
    "max_envs = 7\n",
    "atyp_min = .25\n",
    "atyp_max = 1.4\n",
    "env_optim = torch.optim.Adam\n",
    "env_lr=1e-4\n",
    "env_epochs = 1 #increasing due to poor performance\n",
    "replay_batch_size = 64\n",
    "steps_per_save = 2500"
   ]
  },
  {
   "cell_type": "code",
   "execution_count": null,
   "metadata": {},
   "outputs": [
    {
     "name": "stdout",
     "output_type": "stream",
     "text": [
      "epoch: 0, loss=764.3453979492188, rec_loss=210.51756286621094, total_div_loss=6.841984272003174\n",
      "epoch: 1, loss=728.7280883789062, rec_loss=172.51577758789062, total_div_loss=9.332086563110352\n",
      "epoch: 2, loss=721.8748168945312, rec_loss=163.42025756835938, total_div_loss=11.954620361328125\n",
      "epoch: 3, loss=717.7255249023438, rec_loss=158.1334686279297, total_div_loss=13.453836441040039\n",
      "epoch: 4, loss=715.6884765625, rec_loss=154.83721923828125, total_div_loss=14.420963287353516\n",
      "epoch: 5, loss=713.866943359375, rec_loss=152.75584411621094, total_div_loss=15.089506149291992\n",
      "epoch: 6, loss=713.3990478515625, rec_loss=151.5978240966797, total_div_loss=15.527010917663574\n",
      "epoch: 7, loss=712.3328247070312, rec_loss=150.55862426757812, total_div_loss=15.88389778137207\n",
      "epoch: 8, loss=711.7504272460938, rec_loss=149.72372436523438, total_div_loss=16.069578170776367\n",
      "epoch: 9, loss=711.3583984375, rec_loss=149.1879425048828, total_div_loss=16.326169967651367\n",
      "epoch: 0, loss=492.3997497558594, rec_loss=295.59710693359375, total_div_loss=19.998823165893555\n",
      "epoch: 1, loss=468.1090393066406, rec_loss=275.50201416015625, total_div_loss=18.17359733581543\n",
      "epoch: 2, loss=462.1850280761719, rec_loss=270.3234558105469, total_div_loss=17.792945861816406\n",
      "epoch: 3, loss=458.626708984375, rec_loss=267.8088684082031, total_div_loss=17.36640739440918\n",
      "epoch: 4, loss=457.0563659667969, rec_loss=266.24969482421875, total_div_loss=17.33355712890625\n",
      "epoch: 5, loss=455.36297607421875, rec_loss=265.1564025878906, total_div_loss=17.3408203125\n",
      "epoch: 6, loss=454.03802490234375, rec_loss=264.2576904296875, total_div_loss=17.270145416259766\n",
      "epoch: 7, loss=453.9687194824219, rec_loss=263.7144470214844, total_div_loss=17.412248611450195\n",
      "epoch: 8, loss=453.28387451171875, rec_loss=263.26617431640625, total_div_loss=17.42439079284668\n",
      "epoch: 9, loss=452.87640380859375, rec_loss=262.8715515136719, total_div_loss=17.46509552001953\n"
     ]
    },
    {
     "name": "stderr",
     "output_type": "stream",
     "text": [
      "  0%|          | 0/7 [00:00<?, ?it/s]"
     ]
    },
    {
     "name": "stdout",
     "output_type": "stream",
     "text": [
      "epoch 0 acc tensor(0.8874)\n",
      "epoch 1 acc tensor(0.9027)\n",
      "epoch 2 acc tensor(0.9029)\n",
      "epoch 0 acc tensor(0.7150)\n",
      "epoch 1 acc tensor(0.7381)\n",
      "epoch 2 acc tensor(0.7493)\n"
     ]
    },
    {
     "name": "stderr",
     "output_type": "stream",
     "text": [
      " 14%|█▍        | 1/7 [00:27<02:45, 27.51s/it]"
     ]
    },
    {
     "name": "stdout",
     "output_type": "stream",
     "text": [
      "epoch 0 acc tensor(0.8864)\n",
      "epoch 1 acc tensor(0.8962)\n",
      "epoch 2 acc tensor(0.9002)\n",
      "epoch 0 acc tensor(0.7235)\n",
      "epoch 1 acc tensor(0.7386)\n",
      "epoch 2 acc tensor(0.7509)\n"
     ]
    },
    {
     "name": "stderr",
     "output_type": "stream",
     "text": [
      " 29%|██▊       | 2/7 [00:55<02:17, 27.53s/it]"
     ]
    },
    {
     "name": "stdout",
     "output_type": "stream",
     "text": [
      "epoch 0 acc tensor(0.8873)\n",
      "epoch 1 acc tensor(0.8992)\n",
      "epoch 2 acc tensor(0.8991)\n",
      "epoch 0 acc tensor(0.6938)\n",
      "epoch 1 acc tensor(0.6939)\n",
      "epoch 2 acc tensor(0.7306)\n"
     ]
    },
    {
     "name": "stderr",
     "output_type": "stream",
     "text": [
      " 43%|████▎     | 3/7 [01:22<01:50, 27.65s/it]"
     ]
    },
    {
     "name": "stdout",
     "output_type": "stream",
     "text": [
      "epoch 0 acc tensor(0.8570)\n",
      "epoch 1 acc tensor(0.8680)\n",
      "epoch 2 acc tensor(0.8765)\n",
      "epoch 0 acc tensor(0.7513)\n",
      "epoch 1 acc tensor(0.7594)\n",
      "epoch 2 acc tensor(0.7695)\n"
     ]
    },
    {
     "name": "stderr",
     "output_type": "stream",
     "text": [
      " 57%|█████▋    | 4/7 [01:50<01:22, 27.58s/it]"
     ]
    },
    {
     "name": "stdout",
     "output_type": "stream",
     "text": [
      "epoch 0 acc tensor(0.8662)\n",
      "epoch 1 acc tensor(0.8775)\n",
      "epoch 2 acc tensor(0.8893)\n",
      "epoch 0 acc tensor(0.7654)\n",
      "epoch 1 acc tensor(0.7778)\n",
      "epoch 2 acc tensor(0.7781)\n"
     ]
    },
    {
     "name": "stderr",
     "output_type": "stream",
     "text": [
      " 71%|███████▏  | 5/7 [02:17<00:55, 27.58s/it]"
     ]
    },
    {
     "name": "stdout",
     "output_type": "stream",
     "text": [
      "epoch 0 acc tensor(0.8643)\n",
      "epoch 1 acc tensor(0.8754)\n",
      "epoch 2 acc tensor(0.8842)\n",
      "epoch 0 acc tensor(0.7666)\n",
      "epoch 1 acc tensor(0.7676)\n",
      "epoch 2 acc tensor(0.7767)\n"
     ]
    },
    {
     "name": "stderr",
     "output_type": "stream",
     "text": [
      " 86%|████████▌ | 6/7 [02:45<00:27, 27.62s/it]"
     ]
    },
    {
     "name": "stdout",
     "output_type": "stream",
     "text": [
      "epoch 0 acc tensor(0.8527)\n",
      "epoch 1 acc tensor(0.8664)\n",
      "epoch 2 acc tensor(0.8613)\n",
      "epoch 0 acc tensor(0.7515)\n",
      "epoch 1 acc tensor(0.7688)\n",
      "epoch 2 acc tensor(0.7733)\n"
     ]
    },
    {
     "name": "stderr",
     "output_type": "stream",
     "text": [
      "100%|██████████| 7/7 [03:12<00:00, 27.46s/it]\n"
     ]
    }
   ],
   "source": [
    "for exp_num in range(5):\n",
    "    epochs = 10\n",
    "    name = f\"mnist_to_fash_{exp_num}\"\n",
    "    cult_trainer = CULTTrainer(name, optimizer, lr, kl_scale, e_prox_scale, d_prox_scale, encoder_type, decoder_type, final_size, latents, max_envs, atyp_min, atyp_max, env_optim, env_lr, env_epochs, replay_batch_size, steps_per_save, device)\n",
    "    cult_trainer.train(mnist_train_loader, epochs, [mnist_test_batch, fashion_test_batch])\n",
    "    cult_trainer.train(fashion_train_loader, epochs, [mnist_test_batch, fashion_test_batch])\n",
    "    cult_trainer.train_latent_classifiers([mnist_train_loader, fashion_train_loader], [mnist_test_loader, fashion_test_loader], [\"mnist\", \"fashion_mnist\"], [10, 10], epochs=3, lr=1e-2)\n",
    "    cult_trainer.model.eval()\n",
    "    fashion_rec_loss = cult_trainer.rec_loss(fashion_test_loader)\n",
    "    mnist_rec_loss = cult_trainer.rec_loss(mnist_test_loader)\n",
    "    cult_trainer.writer.add_scalar(\"eval/fashion_rec_loss\", fashion_rec_loss)\n",
    "    cult_trainer.writer.add_scalar(\"eval/mnist_recc_loss\", mnist_rec_loss)\n",
    "    fashion_env_acc = cult_trainer.env_accuracy(fashion_test_loader, 1)\n",
    "    mnist_env_acc = cult_trainer.env_accuracy(mnist_test_loader, 0)\n",
    "    cult_trainer.writer.add_scalar(\"eval/fashion_env_acc\", fashion_env_acc)\n",
    "    cult_trainer.writer.add_scalar(\"eval/mnist_env_acc\", mnist_env_acc)\n"
   ]
  },
  {
   "cell_type": "markdown",
   "metadata": {},
   "source": [
    "## Static Update: FashionMNIST -> MNIST"
   ]
  },
  {
   "cell_type": "code",
   "execution_count": null,
   "metadata": {},
   "outputs": [],
   "source": [
    "optimizer = torch.optim.Adam\n",
    "lr = 1e-3\n",
    "kl_scale = 1\n",
    "e_prox_scale = 1 #might need to scale?\n",
    "d_prox_scale = 1 #might need to scale\n",
    "encoder_type = FCEncoder\n",
    "decoder_type = FCDecoder\n",
    "final_size = 50\n",
    "latents = 16\n",
    "max_envs = 7\n",
    "atyp_min = .25\n",
    "atyp_max = 1.4\n",
    "env_optim = torch.optim.Adam\n",
    "env_lr=1e-4\n",
    "env_epochs = 1 #increasing due to poor performance\n",
    "replay_batch_size = 64\n",
    "steps_per_save = 2500\n",
    "steps_per_reset = 500 # if None, replay model only updated at new environment"
   ]
  },
  {
   "cell_type": "code",
   "execution_count": null,
   "metadata": {},
   "outputs": [
    {
     "name": "stdout",
     "output_type": "stream",
     "text": [
      "epoch: 0, loss=796.3815307617188, rec_loss=321.3736877441406, total_div_loss=13.189351081848145\n",
      "epoch: 1, loss=614.6005859375, rec_loss=278.6806335449219, total_div_loss=15.87909984588623\n",
      "epoch: 2, loss=585.7134399414062, rec_loss=270.21435546875, total_div_loss=17.573097229003906\n",
      "epoch: 3, loss=573.8211059570312, rec_loss=266.4117736816406, total_div_loss=18.862581253051758\n",
      "epoch: 4, loss=567.7890014648438, rec_loss=264.202880859375, total_div_loss=19.71156883239746\n",
      "epoch: 5, loss=564.7792358398438, rec_loss=262.7940979003906, total_div_loss=20.17998504638672\n",
      "epoch: 6, loss=563.1238403320312, rec_loss=261.83990478515625, total_div_loss=20.57794761657715\n",
      "epoch: 7, loss=561.0931396484375, rec_loss=260.9774169921875, total_div_loss=20.922508239746094\n",
      "epoch: 8, loss=559.92431640625, rec_loss=260.3429870605469, total_div_loss=21.067846298217773\n",
      "epoch: 9, loss=558.4791259765625, rec_loss=259.9775695800781, total_div_loss=21.276567459106445\n",
      "epoch: 0, loss=438.9420166015625, rec_loss=181.1367645263672, total_div_loss=11.46544075012207\n",
      "epoch: 1, loss=368.29754638671875, rec_loss=165.73521423339844, total_div_loss=12.522045135498047\n",
      "epoch: 2, loss=349.06451416015625, rec_loss=160.45217895507812, total_div_loss=13.604374885559082\n",
      "epoch: 3, loss=342.8428955078125, rec_loss=157.21926879882812, total_div_loss=14.476751327514648\n",
      "epoch: 4, loss=340.2609558105469, rec_loss=155.38978576660156, total_div_loss=15.05983829498291\n",
      "epoch: 5, loss=338.3412170410156, rec_loss=154.24417114257812, total_div_loss=15.420703887939453\n",
      "epoch: 6, loss=337.10443115234375, rec_loss=153.44313049316406, total_div_loss=15.573258399963379\n",
      "epoch: 7, loss=336.7254943847656, rec_loss=152.81092834472656, total_div_loss=15.652820587158203\n",
      "epoch: 8, loss=335.5625305175781, rec_loss=152.33270263671875, total_div_loss=15.824749946594238\n",
      "epoch: 9, loss=334.4776306152344, rec_loss=151.79356384277344, total_div_loss=15.92441177368164\n"
     ]
    },
    {
     "name": "stderr",
     "output_type": "stream",
     "text": [
      "  0%|          | 0/7 [00:00<?, ?it/s]"
     ]
    },
    {
     "name": "stdout",
     "output_type": "stream",
     "text": [
      "epoch 0 acc tensor(0.7504)\n",
      "epoch 1 acc tensor(0.7710)\n",
      "epoch 2 acc tensor(0.7737)\n",
      "epoch 0 acc tensor(0.7251)\n",
      "epoch 1 acc tensor(0.7545)\n",
      "epoch 2 acc tensor(0.7658)\n"
     ]
    },
    {
     "name": "stderr",
     "output_type": "stream",
     "text": [
      " 14%|█▍        | 1/7 [00:34<03:26, 34.38s/it]"
     ]
    },
    {
     "name": "stdout",
     "output_type": "stream",
     "text": [
      "epoch 0 acc tensor(0.7510)\n",
      "epoch 1 acc tensor(0.7576)\n",
      "epoch 2 acc tensor(0.7742)\n",
      "epoch 0 acc tensor(0.6426)\n",
      "epoch 1 acc tensor(0.6915)\n",
      "epoch 2 acc tensor(0.7246)\n"
     ]
    },
    {
     "name": "stderr",
     "output_type": "stream",
     "text": [
      " 29%|██▊       | 2/7 [01:08<02:49, 33.99s/it]"
     ]
    },
    {
     "name": "stdout",
     "output_type": "stream",
     "text": [
      "epoch 0 acc tensor(0.7385)\n",
      "epoch 1 acc tensor(0.7564)\n",
      "epoch 2 acc tensor(0.7584)\n",
      "epoch 0 acc tensor(0.5755)\n",
      "epoch 1 acc tensor(0.6387)\n",
      "epoch 2 acc tensor(0.6831)\n"
     ]
    },
    {
     "name": "stderr",
     "output_type": "stream",
     "text": [
      " 43%|████▎     | 3/7 [01:41<02:14, 33.66s/it]"
     ]
    },
    {
     "name": "stdout",
     "output_type": "stream",
     "text": [
      "epoch 0 acc tensor(0.7421)\n",
      "epoch 1 acc tensor(0.7562)\n",
      "epoch 2 acc tensor(0.7527)\n",
      "epoch 0 acc tensor(0.7619)\n",
      "epoch 1 acc tensor(0.7802)\n",
      "epoch 2 acc tensor(0.8046)\n"
     ]
    },
    {
     "name": "stderr",
     "output_type": "stream",
     "text": [
      " 57%|█████▋    | 4/7 [02:17<01:44, 34.81s/it]"
     ]
    },
    {
     "name": "stdout",
     "output_type": "stream",
     "text": [
      "epoch 0 acc tensor(0.6962)\n",
      "epoch 1 acc tensor(0.7165)\n",
      "epoch 2 acc tensor(0.7103)\n",
      "epoch 0 acc tensor(0.7873)\n",
      "epoch 1 acc tensor(0.8254)\n",
      "epoch 2 acc tensor(0.8329)\n"
     ]
    },
    {
     "name": "stderr",
     "output_type": "stream",
     "text": [
      " 71%|███████▏  | 5/7 [02:53<01:10, 35.13s/it]"
     ]
    },
    {
     "name": "stdout",
     "output_type": "stream",
     "text": [
      "epoch 0 acc tensor(0.7090)\n",
      "epoch 1 acc tensor(0.7201)\n",
      "epoch 2 acc tensor(0.7288)\n",
      "epoch 0 acc tensor(0.8098)\n",
      "epoch 1 acc tensor(0.8380)\n",
      "epoch 2 acc tensor(0.8482)\n"
     ]
    },
    {
     "name": "stderr",
     "output_type": "stream",
     "text": [
      " 86%|████████▌ | 6/7 [03:26<00:34, 34.30s/it]"
     ]
    },
    {
     "name": "stdout",
     "output_type": "stream",
     "text": [
      "epoch 0 acc tensor(0.7118)\n",
      "epoch 1 acc tensor(0.7191)\n",
      "epoch 2 acc tensor(0.7214)\n",
      "epoch 0 acc tensor(0.8405)\n",
      "epoch 1 acc tensor(0.8429)\n",
      "epoch 2 acc tensor(0.8690)\n"
     ]
    },
    {
     "name": "stderr",
     "output_type": "stream",
     "text": [
      "100%|██████████| 7/7 [03:59<00:00, 34.17s/it]\n"
     ]
    },
    {
     "name": "stdout",
     "output_type": "stream",
     "text": [
      "epoch: 0, loss=792.9951171875, rec_loss=319.96270751953125, total_div_loss=13.596808433532715\n",
      "epoch: 1, loss=612.5584106445312, rec_loss=277.3134460449219, total_div_loss=16.88612937927246\n",
      "epoch: 2, loss=586.283203125, rec_loss=267.79473876953125, total_div_loss=19.08025550842285\n",
      "epoch: 3, loss=575.98095703125, rec_loss=263.74322509765625, total_div_loss=20.563785552978516\n",
      "epoch: 4, loss=570.0739135742188, rec_loss=261.9313049316406, total_div_loss=21.351295471191406\n",
      "epoch: 5, loss=566.2647705078125, rec_loss=260.92864990234375, total_div_loss=21.662004470825195\n",
      "epoch: 6, loss=564.476318359375, rec_loss=260.21148681640625, total_div_loss=21.91639518737793\n",
      "epoch: 7, loss=562.28173828125, rec_loss=259.67999267578125, total_div_loss=22.056108474731445\n",
      "epoch: 8, loss=562.007080078125, rec_loss=259.43670654296875, total_div_loss=22.04983139038086\n",
      "epoch: 9, loss=560.6005249023438, rec_loss=259.2016906738281, total_div_loss=22.048587799072266\n",
      "epoch: 0, loss=439.66546630859375, rec_loss=179.4946746826172, total_div_loss=11.792529106140137\n",
      "epoch: 1, loss=367.8169860839844, rec_loss=162.73855590820312, total_div_loss=13.732396125793457\n",
      "epoch: 2, loss=347.4314270019531, rec_loss=157.3721923828125, total_div_loss=15.089125633239746\n",
      "epoch: 3, loss=340.5767822265625, rec_loss=155.0181427001953, total_div_loss=15.671631813049316\n",
      "epoch: 4, loss=336.8040466308594, rec_loss=153.4604034423828, total_div_loss=16.183156967163086\n",
      "epoch: 5, loss=335.3831481933594, rec_loss=152.31326293945312, total_div_loss=16.75274085998535\n",
      "epoch: 6, loss=334.57891845703125, rec_loss=151.04232788085938, total_div_loss=17.28708839416504\n",
      "epoch: 7, loss=332.6568298339844, rec_loss=149.7817840576172, total_div_loss=17.95039176940918\n",
      "epoch: 8, loss=331.66766357421875, rec_loss=149.11288452148438, total_div_loss=18.50204849243164\n",
      "epoch: 9, loss=331.5571594238281, rec_loss=148.56480407714844, total_div_loss=18.77239227294922\n"
     ]
    },
    {
     "name": "stderr",
     "output_type": "stream",
     "text": [
      "  0%|          | 0/7 [00:00<?, ?it/s]"
     ]
    },
    {
     "name": "stdout",
     "output_type": "stream",
     "text": [
      "epoch 0 acc tensor(0.7607)\n",
      "epoch 1 acc tensor(0.7724)\n",
      "epoch 2 acc tensor(0.7747)\n",
      "epoch 0 acc tensor(0.7277)\n",
      "epoch 1 acc tensor(0.7640)\n",
      "epoch 2 acc tensor(0.7820)\n"
     ]
    },
    {
     "name": "stderr",
     "output_type": "stream",
     "text": [
      " 14%|█▍        | 1/7 [00:32<03:15, 32.60s/it]"
     ]
    },
    {
     "name": "stdout",
     "output_type": "stream",
     "text": [
      "epoch 0 acc tensor(0.7555)\n",
      "epoch 1 acc tensor(0.7597)\n",
      "epoch 2 acc tensor(0.7522)\n",
      "epoch 0 acc tensor(0.6926)\n",
      "epoch 1 acc tensor(0.7423)\n",
      "epoch 2 acc tensor(0.7637)\n"
     ]
    },
    {
     "name": "stderr",
     "output_type": "stream",
     "text": [
      " 29%|██▊       | 2/7 [01:03<02:38, 31.62s/it]"
     ]
    },
    {
     "name": "stdout",
     "output_type": "stream",
     "text": [
      "epoch 0 acc tensor(0.7465)\n",
      "epoch 1 acc tensor(0.7585)\n",
      "epoch 2 acc tensor(0.7686)\n",
      "epoch 0 acc tensor(0.6573)\n",
      "epoch 1 acc tensor(0.7122)\n",
      "epoch 2 acc tensor(0.7347)\n"
     ]
    },
    {
     "name": "stderr",
     "output_type": "stream",
     "text": [
      " 43%|████▎     | 3/7 [01:37<02:10, 32.56s/it]"
     ]
    },
    {
     "name": "stdout",
     "output_type": "stream",
     "text": [
      "epoch 0 acc tensor(0.7449)\n",
      "epoch 1 acc tensor(0.7388)\n",
      "epoch 2 acc tensor(0.7555)\n",
      "epoch 0 acc tensor(0.7573)\n",
      "epoch 1 acc tensor(0.7889)\n",
      "epoch 2 acc tensor(0.7990)\n"
     ]
    },
    {
     "name": "stderr",
     "output_type": "stream",
     "text": [
      " 57%|█████▋    | 4/7 [02:08<01:36, 32.12s/it]"
     ]
    },
    {
     "name": "stdout",
     "output_type": "stream",
     "text": [
      "epoch 0 acc tensor(0.7039)\n",
      "epoch 1 acc tensor(0.7072)\n",
      "epoch 2 acc tensor(0.7350)\n",
      "epoch 0 acc tensor(0.8152)\n",
      "epoch 1 acc tensor(0.8368)\n",
      "epoch 2 acc tensor(0.8452)\n"
     ]
    },
    {
     "name": "stderr",
     "output_type": "stream",
     "text": [
      " 71%|███████▏  | 5/7 [02:40<01:04, 32.17s/it]"
     ]
    },
    {
     "name": "stdout",
     "output_type": "stream",
     "text": [
      "epoch 0 acc tensor(0.6869)\n",
      "epoch 1 acc tensor(0.7182)\n",
      "epoch 2 acc tensor(0.7152)\n",
      "epoch 0 acc tensor(0.8003)\n",
      "epoch 1 acc tensor(0.8351)\n",
      "epoch 2 acc tensor(0.8482)\n"
     ]
    },
    {
     "name": "stderr",
     "output_type": "stream",
     "text": [
      " 86%|████████▌ | 6/7 [03:12<00:31, 31.89s/it]"
     ]
    },
    {
     "name": "stdout",
     "output_type": "stream",
     "text": [
      "epoch 0 acc tensor(0.6803)\n",
      "epoch 1 acc tensor(0.6959)\n",
      "epoch 2 acc tensor(0.7006)\n",
      "epoch 0 acc tensor(0.8361)\n",
      "epoch 1 acc tensor(0.8468)\n",
      "epoch 2 acc tensor(0.8667)\n"
     ]
    },
    {
     "name": "stderr",
     "output_type": "stream",
     "text": [
      "100%|██████████| 7/7 [03:43<00:00, 31.98s/it]\n"
     ]
    },
    {
     "name": "stdout",
     "output_type": "stream",
     "text": [
      "epoch: 0, loss=799.0175170898438, rec_loss=323.5497741699219, total_div_loss=13.428413391113281\n",
      "epoch: 1, loss=625.6571044921875, rec_loss=281.403076171875, total_div_loss=15.725753784179688\n",
      "epoch: 2, loss=591.867919921875, rec_loss=271.9954528808594, total_div_loss=16.96068572998047\n",
      "epoch: 3, loss=578.0994873046875, rec_loss=267.2109069824219, total_div_loss=18.721975326538086\n",
      "epoch: 4, loss=571.0552978515625, rec_loss=264.64788818359375, total_div_loss=19.840068817138672\n",
      "epoch: 5, loss=568.2080688476562, rec_loss=262.9278869628906, total_div_loss=20.58833885192871\n",
      "epoch: 6, loss=565.5624389648438, rec_loss=261.90667724609375, total_div_loss=21.147205352783203\n",
      "epoch: 7, loss=564.2085571289062, rec_loss=261.1842041015625, total_div_loss=21.437835693359375\n",
      "epoch: 8, loss=564.1858520507812, rec_loss=260.599365234375, total_div_loss=21.661958694458008\n",
      "epoch: 9, loss=563.0545043945312, rec_loss=260.226318359375, total_div_loss=21.832435607910156\n",
      "epoch: 0, loss=444.87078857421875, rec_loss=181.222900390625, total_div_loss=11.715805053710938\n",
      "epoch: 1, loss=374.9510192871094, rec_loss=163.96926879882812, total_div_loss=13.5864896774292\n",
      "epoch: 2, loss=352.0189208984375, rec_loss=157.6059112548828, total_div_loss=15.307072639465332\n",
      "epoch: 3, loss=344.77130126953125, rec_loss=155.31790161132812, total_div_loss=15.845520973205566\n",
      "epoch: 4, loss=341.6733703613281, rec_loss=153.9956512451172, total_div_loss=16.184743881225586\n",
      "epoch: 5, loss=339.3549499511719, rec_loss=153.0989532470703, total_div_loss=16.311277389526367\n",
      "epoch: 6, loss=337.7231140136719, rec_loss=152.39576721191406, total_div_loss=16.71622657775879\n",
      "epoch: 7, loss=336.1022644042969, rec_loss=151.2499542236328, total_div_loss=16.952911376953125\n",
      "epoch: 8, loss=334.4479064941406, rec_loss=150.2845001220703, total_div_loss=17.70149803161621\n",
      "epoch: 9, loss=333.4375, rec_loss=149.49795532226562, total_div_loss=18.093996047973633\n"
     ]
    },
    {
     "name": "stderr",
     "output_type": "stream",
     "text": [
      "  0%|          | 0/7 [00:00<?, ?it/s]"
     ]
    },
    {
     "name": "stdout",
     "output_type": "stream",
     "text": [
      "epoch 0 acc tensor(0.7603)\n",
      "epoch 1 acc tensor(0.7631)\n",
      "epoch 2 acc tensor(0.7741)\n",
      "epoch 0 acc tensor(0.7365)\n",
      "epoch 1 acc tensor(0.7632)\n",
      "epoch 2 acc tensor(0.7786)\n"
     ]
    },
    {
     "name": "stderr",
     "output_type": "stream",
     "text": [
      " 14%|█▍        | 1/7 [00:29<02:59, 29.85s/it]"
     ]
    },
    {
     "name": "stdout",
     "output_type": "stream",
     "text": [
      "epoch 0 acc tensor(0.7524)\n",
      "epoch 1 acc tensor(0.7623)\n",
      "epoch 2 acc tensor(0.7698)\n",
      "epoch 0 acc tensor(0.6725)\n",
      "epoch 1 acc tensor(0.7134)\n",
      "epoch 2 acc tensor(0.7302)\n"
     ]
    },
    {
     "name": "stderr",
     "output_type": "stream",
     "text": [
      " 29%|██▊       | 2/7 [01:00<02:30, 30.05s/it]"
     ]
    },
    {
     "name": "stdout",
     "output_type": "stream",
     "text": [
      "epoch 0 acc tensor(0.7519)\n",
      "epoch 1 acc tensor(0.7614)\n",
      "epoch 2 acc tensor(0.7678)\n",
      "epoch 0 acc tensor(0.6735)\n",
      "epoch 1 acc tensor(0.7426)\n",
      "epoch 2 acc tensor(0.7611)\n"
     ]
    },
    {
     "name": "stderr",
     "output_type": "stream",
     "text": [
      " 43%|████▎     | 3/7 [01:30<02:01, 30.25s/it]"
     ]
    },
    {
     "name": "stdout",
     "output_type": "stream",
     "text": [
      "epoch 0 acc tensor(0.7562)\n",
      "epoch 1 acc tensor(0.7647)\n",
      "epoch 2 acc tensor(0.7635)\n",
      "epoch 0 acc tensor(0.7267)\n",
      "epoch 1 acc tensor(0.7562)\n",
      "epoch 2 acc tensor(0.7770)\n"
     ]
    },
    {
     "name": "stderr",
     "output_type": "stream",
     "text": [
      " 57%|█████▋    | 4/7 [02:00<01:30, 30.12s/it]"
     ]
    },
    {
     "name": "stdout",
     "output_type": "stream",
     "text": [
      "epoch 0 acc tensor(0.7062)\n",
      "epoch 1 acc tensor(0.7185)\n",
      "epoch 2 acc tensor(0.7335)\n",
      "epoch 0 acc tensor(0.8109)\n",
      "epoch 1 acc tensor(0.8352)\n",
      "epoch 2 acc tensor(0.8365)\n"
     ]
    },
    {
     "name": "stderr",
     "output_type": "stream",
     "text": [
      " 71%|███████▏  | 5/7 [02:31<01:00, 30.28s/it]"
     ]
    },
    {
     "name": "stdout",
     "output_type": "stream",
     "text": [
      "epoch 0 acc tensor(0.6972)\n",
      "epoch 1 acc tensor(0.7042)\n",
      "epoch 2 acc tensor(0.7283)\n",
      "epoch 0 acc tensor(0.8118)\n",
      "epoch 1 acc tensor(0.8262)\n",
      "epoch 2 acc tensor(0.8396)\n"
     ]
    },
    {
     "name": "stderr",
     "output_type": "stream",
     "text": [
      " 86%|████████▌ | 6/7 [03:01<00:30, 30.40s/it]"
     ]
    },
    {
     "name": "stdout",
     "output_type": "stream",
     "text": [
      "epoch 0 acc tensor(0.6985)\n",
      "epoch 1 acc tensor(0.6896)\n",
      "epoch 2 acc tensor(0.7004)\n",
      "epoch 0 acc tensor(0.8284)\n",
      "epoch 1 acc tensor(0.8426)\n",
      "epoch 2 acc tensor(0.8470)\n"
     ]
    },
    {
     "name": "stderr",
     "output_type": "stream",
     "text": [
      "100%|██████████| 7/7 [03:32<00:00, 30.32s/it]\n"
     ]
    },
    {
     "name": "stdout",
     "output_type": "stream",
     "text": [
      "epoch: 0, loss=793.20849609375, rec_loss=321.2537841796875, total_div_loss=12.790082931518555\n",
      "epoch: 1, loss=614.8074340820312, rec_loss=282.41998291015625, total_div_loss=13.952102661132812\n",
      "epoch: 2, loss=586.1149291992188, rec_loss=272.09222412109375, total_div_loss=16.320289611816406\n",
      "epoch: 3, loss=574.0275268554688, rec_loss=267.81207275390625, total_div_loss=17.821853637695312\n",
      "epoch: 4, loss=569.130615234375, rec_loss=265.83917236328125, total_div_loss=18.547622680664062\n",
      "epoch: 5, loss=565.5845947265625, rec_loss=264.33447265625, total_div_loss=19.096376419067383\n",
      "epoch: 6, loss=563.5015869140625, rec_loss=263.3734436035156, total_div_loss=19.410011291503906\n",
      "epoch: 7, loss=561.6812133789062, rec_loss=262.6415100097656, total_div_loss=19.672170639038086\n",
      "epoch: 8, loss=559.5983276367188, rec_loss=262.0635070800781, total_div_loss=19.813867568969727\n",
      "epoch: 9, loss=559.849609375, rec_loss=261.6167297363281, total_div_loss=20.035024642944336\n",
      "epoch: 0, loss=439.05218505859375, rec_loss=182.44593811035156, total_div_loss=10.913224220275879\n",
      "epoch: 1, loss=370.1629333496094, rec_loss=169.06483459472656, total_div_loss=10.7314453125\n",
      "epoch: 2, loss=352.80572509765625, rec_loss=163.4775848388672, total_div_loss=11.842370986938477\n",
      "epoch: 3, loss=347.00860595703125, rec_loss=159.67330932617188, total_div_loss=13.16779899597168\n",
      "epoch: 4, loss=341.9029846191406, rec_loss=157.04624938964844, total_div_loss=14.327427864074707\n",
      "epoch: 5, loss=338.5080871582031, rec_loss=155.38087463378906, total_div_loss=15.070527076721191\n",
      "epoch: 6, loss=336.52020263671875, rec_loss=153.6824951171875, total_div_loss=15.737797737121582\n",
      "epoch: 7, loss=335.0301208496094, rec_loss=151.89964294433594, total_div_loss=16.70904541015625\n",
      "epoch: 8, loss=332.85870361328125, rec_loss=150.66009521484375, total_div_loss=17.391618728637695\n",
      "epoch: 9, loss=331.0276794433594, rec_loss=150.01419067382812, total_div_loss=17.84030532836914\n"
     ]
    },
    {
     "name": "stderr",
     "output_type": "stream",
     "text": [
      "  0%|          | 0/7 [00:00<?, ?it/s]"
     ]
    },
    {
     "name": "stdout",
     "output_type": "stream",
     "text": [
      "epoch 0 acc tensor(0.7498)\n",
      "epoch 1 acc tensor(0.7574)\n",
      "epoch 2 acc tensor(0.7673)\n",
      "epoch 0 acc tensor(0.7204)\n",
      "epoch 1 acc tensor(0.7679)\n",
      "epoch 2 acc tensor(0.7914)\n"
     ]
    },
    {
     "name": "stderr",
     "output_type": "stream",
     "text": [
      " 14%|█▍        | 1/7 [00:32<03:17, 32.85s/it]"
     ]
    },
    {
     "name": "stdout",
     "output_type": "stream",
     "text": [
      "epoch 0 acc tensor(0.7464)\n",
      "epoch 1 acc tensor(0.7587)\n",
      "epoch 2 acc tensor(0.7563)\n",
      "epoch 0 acc tensor(0.6635)\n",
      "epoch 1 acc tensor(0.7048)\n",
      "epoch 2 acc tensor(0.7226)\n"
     ]
    },
    {
     "name": "stderr",
     "output_type": "stream",
     "text": [
      " 29%|██▊       | 2/7 [01:05<02:42, 32.48s/it]"
     ]
    },
    {
     "name": "stdout",
     "output_type": "stream",
     "text": [
      "epoch 0 acc tensor(0.7404)\n",
      "epoch 1 acc tensor(0.7425)\n",
      "epoch 2 acc tensor(0.7605)\n",
      "epoch 0 acc tensor(0.6313)\n",
      "epoch 1 acc tensor(0.6888)\n",
      "epoch 2 acc tensor(0.7271)\n"
     ]
    },
    {
     "name": "stderr",
     "output_type": "stream",
     "text": [
      " 43%|████▎     | 3/7 [01:38<02:10, 32.74s/it]"
     ]
    },
    {
     "name": "stdout",
     "output_type": "stream",
     "text": [
      "epoch 0 acc tensor(0.6693)\n",
      "epoch 1 acc tensor(0.7404)\n",
      "epoch 2 acc tensor(0.7318)\n",
      "epoch 0 acc tensor(0.7112)\n",
      "epoch 1 acc tensor(0.7487)\n",
      "epoch 2 acc tensor(0.7691)\n"
     ]
    },
    {
     "name": "stderr",
     "output_type": "stream",
     "text": [
      " 57%|█████▋    | 4/7 [02:12<01:40, 33.52s/it]"
     ]
    },
    {
     "name": "stdout",
     "output_type": "stream",
     "text": [
      "epoch 0 acc tensor(0.6896)\n",
      "epoch 1 acc tensor(0.7132)\n",
      "epoch 2 acc tensor(0.7209)\n",
      "epoch 0 acc tensor(0.8029)\n",
      "epoch 1 acc tensor(0.8299)\n",
      "epoch 2 acc tensor(0.8366)\n"
     ]
    },
    {
     "name": "stderr",
     "output_type": "stream",
     "text": [
      " 71%|███████▏  | 5/7 [02:49<01:09, 34.59s/it]"
     ]
    },
    {
     "name": "stdout",
     "output_type": "stream",
     "text": [
      "epoch 0 acc tensor(0.7116)\n",
      "epoch 1 acc tensor(0.7074)\n",
      "epoch 2 acc tensor(0.7287)\n",
      "epoch 0 acc tensor(0.8116)\n",
      "epoch 1 acc tensor(0.8249)\n",
      "epoch 2 acc tensor(0.8448)\n"
     ]
    },
    {
     "name": "stderr",
     "output_type": "stream",
     "text": [
      " 86%|████████▌ | 6/7 [03:26<00:35, 35.31s/it]"
     ]
    },
    {
     "name": "stdout",
     "output_type": "stream",
     "text": [
      "epoch 0 acc tensor(0.7009)\n",
      "epoch 1 acc tensor(0.7151)\n",
      "epoch 2 acc tensor(0.7276)\n",
      "epoch 0 acc tensor(0.8367)\n",
      "epoch 1 acc tensor(0.8544)\n",
      "epoch 2 acc tensor(0.8670)\n"
     ]
    },
    {
     "name": "stderr",
     "output_type": "stream",
     "text": [
      "100%|██████████| 7/7 [04:00<00:00, 34.36s/it]\n"
     ]
    }
   ],
   "source": [
    "for exp_num in range(5):\n",
    "    epochs = 10\n",
    "    name = f\"fixed_fash_to_mnist_{exp_num}\"\n",
    "    cult_trainer = CULTTrainer(name, optimizer, lr, kl_scale, e_prox_scale, d_prox_scale, encoder_type, decoder_type, final_size, latents, max_envs, atyp_min, atyp_max, env_optim, env_lr, env_epochs, replay_batch_size, steps_per_save, device, steps_per_reset)\n",
    "    cult_trainer.train(fashion_train_loader, epochs, [fashion_test_batch, mnist_test_batch])\n",
    "    cult_trainer.train(mnist_train_loader, epochs, [fashion_test_batch, mnist_test_batch])\n",
    "    cult_trainer.train_latent_classifiers([fashion_train_loader, mnist_train_loader], [fashion_test_loader, mnist_test_loader], [\"fashion_mnist\", \"mnist\"], [10, 10], epochs=3, lr=1e-2)\n",
    "    cult_trainer.model.eval()\n",
    "    fashion_rec_loss = cult_trainer.rec_loss(fashion_test_loader)\n",
    "    mnist_rec_loss = cult_trainer.rec_loss(mnist_test_loader)\n",
    "    cult_trainer.writer.add_scalar(\"eval/fashion_rec_loss\", fashion_rec_loss)\n",
    "    cult_trainer.writer.add_scalar(\"eval/mnist_recc_loss\", mnist_rec_loss)\n",
    "    fashion_env_acc = cult_trainer.env_accuracy(fashion_test_loader, 0)\n",
    "    mnist_env_acc = cult_trainer.env_accuracy(mnist_test_loader, 1)\n",
    "    cult_trainer.writer.add_scalar(\"eval/fashion_env_acc\", fashion_env_acc)\n",
    "    cult_trainer.writer.add_scalar(\"eval/mnist_env_acc\", mnist_env_acc)\n"
   ]
  },
  {
   "cell_type": "markdown",
   "metadata": {},
   "source": [
    "## No Replay: FashionMNIST -> MNIST"
   ]
  },
  {
   "cell_type": "code",
   "execution_count": null,
   "metadata": {},
   "outputs": [],
   "source": [
    "optimizer = torch.optim.Adam\n",
    "lr = 1e-3\n",
    "kl_scale = 1\n",
    "e_prox_scale = 0 \n",
    "d_prox_scale = 0 \n",
    "encoder_type = FCEncoder\n",
    "decoder_type = FCDecoder\n",
    "final_size = 50\n",
    "latents = 16\n",
    "max_envs = 7\n",
    "atyp_min = .25\n",
    "atyp_max = 1.4\n",
    "env_optim = torch.optim.Adam\n",
    "env_lr=1e-4\n",
    "env_epochs = 1\n",
    "replay_batch_size = 64\n",
    "steps_per_save = 2500"
   ]
  },
  {
   "cell_type": "code",
   "execution_count": null,
   "metadata": {},
   "outputs": [
    {
     "name": "stdout",
     "output_type": "stream",
     "text": [
      "epoch: 0, loss=334.8923034667969, rec_loss=323.24334716796875, total_div_loss=11.648744583129883\n",
      "epoch: 1, loss=294.34661865234375, rec_loss=280.0571594238281, total_div_loss=14.289599418640137\n",
      "epoch: 2, loss=285.8857727050781, rec_loss=270.50286865234375, total_div_loss=15.382989883422852\n",
      "epoch: 3, loss=282.7018127441406, rec_loss=266.8443298339844, total_div_loss=15.857505798339844\n",
      "epoch: 4, loss=281.1229248046875, rec_loss=264.9488220214844, total_div_loss=16.174055099487305\n",
      "epoch: 5, loss=280.21435546875, rec_loss=263.57806396484375, total_div_loss=16.636117935180664\n",
      "epoch: 6, loss=279.5182189941406, rec_loss=262.634765625, total_div_loss=16.883302688598633\n",
      "epoch: 7, loss=278.9308166503906, rec_loss=261.93914794921875, total_div_loss=16.99139976501465\n",
      "epoch: 8, loss=278.6372985839844, rec_loss=261.5247802734375, total_div_loss=17.112462997436523\n",
      "epoch: 9, loss=278.3917541503906, rec_loss=261.1748046875, total_div_loss=17.21686553955078\n",
      "epoch: 0, loss=184.9942626953125, rec_loss=175.27755737304688, total_div_loss=9.716602325439453\n",
      "epoch: 1, loss=170.91949462890625, rec_loss=159.07554626464844, total_div_loss=11.843913078308105\n",
      "epoch: 2, loss=168.47381591796875, rec_loss=155.603271484375, total_div_loss=12.87045669555664\n",
      "epoch: 3, loss=167.3048858642578, rec_loss=153.8844451904297, total_div_loss=13.42044734954834\n",
      "epoch: 4, loss=166.50534057617188, rec_loss=152.67506408691406, total_div_loss=13.830455780029297\n",
      "epoch: 5, loss=166.09523010253906, rec_loss=151.89747619628906, total_div_loss=14.197912216186523\n",
      "epoch: 6, loss=165.51461791992188, rec_loss=151.04029846191406, total_div_loss=14.474360466003418\n",
      "epoch: 7, loss=165.23318481445312, rec_loss=150.49977111816406, total_div_loss=14.733624458312988\n",
      "epoch: 8, loss=165.04852294921875, rec_loss=149.973876953125, total_div_loss=15.07473373413086\n",
      "epoch: 9, loss=164.6261444091797, rec_loss=149.41262817382812, total_div_loss=15.213436126708984\n"
     ]
    },
    {
     "name": "stderr",
     "output_type": "stream",
     "text": [
      "  0%|          | 0/7 [00:00<?, ?it/s]"
     ]
    },
    {
     "name": "stdout",
     "output_type": "stream",
     "text": [
      "epoch 0 acc tensor(0.7438)\n",
      "epoch 1 acc tensor(0.7671)\n",
      "epoch 2 acc tensor(0.7724)\n",
      "epoch 0 acc tensor(0.7176)\n",
      "epoch 1 acc tensor(0.7701)\n",
      "epoch 2 acc tensor(0.7757)\n"
     ]
    },
    {
     "name": "stderr",
     "output_type": "stream",
     "text": [
      " 14%|█▍        | 1/7 [00:23<02:23, 23.99s/it]"
     ]
    },
    {
     "name": "stdout",
     "output_type": "stream",
     "text": [
      "epoch 0 acc tensor(0.7400)\n",
      "epoch 1 acc tensor(0.7533)\n",
      "epoch 2 acc tensor(0.7582)\n",
      "epoch 0 acc tensor(0.6762)\n",
      "epoch 1 acc tensor(0.7087)\n",
      "epoch 2 acc tensor(0.7198)\n"
     ]
    },
    {
     "name": "stderr",
     "output_type": "stream",
     "text": [
      " 29%|██▊       | 2/7 [00:48<02:01, 24.25s/it]"
     ]
    },
    {
     "name": "stdout",
     "output_type": "stream",
     "text": [
      "epoch 0 acc tensor(0.7527)\n",
      "epoch 1 acc tensor(0.7448)\n",
      "epoch 2 acc tensor(0.7718)\n",
      "epoch 0 acc tensor(0.6611)\n",
      "epoch 1 acc tensor(0.6954)\n",
      "epoch 2 acc tensor(0.7018)\n"
     ]
    },
    {
     "name": "stderr",
     "output_type": "stream",
     "text": [
      " 43%|████▎     | 3/7 [01:12<01:37, 24.34s/it]"
     ]
    },
    {
     "name": "stdout",
     "output_type": "stream",
     "text": [
      "epoch 0 acc tensor(0.7369)\n",
      "epoch 1 acc tensor(0.7543)\n",
      "epoch 2 acc tensor(0.7599)\n",
      "epoch 0 acc tensor(0.7442)\n",
      "epoch 1 acc tensor(0.7602)\n",
      "epoch 2 acc tensor(0.7647)\n"
     ]
    },
    {
     "name": "stderr",
     "output_type": "stream",
     "text": [
      " 57%|█████▋    | 4/7 [01:37<01:13, 24.54s/it]"
     ]
    },
    {
     "name": "stdout",
     "output_type": "stream",
     "text": [
      "epoch 0 acc tensor(0.7206)\n",
      "epoch 1 acc tensor(0.7317)\n",
      "epoch 2 acc tensor(0.7386)\n",
      "epoch 0 acc tensor(0.8041)\n",
      "epoch 1 acc tensor(0.8213)\n",
      "epoch 2 acc tensor(0.8309)\n"
     ]
    },
    {
     "name": "stderr",
     "output_type": "stream",
     "text": [
      " 71%|███████▏  | 5/7 [02:01<00:48, 24.28s/it]"
     ]
    },
    {
     "name": "stdout",
     "output_type": "stream",
     "text": [
      "epoch 0 acc tensor(0.6983)\n",
      "epoch 1 acc tensor(0.7223)\n",
      "epoch 2 acc tensor(0.7194)\n",
      "epoch 0 acc tensor(0.8107)\n",
      "epoch 1 acc tensor(0.8187)\n",
      "epoch 2 acc tensor(0.8291)\n"
     ]
    },
    {
     "name": "stderr",
     "output_type": "stream",
     "text": [
      " 86%|████████▌ | 6/7 [02:25<00:24, 24.24s/it]"
     ]
    },
    {
     "name": "stdout",
     "output_type": "stream",
     "text": [
      "epoch 0 acc tensor(0.6768)\n",
      "epoch 1 acc tensor(0.6930)\n",
      "epoch 2 acc tensor(0.6768)\n",
      "epoch 0 acc tensor(0.8200)\n",
      "epoch 1 acc tensor(0.8334)\n",
      "epoch 2 acc tensor(0.8406)\n"
     ]
    },
    {
     "name": "stderr",
     "output_type": "stream",
     "text": [
      "100%|██████████| 7/7 [02:49<00:00, 24.18s/it]\n"
     ]
    },
    {
     "name": "stdout",
     "output_type": "stream",
     "text": [
      "epoch: 0, loss=333.8553466796875, rec_loss=321.3582763671875, total_div_loss=12.49676513671875\n",
      "epoch: 1, loss=293.4124450683594, rec_loss=278.4168395996094, total_div_loss=14.995670318603516\n",
      "epoch: 2, loss=285.5057678222656, rec_loss=269.786376953125, total_div_loss=15.719441413879395\n",
      "epoch: 3, loss=282.064697265625, rec_loss=265.8401184082031, total_div_loss=16.224658966064453\n",
      "epoch: 4, loss=280.67620849609375, rec_loss=264.04620361328125, total_div_loss=16.630428314208984\n",
      "epoch: 5, loss=279.7281494140625, rec_loss=263.00335693359375, total_div_loss=16.724855422973633\n",
      "epoch: 6, loss=279.21051025390625, rec_loss=262.27008056640625, total_div_loss=16.94050407409668\n",
      "epoch: 7, loss=278.77838134765625, rec_loss=261.748779296875, total_div_loss=17.02937126159668\n",
      "epoch: 8, loss=278.4950256347656, rec_loss=261.3277282714844, total_div_loss=17.167144775390625\n",
      "epoch: 9, loss=278.161376953125, rec_loss=260.97271728515625, total_div_loss=17.18875503540039\n",
      "epoch: 0, loss=183.8594970703125, rec_loss=173.80618286132812, total_div_loss=10.053396224975586\n",
      "epoch: 1, loss=170.66159057617188, rec_loss=158.62796020507812, total_div_loss=12.033705711364746\n",
      "epoch: 2, loss=168.2733917236328, rec_loss=155.3400421142578, total_div_loss=12.933398246765137\n",
      "epoch: 3, loss=167.01205444335938, rec_loss=153.37649536132812, total_div_loss=13.635687828063965\n",
      "epoch: 4, loss=166.1302032470703, rec_loss=151.848876953125, total_div_loss=14.281246185302734\n",
      "epoch: 5, loss=165.45216369628906, rec_loss=150.82705688476562, total_div_loss=14.625222206115723\n",
      "epoch: 6, loss=164.91824340820312, rec_loss=149.9072723388672, total_div_loss=15.010995864868164\n",
      "epoch: 7, loss=164.3751983642578, rec_loss=149.02671813964844, total_div_loss=15.348566055297852\n",
      "epoch: 8, loss=163.99905395507812, rec_loss=148.46717834472656, total_div_loss=15.531923294067383\n",
      "epoch: 9, loss=163.8610382080078, rec_loss=148.1495361328125, total_div_loss=15.7116117477417\n"
     ]
    },
    {
     "name": "stderr",
     "output_type": "stream",
     "text": [
      "  0%|          | 0/7 [00:00<?, ?it/s]"
     ]
    },
    {
     "name": "stdout",
     "output_type": "stream",
     "text": [
      "epoch 0 acc tensor(0.7547)\n",
      "epoch 1 acc tensor(0.7772)\n",
      "epoch 2 acc tensor(0.7773)\n",
      "epoch 0 acc tensor(0.7487)\n",
      "epoch 1 acc tensor(0.7909)\n",
      "epoch 2 acc tensor(0.8000)\n"
     ]
    },
    {
     "name": "stderr",
     "output_type": "stream",
     "text": [
      " 14%|█▍        | 1/7 [00:25<02:35, 25.94s/it]"
     ]
    },
    {
     "name": "stdout",
     "output_type": "stream",
     "text": [
      "epoch 0 acc tensor(0.7563)\n",
      "epoch 1 acc tensor(0.7614)\n",
      "epoch 2 acc tensor(0.7735)\n",
      "epoch 0 acc tensor(0.6741)\n",
      "epoch 1 acc tensor(0.7110)\n",
      "epoch 2 acc tensor(0.7453)\n"
     ]
    },
    {
     "name": "stderr",
     "output_type": "stream",
     "text": [
      " 29%|██▊       | 2/7 [00:51<02:10, 26.00s/it]"
     ]
    },
    {
     "name": "stdout",
     "output_type": "stream",
     "text": [
      "epoch 0 acc tensor(0.7567)\n",
      "epoch 1 acc tensor(0.7628)\n",
      "epoch 2 acc tensor(0.7712)\n",
      "epoch 0 acc tensor(0.6838)\n",
      "epoch 1 acc tensor(0.7301)\n",
      "epoch 2 acc tensor(0.7608)\n"
     ]
    },
    {
     "name": "stderr",
     "output_type": "stream",
     "text": [
      " 43%|████▎     | 3/7 [01:17<01:43, 25.88s/it]"
     ]
    },
    {
     "name": "stdout",
     "output_type": "stream",
     "text": [
      "epoch 0 acc tensor(0.7373)\n",
      "epoch 1 acc tensor(0.7540)\n",
      "epoch 2 acc tensor(0.7439)\n",
      "epoch 0 acc tensor(0.7646)\n",
      "epoch 1 acc tensor(0.7916)\n",
      "epoch 2 acc tensor(0.8103)\n"
     ]
    },
    {
     "name": "stderr",
     "output_type": "stream",
     "text": [
      " 57%|█████▋    | 4/7 [01:43<01:17, 25.83s/it]"
     ]
    },
    {
     "name": "stdout",
     "output_type": "stream",
     "text": [
      "epoch 0 acc tensor(0.7116)\n",
      "epoch 1 acc tensor(0.7388)\n",
      "epoch 2 acc tensor(0.7372)\n",
      "epoch 0 acc tensor(0.8000)\n",
      "epoch 1 acc tensor(0.8235)\n",
      "epoch 2 acc tensor(0.8371)\n"
     ]
    },
    {
     "name": "stderr",
     "output_type": "stream",
     "text": [
      " 71%|███████▏  | 5/7 [02:09<00:51, 25.95s/it]"
     ]
    },
    {
     "name": "stdout",
     "output_type": "stream",
     "text": [
      "epoch 0 acc tensor(0.6789)\n",
      "epoch 1 acc tensor(0.7220)\n",
      "epoch 2 acc tensor(0.7172)\n",
      "epoch 0 acc tensor(0.8159)\n",
      "epoch 1 acc tensor(0.8246)\n",
      "epoch 2 acc tensor(0.8361)\n"
     ]
    },
    {
     "name": "stderr",
     "output_type": "stream",
     "text": [
      " 86%|████████▌ | 6/7 [02:36<00:26, 26.30s/it]"
     ]
    },
    {
     "name": "stdout",
     "output_type": "stream",
     "text": [
      "epoch 0 acc tensor(0.6945)\n",
      "epoch 1 acc tensor(0.7416)\n",
      "epoch 2 acc tensor(0.7449)\n",
      "epoch 0 acc tensor(0.8422)\n",
      "epoch 1 acc tensor(0.8495)\n",
      "epoch 2 acc tensor(0.8605)\n"
     ]
    },
    {
     "name": "stderr",
     "output_type": "stream",
     "text": [
      "100%|██████████| 7/7 [03:03<00:00, 26.21s/it]\n"
     ]
    },
    {
     "name": "stdout",
     "output_type": "stream",
     "text": [
      "epoch: 0, loss=336.777587890625, rec_loss=325.4460144042969, total_div_loss=11.33141040802002\n",
      "epoch: 1, loss=293.6722106933594, rec_loss=278.96771240234375, total_div_loss=14.704360961914062\n",
      "epoch: 2, loss=285.90093994140625, rec_loss=270.6869812011719, total_div_loss=15.21430492401123\n",
      "epoch: 3, loss=283.06939697265625, rec_loss=267.1966552734375, total_div_loss=15.872753143310547\n",
      "epoch: 4, loss=281.513427734375, rec_loss=265.2506408691406, total_div_loss=16.26283836364746\n",
      "epoch: 5, loss=280.5991516113281, rec_loss=264.10980224609375, total_div_loss=16.48932456970215\n",
      "epoch: 6, loss=280.1010437011719, rec_loss=263.3803405761719, total_div_loss=16.720712661743164\n",
      "epoch: 7, loss=279.6591796875, rec_loss=262.89306640625, total_div_loss=16.765905380249023\n",
      "epoch: 8, loss=279.28265380859375, rec_loss=262.40655517578125, total_div_loss=16.87615394592285\n",
      "epoch: 9, loss=279.1617736816406, rec_loss=262.15960693359375, total_div_loss=17.00200843811035\n",
      "epoch: 0, loss=185.7779541015625, rec_loss=176.07810974121094, total_div_loss=9.69997787475586\n",
      "epoch: 1, loss=171.9030303955078, rec_loss=160.077880859375, total_div_loss=11.82509708404541\n",
      "epoch: 2, loss=168.8349151611328, rec_loss=155.49720764160156, total_div_loss=13.337774276733398\n",
      "epoch: 3, loss=167.34051513671875, rec_loss=153.29287719726562, total_div_loss=14.0477294921875\n",
      "epoch: 4, loss=166.32846069335938, rec_loss=151.7774658203125, total_div_loss=14.551054000854492\n",
      "epoch: 5, loss=165.7513885498047, rec_loss=150.79383850097656, total_div_loss=14.95751667022705\n",
      "epoch: 6, loss=165.12542724609375, rec_loss=149.94361877441406, total_div_loss=15.181852340698242\n",
      "epoch: 7, loss=164.78773498535156, rec_loss=149.38668823242188, total_div_loss=15.400900840759277\n",
      "epoch: 8, loss=164.49562072753906, rec_loss=148.91348266601562, total_div_loss=15.582066535949707\n",
      "epoch: 9, loss=164.04983520507812, rec_loss=148.3675994873047, total_div_loss=15.682357788085938\n"
     ]
    },
    {
     "name": "stderr",
     "output_type": "stream",
     "text": [
      "  0%|          | 0/7 [00:00<?, ?it/s]"
     ]
    },
    {
     "name": "stdout",
     "output_type": "stream",
     "text": [
      "epoch 0 acc tensor(0.7570)\n",
      "epoch 1 acc tensor(0.7718)\n",
      "epoch 2 acc tensor(0.7689)\n",
      "epoch 0 acc tensor(0.6807)\n",
      "epoch 1 acc tensor(0.7272)\n",
      "epoch 2 acc tensor(0.7463)\n"
     ]
    },
    {
     "name": "stderr",
     "output_type": "stream",
     "text": [
      " 14%|█▍        | 1/7 [00:24<02:26, 24.35s/it]"
     ]
    },
    {
     "name": "stdout",
     "output_type": "stream",
     "text": [
      "epoch 0 acc tensor(0.7589)\n",
      "epoch 1 acc tensor(0.7738)\n",
      "epoch 2 acc tensor(0.7761)\n",
      "epoch 0 acc tensor(0.6771)\n",
      "epoch 1 acc tensor(0.7269)\n",
      "epoch 2 acc tensor(0.7464)\n"
     ]
    },
    {
     "name": "stderr",
     "output_type": "stream",
     "text": [
      " 29%|██▊       | 2/7 [00:49<02:02, 24.58s/it]"
     ]
    },
    {
     "name": "stdout",
     "output_type": "stream",
     "text": [
      "epoch 0 acc tensor(0.7572)\n",
      "epoch 1 acc tensor(0.7675)\n",
      "epoch 2 acc tensor(0.7742)\n",
      "epoch 0 acc tensor(0.6775)\n",
      "epoch 1 acc tensor(0.7209)\n",
      "epoch 2 acc tensor(0.7472)\n"
     ]
    },
    {
     "name": "stderr",
     "output_type": "stream",
     "text": [
      " 43%|████▎     | 3/7 [01:13<01:38, 24.51s/it]"
     ]
    },
    {
     "name": "stdout",
     "output_type": "stream",
     "text": [
      "epoch 0 acc tensor(0.7554)\n",
      "epoch 1 acc tensor(0.7620)\n",
      "epoch 2 acc tensor(0.7733)\n",
      "epoch 0 acc tensor(0.7784)\n",
      "epoch 1 acc tensor(0.7988)\n",
      "epoch 2 acc tensor(0.8043)\n"
     ]
    },
    {
     "name": "stderr",
     "output_type": "stream",
     "text": [
      " 57%|█████▋    | 4/7 [01:37<01:13, 24.38s/it]"
     ]
    },
    {
     "name": "stdout",
     "output_type": "stream",
     "text": [
      "epoch 0 acc tensor(0.7479)\n",
      "epoch 1 acc tensor(0.7524)\n",
      "epoch 2 acc tensor(0.7585)\n",
      "epoch 0 acc tensor(0.8032)\n",
      "epoch 1 acc tensor(0.8389)\n",
      "epoch 2 acc tensor(0.8439)\n"
     ]
    },
    {
     "name": "stderr",
     "output_type": "stream",
     "text": [
      " 71%|███████▏  | 5/7 [02:02<00:48, 24.37s/it]"
     ]
    },
    {
     "name": "stdout",
     "output_type": "stream",
     "text": [
      "epoch 0 acc tensor(0.7125)\n",
      "epoch 1 acc tensor(0.7091)\n",
      "epoch 2 acc tensor(0.7312)\n",
      "epoch 0 acc tensor(0.8313)\n",
      "epoch 1 acc tensor(0.8349)\n",
      "epoch 2 acc tensor(0.8495)\n"
     ]
    },
    {
     "name": "stderr",
     "output_type": "stream",
     "text": [
      " 86%|████████▌ | 6/7 [02:27<00:24, 24.64s/it]"
     ]
    },
    {
     "name": "stdout",
     "output_type": "stream",
     "text": [
      "epoch 0 acc tensor(0.6988)\n",
      "epoch 1 acc tensor(0.7069)\n",
      "epoch 2 acc tensor(0.7262)\n",
      "epoch 0 acc tensor(0.8187)\n",
      "epoch 1 acc tensor(0.8307)\n",
      "epoch 2 acc tensor(0.8460)\n"
     ]
    },
    {
     "name": "stderr",
     "output_type": "stream",
     "text": [
      "100%|██████████| 7/7 [02:52<00:00, 24.69s/it]\n"
     ]
    },
    {
     "name": "stdout",
     "output_type": "stream",
     "text": [
      "epoch: 0, loss=335.5830078125, rec_loss=323.99481201171875, total_div_loss=11.588252067565918\n",
      "epoch: 1, loss=294.2428894042969, rec_loss=279.83026123046875, total_div_loss=14.412590980529785\n",
      "epoch: 2, loss=285.54644775390625, rec_loss=270.1600036621094, total_div_loss=15.386816024780273\n",
      "epoch: 3, loss=282.3013000488281, rec_loss=266.130615234375, total_div_loss=16.170581817626953\n",
      "epoch: 4, loss=280.7105407714844, rec_loss=264.1639709472656, total_div_loss=16.5465030670166\n",
      "epoch: 5, loss=280.0584716796875, rec_loss=263.1952209472656, total_div_loss=16.86334800720215\n",
      "epoch: 6, loss=279.4309387207031, rec_loss=262.504150390625, total_div_loss=16.926692962646484\n",
      "epoch: 7, loss=278.8711242675781, rec_loss=261.8187561035156, total_div_loss=17.052818298339844\n",
      "epoch: 8, loss=278.6446533203125, rec_loss=261.4794921875, total_div_loss=17.165231704711914\n",
      "epoch: 9, loss=278.4310302734375, rec_loss=261.1632080078125, total_div_loss=17.267921447753906\n",
      "epoch: 0, loss=183.92221069335938, rec_loss=173.5866241455078, total_div_loss=10.335838317871094\n",
      "epoch: 1, loss=170.62754821777344, rec_loss=158.58139038085938, total_div_loss=12.04616641998291\n",
      "epoch: 2, loss=168.31466674804688, rec_loss=155.373779296875, total_div_loss=12.940956115722656\n",
      "epoch: 3, loss=167.23118591308594, rec_loss=153.6739501953125, total_div_loss=13.557137489318848\n",
      "epoch: 4, loss=166.39451599121094, rec_loss=152.3918914794922, total_div_loss=14.00265884399414\n",
      "epoch: 5, loss=165.76904296875, rec_loss=151.34353637695312, total_div_loss=14.425576210021973\n",
      "epoch: 6, loss=165.2182159423828, rec_loss=150.49505615234375, total_div_loss=14.723072052001953\n",
      "epoch: 7, loss=164.8876495361328, rec_loss=149.9463348388672, total_div_loss=14.94133472442627\n",
      "epoch: 8, loss=164.45115661621094, rec_loss=149.24032592773438, total_div_loss=15.210813522338867\n",
      "epoch: 9, loss=164.1199951171875, rec_loss=148.79000854492188, total_div_loss=15.330044746398926\n"
     ]
    },
    {
     "name": "stderr",
     "output_type": "stream",
     "text": [
      "  0%|          | 0/7 [00:00<?, ?it/s]"
     ]
    },
    {
     "name": "stdout",
     "output_type": "stream",
     "text": [
      "epoch 0 acc tensor(0.7707)\n",
      "epoch 1 acc tensor(0.7750)\n",
      "epoch 2 acc tensor(0.7849)\n",
      "epoch 0 acc tensor(0.7189)\n",
      "epoch 1 acc tensor(0.7662)\n",
      "epoch 2 acc tensor(0.7794)\n"
     ]
    },
    {
     "name": "stderr",
     "output_type": "stream",
     "text": [
      " 14%|█▍        | 1/7 [00:26<02:36, 26.09s/it]"
     ]
    },
    {
     "name": "stdout",
     "output_type": "stream",
     "text": [
      "epoch 0 acc tensor(0.7513)\n",
      "epoch 1 acc tensor(0.7613)\n",
      "epoch 2 acc tensor(0.7779)\n",
      "epoch 0 acc tensor(0.6728)\n",
      "epoch 1 acc tensor(0.7044)\n",
      "epoch 2 acc tensor(0.7329)\n"
     ]
    },
    {
     "name": "stderr",
     "output_type": "stream",
     "text": [
      " 29%|██▊       | 2/7 [00:52<02:10, 26.09s/it]"
     ]
    },
    {
     "name": "stdout",
     "output_type": "stream",
     "text": [
      "epoch 0 acc tensor(0.7584)\n",
      "epoch 1 acc tensor(0.7690)\n",
      "epoch 2 acc tensor(0.7650)\n",
      "epoch 0 acc tensor(0.6922)\n",
      "epoch 1 acc tensor(0.7157)\n",
      "epoch 2 acc tensor(0.7537)\n"
     ]
    },
    {
     "name": "stderr",
     "output_type": "stream",
     "text": [
      " 43%|████▎     | 3/7 [01:18<01:44, 26.18s/it]"
     ]
    },
    {
     "name": "stdout",
     "output_type": "stream",
     "text": [
      "epoch 0 acc tensor(0.7439)\n",
      "epoch 1 acc tensor(0.7599)\n",
      "epoch 2 acc tensor(0.7637)\n",
      "epoch 0 acc tensor(0.7560)\n",
      "epoch 1 acc tensor(0.7798)\n",
      "epoch 2 acc tensor(0.7954)\n"
     ]
    },
    {
     "name": "stderr",
     "output_type": "stream",
     "text": [
      " 57%|█████▋    | 4/7 [01:44<01:18, 26.27s/it]"
     ]
    },
    {
     "name": "stdout",
     "output_type": "stream",
     "text": [
      "epoch 0 acc tensor(0.6857)\n",
      "epoch 1 acc tensor(0.7162)\n",
      "epoch 2 acc tensor(0.7201)\n",
      "epoch 0 acc tensor(0.8126)\n",
      "epoch 1 acc tensor(0.8308)\n",
      "epoch 2 acc tensor(0.8403)\n"
     ]
    },
    {
     "name": "stderr",
     "output_type": "stream",
     "text": [
      " 71%|███████▏  | 5/7 [02:13<00:54, 27.03s/it]"
     ]
    },
    {
     "name": "stdout",
     "output_type": "stream",
     "text": [
      "epoch 0 acc tensor(0.6866)\n",
      "epoch 1 acc tensor(0.7004)\n",
      "epoch 2 acc tensor(0.7146)\n",
      "epoch 0 acc tensor(0.8242)\n",
      "epoch 1 acc tensor(0.8321)\n",
      "epoch 2 acc tensor(0.8402)\n"
     ]
    },
    {
     "name": "stderr",
     "output_type": "stream",
     "text": [
      " 86%|████████▌ | 6/7 [02:38<00:26, 26.54s/it]"
     ]
    },
    {
     "name": "stdout",
     "output_type": "stream",
     "text": [
      "epoch 0 acc tensor(0.6695)\n",
      "epoch 1 acc tensor(0.6858)\n",
      "epoch 2 acc tensor(0.6897)\n",
      "epoch 0 acc tensor(0.8254)\n",
      "epoch 1 acc tensor(0.8383)\n",
      "epoch 2 acc tensor(0.8448)\n"
     ]
    },
    {
     "name": "stderr",
     "output_type": "stream",
     "text": [
      "100%|██████████| 7/7 [03:04<00:00, 26.41s/it]\n"
     ]
    }
   ],
   "source": [
    "for exp_num in range(5):\n",
    "    epochs = 10\n",
    "    name = f\"no_replay_fash_to_mnist_{exp_num}\"\n",
    "    cult_trainer = CULTTrainer(name, optimizer, lr, kl_scale, e_prox_scale, d_prox_scale, encoder_type, decoder_type, final_size, latents, max_envs, atyp_min, atyp_max, env_optim, env_lr, env_epochs, replay_batch_size, steps_per_save, device)\n",
    "    cult_trainer.train(fashion_train_loader, epochs, [fashion_test_batch, mnist_test_batch])\n",
    "    cult_trainer.train(mnist_train_loader, epochs, [fashion_test_batch, mnist_test_batch])\n",
    "    cult_trainer.train_latent_classifiers([fashion_train_loader, mnist_train_loader], [fashion_test_loader, mnist_test_loader], [\"fashion_mnist\", \"mnist\"], [10, 10], epochs=3, lr=1e-2)\n",
    "    cult_trainer.model.eval()\n",
    "    fashion_rec_loss = cult_trainer.rec_loss(fashion_test_loader)\n",
    "    mnist_rec_loss = cult_trainer.rec_loss(mnist_test_loader)\n",
    "    cult_trainer.writer.add_scalar(\"eval/fashion_rec_loss\", fashion_rec_loss)\n",
    "    cult_trainer.writer.add_scalar(\"eval/mnist_recc_loss\", mnist_rec_loss)\n",
    "    fashion_env_acc = cult_trainer.env_accuracy(fashion_test_loader, 0)\n",
    "    mnist_env_acc = cult_trainer.env_accuracy(mnist_test_loader, 1)\n",
    "    cult_trainer.writer.add_scalar(\"eval/fashion_env_acc\", fashion_env_acc)\n",
    "    cult_trainer.writer.add_scalar(\"eval/mnist_env_acc\", mnist_env_acc)"
   ]
  }
 ],
 "metadata": {
  "kernelspec": {
   "display_name": "Python 3.9.12 ('cult')",
   "language": "python",
   "name": "python3"
  }
 },
 "nbformat": 4,
 "nbformat_minor": 2
}
