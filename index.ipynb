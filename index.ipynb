{
 "cells": [
  {
   "cell_type": "markdown",
   "metadata": {},
   "source": [
    "# CULT: Continual Unsupervised Learning with aTpyicality-based Evironmental Selection\n",
    "\n",
    "> Inspired by [Aachille et al. 2018](https://arxiv.org/abs/1808.06508), we implement a simple continual learning framework with variational autoencoders and generative replay, where new environments are detected using the atypicality score of the latents, where atypicality is given by\n",
    "\n",
    "$$\\alpha = D_{KL}(\\mathcal{N}(\\bar{\\mu}_{z}, \\bar{\\sigma}_z)||\\mathcal{N}(0,1))$$"
   ]
  },
  {
   "cell_type": "markdown",
   "metadata": {},
   "source": [
    "This file will become your README and also the index of your documentation."
   ]
  },
  {
   "cell_type": "markdown",
   "metadata": {},
   "source": [
    "## Install"
   ]
  },
  {
   "cell_type": "markdown",
   "metadata": {},
   "source": [
    "`pip install cult`"
   ]
  },
  {
   "cell_type": "markdown",
   "metadata": {},
   "source": [
    "## Experiments"
   ]
  },
  {
   "cell_type": "markdown",
   "metadata": {},
   "source": [
    "The primary experiment(s) are run in `02_core.clvae.ipynb`"
   ]
  }
 ],
 "metadata": {
  "kernelspec": {
   "display_name": "Python 3",
   "language": "python",
   "name": "python3"
  }
 },
 "nbformat": 4,
 "nbformat_minor": 2
}
