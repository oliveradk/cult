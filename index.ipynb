{
 "cells": [
  {
   "cell_type": "markdown",
   "metadata": {},
   "source": [
    "# CULT: Continual Unsupervised Learning with aTpyicality-based Evironmental Selection\n",
    "\n"
   ]
  },
  {
   "cell_type": "markdown",
   "metadata": {},
   "source": [
    "Inspired by [Aachille et al. 2018](https://arxiv.org/abs/1808.06508), we implement a simple continual learning framework with variational autoencoders and generative replay, where new environments are detected using the atypicality score of the latents, where atypicality is given by: \n",
    "\n",
    "$$\\alpha = D_{KL}(\\mathcal{N}(\\bar{\\mu}_{z}, \\bar{\\sigma}_z)||\\mathcal{N}(0,1))$$"
   ]
  },
  {
   "cell_type": "markdown",
   "metadata": {},
   "source": [
    "## Install"
   ]
  },
  {
   "cell_type": "markdown",
   "metadata": {},
   "source": [
    "This repo was built off of [nbdev](https://nbdev.fast.ai/)\n",
    "\n",
    "The dependencies can be found in the requirements field of `settings.ini`"
   ]
  },
  {
   "cell_type": "markdown",
   "metadata": {},
   "source": [
    "## Experiments"
   ]
  },
  {
   "cell_type": "markdown",
   "metadata": {},
   "source": [
    "The primary experiment(s) are run in `03a_experiments.cult_experiments.ipynb`\n",
    "Results are visualized in `04_visualize_data.ipynb`"
   ]
  }
 ],
 "metadata": {
  "kernelspec": {
   "display_name": "Python 3.9.12 ('cult')",
   "language": "python",
   "name": "python3"
  }
 },
 "nbformat": 4,
 "nbformat_minor": 2
}
