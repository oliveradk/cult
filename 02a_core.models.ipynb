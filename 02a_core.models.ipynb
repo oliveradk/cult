{
 "cells": [
  {
   "cell_type": "code",
   "execution_count": null,
   "metadata": {},
   "outputs": [],
   "source": [
    "#default_exp core.models"
   ]
  },
  {
   "cell_type": "code",
   "execution_count": null,
   "metadata": {},
   "outputs": [],
   "source": [
    "#export\n",
    "import torch\n",
    "from torch import nn\n",
    "from torch.nn import functional as F\n",
    "import numpy as np\n",
    "import copy\n",
    "from cult.config import DATA_PATH\n",
    "from cult.core.utils import rec_likelihood, kl_div_stdnorm, disable_gradient, enable_gradient"
   ]
  },
  {
   "cell_type": "code",
   "execution_count": null,
   "metadata": {},
   "outputs": [],
   "source": [
    "#hide\n",
    "from cult.core.datasets.moving_mnist import MovingMNIST\n",
    "from torchvision.transforms import ToTensor\n",
    "from torch.utils.data import DataLoader\n",
    "import matplotlib.pyplot as plt"
   ]
  },
  {
   "cell_type": "markdown",
   "metadata": {},
   "source": [
    "# Models\n",
    "> Pytorch Models used for encoders, decoders, and classifiers. See Section A.1 of [Aachille et al.](https://arxiv.org/pdf/1808.06508.pdf) for details"
   ]
  },
  {
   "cell_type": "code",
   "execution_count": null,
   "metadata": {},
   "outputs": [],
   "source": [
    "#hide \n",
    "from cult.core.datasets.moving_mnist import MovingMNIST, CommonMNIST"
   ]
  },
  {
   "cell_type": "code",
   "execution_count": null,
   "metadata": {},
   "outputs": [],
   "source": [
    "#hide\n",
    "batch_size = 128\n",
    "latents = 24\n",
    "max_environments = 30\n",
    "moving_mnist = MovingMNIST(DATA_PATH, transform=ToTensor())\n",
    "mnist = CommonMNIST(DATA_PATH, transform=ToTensor())\n",
    "mm_loader = DataLoader(moving_mnist, batch_size)\n",
    "mnist_loader = DataLoader(mnist, batch_size)\n",
    "\n",
    "mm_batch, _, _= iter(mm_loader).next()\n",
    "mnist_batch, _ = iter(mnist_loader).next()"
   ]
  },
  {
   "cell_type": "markdown",
   "metadata": {},
   "source": [
    "## Encoders\n"
   ]
  },
  {
   "cell_type": "markdown",
   "metadata": {},
   "source": [
    "### Encoder Architecture From Paper"
   ]
  },
  {
   "cell_type": "code",
   "execution_count": null,
   "metadata": {},
   "outputs": [],
   "source": [
    "#export\n",
    "class Encoder(nn.Module):\n",
    "    def __init__(self, latents=10, device='cpu'):\n",
    "        super().__init__()\n",
    "        self.latents = latents\n",
    "        self.conv1 = nn.Conv2d(1, 64, (4,4), stride=2, padding=1)\n",
    "        self.conv2 = nn.Conv2d(64, 64, (4,4), 2, padding=1)\n",
    "        self.conv3 = nn.Conv2d(64, 128, (4,4), 2, padding=1)\n",
    "        self.conv4 = nn.Conv2d(128, 128, (4,4), 2, padding=1)\n",
    "        self.linear = nn.Linear(2048, 256)\n",
    "        self.linear_mu = nn.Linear(256, self.latents)\n",
    "        self.linear_logvar = nn.Linear(256, self.latents)\n",
    "        self.relu = nn.ReLU()\n",
    "        self.device = device\n",
    "\n",
    "    def forward(self, x):\n",
    "        \"\"\"\n",
    "        Returns mean and standard deviation to parameterize sigmoid, \n",
    "        and final layer to compute environment\n",
    "        \"\"\"\n",
    "        x = self.relu(self.conv1(x)) # (batch_size, 64, 32, 32)\n",
    "        x = self.relu(self.conv2(x)) # (batch_size, 64, 16, 16)\n",
    "        x = self.relu(self.conv3(x)) # (batch_size, 128, 8, 8)\n",
    "        x = self.relu(self.conv4(x)) # (batch_size, 128, 4, 4)\n",
    "        x = x.reshape(-1, 2048)\n",
    "        final = self.relu(self.linear(x))\n",
    "        mu = self.linear_mu(final)\n",
    "        logvar = self.linear_logvar(final)\n",
    "        return mu, logvar, final.detach() #detach to prevent gradient flow"
   ]
  },
  {
   "cell_type": "code",
   "execution_count": null,
   "metadata": {},
   "outputs": [],
   "source": [
    "encoder = Encoder(latents=latents)"
   ]
  },
  {
   "cell_type": "code",
   "execution_count": null,
   "metadata": {},
   "outputs": [],
   "source": [
    "mu, sigma, final = encoder(mm_batch)"
   ]
  },
  {
   "cell_type": "code",
   "execution_count": null,
   "metadata": {},
   "outputs": [],
   "source": [
    "assert mu.shape == torch.Size((batch_size, latents))\n",
    "assert sigma.shape == torch.Size((batch_size, latents))"
   ]
  },
  {
   "cell_type": "markdown",
   "metadata": {},
   "source": [
    "### FC Encoder"
   ]
  },
  {
   "cell_type": "code",
   "execution_count": null,
   "metadata": {},
   "outputs": [],
   "source": [
    "#export\n",
    "class FCEncoder(nn.Module):\n",
    "    def __init__(self, latents: int, device='cpu'):\n",
    "        super().__init__()\n",
    "        self.latents = latents\n",
    "        self.latents = latents\n",
    "        self.linear1 = nn.Linear(784, 50)\n",
    "        self.linear_mu = nn.Linear(50, latents)\n",
    "        self.linear_logvar = nn.Linear(50, latents)\n",
    "        self.act = nn.ReLU()\n",
    "        self.device = device\n",
    "    \n",
    "    def forward(self, x):\n",
    "        x = x.reshape(-1, 784)\n",
    "        final = self.act(self.linear1(x))\n",
    "        mu = self.linear_mu(final)\n",
    "        logvar = self.linear_logvar(final) #TODO: should this be exponentiated?\n",
    "        return mu, logvar, final"
   ]
  },
  {
   "cell_type": "code",
   "execution_count": null,
   "metadata": {},
   "outputs": [],
   "source": [
    "fc_encoder = FCEncoder(latents=latents)"
   ]
  },
  {
   "cell_type": "code",
   "execution_count": null,
   "metadata": {},
   "outputs": [],
   "source": [
    "mu, sigma, final = fc_encoder(mnist_batch)"
   ]
  },
  {
   "cell_type": "code",
   "execution_count": null,
   "metadata": {},
   "outputs": [],
   "source": [
    "assert mu.shape == torch.Size((batch_size, latents))\n",
    "assert sigma.shape == torch.Size((batch_size, latents))"
   ]
  },
  {
   "cell_type": "markdown",
   "metadata": {},
   "source": [
    "### CNN Encoder"
   ]
  },
  {
   "cell_type": "code",
   "execution_count": null,
   "metadata": {},
   "outputs": [],
   "source": [
    "#export\n",
    "class CNNEncoder(nn.Module):\n",
    "    def __init__(self, latents: int, device='cpu'):\n",
    "        super().__init__()\n",
    "        self.latents = latents\n",
    "        self.conv1 = nn.Conv2d(1, 32, (4,4), stride=2, padding=1)\n",
    "        self.conv2 = nn.Conv2d(32, 32, (4,4), 2, padding=0)\n",
    "        self.conv3 = nn.Conv2d(32, 64, (4,4), 2, padding=0)\n",
    "        self.flatten = nn.Flatten()\n",
    "        self.linear1 = nn.Linear(256, 64)\n",
    "        self.linear_mu = nn.Linear(64, latents)\n",
    "        self.linear_logvar = nn.Linear(64, latents)\n",
    "        self.act = nn.ReLU()\n",
    "        self.device = device\n",
    "    \n",
    "    def forward(self, x):\n",
    "        x = self.act(self.conv1(x))\n",
    "        x = self.act(self.conv2(x))\n",
    "        x = self.act(self.conv3(x))\n",
    "        #x = self.act(self.conv4(x))\n",
    "        x = self.flatten(x)\n",
    "        final = self.act(self.linear1(x))\n",
    "        mu = self.linear_mu(final)\n",
    "        logvar = self.linear_logvar(final) #TODO: should this be exponentiated?\n",
    "        return mu, logvar, final"
   ]
  },
  {
   "cell_type": "code",
   "execution_count": null,
   "metadata": {},
   "outputs": [],
   "source": [
    "cnn_encoder = CNNEncoder(latents=latents)\n",
    "mu, sigma, final = cnn_encoder(mnist_batch)"
   ]
  },
  {
   "cell_type": "code",
   "execution_count": null,
   "metadata": {},
   "outputs": [],
   "source": [
    "assert mu.shape == torch.Size((batch_size, latents))\n",
    "assert sigma.shape == torch.Size((batch_size, latents))"
   ]
  },
  {
   "cell_type": "markdown",
   "metadata": {},
   "source": [
    "## Environmental Inference Network"
   ]
  },
  {
   "cell_type": "code",
   "execution_count": null,
   "metadata": {},
   "outputs": [],
   "source": [
    "#export\n",
    "class EnvironmentInference(nn.Module):\n",
    "    def __init__(self, max_environmnets: int, input_dim:int, hidden_dim=50):\n",
    "        super().__init__()\n",
    "        self.max_environments = max_environmnets\n",
    "        self.input_dim = input_dim\n",
    "        self.linear = nn.Linear(input_dim, self.max_environments)\n",
    "        self.dropout = nn.Dropout(p=.5)\n",
    "        self.softmax = nn.Softmax(dim=1)\n",
    "        self.relu = nn.ReLU()\n",
    "    \n",
    "    def forward(self, final_latent):\n",
    "        x = self.linear(final_latent)\n",
    "        x = self.dropout(x)\n",
    "        return self.softmax(x)"
   ]
  },
  {
   "cell_type": "code",
   "execution_count": null,
   "metadata": {},
   "outputs": [],
   "source": [
    "_, _, final = encoder(mm_batch)"
   ]
  },
  {
   "cell_type": "code",
   "execution_count": null,
   "metadata": {},
   "outputs": [],
   "source": [
    "env_inf = EnvironmentInference(max_environmnets=max_environments, input_dim=256)\n",
    "env_dist = env_inf(final)"
   ]
  },
  {
   "cell_type": "code",
   "execution_count": null,
   "metadata": {},
   "outputs": [],
   "source": [
    "assert env_dist.shape == torch.Size([batch_size, max_environments])"
   ]
  },
  {
   "cell_type": "code",
   "execution_count": null,
   "metadata": {},
   "outputs": [
    {
     "data": {
      "text/plain": [
       "torch.Size([128])"
      ]
     },
     "execution_count": null,
     "metadata": {},
     "output_type": "execute_result"
    }
   ],
   "source": [
    "env_dist.sum(dim=1).shape"
   ]
  },
  {
   "cell_type": "code",
   "execution_count": null,
   "metadata": {},
   "outputs": [],
   "source": [
    "assert torch.all(torch.isclose(env_dist.sum(dim=1), torch.ones(128)))"
   ]
  },
  {
   "cell_type": "markdown",
   "metadata": {},
   "source": [
    "### Environmental  Encoding"
   ]
  },
  {
   "cell_type": "markdown",
   "metadata": {},
   "source": [
    "See \"Environment index\" in section A.2 - softmax is averaged across data in batch, then argmax is taken"
   ]
  },
  {
   "cell_type": "code",
   "execution_count": null,
   "metadata": {},
   "outputs": [],
   "source": [
    "avg_env_dist = env_dist.mean(dim=0)"
   ]
  },
  {
   "cell_type": "code",
   "execution_count": null,
   "metadata": {},
   "outputs": [],
   "source": [
    "assert avg_env_dist.shape == torch.Size((max_environments,))"
   ]
  },
  {
   "cell_type": "code",
   "execution_count": null,
   "metadata": {},
   "outputs": [
    {
     "data": {
      "text/plain": [
       "tensor(16)"
      ]
     },
     "execution_count": null,
     "metadata": {},
     "output_type": "execute_result"
    }
   ],
   "source": [
    "env_idx = torch.argmax(avg_env_dist)\n",
    "env_idx"
   ]
  },
  {
   "cell_type": "code",
   "execution_count": null,
   "metadata": {},
   "outputs": [
    {
     "data": {
      "text/plain": [
       "tensor([0, 0, 0, 0, 0, 0, 0, 0, 0, 0, 0, 0, 0, 0, 0, 0, 1, 0, 0, 0, 0, 0, 0, 0,\n",
       "        0, 0, 0, 0, 0, 0])"
      ]
     },
     "execution_count": null,
     "metadata": {},
     "output_type": "execute_result"
    }
   ],
   "source": [
    "F.one_hot(env_idx, num_classes=max_environments)"
   ]
  },
  {
   "cell_type": "code",
   "execution_count": null,
   "metadata": {},
   "outputs": [],
   "source": [
    "#export\n",
    "def env_dist_to_idx(env_dist: torch.Tensor, max_environments: int) -> torch.Tensor:\n",
    "    \"\"\"Converts a batch of distributions to a one-hot vector\"\"\"\n",
    "    batch_size = env_dist.shape[0]\n",
    "    avg_env_dist = env_dist.mean(dim=0)\n",
    "    env_idx = torch.argmax(avg_env_dist)\n",
    "    return torch.ones((batch_size), dtype=torch.int64) * env_idx\n"
   ]
  },
  {
   "cell_type": "code",
   "execution_count": null,
   "metadata": {},
   "outputs": [],
   "source": [
    "_, _, final = encoder(mm_batch)\n",
    "env_dist = env_inf(final)\n",
    "env_idx = env_dist_to_idx(env_dist, max_environments=max_environments)"
   ]
  },
  {
   "cell_type": "code",
   "execution_count": null,
   "metadata": {},
   "outputs": [],
   "source": [
    "assert env_idx.shape == torch.Size([batch_size])\n",
    "assert env_idx[0].dtype == torch.int64"
   ]
  },
  {
   "cell_type": "markdown",
   "metadata": {},
   "source": [
    "## Decoder"
   ]
  },
  {
   "cell_type": "markdown",
   "metadata": {},
   "source": [
    "### Decoder Architecture From Paper"
   ]
  },
  {
   "cell_type": "code",
   "execution_count": null,
   "metadata": {},
   "outputs": [],
   "source": [
    "#export\n",
    "class Decoder(nn.Module):\n",
    "    def __init__(self, latents:int, max_envs=0, device='cpu'):\n",
    "        super().__init__()\n",
    "        self.max_envs = max_envs\n",
    "        self.latents = latents\n",
    "        self.linear2 = nn.Linear(latents + max_envs, 256)\n",
    "        self.linear1 = nn.Linear(256, 2048)\n",
    "        self.conv4 = nn.ConvTranspose2d(128, 128, (4,4), 2, padding=1)\n",
    "        self.conv3 = nn.ConvTranspose2d(128, 64, (4,4), 2, padding=1)\n",
    "        self.conv2 = nn.ConvTranspose2d(64, 64, (4,4), 2, padding=1)\n",
    "        self.conv1 = nn.ConvTranspose2d(64, 1, (4,4), 2, padding=1)\n",
    "        self.relu = nn.ReLU()\n",
    "        self.sigmoid = nn.Sigmoid()\n",
    "        self.device = device\n",
    "        \n",
    "    def forward(self, z, s=None):\n",
    "        \"\"\"\n",
    "        Decode the latent and environmental variables\n",
    "\n",
    "        Args: \n",
    "            z (Tensor): latent variables\n",
    "            s (Tensor): environment indicies (not one hot)\n",
    "        \n",
    "        Returns:\n",
    "            Means for (batchsize, widgt, height) Bernoulli's (which can be interpreted as the reconstructed image)\n",
    "        \"\"\"\n",
    "        \n",
    "        if s is not None:\n",
    "            s_one_hot = F.one_hot(s, num_classes=self.max_envs).to(self.device)\n",
    "            z = torch.cat((z, s_one_hot), dim=1)\n",
    "        x = self.relu(self.linear2(z)) # (batch_size, 256)\n",
    "        x = self.relu(self.linear1(x)) # (batch_size, 512)\n",
    "        x = x.reshape(-1, 128, 4, 4) # (batch_size, 128, 2, 2)\n",
    "        x = self.relu(self.conv4(x)) # (batch_size, 128, 6, 6)\n",
    "        x = self.relu(self.conv3(x)) # (batch_size, 64, 14, 14)\n",
    "        x = self.relu(self.conv2(x)) # (batch_size, 64, 30, 30) WRONG (should be 31)\n",
    "        out = self.sigmoid(self.conv1(x))\n",
    "        return out"
   ]
  },
  {
   "cell_type": "code",
   "execution_count": null,
   "metadata": {},
   "outputs": [],
   "source": [
    "mu, sigma, final = encoder(mm_batch)\n",
    "env_dist = env_inf(final)\n",
    "env_idx = env_dist_to_idx(env_dist, max_environments=max_environments)\n",
    "z = mu\n",
    "s = env_idx"
   ]
  },
  {
   "cell_type": "code",
   "execution_count": null,
   "metadata": {},
   "outputs": [],
   "source": [
    "decoder = Decoder(latents=latents, max_envs=max_environments)"
   ]
  },
  {
   "cell_type": "code",
   "execution_count": null,
   "metadata": {},
   "outputs": [],
   "source": [
    "rec_img = decoder(z, s)"
   ]
  },
  {
   "cell_type": "code",
   "execution_count": null,
   "metadata": {},
   "outputs": [
    {
     "data": {
      "text/plain": [
       "torch.Size([128, 1, 64, 64])"
      ]
     },
     "execution_count": null,
     "metadata": {},
     "output_type": "execute_result"
    }
   ],
   "source": [
    "rec_img.shape"
   ]
  },
  {
   "cell_type": "code",
   "execution_count": null,
   "metadata": {},
   "outputs": [
    {
     "data": {
      "text/plain": [
       "<matplotlib.image.AxesImage at 0x14e2d7640>"
      ]
     },
     "execution_count": null,
     "metadata": {},
     "output_type": "execute_result"
    },
    {
     "data": {
      "image/png": "[encoded data removed]",
      "text/plain": [
       "<Figure size 432x288 with 1 Axes>"
      ]
     },
     "metadata": {
      "needs_background": "light"
     },
     "output_type": "display_data"
    }
   ],
   "source": [
    "plt.imshow(rec_img[0].detach().numpy().squeeze(), cmap='gray')"
   ]
  },
  {
   "cell_type": "code",
   "execution_count": null,
   "metadata": {},
   "outputs": [],
   "source": [
    "decoder = Decoder(latents=latents, max_envs=0)"
   ]
  },
  {
   "cell_type": "code",
   "execution_count": null,
   "metadata": {},
   "outputs": [],
   "source": [
    "rec_img = decoder(z, None)"
   ]
  },
  {
   "cell_type": "code",
   "execution_count": null,
   "metadata": {},
   "outputs": [],
   "source": [
    "assert rec_img.shape == torch.Size([batch_size, 1, 64, 64])"
   ]
  },
  {
   "cell_type": "markdown",
   "metadata": {},
   "source": [
    "### FC Decoder"
   ]
  },
  {
   "cell_type": "code",
   "execution_count": null,
   "metadata": {},
   "outputs": [],
   "source": [
    "#export\n",
    "class FCDecoder(nn.Module):\n",
    "    def __init__(self, latents: int, max_envs=0, device='cpu'):\n",
    "        super().__init__()\n",
    "        self.max_envs = max_envs\n",
    "        self.latents = latents\n",
    "        self.linear1 = nn.Linear(latents + max_envs, 50)\n",
    "        self.linear2 = nn.Linear(50, 784)\n",
    "        self.relu = nn.ReLU()\n",
    "        self.sigmoid = nn.Sigmoid()\n",
    "        self.device = device\n",
    "        \n",
    "    def forward(self, z, s=None):\n",
    "        \"\"\"\n",
    "        Decode the latent and environmental variables\n",
    "\n",
    "        Args: \n",
    "            z (Tensor): latent variables\n",
    "            s (Tensor): one-hot encoded environmental variable (not sure how this works...)\n",
    "        \n",
    "        Returns:\n",
    "            Means for (batchsize, widgt, height) Bernoulli's (which can be interpreted as the reconstructed image)\n",
    "        \"\"\"\n",
    "        if s is not None:\n",
    "            s_one_hot = F.one_hot(s, num_classes=self.max_envs).to(self.device)\n",
    "            z = torch.cat((z, s_one_hot), dim=1)\n",
    "        x = self.relu(self.linear1(z))\n",
    "        x = self.linear2(x)\n",
    "        out = self.sigmoid(x)\n",
    "        out = out.reshape(-1, 1, 28, 28)\n",
    "        return out"
   ]
  },
  {
   "cell_type": "code",
   "execution_count": null,
   "metadata": {},
   "outputs": [],
   "source": [
    "mu, sigma, final = fc_encoder(mnist_batch)\n",
    "env_inf = EnvironmentInference(max_environmnets=max_environments, input_dim=50)\n",
    "env_dist = env_inf(final)\n",
    "env_idx = env_dist_to_idx(env_dist, max_environments=max_environments)\n",
    "z = mu\n",
    "s = env_idx"
   ]
  },
  {
   "cell_type": "code",
   "execution_count": null,
   "metadata": {},
   "outputs": [],
   "source": [
    "fc_decoder = FCDecoder(latents=latents, max_envs=max_environments)"
   ]
  },
  {
   "cell_type": "code",
   "execution_count": null,
   "metadata": {},
   "outputs": [],
   "source": [
    "rec_img = fc_decoder(z, s)"
   ]
  },
  {
   "cell_type": "code",
   "execution_count": null,
   "metadata": {},
   "outputs": [
    {
     "data": {
      "text/plain": [
       "torch.Size([128, 1, 28, 28])"
      ]
     },
     "execution_count": null,
     "metadata": {},
     "output_type": "execute_result"
    }
   ],
   "source": [
    "rec_img.shape"
   ]
  },
  {
   "cell_type": "code",
   "execution_count": null,
   "metadata": {},
   "outputs": [
    {
     "data": {
      "text/plain": [
       "<matplotlib.image.AxesImage at 0x14e3cbfd0>"
      ]
     },
     "execution_count": null,
     "metadata": {},
     "output_type": "execute_result"
    },
    {
     "data": {
      "image/png": "[encoded data removed]",
      "text/plain": [
       "<Figure size 432x288 with 1 Axes>"
      ]
     },
     "metadata": {
      "needs_background": "light"
     },
     "output_type": "display_data"
    }
   ],
   "source": [
    "plt.imshow(rec_img[0].detach().numpy().squeeze(), cmap='gray')"
   ]
  },
  {
   "cell_type": "code",
   "execution_count": null,
   "metadata": {},
   "outputs": [],
   "source": [
    "fc_decoder = FCDecoder(max_envs=0, latents=latents)"
   ]
  },
  {
   "cell_type": "code",
   "execution_count": null,
   "metadata": {},
   "outputs": [],
   "source": [
    "rec_img = fc_decoder(z, None)"
   ]
  },
  {
   "cell_type": "code",
   "execution_count": null,
   "metadata": {},
   "outputs": [],
   "source": [
    "assert rec_img.shape == mnist_batch.shape"
   ]
  },
  {
   "cell_type": "markdown",
   "metadata": {},
   "source": [
    "### CNN Decoder"
   ]
  },
  {
   "cell_type": "code",
   "execution_count": null,
   "metadata": {},
   "outputs": [],
   "source": [
    "#export\n",
    "class CNNDecoder(nn.Module):\n",
    "    def __init__(self, latents: int, max_envs=0, device='cpu'):\n",
    "        super().__init__()\n",
    "        self.max_envs = max_envs\n",
    "        self.latents = latents\n",
    "        self.linear1 = nn.Linear(latents + max_envs, 64)\n",
    "        self.linear2 = nn.Linear(64, 256)\n",
    "        self.conv1 = nn.ConvTranspose2d(64, 32, (4,4), 2)\n",
    "        self.conv2 = nn.ConvTranspose2d(32, 32, (4,4), 2)\n",
    "        self.conv3 = nn.ConvTranspose2d(32, 1, (4,4), 2, 1)\n",
    "        self.relu = nn.ReLU()\n",
    "        self.sigmoid = nn.Sigmoid()\n",
    "        self.device = device\n",
    "        \n",
    "    def forward(self, z, s=None):\n",
    "        \"\"\"\n",
    "        Decode the latent and environmental variables\n",
    "\n",
    "        Args: \n",
    "            z (Tensor): latent variables\n",
    "            s (Tensor): one-hot encoded environmental variable (not sure how this works...)\n",
    "        \n",
    "        Returns:\n",
    "            Means for (batchsize, widgt, height) Bernoulli's (which can be interpreted as the reconstructed image)\n",
    "        \"\"\"\n",
    "        if s is not None:\n",
    "            s_one_hot = F.one_hot(s, num_classes=self.max_envs).to(self.device)\n",
    "            z = torch.cat((z, s_one_hot), dim=1)\n",
    "        x = self.relu(self.linear1(z))\n",
    "        x = self.relu(self.linear2(x))\n",
    "        x = x.reshape(-1, 64, 2, 2)\n",
    "        x = self.relu(self.conv1(x))\n",
    "        x = self.relu(self.conv2(x))\n",
    "        x = self.conv3(x)\n",
    "        out = self.sigmoid(x)\n",
    "        return out"
   ]
  },
  {
   "cell_type": "code",
   "execution_count": null,
   "metadata": {},
   "outputs": [],
   "source": [
    "mu, sigma, final = cnn_encoder(mnist_batch)\n",
    "env_inf = EnvironmentInference(max_environmnets=max_environments, input_dim=64)\n",
    "env_dist = env_inf(final)\n",
    "env_idx = env_dist_to_idx(env_dist, max_environments=max_environments)\n",
    "z = mu\n",
    "s = env_idx"
   ]
  },
  {
   "cell_type": "code",
   "execution_count": null,
   "metadata": {},
   "outputs": [],
   "source": [
    "cnn_decoder = CNNDecoder(latents=latents)"
   ]
  },
  {
   "cell_type": "code",
   "execution_count": null,
   "metadata": {},
   "outputs": [],
   "source": [
    "rec_x = cnn_decoder(z, None)"
   ]
  },
  {
   "cell_type": "code",
   "execution_count": null,
   "metadata": {},
   "outputs": [
    {
     "data": {
      "text/plain": [
       "torch.Size([128, 1, 28, 28])"
      ]
     },
     "execution_count": null,
     "metadata": {},
     "output_type": "execute_result"
    }
   ],
   "source": [
    "rec_x.shape"
   ]
  },
  {
   "cell_type": "code",
   "execution_count": null,
   "metadata": {},
   "outputs": [],
   "source": [
    "assert rec_x.shape == mnist_batch.shape"
   ]
  },
  {
   "cell_type": "markdown",
   "metadata": {},
   "source": [
    "## Vanilla VAEs"
   ]
  },
  {
   "cell_type": "markdown",
   "metadata": {},
   "source": [
    "### Reparameterization Trick\n"
   ]
  },
  {
   "cell_type": "code",
   "execution_count": null,
   "metadata": {},
   "outputs": [],
   "source": [
    "#export\n",
    "def reparam(mu, logvar, device='cpu'):\n",
    "    eps = torch.randn(logvar.shape).to(device)\n",
    "    std = (0.5 * logvar).exp()\n",
    "    return mu + std * eps"
   ]
  },
  {
   "cell_type": "markdown",
   "metadata": {},
   "source": [
    "### Vanilla VAE (From Paper)"
   ]
  },
  {
   "cell_type": "code",
   "execution_count": null,
   "metadata": {},
   "outputs": [],
   "source": [
    "#export\n",
    "class VanillaVAE(nn.Module):\n",
    "    def __init__(self, encoder: type, decoder: type, latents: int, device: str):\n",
    "        super().__init__()\n",
    "        self.encoder = encoder(latents=latents)\n",
    "        self.decoder = decoder(latents=latents)\n",
    "        self.device = device\n",
    "        \n",
    "    def forward(self, x):\n",
    "        mu, logvar, _final = self.encoder(x)\n",
    "        if self.training:\n",
    "            z = reparam(mu, logvar, device=self.device)\n",
    "        else:\n",
    "            z = mu\n",
    "        rec_img = self.decoder(z=z)\n",
    "        return rec_img, mu, logvar"
   ]
  },
  {
   "cell_type": "code",
   "execution_count": null,
   "metadata": {},
   "outputs": [],
   "source": [
    "#export\n",
    "class CNNVanillaVAE(VanillaVAE):\n",
    "    def __init__(self, latents: int, device:str):\n",
    "        super().__init__(encoder=Encoder, decoder=Decoder, latents=latents, device=device)"
   ]
  },
  {
   "cell_type": "code",
   "execution_count": null,
   "metadata": {},
   "outputs": [],
   "source": [
    "device = torch.device('cuda:0' if torch.cuda.is_available() else 'cpu')"
   ]
  },
  {
   "cell_type": "code",
   "execution_count": null,
   "metadata": {},
   "outputs": [],
   "source": [
    "vvae = CNNVanillaVAE(latents=latents, device=device)"
   ]
  },
  {
   "cell_type": "code",
   "execution_count": null,
   "metadata": {},
   "outputs": [],
   "source": [
    "rec_img, mu, logvar = vvae(mm_batch)"
   ]
  },
  {
   "cell_type": "code",
   "execution_count": null,
   "metadata": {},
   "outputs": [
    {
     "data": {
      "text/plain": [
       "Decoder(\n",
       "  (linear2): Linear(in_features=24, out_features=256, bias=True)\n",
       "  (linear1): Linear(in_features=256, out_features=2048, bias=True)\n",
       "  (conv4): ConvTranspose2d(128, 128, kernel_size=(4, 4), stride=(2, 2), padding=(1, 1))\n",
       "  (conv3): ConvTranspose2d(128, 64, kernel_size=(4, 4), stride=(2, 2), padding=(1, 1))\n",
       "  (conv2): ConvTranspose2d(64, 64, kernel_size=(4, 4), stride=(2, 2), padding=(1, 1))\n",
       "  (conv1): ConvTranspose2d(64, 1, kernel_size=(4, 4), stride=(2, 2), padding=(1, 1))\n",
       "  (relu): ReLU()\n",
       "  (sigmoid): Sigmoid()\n",
       ")"
      ]
     },
     "execution_count": null,
     "metadata": {},
     "output_type": "execute_result"
    }
   ],
   "source": [
    "vvae.decoder"
   ]
  },
  {
   "cell_type": "code",
   "execution_count": null,
   "metadata": {},
   "outputs": [
    {
     "data": {
      "text/plain": [
       "torch.Size([128, 1, 64, 64])"
      ]
     },
     "execution_count": null,
     "metadata": {},
     "output_type": "execute_result"
    }
   ],
   "source": [
    "rec_img.shape"
   ]
  },
  {
   "cell_type": "code",
   "execution_count": null,
   "metadata": {},
   "outputs": [],
   "source": [
    "assert rec_img.shape == mm_batch.shape"
   ]
  },
  {
   "cell_type": "code",
   "execution_count": null,
   "metadata": {},
   "outputs": [
    {
     "data": {
      "text/plain": [
       "<matplotlib.image.AxesImage at 0x14e448c10>"
      ]
     },
     "execution_count": null,
     "metadata": {},
     "output_type": "execute_result"
    },
    {
     "data": {
      "image/png": "[encoded data removed]",
      "text/plain": [
       "<Figure size 432x288 with 1 Axes>"
      ]
     },
     "metadata": {
      "needs_background": "light"
     },
     "output_type": "display_data"
    }
   ],
   "source": [
    "plt.imshow(rec_img[0].detach().numpy().squeeze())"
   ]
  },
  {
   "cell_type": "code",
   "execution_count": null,
   "metadata": {},
   "outputs": [],
   "source": [
    "assert mu.shape == torch.Size([batch_size, latents])\n",
    "assert logvar.shape == torch.Size([batch_size, latents])"
   ]
  },
  {
   "cell_type": "code",
   "execution_count": null,
   "metadata": {},
   "outputs": [
    {
     "data": {
      "text/plain": [
       "PaperVanillaVAE(\n",
       "  (encoder): Encoder(\n",
       "    (conv1): Conv2d(1, 64, kernel_size=(4, 4), stride=(2, 2), padding=(1, 1))\n",
       "    (conv2): Conv2d(64, 64, kernel_size=(4, 4), stride=(2, 2), padding=(1, 1))\n",
       "    (conv3): Conv2d(64, 128, kernel_size=(4, 4), stride=(2, 2), padding=(1, 1))\n",
       "    (conv4): Conv2d(128, 128, kernel_size=(4, 4), stride=(2, 2), padding=(1, 1))\n",
       "    (linear): Linear(in_features=2048, out_features=256, bias=True)\n",
       "    (linear_mu): Linear(in_features=256, out_features=24, bias=True)\n",
       "    (linear_logvar): Linear(in_features=256, out_features=24, bias=True)\n",
       "    (relu): ReLU()\n",
       "  )\n",
       "  (decoder): Decoder(\n",
       "    (linear2): Linear(in_features=24, out_features=256, bias=True)\n",
       "    (linear1): Linear(in_features=256, out_features=2048, bias=True)\n",
       "    (conv4): ConvTranspose2d(128, 128, kernel_size=(4, 4), stride=(2, 2), padding=(1, 1))\n",
       "    (conv3): ConvTranspose2d(128, 64, kernel_size=(4, 4), stride=(2, 2), padding=(1, 1))\n",
       "    (conv2): ConvTranspose2d(64, 64, kernel_size=(4, 4), stride=(2, 2), padding=(1, 1))\n",
       "    (conv1): ConvTranspose2d(64, 1, kernel_size=(4, 4), stride=(2, 2), padding=(1, 1))\n",
       "    (relu): ReLU()\n",
       "    (sigmoid): Sigmoid()\n",
       "  )\n",
       ")"
      ]
     },
     "execution_count": null,
     "metadata": {},
     "output_type": "execute_result"
    }
   ],
   "source": [
    "vvae.eval()\n"
   ]
  },
  {
   "cell_type": "code",
   "execution_count": null,
   "metadata": {},
   "outputs": [],
   "source": [
    "assert not vvae.training"
   ]
  },
  {
   "cell_type": "code",
   "execution_count": null,
   "metadata": {},
   "outputs": [],
   "source": [
    "rec_img, mu, logvar = vvae(mm_batch)"
   ]
  },
  {
   "cell_type": "code",
   "execution_count": null,
   "metadata": {},
   "outputs": [],
   "source": [
    "rec_img_decode = vvae.decoder(mu)"
   ]
  },
  {
   "cell_type": "code",
   "execution_count": null,
   "metadata": {},
   "outputs": [],
   "source": [
    "assert torch.equal(rec_img, rec_img_decode)"
   ]
  },
  {
   "cell_type": "markdown",
   "metadata": {},
   "source": [
    "### FC Vanilla VAE"
   ]
  },
  {
   "cell_type": "code",
   "execution_count": null,
   "metadata": {},
   "outputs": [],
   "source": [
    "#export\n",
    "class FCVAE(VanillaVAE):\n",
    "    def __init__(self, latents: int, device='cpu'):\n",
    "        super().__init__(encoder=FCEncoder, decoder=FCDecoder, latents=latents, device=device)\n",
    "        "
   ]
  },
  {
   "cell_type": "code",
   "execution_count": null,
   "metadata": {},
   "outputs": [],
   "source": [
    "fc_vae = FCVAE(latents=latents)"
   ]
  },
  {
   "cell_type": "code",
   "execution_count": null,
   "metadata": {},
   "outputs": [],
   "source": [
    "rec_img, _, _ = fc_vae(mnist_batch)"
   ]
  },
  {
   "cell_type": "code",
   "execution_count": null,
   "metadata": {},
   "outputs": [],
   "source": [
    "assert rec_img.shape == mnist_batch.shape"
   ]
  },
  {
   "cell_type": "markdown",
   "metadata": {},
   "source": [
    "## Latent Masking VAEs\n",
    "\n",
    "The paper introduces latent masking for three reasons:\n",
    "1. Help with Environmental Inference\n",
    "2. Promote cross-domain homologies \n",
    "3. Prevent Catestrophic forgetting \n",
    "Latent masking is performed as follows: if the kl divergence between a latent and the standard normal prior passes some threshold $\\lambda$ the the latent is masked (its value is set to 0). More formally:\n",
    "\n",
    "$$ \\alpha_n = KL(E_{x^{s}_{batch}}[q_{\\phi}(z^s_n|x^s_{batch})] || p(z_n)) $$\n",
    "\n",
    "$$a_n = \\left\\{ \n",
    "  \\begin{array}{ c l }\n",
    "    1 & \\quad \\textrm{if } \\alpha_n < \\lambda \\\\\n",
    "    0                 & \\quad \\textrm{otherwise}\n",
    "  \\end{array}\n",
    "\\right.$$\n",
    "\n",
    "(TODO: this makes me confused about the C parameter - if the c difference is taken element wise, then the KL divergence is going to be a lot higher (~C), but the $\\lambda$ values in the paper range from 0 to 1 - so probably C is the sum over the batch, perhaps with C divided by batch size?)\n",
    "\n",
    "Rather then estimate the KL divergence of each individual sample, the paper takes the mean and standard deviation of the distribution of latent samples in the batch:\n",
    "\n",
    "$$ \\frac{1}{B} \\sum_{b=1}^{B} q_{\\phi}(z_n|x_b) $$\n",
    "fit a gaussian to this distribution, and then take the KL divergence of this fitted distribution\n",
    "\n",
    "Later on in Appendix A.2, the paper notes that \"since atypicality is computed on a relatively small batch of B samples, \\alpha_i may be a noisy estimate of atypicality\". The authors try to reduce this noise by introducing two more hyerpameters $\\lambda_1, \\lambda_2$, such that $\\alpha_n = 1 \\textrm{if } \\alpha_n > \\lambda_1$ and $\\alpha_n = 0$ if $\\alpha_n < \\lambda_0$. If $\\lambda_0 < \\alpha_n < \\lambda_1$, it remains unchanged. The authors don't specify values for $\\lambda_1$ or $\\lambda_2$"
   ]
  },
  {
   "cell_type": "markdown",
   "metadata": {},
   "source": [
    "### Exploration"
   ]
  },
  {
   "cell_type": "code",
   "execution_count": null,
   "metadata": {},
   "outputs": [],
   "source": [
    "latents = 8\n",
    "batch_size = 128"
   ]
  },
  {
   "cell_type": "code",
   "execution_count": null,
   "metadata": {},
   "outputs": [],
   "source": [
    "fc_vae = FCVAE(latents=latents)"
   ]
  },
  {
   "cell_type": "code",
   "execution_count": null,
   "metadata": {},
   "outputs": [],
   "source": [
    "mu, logvar, _final = fc_vae.encoder(mnist_batch)\n",
    "z = reparam(mu, logvar)"
   ]
  },
  {
   "cell_type": "code",
   "execution_count": null,
   "metadata": {},
   "outputs": [
    {
     "data": {
      "text/plain": [
       "torch.Size([128, 8])"
      ]
     },
     "execution_count": null,
     "metadata": {},
     "output_type": "execute_result"
    }
   ],
   "source": [
    "z.shape"
   ]
  },
  {
   "cell_type": "code",
   "execution_count": null,
   "metadata": {},
   "outputs": [],
   "source": [
    "lam = 1\n",
    "lam_1 = 1e-4\n",
    "lam_2 = .85"
   ]
  },
  {
   "cell_type": "code",
   "execution_count": null,
   "metadata": {},
   "outputs": [],
   "source": [
    "std, mean = torch.std_mean(z, dim=0)\n",
    "logvar = 2 * torch.log(std)\n",
    "mean = mean[:,None]\n",
    "logvar = logvar[:,None]"
   ]
  },
  {
   "cell_type": "code",
   "execution_count": null,
   "metadata": {},
   "outputs": [],
   "source": [
    "assert mean.shape == torch.Size([latents, 1])\n",
    "assert logvar.shape == torch.Size([latents, 1])"
   ]
  },
  {
   "cell_type": "code",
   "execution_count": null,
   "metadata": {},
   "outputs": [
    {
     "data": {
      "text/plain": [
       "tensor([0.0149, 0.0227, 0.0092, 0.0038, 0.0003, 0.0118, 0.0059, 0.0233],\n",
       "       grad_fn=<MulBackward0>)"
      ]
     },
     "execution_count": null,
     "metadata": {},
     "output_type": "execute_result"
    }
   ],
   "source": [
    "alphas = kl_div_stdnorm(mean, logvar)\n",
    "alphas"
   ]
  },
  {
   "cell_type": "code",
   "execution_count": null,
   "metadata": {},
   "outputs": [
    {
     "data": {
      "text/plain": [
       "tensor([0.0149, 0.0227, 0.0092, 0.0038, 0.0003, 0.0118, 0.0059, 0.0233],\n",
       "       grad_fn=<IndexPutBackward0>)"
      ]
     },
     "execution_count": null,
     "metadata": {},
     "output_type": "execute_result"
    }
   ],
   "source": [
    "alphas[alphas < lam_1] = 0\n",
    "alphas"
   ]
  },
  {
   "cell_type": "code",
   "execution_count": null,
   "metadata": {},
   "outputs": [
    {
     "data": {
      "text/plain": [
       "tensor([0.0149, 0.0227, 0.0092, 0.0038, 0.0003, 0.0118, 0.0059, 0.0233],\n",
       "       grad_fn=<IndexPutBackward0>)"
      ]
     },
     "execution_count": null,
     "metadata": {},
     "output_type": "execute_result"
    }
   ],
   "source": [
    "alphas[alphas > lam_2] = 1\n",
    "alphas"
   ]
  },
  {
   "cell_type": "code",
   "execution_count": null,
   "metadata": {},
   "outputs": [],
   "source": [
    "a = alphas < lam"
   ]
  },
  {
   "cell_type": "code",
   "execution_count": null,
   "metadata": {},
   "outputs": [
    {
     "data": {
      "text/plain": [
       "tensor([0.0149, 0.0227, 0.0092, 0.0038, 0.0003, 0.0118, 0.0059, 0.0233],\n",
       "       grad_fn=<IndexPutBackward0>)"
      ]
     },
     "execution_count": null,
     "metadata": {},
     "output_type": "execute_result"
    }
   ],
   "source": [
    "alphas"
   ]
  },
  {
   "cell_type": "code",
   "execution_count": null,
   "metadata": {},
   "outputs": [],
   "source": [
    "assert torch.all(a)"
   ]
  },
  {
   "cell_type": "code",
   "execution_count": null,
   "metadata": {},
   "outputs": [],
   "source": [
    "assert alphas.shape == torch.Size([latents])\n",
    "assert a.shape == torch.Size([latents])"
   ]
  },
  {
   "cell_type": "markdown",
   "metadata": {},
   "source": [
    "### Latent Masking VAE\n"
   ]
  },
  {
   "cell_type": "markdown",
   "metadata": {},
   "source": [
    "$$\\bar{z}_n = \\frac{1}{B} \\sum_{b=1}^{B} q_{\\phi}(z_n|x_b)$$\n"
   ]
  },
  {
   "cell_type": "markdown",
   "metadata": {},
   "source": [
    "NOTE: the lower bound is a way of testing like \"inner typicaliy\" or somethign (essencially if everything is supsiciously close to the prior)\n",
    "\n",
    "We want so "
   ]
  },
  {
   "cell_type": "code",
   "execution_count": null,
   "metadata": {},
   "outputs": [],
   "source": [
    "#export \n",
    "def latent_mask(z, lam, lam_1=1e-4):\n",
    "    std, mean = torch.std_mean(z, dim=0)\n",
    "    std = std[:,None]\n",
    "    mean = mean[:, None]\n",
    "    logvar = torch.log(std.pow(2))\n",
    "    alphas = kl_div_stdnorm(mean, logvar)\n",
    "    alphas[alphas < lam_1] = 0\n",
    "    #alphas[alphas > lam_2] = 1\n",
    "    a = alphas < lam\n",
    "    return a, alphas"
   ]
  },
  {
   "cell_type": "code",
   "execution_count": null,
   "metadata": {},
   "outputs": [],
   "source": [
    "a, alphas = latent_mask(z, lam)\n",
    "assert torch.all(a)\n",
    "assert a.shape == torch.Size([latents])\n",
    "assert a.dtype == torch.bool"
   ]
  },
  {
   "cell_type": "code",
   "execution_count": null,
   "metadata": {},
   "outputs": [],
   "source": [
    "z[:,~a] = 0"
   ]
  },
  {
   "cell_type": "code",
   "execution_count": null,
   "metadata": {},
   "outputs": [],
   "source": [
    "z = torch.randn((batch_size, latents)) * 5\n",
    "a, alphas = latent_mask(z, lam)"
   ]
  },
  {
   "cell_type": "code",
   "execution_count": null,
   "metadata": {},
   "outputs": [],
   "source": [
    "assert torch.all(~a)"
   ]
  },
  {
   "cell_type": "code",
   "execution_count": null,
   "metadata": {},
   "outputs": [
    {
     "data": {
      "text/plain": [
       "torch.Size([128, 8])"
      ]
     },
     "execution_count": null,
     "metadata": {},
     "output_type": "execute_result"
    }
   ],
   "source": [
    "z.shape"
   ]
  },
  {
   "cell_type": "code",
   "execution_count": null,
   "metadata": {},
   "outputs": [],
   "source": [
    "z[:,~a] = 0\n",
    "assert torch.equal(z, torch.zeros(z.shape))"
   ]
  },
  {
   "cell_type": "code",
   "execution_count": null,
   "metadata": {},
   "outputs": [],
   "source": [
    "z = torch.randn((batch_size, latents)) * 1.7\n",
    "a, alphs = latent_mask(z, lam)"
   ]
  },
  {
   "cell_type": "code",
   "execution_count": null,
   "metadata": {},
   "outputs": [],
   "source": [
    "masked_z = torch.clone(z)\n",
    "masked_z[:, ~a] = 0"
   ]
  },
  {
   "cell_type": "code",
   "execution_count": null,
   "metadata": {},
   "outputs": [],
   "source": [
    "# assert not torch.equal(masked_z, z)\n",
    "# assert torch.equal(masked_z[:, a], z[:,a])\n",
    "# assert torch.equal(masked_z[:, ~a], torch.zeros([batch_size, torch.sum(~a)]))"
   ]
  },
  {
   "cell_type": "markdown",
   "metadata": {},
   "source": [
    "$$q(z^s|x^s) = a^s \\cdot \\mathcal{N}(\\mu(x), \\sigma(x)) + (1-a^s) \\cdot \\mathcal{N}(0,I)$$"
   ]
  },
  {
   "cell_type": "code",
   "execution_count": null,
   "metadata": {},
   "outputs": [],
   "source": [
    "#export \n",
    "def apply_mask(a, z, mu, logvar):\n",
    "    std_norm = torch.randn(z.shape)\n",
    "    z = a * z + (~a) * std_norm # \"reparam\" trick again\n",
    "    mu[:,~a] = 0\n",
    "    logvar[:,~a] = 0\n",
    "    return z, mu, logvar"
   ]
  },
  {
   "cell_type": "code",
   "execution_count": null,
   "metadata": {},
   "outputs": [],
   "source": [
    "#export\n",
    "class LatentMaskVAE(VanillaVAE):\n",
    "    def __init__(self, encoder: type, decoder: type, latents: int, device: str, lam: float):\n",
    "        self.lam = lam\n",
    "        super().__init__(encoder, decoder, latents, device)\n",
    "        \n",
    "    def forward(self, x):\n",
    "        mu, logvar, _final = self.encoder(x)\n",
    "        if self.training:\n",
    "            z = reparam(mu, logvar, device=self.device)\n",
    "        else:\n",
    "            z = mu\n",
    "        \n",
    "        #latent masking\n",
    "        a, alphas = latent_mask(z, self.lam)\n",
    "        z, mu, logvar = apply_mask(a, z, mu, logvar)\n",
    "        \n",
    "        rec_img = self.decoder(z=z)\n",
    "        return rec_img, mu, logvar, alphas"
   ]
  },
  {
   "cell_type": "code",
   "execution_count": null,
   "metadata": {},
   "outputs": [],
   "source": [
    "lm_vae = LatentMaskVAE(FCEncoder, FCDecoder, latents=latents, device='cpu', lam=lam)"
   ]
  },
  {
   "cell_type": "code",
   "execution_count": null,
   "metadata": {},
   "outputs": [],
   "source": [
    "rec_img, _mu, _logvar, _alphas = lm_vae(mnist_batch)"
   ]
  },
  {
   "cell_type": "code",
   "execution_count": null,
   "metadata": {},
   "outputs": [
    {
     "data": {
      "text/plain": [
       "tensor([10.2843,  8.2969,  9.2901, 12.4226, 10.3024, 11.1031, 12.6271, 11.6726])"
      ]
     },
     "execution_count": null,
     "metadata": {},
     "output_type": "execute_result"
    }
   ],
   "source": [
    "alphas"
   ]
  },
  {
   "cell_type": "code",
   "execution_count": null,
   "metadata": {},
   "outputs": [],
   "source": [
    "assert rec_img.shape == torch.Size([batch_size, 1, 28, 28])"
   ]
  },
  {
   "cell_type": "markdown",
   "metadata": {},
   "source": [
    "## Environmental Inference VAE"
   ]
  },
  {
   "cell_type": "markdown",
   "metadata": {},
   "source": [
    "### Formal Setup\n",
    "\n",
    "To infer the environment, you take the most likely environment, reconstruct the image conditional on all previously seen enviornments. If the reconstruction loss is below some threshold and the latent mask is the same as it is for that environment typically, then it is classified as that environment. Else it is classified as a new environment:\n",
    "\n",
    "$$s = \\left\\{ \n",
    "  \\begin{array}{ c l }\n",
    "    \\hat{s} & \\quad \\textrm{if } E_{z^{\\hat{s}}}[p_{\\theta}(x^{s}_{batch}|z^{\\hat{s}, \\hat{s}})] \\leq \\kappa L_{\\hat{s}} \\land a^s = a^{\\hat{s}} \\\\\n",
    "    s_{r+t}                 & \\quad \\textrm{otherwise}\n",
    "  \\end{array}\n",
    "\\right.$$\n",
    "\n",
    "Where $\\hat{s} = \\argmax_{s} q(s|x^s_{batch})$ is the output of the auxiliary classifier trained to output the most likely environment, $L_{\\hat{s}}$ is the average reconstruction loss on $\\hat{s}$ previously, and $\\kappa$ is a hyper parameter.\n",
    "\n",
    "Also note that the comparision $a^s = a^{\\hat{s}}$ is only taken on \"used\" latent variables. To calculate whether a variable $z_n$ is used, the paper finds the maximum amount of noise to add to $z_n$ without changing the reconstruction performance of the network, solving the following optimization problem:\n",
    "\n",
    "$$\\Sigma = \\argmin_{\\Sigma = \\textrm{diag}(\\sigma_1, ..., \\sigma_N)} E_{\\epsilon \\sim \\mathcal{N}(0, \\sigma)}[-\\log(p_{\\theta}(x|z^{\\epsilon}, s)] - log|\\Sigma|$$\n",
    "\n",
    "with $z^{\\epsilon}_n = (1 - \\delta_{nm})z_n + \\delta_{nm}(z_n + \\epsilon)$. We then define the mask $u^s$ as\n",
    "\n",
    "$$ u_n^s = \\left\\{ \n",
    "  \\begin{array}{ c l }\n",
    "    1 & \\quad \\textrm{if } \\sigma_n' < T \\\\\n",
    "    0                & \\quad \\textrm{otherwise}\n",
    "  \\end{array}\n",
    "\\right.$$\n",
    "\n",
    "Three possible methods:\n",
    "1. actually just do SGD - I'll start with this, but it seems prohibitely slow to do sgd in every batch of this process? idk I guess you only have 24 parameters...\n",
    "2. Some special solver that does it faster\n",
    "3. Prescify some discrete set or something\n",
    "So I guess we could just take a discrete set for each variable ([0,1,2,3,4,5] or something), calculate the loss \n",
    "\n",
    "\n",
    "\n",
    "\n",
    "The enviornment detector itself is trained to predict the current enviornment from the current data, and past enviornments using past data. Formally, this loss function is given by:\n",
    "\n",
    "$$\\mathcal{L}_{\\textrm{env}} = E_{x}[-log(q_{\\psi}(\\hat{s}|x))] + E_{\\hat{s} \\neq s <m} E_{x' \\sim p_{\\theta'}(x'|z',s)}[-\\log q_{\\psi}(s|x')]$$\n",
    "\n",
    "(Note that expected negative likelihood is just cross entropy loss). Past environments are sampled using monte-carlo methods. No mention of optimizer used for environmental classifier (I think this is maximized with the rest of of the model even though gradients are stopped)\n",
    "\n",
    "Putting it all together, we have:\n",
    "\n",
    "![enf_inf_alg](assets/env_inf_alg.png)\n",
    "\n",
    "Note that this algorithm doesn't use the auxilary environmental inference network - rather it performs [analysis by synthesis](https://arxiv.org/abs/1805.09190), determing the environment by seeing which best fits the data. I like this approach better, and it doesn't seem less efficient? The auxilary network requires _more_ generation to prevent catastrophic forgetting \n",
    "Other details:\n",
    "  max_envs = 7"
   ]
  },
  {
   "cell_type": "markdown",
   "metadata": {},
   "source": [
    "### Used vs Unused Variables \n",
    "$$\\Sigma = \\argmin_{\\Sigma = \\textrm{diag}(\\sigma_1, ..., \\sigma_N)} E_{\\epsilon \\sim \\mathcal{N}(0, \\sigma)}[-\\log(p_{\\theta}(x|z^{\\epsilon}, s)] - log|\\Sigma|$$\n",
    "\n",
    "with $z^{\\epsilon}_n = (1 - \\delta_{nm})z_n + \\delta_{nm}(z_n + \\epsilon)$\n",
    "\n",
    "$$ u_n^s = \\left\\{ \n",
    "  \\begin{array}{ c l }\n",
    "    1 & \\quad \\textrm{if } \\sigma_n' < T \\\\\n",
    "    0                & \\quad \\textrm{otherwise}\n",
    "  \\end{array}\n",
    "\\right.$$"
   ]
  },
  {
   "cell_type": "markdown",
   "metadata": {},
   "source": [
    "#### Exploration (gradient based)"
   ]
  },
  {
   "cell_type": "code",
   "execution_count": null,
   "metadata": {},
   "outputs": [
    {
     "data": {
      "text/plain": [
       "True"
      ]
     },
     "execution_count": null,
     "metadata": {},
     "output_type": "execute_result"
    }
   ],
   "source": [
    "params = torch.randn((10,))\n",
    "params.requires_grad_(True)\n",
    "params.requires_grad"
   ]
  },
  {
   "cell_type": "code",
   "execution_count": null,
   "metadata": {},
   "outputs": [],
   "source": [
    "optimizer = torch.optim.SGD(params=[params], lr=1e-2)"
   ]
  },
  {
   "cell_type": "code",
   "execution_count": null,
   "metadata": {},
   "outputs": [],
   "source": [
    "class AbsDev(nn.Module):\n",
    "\n",
    "    def forward(self, x):\n",
    "        e = torch.randn(x.shape[0])\n",
    "        return torch.abs(x*e).sum()#(x * e).pow(2).sqrt().sum()"
   ]
  },
  {
   "cell_type": "code",
   "execution_count": null,
   "metadata": {},
   "outputs": [],
   "source": [
    "abs_dev = AbsDev()\n",
    "with torch.no_grad():\n",
    "    abs_dev(params)"
   ]
  },
  {
   "cell_type": "code",
   "execution_count": null,
   "metadata": {},
   "outputs": [
    {
     "name": "stdout",
     "output_type": "stream",
     "text": [
      "tensor(0.2870, grad_fn=<SumBackward0>)\n",
      "tensor(0.0291, grad_fn=<SumBackward0>)\n",
      "tensor(0.0471, grad_fn=<SumBackward0>)\n",
      "tensor(-0.0020, grad_fn=<SumBackward0>)\n",
      "tensor(-0.0184, grad_fn=<SumBackward0>)\n",
      "tensor(-0.0073, grad_fn=<SumBackward0>)\n",
      "tensor(0.0295, grad_fn=<SumBackward0>)\n",
      "tensor(-0.0254, grad_fn=<SumBackward0>)\n",
      "tensor(0.0327, grad_fn=<SumBackward0>)\n",
      "tensor(-0.0202, grad_fn=<SumBackward0>)\n"
     ]
    }
   ],
   "source": [
    "epochs=10000\n",
    "for i in range(epochs):\n",
    "    optimizer.zero_grad()\n",
    "    loss = abs_dev(params)\n",
    "    loss.backward()\n",
    "    optimizer.step()\n",
    "    if i % 1000 == 0:\n",
    "        pass\n",
    "        print(params.sum())"
   ]
  },
  {
   "cell_type": "markdown",
   "metadata": {},
   "source": [
    "#### Exploration (GA Based)"
   ]
  },
  {
   "cell_type": "code",
   "execution_count": null,
   "metadata": {},
   "outputs": [
    {
     "name": "stdout",
     "output_type": "stream",
     "text": [
      "#0 263.82207186468344 (x1=0.4376982542428074, x2 = -0.39607767760289275)\n",
      "#0 419.4244349377686 (x1=1.7014145502018039, x2 = 0.043864258622233)\n",
      "#0 2281.409810678941 (x1=0.9987805166239593, x2 = 2.7722163941488422)\n",
      "#0 224.74214824148285 (x1=0.5971517947517759, x2 = -0.5202416793813314)\n",
      "#0 116.81883953102569 (x1=0.18572879484201488, x2 = -0.9564545188883989)\n",
      "#0 1567.9062171003754 (x1=-0.39978331401565215, x2 = 1.9450572752725865)\n",
      "#1 28.39298276394883 (x1=0.11327268762242224, x2 = -2.4478815489381334)\n",
      "#1 508.8600478098729 (x1=0.2858763729463076, x2 = 0.23940523520630796)\n",
      "#1 479.2967879222815 (x1=-0.8345701000448775, x2 = 0.15544162544505824)\n",
      "#1 222.84433179862353 (x1=-0.049884202299883496, x2 = -0.5386905250728539)\n",
      "#1 3.637101732390163 (x1=1.3583335390133982, x2 = -2.0970583825984077)\n",
      "#1 432.1046709170211 (x1=0.7933964120575749, x2 = 0.06696775863268078)\n",
      "#2 678.1031878278429 (x1=2.699470696680546, x2 = -4.6038680265437595)\n",
      "#2 11.112119795292141 (x1=0.7614248871681883, x2 = -1.7529999745040057)\n",
      "#2 12.831651996222359 (x1=2.00882197738125, x2 = -1.6557730672405202)\n",
      "#2 421.60089202219103 (x1=1.0375940697686379, x2 = 0.04389298885040427)\n",
      "#2 222.1908546939239 (x1=-0.681541160839483, x2 = -0.5555723992703248)\n",
      "#2 28.790224105721084 (x1=0.6979446334670188, x2 = -2.484672726642812)\n",
      "#3 19.386594689754666 (x1=0.8859796611001076, x2 = -1.6137680399491485)\n",
      "#3 200.4249041348133 (x1=0.5921659391580091, x2 = -0.604911331598373)\n",
      "#3 16.422405146780093 (x1=0.05348976729659238, x2 = -1.7217827720044245)\n",
      "#3 18.925218477313667 (x1=-0.2425482017265037, x2 = -2.2900189586353603)\n",
      "#3 94.850854399321 (x1=3.416310363544082, x2 = -1.02697615609623)\n",
      "#3 449.5871753473614 (x1=1.0926324323055314, x2 = 0.11175075306975768)\n",
      "#4 253.31268914984787 (x1=-1.9196388063881973, x2 = -0.486362516437548)\n",
      "#4 43.891168945893725 (x1=-2.0388726575282767, x2 = -2.4301270892086158)\n",
      "#4 14.83938120953335 (x1=1.2209356988636484, x2 = -1.6583230850356498)\n",
      "#4 4.2342712881064175 (x1=1.0437887907511072, x2 = -1.9361635689503711)\n",
      "#4 83.15157186393576 (x1=0.8807565958122335, x2 = -2.8869068680405086)\n",
      "#4 13.722975770136571 (x1=0.3262273371662034, x2 = -2.256396480428637)\n",
      "#5 23.406848299486885 (x1=1.4325232577994476, x2 = -1.5422897754894782)\n",
      "#5 7.770714857755356 (x1=1.177136354063779, x2 = -1.7890999529141953)\n",
      "#5 13.902146806007691 (x1=2.2086783095888873, x2 = -1.6356381360749648)\n",
      "#5 216.90518218432203 (x1=1.6380446344409862, x2 = -0.5335407957718461)\n",
      "#5 6.588642529682598 (x1=1.346778784782037, x2 = -1.8036456737620523)\n",
      "#5 5.766306064886914 (x1=1.1431431300195214, x2 = -2.152262557094422)\n",
      "#6 14.118387898736396 (x1=0.49115502254825993, x2 = -1.7202843447739906)\n",
      "#6 29.917171762537638 (x1=1.1514439697295804, x2 = -2.5147816271535777)\n",
      "#6 47.710343111712184 (x1=1.3641362537857467, x2 = -1.3289240511273404)\n",
      "#6 7.156311285940081 (x1=0.5203524427552485, x2 = -1.8996177666222644)\n",
      "#6 101.8540155765435 (x1=0.8759518624298618, x2 = -1.0133773006572961)\n",
      "#6 10.569491409392853 (x1=0.07909270533336343, x2 = -1.8572487483292675)\n",
      "#7 15.749319474760508 (x1=-0.5143884242157277, x2 = -2.1843473210681132)\n",
      "#7 8.28027774287089 (x1=0.41291550469697347, x2 = -1.874013034125209)\n",
      "#7 10.304946108029105 (x1=0.01249688733923654, x2 = -2.1174636650148186)\n",
      "#7 5.757973555210817 (x1=1.293936028365925, x2 = -1.831259984594555)\n",
      "#7 21.049584555128256 (x1=-0.1129461662166037, x2 = -1.6629666081622534)\n",
      "#7 15.986654493506183 (x1=1.6642779567656119, x2 = -2.376862058540309)\n",
      "#8 1.0945588499263028 (x1=1.9565561508510738, x2 = -2.0076051190651927)\n",
      "#8 3.9353084666518487 (x1=1.0174720352757307, x2 = -1.9930061914966912)\n",
      "#8 24.377102221845803 (x1=1.027158281432041, x2 = -1.5473964452711002)\n",
      "#8 20.358337411360374 (x1=0.31089100550010007, x2 = -2.362312437366703)\n",
      "#8 9.18168018237006 (x1=1.1390807337444666, x2 = -2.239137192148127)\n",
      "#8 6.466126545351349 (x1=0.8383431551212136, x2 = -2.133916624447454)\n",
      "#9 24.767641559389755 (x1=1.2768746472730932, x2 = -2.4668884296936424)\n",
      "#9 1.068770213359388 (x1=2.0720640581281753, x2 = -2.0455746751103985)\n",
      "#9 13.59101666696497 (x1=0.7695922865272217, x2 = -1.7064646852822287)\n",
      "#9 2.182827598241506 (x1=1.7285829731016173, x2 = -2.0752546571286046)\n",
      "#9 0.17006166149487206 (x1=3.350738711170239, x2 = -2.0216896330032372)\n",
      "#9 2.7527632517993093 (x1=1.3412819944646233, x2 = -2.0037654082276046)\n",
      "#10 44.41580461702337 (x1=4.1428631200640424, x2 = -1.343420465550282)\n",
      "#10 35.97651434258213 (x1=1.4571642413440797, x2 = -1.4203779493118405)\n",
      "#10 1.3816109377151982 (x1=2.809231075538713, x2 = -2.1159835400035316)\n",
      "#10 22.396397937077012 (x1=3.642607314552055, x2 = -1.5311348405312972)\n",
      "#10 7.030351304785853 (x1=1.4000074079580485, x2 = -1.788567386380513)\n",
      "#10 0.8318857957618767 (x1=3.1794434878769406, x2 = -1.9105748452380185)\n",
      "#11 21.892094232225876 (x1=0.8817826902445254, x2 = -1.5828040069598204)\n",
      "#11 40.29116301742194 (x1=3.0727124529208845, x2 = -2.634711555878827)\n",
      "#11 17.933544831884394 (x1=0.2953501131908358, x2 = -1.674140922764647)\n",
      "#11 9.038251796900246 (x1=3.46274206954661, x2 = -1.7029457696989998)\n",
      "#11 2.635432178633665 (x1=2.08084226296519, x2 = -1.8661873984602828)\n",
      "#11 11.11687063105616 (x1=5.974259831362815, x2 = -1.8493132691111192)\n",
      "#12 94.46877750831275 (x1=1.4930126280085765, x2 = -1.0398033192674996)\n",
      "#12 55.25603919362262 (x1=4.226542341539346, x2 = -1.2668449476540873)\n",
      "#12 4.183814545381681 (x1=2.929913593038961, x2 = -1.795576360443784)\n",
      "#12 1.1315419475008837 (x1=3.6377673210052475, x2 = -2.0851348807339667)\n",
      "#12 0.07049962542570498 (x1=3.0545215769168514, x2 = -2.025985962186574)\n",
      "#12 31.039872857514453 (x1=1.773877771598213, x2 = -1.4565250959010758)\n",
      "#13 23.906580780444834 (x1=2.7819990675940836, x2 = -1.5115426694795646)\n",
      "#13 23.45595696843705 (x1=5.093984206670351, x2 = -2.4367057030844936)\n",
      "#13 5.088099658446561 (x1=4.288797346484385, x2 = -2.185124311157162)\n",
      "#13 8.135063997321211 (x1=2.425213339176543, x2 = -2.279368650565174)\n",
      "#13 13.319816399152536 (x1=4.125471987811197, x2 = -1.6528238314082482)\n",
      "#13 29.538990337509926 (x1=4.2428884504967375, x2 = -1.4709043693515156)\n",
      "#14 5.534346750417693 (x1=5.084134545749116, x2 = -1.8908794269794729)\n",
      "#14 1.715746607516522 (x1=3.5067287934201286, x2 = -2.1207879355496857)\n",
      "#14 3.6815391735716814 (x1=3.468783273583859, x2 = -1.8139413690263286)\n",
      "#14 14.111665489530548 (x1=3.637725745982132, x2 = -2.370202260425866)\n",
      "#14 33.477435568444825 (x1=4.100586758286771, x2 = -2.568032959923354)\n",
      "#14 2.5358310872944765 (x1=4.545735430563804, x2 = -2.0382796376673302)\n",
      "#15 7.420580333423497 (x1=2.2404757267248985, x2 = -2.261604724952158)\n",
      "#15 12.373728109472141 (x1=2.94632761104582, x2 = -1.6482778456773572)\n",
      "#15 42.20213401440563 (x1=2.8339368828984832, x2 = -1.3505805896376044)\n",
      "#15 5.997342649486904 (x1=4.292669485363469, x2 = -2.207998756032267)\n",
      "#15 1.6403978854688948 (x1=3.8700807945637914, x2 = -1.9060129106525723)\n",
      "#15 15.416575220709852 (x1=3.2758361169653423, x2 = -2.3916693715021298)\n",
      "#16 10.003229820540554 (x1=4.579854087492427, x2 = -2.2739943591166436)\n",
      "#16 2.008630404916605 (x1=3.3394801841889685, x2 = -2.1376002765062494)\n",
      "#16 0.31022900397423064 (x1=3.425389849778282, x2 = -1.9640455177092144)\n",
      "#16 10.408358637522374 (x1=4.74461009977563, x2 = -2.2713797014753174)\n",
      "#16 0.2705657237994323 (x1=2.639635118619453, x2 = -2.037510382038446)\n",
      "#16 3.428363936367216 (x1=3.2171233941400934, x2 = -1.8161190230588193)\n",
      "#17 3.244311830899443 (x1=3.5019366543162675, x2 = -2.1729847226188843)\n",
      "#17 3.0399887768921405 (x1=3.866368938607637, x2 = -2.1513074234500085)\n",
      "#17 2.0553981554136107 (x1=3.304123926512043, x2 = -1.8598962244357238)\n",
      "#17 0.3744160111045887 (x1=2.4702085230695534, x2 = -2.030616499159186)\n",
      "#17 3.8405895798998912 (x1=2.05488309559978, x2 = -1.8283217073443228)\n",
      "#17 2.117351434635832 (x1=1.6911684499283341, x2 = -1.9364145135921071)\n",
      "#18 4.886591439956333 (x1=0.9232296647539233, x2 = -1.9242625314261013)\n",
      "#18 0.8577840333442699 (x1=2.730739122943565, x2 = -2.088616173096736)\n",
      "#18 0.15255252852494744 (x1=3.3058737173992094, x2 = -1.9757113611889559)\n",
      "#18 0.024558718356372716 (x1=2.8572173268896104, x2 = -2.006458967886454)\n",
      "#18 1.4999664122357381 (x1=2.8739819596173697, x2 = -1.878176937087682)\n",
      "#18 0.6178660389215958 (x1=2.5262391414050853, x2 = -2.0627229374140756)\n",
      "#19 0.6089789587854453 (x1=2.9692667084227735, x2 = -2.077976562092354)\n",
      "#19 0.15634013697854332 (x1=3.3931988856260262, x2 = -1.9958349389908496)\n",
      "#19 0.16252160569437984 (x1=3.054014651168248, x2 = -2.039950472231696)\n",
      "#19 0.26513455825103316 (x1=3.198231991181056, x2 = -2.0475224826711975)\n",
      "#19 0.6401120867964022 (x1=3.5522818158465044, x2 = -2.0578875532978973)\n",
      "#19 2.388483337803914 (x1=2.695217039511767, x2 = -1.8484879316753962)\n",
      "#20 0.08250169294507392 (x1=3.136731120507978, x2 = -1.9747400923141618)\n",
      "#20 0.10016604351806965 (x1=2.715572329620464, x2 = -2.0138805417187298)\n",
      "#20 3.3693430328435876 (x1=3.97380037838985, x2 = -2.1555974246538603)\n",
      "#20 0.24407696189845268 (x1=2.518709020009135, x2 = -2.0111516610771156)\n",
      "#20 2.1931556960672127 (x1=4.225408088057478, x2 = -2.083158325728127)\n",
      "#20 1.2219165357907271 (x1=4.042682492798587, x2 = -2.0367055520326356)\n",
      "#21 0.8228146542282788 (x1=2.812587497155504, x2 = -1.911248030556734)\n",
      "#21 0.13055090545832407 (x1=3.241890681157798, x2 = -2.0268402317105014)\n",
      "#21 0.16253706907122598 (x1=3.323200231694572, x2 = -2.02409951852295)\n",
      "#21 0.13676634555173964 (x1=2.778277003043415, x2 = -2.0295981854464644)\n",
      "#21 0.4061699719099488 (x1=2.5566538142843096, x2 = -2.045783635888961)\n",
      "#21 0.09647433118497019 (x1=3.172871472229797, x2 = -2.0258049966622886)\n",
      "#22 0.2700759199661929 (x1=2.633549691044423, x2 = -1.9631502929411162)\n",
      "#22 0.1841651137620882 (x1=3.209364777699429, x2 = -2.0374608467097257)\n",
      "#22 0.049284104420649545 (x1=3.210284430155337, x2 = -1.992883425785608)\n",
      "#22 1.3119049934330786 (x1=3.856797496415428, x2 = -2.076013356955823)\n",
      "#22 0.04724709329790867 (x1=3.1956651150918782, x2 = -1.9905330807365909)\n",
      "#22 0.7577229831707032 (x1=3.3296095939945034, x2 = -2.0805655322527867)\n",
      "#23 0.2841745939294379 (x1=3.52835148331867, x2 = -1.992915295345324)\n",
      "#23 0.03212170333477272 (x1=2.8546918474997915, x2 = -1.9895084585728555)\n",
      "#23 0.8929694553552328 (x1=3.7637498129451563, x2 = -2.0556467140612518)\n",
      "#23 0.07663318069269383 (x1=3.233475971344918, x2 = -1.9851264827639052)\n",
      "#23 0.12069658431343502 (x1=3.339733605236377, x2 = -1.9927352482585234)\n",
      "#23 0.3952202849702912 (x1=3.5780353466297865, x2 = -2.0247174883466896)\n",
      "#24 0.17616684958617962 (x1=2.934550229060321, x2 = -2.041458796059476)\n",
      "#24 0.3803117155750094 (x1=2.4628822215696844, x2 = -1.9696988106390043)\n",
      "#24 0.07027476406788077 (x1=3.1780040958212368, x2 = -1.9803558390510705)\n",
      "#24 0.29067689776865474 (x1=3.218659009876452, x2 = -1.9507186510768522)\n",
      "#24 0.39878647356119035 (x1=3.243252989519195, x2 = -1.9417235504984076)\n",
      "#24 0.2555605974678032 (x1=3.187119656888827, x2 = -2.0469624138512503)\n",
      "#25 0.026390017781449657 (x1=3.134347402724953, x2 = -1.9908672057055308)\n",
      "#25 0.04804939000105393 (x1=2.9866211566293566, x2 = -1.9781206954975443)\n",
      "#25 0.01550927363036829 (x1=2.9594392477996276, x2 = -2.0117745908681823)\n",
      "#25 0.04039007434716953 (x1=3.17779197979896, x2 = -2.0093702114524357)\n",
      "#25 0.12966031591083002 (x1=3.3582172627542324, x2 = -2.003661568756278)\n",
      "#25 0.27699921525793525 (x1=3.0548125752101845, x2 = -1.94765548769386)\n",
      "#26 0.029727765541678223 (x1=2.877382182848113, x2 = -1.9878786814006955)\n",
      "#26 0.009848014498899403 (x1=2.9718894382322825, x2 = -2.0095172531835623)\n",
      "#26 0.03334124921358697 (x1=2.8678754320982183, x2 = -1.9873966878280531)\n",
      "#26 0.017245971733037387 (x1=2.9396859042600485, x2 = -2.0116654110892456)\n",
      "#26 0.0229697830298469 (x1=2.8486844915677447, x2 = -1.9991432623637602)\n",
      "#26 0.021337808229623258 (x1=2.9790201676664285, x2 = -2.0144560211901057)\n",
      "#27 0.09028783530723614 (x1=2.897744094829636, x2 = -2.0282544802049207)\n",
      "#27 0.038179015670659656 (x1=2.8953835996400956, x2 = -2.0165028556457347)\n",
      "#27 0.013767776058973287 (x1=3.05588532098913, x2 = -1.9896827295485118)\n",
      "#27 0.01478024820768841 (x1=3.038110389402365, x2 = -1.9884553707607007)\n",
      "#27 0.004568673455830609 (x1=2.9325514699473825, x2 = -1.9995598949037814)\n",
      "#27 0.0015987981272004503 (x1=2.9763184032535563, x2 = -1.9967782301405295)\n",
      "#28 0.06760149491215946 (x1=2.8827691667948865, x2 = -1.9767925816476295)\n",
      "#28 0.03226855919691164 (x1=3.112501319374841, x2 = -1.9859957105371848)\n",
      "#28 0.0011732597951319898 (x1=2.994671170125911, x2 = -1.9966164170361804)\n",
      "#28 0.059520836649359976 (x1=2.8443379093767565, x2 = -1.9812143272166896)\n",
      "#28 0.04327545941561132 (x1=3.201142485189461, x2 = -1.9946923074058318)\n",
      "#28 0.0007243153693880746 (x1=2.973367282831085, x2 = -1.999612524251228)\n",
      "#29 0.01363821459247215 (x1=3.0721660390859564, x2 = -1.9908183457944026)\n",
      "#29 0.0006624521943137781 (x1=2.980878744327367, x2 = -1.998277125147274)\n",
      "#29 0.009890669124554507 (x1=3.0467706834281487, x2 = -1.9912232282152158)\n",
      "#29 0.01443379278553271 (x1=2.954483456837111, x2 = -2.0111184698066027)\n",
      "#29 0.0007990104467169759 (x1=2.972699776028422, x2 = -1.9992671410925789)\n",
      "#29 0.045342440227444235 (x1=3.0470550080104513, x2 = -1.979232653889199)\n",
      "#30 0.0024279036037323613 (x1=2.9848817579425293, x2 = -1.9953102853382918)\n",
      "#30 0.003661790479869881 (x1=2.9425762438511045, x2 = -1.9980913284472648)\n",
      "#30 9.254954240952276e-05 (x1=3.001659163436288, x2 = -1.9990523886920197)\n",
      "#30 0.02203300633903284 (x1=3.0578916398847205, x2 = -1.9863319480647421)\n",
      "#30 0.003364347730081354 (x1=3.0567133361496563, x2 = -2.0012163273936627)\n",
      "#30 0.0007810226501369741 (x1=3.0279120458337707, x2 = -2.0001392963571116)\n",
      "#31 0.000705366503815147 (x1=3.0213063100040345, x2 = -1.9984144160134918)\n",
      "#31 0.0029112335642752668 (x1=2.949531122208705, x2 = -1.9980917915764713)\n",
      "#31 0.0021757477978348225 (x1=2.989743277016127, x2 = -2.004550326836027)\n",
      "#31 0.00526201813142828 (x1=3.020818822685067, x2 = -1.9930511909269026)\n",
      "#31 0.0012823138513153064 (x1=3.0141188849073943, x2 = -2.0032908523824187)\n",
      "#31 0.012583042620276111 (x1=3.022672306515353, x2 = -2.010985904212922)\n",
      "#32 0.0013294173239164647 (x1=2.972521459655879, x2 = -1.9976034459228447)\n",
      "#32 0.0044300659895225025 (x1=3.0521150106998225, x2 = -2.004140158993662)\n",
      "#32 0.0020279312209632236 (x1=2.9884333745293246, x2 = -2.004352176922167)\n",
      "#32 0.004358562841657368 (x1=3.0594097302074372, x2 = -1.9971206827226982)\n",
      "#32 0.0024461111338101235 (x1=3.0480148789647097, x2 = -2.0011860966731865)\n",
      "#32 0.004817370524902427 (x1=2.944522822765869, x2 = -1.9958290848353926)\n",
      "#33 0.001076625294618504 (x1=2.997955988981522, x2 = -2.0032748241381406)\n",
      "#33 0.008244554536923576 (x1=2.9206616878528058, x2 = -2.004415865444687)\n",
      "#33 0.0022319088073359224 (x1=2.999456700047756, x2 = -1.9952760041993056)\n",
      "#33 0.002487869631880928 (x1=2.992334661576319, x2 = -2.0049286024578286)\n",
      "#33 0.0013239893390757035 (x1=2.9650801400156452, x2 = -2.001022705811799)\n",
      "#33 0.0014690636366272017 (x1=3.015381232106553, x2 = -2.003510671353903)\n",
      "#34 0.0014833331810871063 (x1=3.0050271344976696, x2 = -2.0038184566251687)\n",
      "#34 1.4936924321899112e-05 (x1=3.000761109516705, x2 = -2.0003789147216127)\n",
      "#34 0.001054747792463606 (x1=3.0023452099914687, x2 = -2.0032392094445397)\n",
      "#34 0.005344697035711915 (x1=2.941626883408433, x2 = -2.004401450096388)\n",
      "#34 0.007574284079740055 (x1=2.929457816527363, x2 = -2.0050971407972047)\n",
      "#34 0.003681701469257997 (x1=2.955071480478723, x2 = -2.0040781486030848)\n",
      "#35 0.0004985661889942728 (x1=3.0114697826643404, x2 = -2.0019157512224375)\n",
      "#35 0.00022480478400865102 (x1=2.992537138736638, x2 = -1.9986995751241519)\n",
      "#35 0.0009798817599802102 (x1=2.998661098331357, x2 = -2.0031274416098497)\n",
      "#35 0.0010748303997406422 (x1=3.0090703046915865, x2 = -2.0031504919814886)\n",
      "#35 0.0009723825584046106 (x1=3.0127246357179986, x2 = -2.0028468688137124)\n",
      "#35 0.0013754669498906248 (x1=2.963322618916336, x2 = -2.0005498787751343)\n",
      "#36 0.0003505837125736066 (x1=3.0092789337392767, x2 = -1.9983737002083388)\n",
      "#36 0.00010219083928383915 (x1=2.9980358428470555, x2 = -1.999008370402003)\n",
      "#36 0.0021377231798119212 (x1=3.0047779054480768, x2 = -1.9954012014619673)\n",
      "#36 0.0003808379573878707 (x1=2.9943079130892745, x2 = -2.0018666496832256)\n",
      "#36 0.0012972185441446566 (x1=2.9797734890027296, x2 = -2.0029801120734327)\n",
      "#36 0.0016389664658607952 (x1=2.980795994938557, x2 = -1.9964360518305384)\n",
      "#37 0.0003660750441303653 (x1=2.993488834050642, x2 = -1.9982008897696075)\n",
      "#37 0.0009670972084772492 (x1=2.986205093601521, x2 = -1.9972128908059883)\n",
      "#37 1.1421430276948341e-05 (x1=3.0030775291978946, x2 = -1.9998603488520257)\n",
      "#37 0.0023416676797535087 (x1=2.990057589253821, x2 = -1.9952641620083582)\n",
      "#37 0.0002710745322901783 (x1=3.001855603049518, x2 = -1.998364056022925)\n",
      "#37 0.0003173020729467446 (x1=3.001623447613639, x2 = -1.998226115869645)\n",
      "#38 0.00025595123097221453 (x1=2.994711140539901, x2 = -1.998490102001513)\n",
      "#38 3.7870351417824895e-05 (x1=3.0042425034686917, x2 = -1.9995542252167746)\n",
      "#38 0.000360447361665907 (x1=3.0125968371601566, x2 = -1.9985795526928942)\n",
      "#38 0.00011028409730582064 (x1=3.0101026484239677, x2 = -1.9997132842500398)\n",
      "#38 1.8243390701094464e-05 (x1=3.003290215381538, x2 = -2.0002723577324804)\n",
      "#38 0.00031460949746567237 (x1=3.0040639592540517, x2 = -1.998273460881859)\n",
      "#39 0.0002877900371494032 (x1=2.998745062921296, x2 = -1.998308210503408)\n",
      "#39 0.00022527144802295012 (x1=3.006278782033226, x2 = -1.9986367379408119)\n",
      "#39 0.0002058565133729377 (x1=2.995354447886887, x2 = -1.998642519396318)\n",
      "#39 5.594261490950006e-06 (x1=3.001390673692612, x2 = -1.999808681203965)\n",
      "#39 0.0002776462395146326 (x1=3.0138827076934516, x2 = -2.0009215023961597)\n",
      "#39 0.000157524300340468 (x1=2.9934372539867002, x2 = -1.9989301651290718)\n",
      "#40 0.00017025540347566302 (x1=3.002383607426502, x2 = -1.9987171367215795)\n",
      "#40 0.00013950313095405098 (x1=2.9897460235558904, x2 = -2.0005861663419005)\n",
      "#40 4.6265829304800035e-05 (x1=2.999903040869749, x2 = -2.0006801207850953)\n",
      "#40 9.836718997420523e-06 (x1=2.9981785017987934, x2 = -1.9997446793525697)\n",
      "#40 8.939419736290617e-05 (x1=3.0023448693963255, x2 = -2.0009159464224346)\n",
      "#40 5.2009343037119255e-05 (x1=2.9931949526720434, x2 = -2.0002387608406207)\n",
      "#41 1.9529265151100988e-05 (x1=3.0017724598355104, x2 = -2.0004048166409945)\n",
      "#41 6.222406137120405e-05 (x1=2.9921273906290056, x2 = -2.000049606759916)\n",
      "#41 5.388105768634873e-05 (x1=3.000341181092101, x2 = -1.9992667561582342)\n",
      "#41 6.000316491487638e-06 (x1=3.0007857125082884, x2 = -2.000232012334711)\n",
      "#41 3.109989526679517e-05 (x1=2.9975002121506935, x2 = -2.000498507331694)\n",
      "#41 9.803396168271117e-05 (x1=3.003734994826429, x2 = -2.0009169720569857)\n",
      "#42 9.20141794191965e-05 (x1=2.9987151805747327, x2 = -2.0009505967518546)\n",
      "#42 3.973361095846649e-05 (x1=3.006022411252984, x2 = -2.0001861229071984)\n",
      "#42 0.00010365572448476149 (x1=3.007606103092963, x2 = -2.000676778547414)\n",
      "#42 5.310688295711799e-06 (x1=3.0015452137765144, x2 = -1.9998290320883738)\n",
      "#42 1.3195389568595449e-05 (x1=3.0016075306216305, x2 = -2.000325748904359)\n",
      "#42 2.086121609305699e-06 (x1=3.0006651937147595, x2 = -1.9998717955175842)\n",
      "#43 6.33115031731226e-06 (x1=2.9996252033049267, x2 = -1.9997511892736501)\n",
      "#43 4.710864257892024e-06 (x1=3.002095062381196, x2 = -2.000056707836918)\n",
      "#43 2.4850686259808113e-05 (x1=3.0037974173301825, x2 = -1.9996770401281856)\n",
      "#43 3.606015489806256e-05 (x1=2.9986131194623415, x2 = -1.9994157336457374)\n",
      "#43 8.326437154390332e-05 (x1=2.9970361650277098, x2 = -1.9991369817278821)\n",
      "#43 2.787441057408515e-05 (x1=3.0009907169400036, x2 = -1.9994814164433876)\n",
      "#44 4.1273649578017e-06 (x1=2.9983094177962406, x2 = -1.9998873369284045)\n",
      "#44 1.019549703125597e-05 (x1=2.998443622366834, x2 = -1.9997211956654886)\n",
      "#44 5.1221459043412155e-06 (x1=3.001359152648691, x2 = -1.9998190345341813)\n",
      "#44 9.158766502903833e-07 (x1=3.0009090932164093, x2 = -2.000029904209431)\n",
      "#44 1.563565582983172e-05 (x1=3.0017923584820134, x2 = -2.000352464280485)\n",
      "#44 1.3891965073908683e-05 (x1=3.0037266014964845, x2 = -2.000006638042112)\n",
      "#45 2.4755044944898642e-05 (x1=2.9993942773250164, x2 = -2.0004938435479573)\n",
      "#45 6.580941441116352e-06 (x1=2.9974438262424368, x2 = -1.9999783396301367)\n",
      "#45 1.8544339174924396e-06 (x1=3.0001793166121637, x2 = -1.9998650081680214)\n",
      "#45 1.1981102591517397e-05 (x1=3.0034570945261834, x2 = -1.9999827953411686)\n",
      "#45 4.537592745829488e-06 (x1=2.998105487313376, x2 = -2.0000973865712535)\n",
      "#45 2.922630511219091e-06 (x1=3.001007683007158, x2 = -1.9998618983900056)\n",
      "#46 3.820329656234834e-06 (x1=3.001538390529695, x2 = -2.0001205688282426)\n",
      "#46 1.1545823802720703e-06 (x1=3.0007829810545905, x2 = -1.9999264117503657)\n",
      "#46 3.144956098950626e-06 (x1=2.9983690447441473, x2 = -2.000069637709063)\n",
      "#46 4.61293386192964e-06 (x1=3.001657964708951, x2 = -1.9998634684327417)\n",
      "#46 1.9282494471280578e-06 (x1=2.9991282647282165, x2 = -2.0001080891790632)\n",
      "#46 2.4235867033018352e-06 (x1=3.001553630476599, x2 = -2.00000990910969)\n",
      "#47 1.5703038673313455e-06 (x1=3.00117785239112, x2 = -2.000042774713566)\n",
      "#47 2.733281895383715e-06 (x1=3.0002154863292145, x2 = -2.000163916061974)\n",
      "#47 5.921430191085465e-06 (x1=3.0011519242374973, x2 = -1.9997856521345534)\n",
      "#47 1.7108035176049837e-06 (x1=3.0012656572612464, x2 = -2.000033002305171)\n",
      "#47 1.758106339226297e-06 (x1=2.999130497792649, x2 = -2.0001001035589097)\n",
      "#47 1.3535072727031417e-06 (x1=2.9992864168897806, x2 = -1.9999081138521042)\n",
      "#48 7.955285021874155e-07 (x1=3.0003224697542086, x2 = -1.9999168410101187)\n",
      "#48 4.697718993077107e-07 (x1=3.000683108356362, x2 = -2.0000055989934595)\n",
      "#48 1.7062090950087195e-06 (x1=2.998745527051337, x2 = -1.9999635985280406)\n",
      "#48 4.001853541105241e-06 (x1=3.00062487191493, x2 = -1.9998099634605915)\n",
      "#48 8.959399612951874e-06 (x1=3.002206755309535, x2 = -2.0002022283515433)\n",
      "#48 2.4213603178772015e-06 (x1=2.9995377964063636, x2 = -1.9998514157425598)\n",
      "#49 9.004311278035646e-07 (x1=3.0009073688547585, x2 = -1.999972230792374)\n",
      "#49 1.669786270204652e-06 (x1=2.9992303216120186, x2 = -1.9998962030130842)\n",
      "#49 2.374113775405383e-07 (x1=3.000141674517379, x2 = -1.9999533802929368)\n",
      "#49 1.6982104207720921e-06 (x1=3.0010189739019157, x2 = -2.000081234389761)\n",
      "#49 9.125226406973101e-07 (x1=3.0002918054404066, x2 = -1.9999090399963915)\n",
      "#49 3.4960315369354037e-07 (x1=3.0003414735849323, x2 = -1.9999517300357896)\n"
     ]
    }
   ],
   "source": [
    "import numpy as np\n",
    "\n",
    "def quadratic(x1, x2):\n",
    "    return (x1 - 3) ** 2 + (10 * (x2 + 2)) ** 2\n",
    "\n",
    "optimizer = CMA(mean=np.zeros(2), sigma=1.3)\n",
    "\n",
    "for generation in range(50):\n",
    "    solutions = []\n",
    "    for _ in range(optimizer.population_size):\n",
    "        x = optimizer.ask()\n",
    "        value = quadratic(x[0], x[1])\n",
    "        solutions.append((x, value))\n",
    "        print(f\"#{generation} {value} (x1={x[0]}, x2 = {x[1]})\")\n",
    "    optimizer.tell(solutions)"
   ]
  },
  {
   "cell_type": "code",
   "execution_count": null,
   "metadata": {},
   "outputs": [
    {
     "data": {
      "text/plain": [
       "6"
      ]
     },
     "execution_count": null,
     "metadata": {},
     "output_type": "execute_result"
    }
   ],
   "source": [
    "optimizer.population_size"
   ]
  },
  {
   "cell_type": "code",
   "execution_count": null,
   "metadata": {},
   "outputs": [
    {
     "data": {
      "text/plain": [
       "array([ 3.00101897, -2.00008123])"
      ]
     },
     "execution_count": null,
     "metadata": {},
     "output_type": "execute_result"
    }
   ],
   "source": [
    "sorted(solutions, key= lambda pair: pair[1], reverse=True)[0][0]"
   ]
  },
  {
   "cell_type": "markdown",
   "metadata": {},
   "source": [
    "### Environment Inference"
   ]
  },
  {
   "cell_type": "markdown",
   "metadata": {},
   "source": [
    "Note: likelihood not sufficient because the data may use the same generative factors as before (true in the fashion->mnist case)"
   ]
  },
  {
   "cell_type": "code",
   "execution_count": null,
   "metadata": {},
   "outputs": [],
   "source": [
    "#export\n",
    "class EnvInferVAE(nn.Module):\n",
    "    def __init__(self, encoder: type, decoder: type, latents: int, max_envs: int, lam: float, kappa: float, device: str,\n",
    "        Tau: float=2, used_epochs: int=100, used_lr: float=1e-2, used_delta: float=.95):\n",
    "        super().__init__()\n",
    "        self.latents = latents\n",
    "        self.m = 0\n",
    "        self.max_envs = max_envs\n",
    "        self.lam = lam\n",
    "        self.kappa = kappa\n",
    "        self.Tau = Tau\n",
    "        self.used_epochs = used_epochs\n",
    "        self.used_lr = used_lr\n",
    "        self.used_delta = used_delta\n",
    "        self.env_count = [0] * self.max_envs\n",
    "        self.rec_loss_avgs = []\n",
    "        self.latent_masks = []\n",
    "        self.encoder = encoder(latents=latents)\n",
    "        self.decoder = decoder(latents=latents, max_envs=max_envs)\n",
    "        self.device = device\n",
    "        \n",
    "    def forward(self, x):\n",
    "        batch_size = x.shape[0]\n",
    "        mu, logvar, _final = self.encoder(x)\n",
    "        if self.training:\n",
    "            z = reparam(mu, logvar, device=self.device)\n",
    "        else:\n",
    "            z = mu\n",
    "        \n",
    "        #latent masking\n",
    "        a, alphas = latent_mask(z, self.lam)\n",
    "        z, mu, logvar = apply_mask(a, z, mu, logvar)\n",
    "\n",
    "        #infer environment\n",
    "        env_idx = self.infer_env(x, z, a)\n",
    "        s = torch.ones(batch_size, dtype=torch.int64) * env_idx\n",
    "        \n",
    "        rec_img = self.decoder(z=z, s=s)\n",
    "        return rec_img, mu, logvar, env_idx, z, alphas\n",
    "    \n",
    "    def infer_env(self, x, z, a):\n",
    "        # u = model.used(z)\n",
    "        batch_size = x.shape[0]\n",
    "\n",
    "        env_idx = self.get_env_idx(x, z, batch_size)\n",
    "\n",
    "        s = torch.ones(batch_size, dtype=torch.int64) * env_idx\n",
    "        with torch.no_grad():\n",
    "            x_rec = self.decoder(z, s)\n",
    "        rec_loss = torch.sum(rec_likelihood(x, x_rec))\n",
    "        avg_rec_loss = rec_loss / batch_size\n",
    "\n",
    "        if self.env_count[0] == 0:\n",
    "            self.init_env(batch_size, a, avg_rec_loss)\n",
    "            return self.m\n",
    "        \n",
    "        if avg_rec_loss > self.kappa * self.rec_loss_avgs[env_idx] and self.m < self.max_envs-1:\n",
    "            print(\"New environment: anomolous reconstruction loss\")\n",
    "            self.m +=1\n",
    "            self.init_env(batch_size, a, avg_rec_loss)\n",
    "            return self.m\n",
    "        \n",
    "        #get used mask\n",
    "        if not torch.equal(a, self.latent_masks[env_idx]):\n",
    "            print(\"Calculating used - masks did not match\")\n",
    "            u = self.used_latents(x, z, env_idx, batch_size, epochs=self.used_epochs, lr=self.used_lr, Tau=self.Tau, delta=self.used_delta)\n",
    "        else:\n",
    "            u = torch.ones([self.latents])\n",
    "        if u.sum() == 0:\n",
    "            print(\"some latent(s) are not used!\")\n",
    "\n",
    "        if not torch.equal(a * u, self.latent_masks[env_idx] * u) and self.m < self.max_envs-1: #note not sure if I should be comparing to \"env_used\"\n",
    "            print(\"New environment: latent masks did not match\")\n",
    "            self.m +=1\n",
    "            self.init_env(batch_size, a, avg_rec_loss)\n",
    "            return self.m\n",
    "        \n",
    "        #TODO add warning about exceeding max envs or something\n",
    "        self.env_count[env_idx] += batch_size\n",
    "        self.rec_loss_avgs[env_idx] = rec_loss #cumulative average\n",
    "        return env_idx\n",
    "    \n",
    "    def used_latents(self, batch, z, env_idx, batch_size, epochs, lr, Tau, delta):\n",
    "        sigma = torch.zeros([self.latents]) #TODO: could change init scheme\n",
    "        sigma.requires_grad_(True)\n",
    "        disable_gradient(self.decoder)\n",
    "        decoder_copy = copy.deepcopy(self.decoder)\n",
    "        disable_gradient(decoder_copy)\n",
    "        optimizer = torch.optim.SGD(params=[sigma], lr=lr)\n",
    "        s = torch.ones(batch_size, dtype=torch.int64) * env_idx\n",
    "        for i in range(epochs):\n",
    "            optimizer.zero_grad()\n",
    "            eps = torch.randn(sigma.shape[0]) * sigma\n",
    "            z_e = (1-delta) * z + (delta + eps)\n",
    "            rec_batch = self.decoder(z_e, s)\n",
    "            rec_loss = torch.mean(rec_likelihood(batch, rec_batch))\n",
    "            sum_sigma = torch.sum(sigma)\n",
    "            loss = rec_loss - sum_sigma\n",
    "            loss.backward(retain_graph=True)\n",
    "            optimizer.step()\n",
    "            if i % 10 == 0:\n",
    "                pass\n",
    "                #print(sigma)\n",
    "                #print(loss)\n",
    "                #print(sigma.sum())\n",
    "        return sigma < Tau\n",
    "    \n",
    "    def get_env_idx(self, x, z, batch_size):\n",
    "        \"\"\"get maximum likelihood environment using \"analysis by synthesis\"\"\"\n",
    "        losses = []\n",
    "        for s_i in range(self.m+1):\n",
    "            s = torch.ones(batch_size, dtype=torch.int64) * s_i\n",
    "            with torch.no_grad():\n",
    "                x_rec = self.decoder(z, s)\n",
    "                losses.append(torch.sum(rec_likelihood(x, x_rec)))\n",
    "        env_idx = torch.argmin(torch.tensor(losses))\n",
    "        return env_idx\n",
    "\n",
    "    def init_env(self, batch_size, a, avg_rec_loss):\n",
    "        self.env_count[self.m] += batch_size\n",
    "        self.latent_masks.append(a)\n",
    "        self.rec_loss_avgs.append(avg_rec_loss)\n",
    "\n"
   ]
  },
  {
   "cell_type": "code",
   "execution_count": null,
   "metadata": {},
   "outputs": [],
   "source": [
    "#export\n",
    "class EnvInferGAVAE(EnvInferVAE):\n",
    "\n",
    "    def used_latents(self, batch, z, env_idx, batch_size, epochs, lr, Tau, delta):\n",
    "        optimizer = CMA(mean=np.zeros(self.latents), sigma=1.3)\n",
    "        s = torch.ones(batch_size, dtype=torch.int64) * env_idx\n",
    "        for generation in range(epochs):\n",
    "            solutions = []\n",
    "            for _ in range(optimizer.population_size):\n",
    "                x = optimizer.ask()\n",
    "                with torch.no_grad():\n",
    "                    sigma = torch.tensor(x, dtype=torch.float)\n",
    "                    sigma = torch.abs(sigma)\n",
    "                    eps = torch.randn(sigma.shape[0]) * sigma\n",
    "                    z_e = (1-delta) * z + (delta + eps)\n",
    "                    rec_batch = self.decoder(z_e, s)\n",
    "                    rec_loss = torch.mean(rec_likelihood(batch, rec_batch))\n",
    "                    sum_sigma = torch.sum(sigma)\n",
    "                    loss = rec_loss - sum_sigma\n",
    "                value = loss.detach().numpy()\n",
    "                solutions.append((x, value))\n",
    "                #print(f\"#{generation} {value} (x1={x[0]}, x2 = {x[1]})\")\n",
    "            optimizer.tell(solutions)\n",
    "\n",
    "            if generation % 25 == 0:\n",
    "                x_prime = sorted(solutions, key= lambda pair: pair[1], reverse=True)[0][0]\n",
    "        x_prime = sorted(solutions, key= lambda pair: pair[1], reverse=True)[0][0]\n",
    "        sigma_prime = torch.tensor(x_prime, dtype=torch.float).abs()\n",
    "        used = torch.argmin(sigma_prime)\n",
    "        return sigma_prime < Tau"
   ]
  },
  {
   "cell_type": "code",
   "execution_count": null,
   "metadata": {},
   "outputs": [],
   "source": [
    "envinfer_vae = EnvInferGAVAE(FCEncoder, FCDecoder, 8, 7, lam=0.6, kappa=1.5, device='cpu', used_epochs=10, used_lr=1e-1)"
   ]
  },
  {
   "cell_type": "code",
   "execution_count": null,
   "metadata": {},
   "outputs": [],
   "source": [
    "rec_img, mu, logvar, env_idx, z, alpas = envinfer_vae(mnist_batch)"
   ]
  },
  {
   "cell_type": "code",
   "execution_count": null,
   "metadata": {},
   "outputs": [
    {
     "data": {
      "text/plain": [
       "tensor([10.2843,  8.2969,  9.2901, 12.4226, 10.3024, 11.1031, 12.6271, 11.6726])"
      ]
     },
     "execution_count": null,
     "metadata": {},
     "output_type": "execute_result"
    }
   ],
   "source": [
    "alphas"
   ]
  },
  {
   "cell_type": "code",
   "execution_count": null,
   "metadata": {},
   "outputs": [],
   "source": [
    "envinfer_vae = EnvInferVAE(FCEncoder, FCDecoder, 8, 7, lam=0.6, kappa=1.5, device='cpu', used_epochs=10, used_lr=1e-1)"
   ]
  },
  {
   "cell_type": "code",
   "execution_count": null,
   "metadata": {},
   "outputs": [],
   "source": [
    "rec_img, mu, logvar, env_idx, z, alphas = envinfer_vae(mnist_batch)"
   ]
  },
  {
   "cell_type": "code",
   "execution_count": null,
   "metadata": {},
   "outputs": [],
   "source": [
    "assert rec_img.shape == torch.Size([batch_size, 1, 28, 28])"
   ]
  },
  {
   "cell_type": "code",
   "execution_count": null,
   "metadata": {},
   "outputs": [],
   "source": [
    "envinfer_vae = EnvInferVAE(Encoder, Decoder, 8, 7, lam=0.6, kappa=1.5, device='cpu')"
   ]
  },
  {
   "cell_type": "code",
   "execution_count": null,
   "metadata": {},
   "outputs": [],
   "source": [
    "rec_img, mu, logvar, env_idx, z, alphas = envinfer_vae(mm_batch)"
   ]
  },
  {
   "cell_type": "code",
   "execution_count": null,
   "metadata": {},
   "outputs": [],
   "source": [
    "assert rec_img.shape == torch.Size([128, 1, 64, 64])"
   ]
  },
  {
   "cell_type": "markdown",
   "metadata": {},
   "source": [
    "###"
   ]
  },
  {
   "cell_type": "markdown",
   "metadata": {},
   "source": [
    "## Generative Replay VAE"
   ]
  },
  {
   "cell_type": "markdown",
   "metadata": {},
   "source": [
    "### Generative Sampling\n",
    "We need to sample the latents and environments independantly (because the environemt is typically determined by the reconstruction loss, which we don't have access to when sampling, because there is no ground truth image)"
   ]
  },
  {
   "cell_type": "code",
   "execution_count": null,
   "metadata": {},
   "outputs": [
    {
     "data": {
      "text/plain": [
       "tensor([[ 1.2307, -0.3270]])"
      ]
     },
     "execution_count": null,
     "metadata": {},
     "output_type": "execute_result"
    }
   ],
   "source": [
    " torch.randn(size=(1,2))"
   ]
  },
  {
   "cell_type": "code",
   "execution_count": null,
   "metadata": {},
   "outputs": [
    {
     "data": {
      "text/plain": [
       "torch.Size([64])"
      ]
     },
     "execution_count": null,
     "metadata": {},
     "output_type": "execute_result"
    }
   ],
   "source": [
    "s = torch.randint(0, 3, (64,))\n",
    "s.shape"
   ]
  },
  {
   "cell_type": "code",
   "execution_count": null,
   "metadata": {},
   "outputs": [],
   "source": [
    "#export\n",
    "def generate_samples(vae: EnvInferVAE, batch_size: int):\n",
    "    z = torch.randn(size=(batch_size, vae.latents))\n",
    "    s = torch.randint(0, vae.m+1, (batch_size,))\n",
    "    x_sample = vae.decoder(z, s)\n",
    "    return x_sample"
   ]
  },
  {
   "cell_type": "code",
   "execution_count": null,
   "metadata": {},
   "outputs": [],
   "source": [
    "samples = generate_samples(envinfer_vae, 128)"
   ]
  },
  {
   "cell_type": "code",
   "execution_count": null,
   "metadata": {},
   "outputs": [],
   "source": [
    "assert samples.shape == torch.Size([batch_size, 1, 64, 64])"
   ]
  },
  {
   "cell_type": "code",
   "execution_count": null,
   "metadata": {},
   "outputs": [
    {
     "data": {
      "text/plain": [
       "<matplotlib.image.AxesImage at 0x14e519cd0>"
      ]
     },
     "execution_count": null,
     "metadata": {},
     "output_type": "execute_result"
    },
    {
     "data": {
      "image/png": "[encoded data removed]",
      "text/plain": [
       "<Figure size 432x288 with 1 Axes>"
      ]
     },
     "metadata": {
      "needs_background": "light"
     },
     "output_type": "display_data"
    }
   ],
   "source": [
    "plt.imshow(samples[0].detach().numpy().squeeze())"
   ]
  },
  {
   "cell_type": "markdown",
   "metadata": {},
   "source": [
    "### Generative Replay VAE"
   ]
  },
  {
   "cell_type": "code",
   "execution_count": null,
   "metadata": {},
   "outputs": [],
   "source": [
    "#export\n",
    "class GenReplayVAE(EnvInferVAE):\n",
    "    def __init__(self, encoder: type, decoder: type, latents: int, max_envs: int, lam: float, kappa: float, final_size: int, device: str,\n",
    "        Tau: float=2, used_epochs: int=100, used_lr: float=1e-2, used_delta: float=.95):\n",
    "        self.encoder_type = encoder\n",
    "        self.decoder_type = decoder\n",
    "        self.env_network = EnvironmentInference(max_envs, final_size)\n",
    "        self.env_optim = torch.optim.Adam(params=self.env_network.parameters(), lr=6e-4)\n",
    "        self.last_preds = None\n",
    "        super().__init__(encoder, decoder, latents, max_envs, lam, kappa, device, Tau, used_epochs, used_lr, used_delta)\n",
    "        self.old_model = []\n",
    "        \n",
    "    def sample(self, batch_size, increment=True):\n",
    "        if self.m == 0:\n",
    "            raise Exception(\"should not generate samples on current environment\")\n",
    "        samples = generate_samples(self.old_model[0], batch_size)\n",
    "        return samples\n",
    "    \n",
    "    def get_env_idx(self, x, z, batch_size):\n",
    "        env_preds = self.env_network(x) #batch_size x max_envs\n",
    "        env_idx = torch.argmax(env_preds.mean(dim=0))\n",
    "        self.last_preds = env_preds\n",
    "        return env_idx\n",
    "    \n",
    "    def train_env_inf_network(env_idx, halu_X, halu_y):\n",
    "        cur_env_labels = torch.ones([self.last_labels.shape[0]])\n",
    "        cur_loss = nn.CrossEntropyLoss()(self.last_labels, cur_env_labels)\n",
    "\n",
    "        \n",
    "\n",
    "    \n",
    "    def forward_halu(self, x):\n",
    "        rec_X, _mu, _logvar, _env_idx, z = self(x)\n",
    "        old_rec_X, _old_mu, _old_logvar, _old_env_idx, old_z = self.old_model[0](x)\n",
    "        return rec_X, old_rec_X, z, old_z\n",
    "    \n",
    "    def init_env(self, batch_size, a, avg_rec_loss):\n",
    "        if self.m > 0: #save current state of model for experience replay\n",
    "            old_model = self.copy_self(self.m-1)\n",
    "            disable_gradient(old_model)\n",
    "            self.old_model = [old_model]\n",
    "        super().init_env(batch_size, a, avg_rec_loss)\n",
    "    \n",
    "    def copy_self(self, m):\n",
    "        copy = EnvInferVAE(self.encoder_type, self.decoder_type, self.latents, self.max_envs, self.lam, self.kappa, self.device)\n",
    "        copy.load_state_dict(self.state_dict())\n",
    "        copy.m = m\n",
    "        return copy"
   ]
  },
  {
   "cell_type": "code",
   "execution_count": null,
   "metadata": {},
   "outputs": [
    {
     "data": {
      "text/plain": [
       "Decoder(\n",
       "  (linear2): Linear(in_features=15, out_features=256, bias=True)\n",
       "  (linear1): Linear(in_features=256, out_features=2048, bias=True)\n",
       "  (conv4): ConvTranspose2d(128, 128, kernel_size=(4, 4), stride=(2, 2), padding=(1, 1))\n",
       "  (conv3): ConvTranspose2d(128, 64, kernel_size=(4, 4), stride=(2, 2), padding=(1, 1))\n",
       "  (conv2): ConvTranspose2d(64, 64, kernel_size=(4, 4), stride=(2, 2), padding=(1, 1))\n",
       "  (conv1): ConvTranspose2d(64, 1, kernel_size=(4, 4), stride=(2, 2), padding=(1, 1))\n",
       "  (relu): ReLU()\n",
       "  (sigmoid): Sigmoid()\n",
       ")"
      ]
     },
     "execution_count": null,
     "metadata": {},
     "output_type": "execute_result"
    }
   ],
   "source": [
    "envinfer_vae.decoder"
   ]
  },
  {
   "cell_type": "code",
   "execution_count": null,
   "metadata": {},
   "outputs": [
    {
     "ename": "TypeError",
     "evalue": "__init__() missing 1 required positional argument: 'final_size'",
     "output_type": "error",
     "traceback": [
      "\u001b[0;31m---------------------------------------------------------------------------\u001b[0m",
      "\u001b[0;31mTypeError\u001b[0m                                 Traceback (most recent call last)",
      "\u001b[1;32m/Users/oliverdaniels-koch/NotebookProjects/lifelong_disrep/02a_core.models.ipynb Cell 153'\u001b[0m in \u001b[0;36m<cell line: 1>\u001b[0;34m()\u001b[0m\n\u001b[0;32m----> <a href='vscode-notebook-cell:/Users/oliverdaniels-koch/NotebookProjects/lifelong_disrep/02a_core.models.ipynb#ch0000152?line=0'>1</a>\u001b[0m gen_replay_vae \u001b[39m=\u001b[39m GenReplayVAE(encoder\u001b[39m=\u001b[39;49mFCEncoder, decoder\u001b[39m=\u001b[39;49mFCDecoder, latents\u001b[39m=\u001b[39;49mlatents, max_envs\u001b[39m=\u001b[39;49mmax_environments, lam\u001b[39m=\u001b[39;49mlam, kappa\u001b[39m=\u001b[39;49m\u001b[39m1.5\u001b[39;49m, device\u001b[39m=\u001b[39;49mdevice)\n",
      "\u001b[0;31mTypeError\u001b[0m: __init__() missing 1 required positional argument: 'final_size'"
     ]
    }
   ],
   "source": [
    "gen_replay_vae = GenReplayVAE(encoder=FCEncoder, decoder=FCDecoder, latents=latents, max_envs=max_environments, lam=lam, kappa=1.5, device=device)"
   ]
  },
  {
   "cell_type": "code",
   "execution_count": null,
   "metadata": {},
   "outputs": [],
   "source": [
    "rec_img, mu, logvar, env_idx, z, alphas = gen_replay_vae(mnist_batch)"
   ]
  },
  {
   "cell_type": "code",
   "execution_count": null,
   "metadata": {},
   "outputs": [],
   "source": [
    "assert rec_img.shape == torch.Size([batch_size, 1, 28, 28])"
   ]
  },
  {
   "cell_type": "code",
   "execution_count": null,
   "metadata": {},
   "outputs": [],
   "source": [
    "sample_batch_size=64"
   ]
  },
  {
   "cell_type": "code",
   "execution_count": null,
   "metadata": {},
   "outputs": [
    {
     "ename": "Exception",
     "evalue": "should not generate samples on current environment",
     "output_type": "error",
     "traceback": [
      "\u001b[0;31m---------------------------------------------------------------------------\u001b[0m",
      "\u001b[0;31mException\u001b[0m                                 Traceback (most recent call last)",
      "\u001b[1;32m/Users/oliverdaniels-koch/NotebookProjects/lifelong_disrep/02a_core.models.ipynb Cell 156'\u001b[0m in \u001b[0;36m<cell line: 1>\u001b[0;34m()\u001b[0m\n\u001b[0;32m----> <a href='vscode-notebook-cell:/Users/oliverdaniels-koch/NotebookProjects/lifelong_disrep/02a_core.models.ipynb#ch0000144?line=0'>1</a>\u001b[0m samples \u001b[39m=\u001b[39m gen_replay_vae\u001b[39m.\u001b[39;49msample(sample_batch_size)\n",
      "\u001b[1;32m/Users/oliverdaniels-koch/NotebookProjects/lifelong_disrep/02a_core.models.ipynb Cell 150'\u001b[0m in \u001b[0;36mGenReplayVAE.sample\u001b[0;34m(self, batch_size, increment)\u001b[0m\n\u001b[1;32m     <a href='vscode-notebook-cell:/Users/oliverdaniels-koch/NotebookProjects/lifelong_disrep/02a_core.models.ipynb#ch0000138?line=9'>10</a>\u001b[0m \u001b[39mdef\u001b[39;00m \u001b[39msample\u001b[39m(\u001b[39mself\u001b[39m, batch_size, increment\u001b[39m=\u001b[39m\u001b[39mTrue\u001b[39;00m):\n\u001b[1;32m     <a href='vscode-notebook-cell:/Users/oliverdaniels-koch/NotebookProjects/lifelong_disrep/02a_core.models.ipynb#ch0000138?line=10'>11</a>\u001b[0m     \u001b[39mif\u001b[39;00m \u001b[39mself\u001b[39m\u001b[39m.\u001b[39mm \u001b[39m==\u001b[39m \u001b[39m0\u001b[39m:\n\u001b[0;32m---> <a href='vscode-notebook-cell:/Users/oliverdaniels-koch/NotebookProjects/lifelong_disrep/02a_core.models.ipynb#ch0000138?line=11'>12</a>\u001b[0m         \u001b[39mraise\u001b[39;00m \u001b[39mException\u001b[39;00m(\u001b[39m\"\u001b[39m\u001b[39mshould not generate samples on current environment\u001b[39m\u001b[39m\"\u001b[39m)\n\u001b[1;32m     <a href='vscode-notebook-cell:/Users/oliverdaniels-koch/NotebookProjects/lifelong_disrep/02a_core.models.ipynb#ch0000138?line=12'>13</a>\u001b[0m     samples \u001b[39m=\u001b[39m generate_samples(\u001b[39mself\u001b[39m\u001b[39m.\u001b[39mold_model[\u001b[39m0\u001b[39m], batch_size)\n\u001b[1;32m     <a href='vscode-notebook-cell:/Users/oliverdaniels-koch/NotebookProjects/lifelong_disrep/02a_core.models.ipynb#ch0000138?line=13'>14</a>\u001b[0m     \u001b[39mreturn\u001b[39;00m samples\n",
      "\u001b[0;31mException\u001b[0m: should not generate samples on current environment"
     ]
    }
   ],
   "source": [
    "samples = gen_replay_vae.sample(sample_batch_size)"
   ]
  },
  {
   "cell_type": "code",
   "execution_count": null,
   "metadata": {},
   "outputs": [
    {
     "ename": "AssertionError",
     "evalue": "",
     "output_type": "error",
     "traceback": [
      "\u001b[0;31m---------------------------------------------------------------------------\u001b[0m",
      "\u001b[0;31mAssertionError\u001b[0m                            Traceback (most recent call last)",
      "\u001b[1;32m/Users/oliverdaniels-koch/NotebookProjects/lifelong_disrep/02a_core.models.ipynb Cell 157'\u001b[0m in \u001b[0;36m<cell line: 1>\u001b[0;34m()\u001b[0m\n\u001b[0;32m----> <a href='vscode-notebook-cell:/Users/oliverdaniels-koch/NotebookProjects/lifelong_disrep/02a_core.models.ipynb#ch0000145?line=0'>1</a>\u001b[0m \u001b[39massert\u001b[39;00m samples\u001b[39m.\u001b[39mshape \u001b[39m==\u001b[39m torch\u001b[39m.\u001b[39mSize([sample_batch_size, \u001b[39m1\u001b[39m, \u001b[39m28\u001b[39m, \u001b[39m28\u001b[39m])\n",
      "\u001b[0;31mAssertionError\u001b[0m: "
     ]
    }
   ],
   "source": [
    "assert samples.shape == torch.Size([sample_batch_size, 1, 28, 28])"
   ]
  },
  {
   "cell_type": "markdown",
   "metadata": {},
   "source": [
    "## Classifiers and Regressors"
   ]
  }
 ],
 "metadata": {
  "kernelspec": {
   "display_name": "Python 3.9.12 ('cult')",
   "language": "python",
   "name": "python3"
  }
 },
 "nbformat": 4,
 "nbformat_minor": 2
}
