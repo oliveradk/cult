{
 "cells": [
  {
   "cell_type": "code",
   "execution_count": null,
   "metadata": {},
   "outputs": [],
   "source": [
    "#default_exp core.models"
   ]
  },
  {
   "cell_type": "code",
   "execution_count": null,
   "metadata": {},
   "outputs": [],
   "source": [
    "#export\n",
    "import torch\n",
    "from torch import nn\n",
    "from torch.nn import functional as F\n",
    "import numpy as np\n",
    "import copy\n",
    "\n",
    "from vase.config import DATA_PATH\n",
    "from vase.core.utils import rec_likelihood, kl_div_stdnorm, disable_gradient, enable_gradient"
   ]
  },
  {
   "cell_type": "code",
   "execution_count": null,
   "metadata": {},
   "outputs": [],
   "source": [
    "#hide\n",
    "from vase.core.datasets.moving_mnist import MovingMNIST\n",
    "from torchvision.transforms import ToTensor\n",
    "from torch.utils.data import DataLoader\n",
    "import matplotlib.pyplot as plt"
   ]
  },
  {
   "cell_type": "markdown",
   "metadata": {},
   "source": [
    "# Models\n",
    "> Pytorch Models used for encoders, decoders, and classifiers. See Section A.1 of [Aachille et al.](https://arxiv.org/pdf/1808.06508.pdf) for details"
   ]
  },
  {
   "cell_type": "code",
   "execution_count": null,
   "metadata": {},
   "outputs": [],
   "source": [
    "#hide \n",
    "from vase.core.datasets.moving_mnist import MovingMNIST, CommonMNIST"
   ]
  },
  {
   "cell_type": "code",
   "execution_count": null,
   "metadata": {},
   "outputs": [],
   "source": [
    "#hide\n",
    "batch_size = 128\n",
    "latents = 24\n",
    "max_environments = 30\n",
    "moving_mnist = MovingMNIST(DATA_PATH, transform=ToTensor())\n",
    "mnist = CommonMNIST(DATA_PATH, transform=ToTensor())\n",
    "mm_loader = DataLoader(moving_mnist, batch_size)\n",
    "mnist_loader = DataLoader(mnist, batch_size)\n",
    "\n",
    "mm_batch, _, _= iter(mm_loader).next()\n",
    "mnist_batch, _ = iter(mnist_loader).next()"
   ]
  },
  {
   "cell_type": "markdown",
   "metadata": {},
   "source": [
    "## Encoders\n"
   ]
  },
  {
   "cell_type": "markdown",
   "metadata": {},
   "source": [
    "### Encoder Architecture From Paper"
   ]
  },
  {
   "cell_type": "code",
   "execution_count": null,
   "metadata": {},
   "outputs": [],
   "source": [
    "#export\n",
    "class Encoder(nn.Module):\n",
    "    def __init__(self, latents=10):\n",
    "        super().__init__()\n",
    "        self.latents = latents\n",
    "        #NOTE: no pooling? should compare results with and without\n",
    "        self.conv1 = nn.Conv2d(1, 64, (4,4), stride=2, padding=1)\n",
    "        self.conv2 = nn.Conv2d(64, 64, (4,4), 2, padding=1)\n",
    "        self.conv3 = nn.Conv2d(64, 128, (4,4), 2, padding=1)\n",
    "        self.conv4 = nn.Conv2d(128, 128, (4,4), 2, padding=1)\n",
    "        self.linear = nn.Linear(2048, 256)\n",
    "        self.linear_mu = nn.Linear(256, self.latents)\n",
    "        self.linear_logvar = nn.Linear(256, self.latents)\n",
    "        self.relu = nn.ReLU()\n",
    "\n",
    "    def forward(self, x):\n",
    "        \"\"\"\n",
    "        Returns mean and standard deviation to parameterize sigmoid, \n",
    "        and final layer to compute environment\n",
    "        \"\"\"\n",
    "        x = self.relu(self.conv1(x)) # (batch_size, 64, 32, 32)\n",
    "        x = self.relu(self.conv2(x)) # (batch_size, 64, 16, 16)\n",
    "        x = self.relu(self.conv3(x)) # (batch_size, 128, 8, 8)\n",
    "        x = self.relu(self.conv4(x)) # (batch_size, 128, 4, 4)\n",
    "        x = x.reshape(-1, 2048)\n",
    "        final = self.relu(self.linear(x))\n",
    "        mu = self.linear_mu(final)\n",
    "        logvar = self.linear_logvar(final)\n",
    "        return mu, logvar, final.detach() #detach to prevent gradient flow"
   ]
  },
  {
   "cell_type": "code",
   "execution_count": null,
   "metadata": {},
   "outputs": [],
   "source": [
    "encoder = Encoder(latents=latents)"
   ]
  },
  {
   "cell_type": "code",
   "execution_count": null,
   "metadata": {},
   "outputs": [],
   "source": [
    "mu, sigma, final = encoder(mm_batch)"
   ]
  },
  {
   "cell_type": "code",
   "execution_count": null,
   "metadata": {},
   "outputs": [],
   "source": [
    "assert mu.shape == torch.Size((batch_size, latents))\n",
    "assert sigma.shape == torch.Size((batch_size, latents))"
   ]
  },
  {
   "cell_type": "markdown",
   "metadata": {},
   "source": [
    "### FC Encoder"
   ]
  },
  {
   "cell_type": "code",
   "execution_count": null,
   "metadata": {},
   "outputs": [],
   "source": [
    "#export\n",
    "class FCEncoder(nn.Module):\n",
    "    def __init__(self, latents: int):\n",
    "        super().__init__()\n",
    "        self.latents = latents\n",
    "        self.latents = latents\n",
    "        self.linear1 = nn.Linear(784, 50)\n",
    "        self.linear_mu = nn.Linear(50, latents)\n",
    "        self.linear_logvar = nn.Linear(50, latents)\n",
    "        self.act = nn.ReLU()\n",
    "    \n",
    "    def forward(self, x):\n",
    "        x = x.reshape(-1, 784)\n",
    "        final = self.act(self.linear1(x))\n",
    "        mu = self.linear_mu(final)\n",
    "        logvar = self.linear_logvar(final) #TODO: should this be exponentiated?\n",
    "        return mu, logvar, final"
   ]
  },
  {
   "cell_type": "code",
   "execution_count": null,
   "metadata": {},
   "outputs": [],
   "source": [
    "fc_encoder = FCEncoder(latents=latents)"
   ]
  },
  {
   "cell_type": "code",
   "execution_count": null,
   "metadata": {},
   "outputs": [],
   "source": [
    "mu, sigma, final = fc_encoder(mnist_batch)"
   ]
  },
  {
   "cell_type": "code",
   "execution_count": null,
   "metadata": {},
   "outputs": [],
   "source": [
    "assert mu.shape == torch.Size((batch_size, latents))\n",
    "assert sigma.shape == torch.Size((batch_size, latents))"
   ]
  },
  {
   "cell_type": "markdown",
   "metadata": {},
   "source": [
    "## Environmental Inference Network\n",
    "NOTE: not sure if this receives the $\\mu$'s or the layer before the $\\mu's$ - I think the layer before?\n",
    "\n",
    "Section A.1: \"We attach an additional fully connected layer to the last layer of the encoder (gradients to the encoder are stopped).\""
   ]
  },
  {
   "cell_type": "code",
   "execution_count": null,
   "metadata": {},
   "outputs": [],
   "source": [
    "#export\n",
    "class EnvironmentInference(nn.Module):\n",
    "    def __init__(self, max_environmnets: int, input_dim:int):\n",
    "        super().__init__()\n",
    "        self.max_environments = max_environmnets\n",
    "        self.input_dim = input_dim\n",
    "        self.linear = nn.Linear(input_dim, max_environmnets)\n",
    "        self.softmax = nn.Softmax(dim=1)\n",
    "    \n",
    "    def forward(self, final_latent):\n",
    "        x = self.linear(final_latent)\n",
    "        return self.softmax(x)"
   ]
  },
  {
   "cell_type": "code",
   "execution_count": null,
   "metadata": {},
   "outputs": [],
   "source": [
    "_, _, final = encoder(mm_batch)"
   ]
  },
  {
   "cell_type": "code",
   "execution_count": null,
   "metadata": {},
   "outputs": [],
   "source": [
    "env_inf = EnvironmentInference(max_environmnets=max_environments, input_dim=256)\n",
    "env_dist = env_inf(final)"
   ]
  },
  {
   "cell_type": "code",
   "execution_count": null,
   "metadata": {},
   "outputs": [],
   "source": [
    "assert env_dist.shape == torch.Size([batch_size, max_environments])"
   ]
  },
  {
   "cell_type": "code",
   "execution_count": null,
   "metadata": {},
   "outputs": [
    {
     "data": {
      "text/plain": [
       "torch.Size([128])"
      ]
     },
     "execution_count": null,
     "metadata": {},
     "output_type": "execute_result"
    }
   ],
   "source": [
    "env_dist.sum(dim=1).shape"
   ]
  },
  {
   "cell_type": "code",
   "execution_count": null,
   "metadata": {},
   "outputs": [],
   "source": [
    "assert torch.all(torch.isclose(env_dist.sum(dim=1), torch.ones(128)))"
   ]
  },
  {
   "cell_type": "markdown",
   "metadata": {},
   "source": [
    "### Environmental  Encoding"
   ]
  },
  {
   "cell_type": "markdown",
   "metadata": {},
   "source": [
    "See \"Environment index\" in section A.2 - softmax is averaged across data in batch, then argmax is taken"
   ]
  },
  {
   "cell_type": "code",
   "execution_count": null,
   "metadata": {},
   "outputs": [],
   "source": [
    "avg_env_dist = env_dist.mean(dim=0)"
   ]
  },
  {
   "cell_type": "code",
   "execution_count": null,
   "metadata": {},
   "outputs": [],
   "source": [
    "assert avg_env_dist.shape == torch.Size((max_environments,))"
   ]
  },
  {
   "cell_type": "code",
   "execution_count": null,
   "metadata": {},
   "outputs": [
    {
     "data": {
      "text/plain": [
       "tensor(20)"
      ]
     },
     "execution_count": null,
     "metadata": {},
     "output_type": "execute_result"
    }
   ],
   "source": [
    "env_idx = torch.argmax(avg_env_dist)\n",
    "env_idx"
   ]
  },
  {
   "cell_type": "code",
   "execution_count": null,
   "metadata": {},
   "outputs": [
    {
     "data": {
      "text/plain": [
       "tensor([0, 0, 0, 0, 0, 0, 0, 0, 0, 0, 0, 0, 0, 0, 0, 0, 0, 0, 0, 0, 1, 0, 0, 0,\n",
       "        0, 0, 0, 0, 0, 0])"
      ]
     },
     "execution_count": null,
     "metadata": {},
     "output_type": "execute_result"
    }
   ],
   "source": [
    "F.one_hot(env_idx, num_classes=max_environments)"
   ]
  },
  {
   "cell_type": "code",
   "execution_count": null,
   "metadata": {},
   "outputs": [],
   "source": [
    "#export\n",
    "def env_dist_to_idx(env_dist: torch.Tensor, max_environments: int) -> torch.Tensor:\n",
    "    \"\"\"Converts a batch of distributions to a one-hot vector\"\"\"\n",
    "    batch_size = env_dist.shape[0]\n",
    "    avg_env_dist = env_dist.mean(dim=0)\n",
    "    env_idx = torch.argmax(avg_env_dist)\n",
    "    return torch.ones((batch_size), dtype=torch.int64) * env_idx\n"
   ]
  },
  {
   "cell_type": "code",
   "execution_count": null,
   "metadata": {},
   "outputs": [],
   "source": [
    "_, _, final = encoder(mm_batch)\n",
    "env_dist = env_inf(final)\n",
    "env_idx = env_dist_to_idx(env_dist, max_environments=max_environments)"
   ]
  },
  {
   "cell_type": "code",
   "execution_count": null,
   "metadata": {},
   "outputs": [],
   "source": [
    "assert env_idx.shape == torch.Size([batch_size])\n",
    "assert env_idx[0].dtype == torch.int64"
   ]
  },
  {
   "cell_type": "markdown",
   "metadata": {},
   "source": [
    "## Decoder"
   ]
  },
  {
   "cell_type": "markdown",
   "metadata": {},
   "source": [
    "### Decoder Architecture From Paper"
   ]
  },
  {
   "cell_type": "code",
   "execution_count": null,
   "metadata": {},
   "outputs": [],
   "source": [
    "#export\n",
    "class Decoder(nn.Module):\n",
    "    def __init__(self, latents:int, max_envs=0):\n",
    "        super().__init__()\n",
    "        self.max_envs = max_envs\n",
    "        self.latents = latents\n",
    "        self.linear2 = nn.Linear(latents + max_envs, 256)\n",
    "        self.linear1 = nn.Linear(256, 2048)\n",
    "        self.conv4 = nn.ConvTranspose2d(128, 128, (4,4), 2, padding=1)\n",
    "        self.conv3 = nn.ConvTranspose2d(128, 64, (4,4), 2, padding=1)\n",
    "        self.conv2 = nn.ConvTranspose2d(64, 64, (4,4), 2, padding=1)\n",
    "        self.conv1 = nn.ConvTranspose2d(64, 1, (4,4), 2, padding=1)\n",
    "        self.relu = nn.ReLU()\n",
    "        self.sigmoid = nn.Sigmoid()\n",
    "        \n",
    "    def forward(self, z, s=None):\n",
    "        \"\"\"\n",
    "        Decode the latent and environmental variables\n",
    "\n",
    "        Args: \n",
    "            z (Tensor): latent variables\n",
    "            s (Tensor): environment indicies (not one hot)\n",
    "        \n",
    "        Returns:\n",
    "            Means for (batchsize, widgt, height) Bernoulli's (which can be interpreted as the reconstructed image)\n",
    "        \"\"\"\n",
    "        \n",
    "        if s is not None:\n",
    "            s_one_hot = F.one_hot(s, num_classes=self.max_envs)\n",
    "            z = torch.cat((z, s_one_hot), dim=1)\n",
    "        x = self.relu(self.linear2(z)) # (batch_size, 256)\n",
    "        x = self.relu(self.linear1(x)) # (batch_size, 512)\n",
    "        x = x.reshape(-1, 128, 4, 4) # (batch_size, 128, 2, 2)\n",
    "        x = self.relu(self.conv4(x)) # (batch_size, 128, 6, 6)\n",
    "        x = self.relu(self.conv3(x)) # (batch_size, 64, 14, 14)\n",
    "        x = self.relu(self.conv2(x)) # (batch_size, 64, 30, 30) WRONG (should be 31)\n",
    "        out = self.sigmoid(self.conv1(x))\n",
    "        return out"
   ]
  },
  {
   "cell_type": "code",
   "execution_count": null,
   "metadata": {},
   "outputs": [],
   "source": [
    "mu, sigma, final = encoder(mm_batch)\n",
    "env_dist = env_inf(final)\n",
    "env_idx = env_dist_to_idx(env_dist, max_environments=max_environments)\n",
    "z = mu\n",
    "s = env_idx"
   ]
  },
  {
   "cell_type": "code",
   "execution_count": null,
   "metadata": {},
   "outputs": [],
   "source": [
    "decoder = Decoder(latents=latents, max_envs=max_environments)"
   ]
  },
  {
   "cell_type": "code",
   "execution_count": null,
   "metadata": {},
   "outputs": [],
   "source": [
    "rec_img = decoder(z, s)"
   ]
  },
  {
   "cell_type": "code",
   "execution_count": null,
   "metadata": {},
   "outputs": [
    {
     "data": {
      "text/plain": [
       "torch.Size([128, 1, 64, 64])"
      ]
     },
     "execution_count": null,
     "metadata": {},
     "output_type": "execute_result"
    }
   ],
   "source": [
    "rec_img.shape"
   ]
  },
  {
   "cell_type": "code",
   "execution_count": null,
   "metadata": {},
   "outputs": [
    {
     "data": {
      "text/plain": [
       "<matplotlib.image.AxesImage at 0x12fbd78b0>"
      ]
     },
     "execution_count": null,
     "metadata": {},
     "output_type": "execute_result"
    },
    {
     "data": {
      "image/png": "[encoded data removed]",
      "text/plain": [
       "<Figure size 432x288 with 1 Axes>"
      ]
     },
     "metadata": {
      "needs_background": "light"
     },
     "output_type": "display_data"
    }
   ],
   "source": [
    "plt.imshow(rec_img[0].detach().numpy().squeeze(), cmap='gray')"
   ]
  },
  {
   "cell_type": "code",
   "execution_count": null,
   "metadata": {},
   "outputs": [],
   "source": [
    "decoder = Decoder(latents=latents, max_envs=0)"
   ]
  },
  {
   "cell_type": "code",
   "execution_count": null,
   "metadata": {},
   "outputs": [],
   "source": [
    "rec_img = decoder(z, None)"
   ]
  },
  {
   "cell_type": "code",
   "execution_count": null,
   "metadata": {},
   "outputs": [],
   "source": [
    "assert rec_img.shape == torch.Size([batch_size, 1, 64, 64])"
   ]
  },
  {
   "cell_type": "markdown",
   "metadata": {},
   "source": [
    "### FC Decoder"
   ]
  },
  {
   "cell_type": "code",
   "execution_count": null,
   "metadata": {},
   "outputs": [],
   "source": [
    "#export\n",
    "class FCDecoder(nn.Module):\n",
    "    def __init__(self, latents: int, max_envs=0):\n",
    "        super().__init__()\n",
    "        self.max_envs = max_envs\n",
    "        self.latents = latents\n",
    "        self.linear1 = nn.Linear(latents + max_envs, 50)\n",
    "        self.linear2 = nn.Linear(50, 784)\n",
    "        self.relu = nn.ReLU()\n",
    "        self.sigmoid = nn.Sigmoid()\n",
    "        \n",
    "    def forward(self, z, s=None):\n",
    "        \"\"\"\n",
    "        Decode the latent and environmental variables\n",
    "\n",
    "        Args: \n",
    "            z (Tensor): latent variables\n",
    "            s (Tensor): one-hot encoded environmental variable (not sure how this works...)\n",
    "        \n",
    "        Returns:\n",
    "            Means for (batchsize, widgt, height) Bernoulli's (which can be interpreted as the reconstructed image)\n",
    "        \"\"\"\n",
    "        if s is not None:\n",
    "            s_one_hot = F.one_hot(s, num_classes=self.max_envs)\n",
    "            z = torch.cat((z, s_one_hot), dim=1)\n",
    "        x = self.relu(self.linear1(z))\n",
    "        x = self.linear2(x)\n",
    "        out = self.sigmoid(x)\n",
    "        out = out.reshape(-1, 1, 28, 28)\n",
    "        return out"
   ]
  },
  {
   "cell_type": "code",
   "execution_count": null,
   "metadata": {},
   "outputs": [],
   "source": [
    "mu, sigma, final = fc_encoder(mnist_batch)\n",
    "env_inf = EnvironmentInference(max_environmnets=max_environments, input_dim=50)\n",
    "env_dist = env_inf(final)\n",
    "env_idx = env_dist_to_idx(env_dist, max_environments=max_environments)\n",
    "z = mu\n",
    "s = env_idx"
   ]
  },
  {
   "cell_type": "code",
   "execution_count": null,
   "metadata": {},
   "outputs": [],
   "source": [
    "fc_decoder = FCDecoder(latents=latents, max_envs=max_environments)"
   ]
  },
  {
   "cell_type": "code",
   "execution_count": null,
   "metadata": {},
   "outputs": [],
   "source": [
    "rec_img = fc_decoder(z, s)"
   ]
  },
  {
   "cell_type": "code",
   "execution_count": null,
   "metadata": {},
   "outputs": [
    {
     "data": {
      "text/plain": [
       "torch.Size([128, 1, 28, 28])"
      ]
     },
     "execution_count": null,
     "metadata": {},
     "output_type": "execute_result"
    }
   ],
   "source": [
    "rec_img.shape"
   ]
  },
  {
   "cell_type": "code",
   "execution_count": null,
   "metadata": {},
   "outputs": [
    {
     "data": {
      "text/plain": [
       "<matplotlib.image.AxesImage at 0x12fcd2280>"
      ]
     },
     "execution_count": null,
     "metadata": {},
     "output_type": "execute_result"
    },
    {
     "data": {
      "image/png": "[encoded data removed]",
      "text/plain": [
       "<Figure size 432x288 with 1 Axes>"
      ]
     },
     "metadata": {
      "needs_background": "light"
     },
     "output_type": "display_data"
    }
   ],
   "source": [
    "plt.imshow(rec_img[0].detach().numpy().squeeze(), cmap='gray')"
   ]
  },
  {
   "cell_type": "code",
   "execution_count": null,
   "metadata": {},
   "outputs": [],
   "source": [
    "fc_decoder = FCDecoder(max_envs=0, latents=latents)"
   ]
  },
  {
   "cell_type": "code",
   "execution_count": null,
   "metadata": {},
   "outputs": [],
   "source": [
    "rec_img = fc_decoder(z, None)"
   ]
  },
  {
   "cell_type": "code",
   "execution_count": null,
   "metadata": {},
   "outputs": [],
   "source": [
    "assert rec_img.shape == mnist_batch.shape"
   ]
  },
  {
   "cell_type": "markdown",
   "metadata": {},
   "source": [
    "## Vanilla VAEs"
   ]
  },
  {
   "cell_type": "markdown",
   "metadata": {},
   "source": [
    "### Reparameterization Trick\n",
    "\n",
    "TODO: explain why you have to do this to compute gradients"
   ]
  },
  {
   "cell_type": "code",
   "execution_count": null,
   "metadata": {},
   "outputs": [],
   "source": [
    "#export\n",
    "def reparam(mu, logvar, device='cpu'):\n",
    "    eps = torch.randn(logvar.shape).to(device)\n",
    "    std = (0.5 * logvar).exp()\n",
    "    return mu + std * eps"
   ]
  },
  {
   "cell_type": "markdown",
   "metadata": {},
   "source": [
    "### Vanilla VAE (From Paper)"
   ]
  },
  {
   "cell_type": "code",
   "execution_count": null,
   "metadata": {},
   "outputs": [],
   "source": [
    "#export\n",
    "class VanillaVAE(nn.Module):\n",
    "    def __init__(self, encoder: type, decoder: type, latents: int, device: str):\n",
    "        super().__init__()\n",
    "        self.encoder = encoder(latents=latents)\n",
    "        self.decoder = decoder(latents=latents)\n",
    "        self.device = device\n",
    "        \n",
    "    def forward(self, x):\n",
    "        mu, logvar, _final = self.encoder(x)\n",
    "        if self.training:\n",
    "            z = reparam(mu, logvar, device=self.device)\n",
    "        else:\n",
    "            z = mu\n",
    "        rec_img = self.decoder(z=z)\n",
    "        return rec_img, mu, logvar"
   ]
  },
  {
   "cell_type": "code",
   "execution_count": null,
   "metadata": {},
   "outputs": [],
   "source": [
    "#export\n",
    "class PaperVanillaVAE(VanillaVAE):\n",
    "    def __init__(self, latents: int, device:str):\n",
    "        super().__init__(encoder=Encoder, decoder=Decoder, latents=latents, device=device)"
   ]
  },
  {
   "cell_type": "code",
   "execution_count": null,
   "metadata": {},
   "outputs": [],
   "source": [
    "device = torch.device('cuda:0' if torch.cuda.is_available() else 'cpu')"
   ]
  },
  {
   "cell_type": "code",
   "execution_count": null,
   "metadata": {},
   "outputs": [],
   "source": [
    "vvae = PaperVanillaVAE(latents=latents, device=device)"
   ]
  },
  {
   "cell_type": "code",
   "execution_count": null,
   "metadata": {},
   "outputs": [],
   "source": [
    "rec_img, mu, logvar = vvae(mm_batch)"
   ]
  },
  {
   "cell_type": "code",
   "execution_count": null,
   "metadata": {},
   "outputs": [
    {
     "data": {
      "text/plain": [
       "Decoder(\n",
       "  (linear2): Linear(in_features=24, out_features=256, bias=True)\n",
       "  (linear1): Linear(in_features=256, out_features=2048, bias=True)\n",
       "  (conv4): ConvTranspose2d(128, 128, kernel_size=(4, 4), stride=(2, 2), padding=(1, 1))\n",
       "  (conv3): ConvTranspose2d(128, 64, kernel_size=(4, 4), stride=(2, 2), padding=(1, 1))\n",
       "  (conv2): ConvTranspose2d(64, 64, kernel_size=(4, 4), stride=(2, 2), padding=(1, 1))\n",
       "  (conv1): ConvTranspose2d(64, 1, kernel_size=(4, 4), stride=(2, 2), padding=(1, 1))\n",
       "  (relu): ReLU()\n",
       "  (sigmoid): Sigmoid()\n",
       ")"
      ]
     },
     "execution_count": null,
     "metadata": {},
     "output_type": "execute_result"
    }
   ],
   "source": [
    "vvae.decoder"
   ]
  },
  {
   "cell_type": "code",
   "execution_count": null,
   "metadata": {},
   "outputs": [
    {
     "data": {
      "text/plain": [
       "torch.Size([128, 1, 64, 64])"
      ]
     },
     "execution_count": null,
     "metadata": {},
     "output_type": "execute_result"
    }
   ],
   "source": [
    "rec_img.shape"
   ]
  },
  {
   "cell_type": "code",
   "execution_count": null,
   "metadata": {},
   "outputs": [],
   "source": [
    "assert rec_img.shape == mm_batch.shape"
   ]
  },
  {
   "cell_type": "code",
   "execution_count": null,
   "metadata": {},
   "outputs": [
    {
     "data": {
      "text/plain": [
       "<matplotlib.image.AxesImage at 0x12fd58250>"
      ]
     },
     "execution_count": null,
     "metadata": {},
     "output_type": "execute_result"
    },
    {
     "data": {
      "image/png": "[encoded data removed]",
      "text/plain": [
       "<Figure size 432x288 with 1 Axes>"
      ]
     },
     "metadata": {
      "needs_background": "light"
     },
     "output_type": "display_data"
    }
   ],
   "source": [
    "plt.imshow(rec_img[0].detach().numpy().squeeze())"
   ]
  },
  {
   "cell_type": "code",
   "execution_count": null,
   "metadata": {},
   "outputs": [],
   "source": [
    "assert mu.shape == torch.Size([batch_size, latents])\n",
    "assert logvar.shape == torch.Size([batch_size, latents])"
   ]
  },
  {
   "cell_type": "code",
   "execution_count": null,
   "metadata": {},
   "outputs": [
    {
     "data": {
      "text/plain": [
       "PaperVanillaVAE(\n",
       "  (encoder): Encoder(\n",
       "    (conv1): Conv2d(1, 64, kernel_size=(4, 4), stride=(2, 2), padding=(1, 1))\n",
       "    (conv2): Conv2d(64, 64, kernel_size=(4, 4), stride=(2, 2), padding=(1, 1))\n",
       "    (conv3): Conv2d(64, 128, kernel_size=(4, 4), stride=(2, 2), padding=(1, 1))\n",
       "    (conv4): Conv2d(128, 128, kernel_size=(4, 4), stride=(2, 2), padding=(1, 1))\n",
       "    (linear): Linear(in_features=2048, out_features=256, bias=True)\n",
       "    (linear_mu): Linear(in_features=256, out_features=24, bias=True)\n",
       "    (linear_logvar): Linear(in_features=256, out_features=24, bias=True)\n",
       "    (relu): ReLU()\n",
       "  )\n",
       "  (decoder): Decoder(\n",
       "    (linear2): Linear(in_features=24, out_features=256, bias=True)\n",
       "    (linear1): Linear(in_features=256, out_features=2048, bias=True)\n",
       "    (conv4): ConvTranspose2d(128, 128, kernel_size=(4, 4), stride=(2, 2), padding=(1, 1))\n",
       "    (conv3): ConvTranspose2d(128, 64, kernel_size=(4, 4), stride=(2, 2), padding=(1, 1))\n",
       "    (conv2): ConvTranspose2d(64, 64, kernel_size=(4, 4), stride=(2, 2), padding=(1, 1))\n",
       "    (conv1): ConvTranspose2d(64, 1, kernel_size=(4, 4), stride=(2, 2), padding=(1, 1))\n",
       "    (relu): ReLU()\n",
       "    (sigmoid): Sigmoid()\n",
       "  )\n",
       ")"
      ]
     },
     "execution_count": null,
     "metadata": {},
     "output_type": "execute_result"
    }
   ],
   "source": [
    "vvae.eval()\n"
   ]
  },
  {
   "cell_type": "code",
   "execution_count": null,
   "metadata": {},
   "outputs": [],
   "source": [
    "assert not vvae.training"
   ]
  },
  {
   "cell_type": "code",
   "execution_count": null,
   "metadata": {},
   "outputs": [],
   "source": [
    "rec_img, mu, logvar = vvae(mm_batch)"
   ]
  },
  {
   "cell_type": "code",
   "execution_count": null,
   "metadata": {},
   "outputs": [],
   "source": [
    "rec_img_decode = vvae.decoder(mu)"
   ]
  },
  {
   "cell_type": "code",
   "execution_count": null,
   "metadata": {},
   "outputs": [],
   "source": [
    "assert torch.equal(rec_img, rec_img_decode)"
   ]
  },
  {
   "cell_type": "markdown",
   "metadata": {},
   "source": [
    "### FC Vanilla VAE"
   ]
  },
  {
   "cell_type": "code",
   "execution_count": null,
   "metadata": {},
   "outputs": [],
   "source": [
    "#export\n",
    "class FCVAE(VanillaVAE):\n",
    "    def __init__(self, latents: int, device='cpu'):\n",
    "        super().__init__(encoder=FCEncoder, decoder=FCDecoder, latents=latents, device=device)\n",
    "        "
   ]
  },
  {
   "cell_type": "code",
   "execution_count": null,
   "metadata": {},
   "outputs": [],
   "source": [
    "fc_vae = FCVAE(latents=latents)"
   ]
  },
  {
   "cell_type": "code",
   "execution_count": null,
   "metadata": {},
   "outputs": [],
   "source": [
    "rec_img, _, _ = fc_vae(mnist_batch)"
   ]
  },
  {
   "cell_type": "code",
   "execution_count": null,
   "metadata": {},
   "outputs": [],
   "source": [
    "assert rec_img.shape == mnist_batch.shape"
   ]
  },
  {
   "cell_type": "markdown",
   "metadata": {},
   "source": [
    "## Latent Masking VAEs\n",
    "\n",
    "The paper introduces latent masking for three reasons:\n",
    "1. Help with Environmental Inference\n",
    "2. Promote cross-domain homologies \n",
    "3. Prevent Catestrophic forgetting \n",
    "Latent masking is performed as follows: if the kl divergence between a latent and the standard normal prior passes some threshold $\\lambda$ the the latent is masked (its value is set to 0). More formally:\n",
    "\n",
    "$$ \\alpha_n = KL(E_{x^{s}_{batch}}[q_{\\phi}(z^s_n|x^s_{batch})] || p(z_n)) $$\n",
    "\n",
    "$$a_n = \\left\\{ \n",
    "  \\begin{array}{ c l }\n",
    "    1 & \\quad \\textrm{if } \\alpha_n < \\lambda \\\\\n",
    "    0                 & \\quad \\textrm{otherwise}\n",
    "  \\end{array}\n",
    "\\right.$$\n",
    "\n",
    "(TODO: this makes me confused about the C parameter - if the c difference is taken element wise, then the KL divergence is going to be a lot higher (~C), but the $\\lambda$ values in the paper range from 0 to 1 - so probably C is the sum over the batch, perhaps with C divided by batch size?)\n",
    "\n",
    "Rather then estimate the KL divergence of each individual sample, the paper takes the mean and standard deviation of the distribution of latent samples in the batch:\n",
    "\n",
    "$$ \\frac{1}{B} \\sum_{b=1}^{B} q_{\\phi}(z_n|x_b) $$\n",
    "fit a gaussian to this distribution, and then take the KL divergence of this fitted distribution\n",
    "\n",
    "Later on in Appendix A.2, the paper notes that \"since atypicality is computed on a relatively small batch of B samples, \\alpha_i may be a noisy estimate of atypicality\". The authors try to reduce this noise by introducing two more hyerpameters $\\lambda_1, \\lambda_2$, such that $\\alpha_n = 1 \\textrm{if } \\alpha_n > \\lambda_1$ and $\\alpha_n = 0$ if $\\alpha_n < \\lambda_0$. If $\\lambda_0 < \\alpha_n < \\lambda_1$, it remains unchanged. The authors don't specify values for $\\lambda_1$ or $\\lambda_2$"
   ]
  },
  {
   "cell_type": "markdown",
   "metadata": {},
   "source": [
    "### Exploration"
   ]
  },
  {
   "cell_type": "code",
   "execution_count": null,
   "metadata": {},
   "outputs": [],
   "source": [
    "latents = 8\n",
    "batch_size = 128"
   ]
  },
  {
   "cell_type": "code",
   "execution_count": null,
   "metadata": {},
   "outputs": [],
   "source": [
    "fc_vae = FCVAE(latents=latents)"
   ]
  },
  {
   "cell_type": "code",
   "execution_count": null,
   "metadata": {},
   "outputs": [],
   "source": [
    "mu, logvar, _final = fc_vae.encoder(mnist_batch)\n",
    "z = reparam(mu, logvar)"
   ]
  },
  {
   "cell_type": "code",
   "execution_count": null,
   "metadata": {},
   "outputs": [
    {
     "data": {
      "text/plain": [
       "torch.Size([128, 8])"
      ]
     },
     "execution_count": null,
     "metadata": {},
     "output_type": "execute_result"
    }
   ],
   "source": [
    "z.shape"
   ]
  },
  {
   "cell_type": "code",
   "execution_count": null,
   "metadata": {},
   "outputs": [],
   "source": [
    "lam = 1\n",
    "lam_1 = 1e-4\n",
    "lam_2 = .85"
   ]
  },
  {
   "cell_type": "code",
   "execution_count": null,
   "metadata": {},
   "outputs": [],
   "source": [
    "std, mean = torch.std_mean(z, dim=0)\n",
    "logvar = 2 * torch.log(std)\n",
    "mean = mean[:,None]\n",
    "logvar = logvar[:,None]"
   ]
  },
  {
   "cell_type": "code",
   "execution_count": null,
   "metadata": {},
   "outputs": [],
   "source": [
    "assert mean.shape == torch.Size([latents, 1])\n",
    "assert logvar.shape == torch.Size([latents, 1])"
   ]
  },
  {
   "cell_type": "code",
   "execution_count": null,
   "metadata": {},
   "outputs": [
    {
     "data": {
      "text/plain": [
       "tensor([0.0069, 0.0303, 0.0035, 0.0158, 0.0004, 0.0006, 0.0204, 0.0043],\n",
       "       grad_fn=<MulBackward0>)"
      ]
     },
     "execution_count": null,
     "metadata": {},
     "output_type": "execute_result"
    }
   ],
   "source": [
    "alphas = kl_div_stdnorm(mean, logvar)\n",
    "alphas"
   ]
  },
  {
   "cell_type": "code",
   "execution_count": null,
   "metadata": {},
   "outputs": [
    {
     "data": {
      "text/plain": [
       "tensor([0.0069, 0.0303, 0.0035, 0.0158, 0.0004, 0.0006, 0.0204, 0.0043],\n",
       "       grad_fn=<IndexPutBackward0>)"
      ]
     },
     "execution_count": null,
     "metadata": {},
     "output_type": "execute_result"
    }
   ],
   "source": [
    "alphas[alphas < lam_1] = 0\n",
    "alphas"
   ]
  },
  {
   "cell_type": "code",
   "execution_count": null,
   "metadata": {},
   "outputs": [
    {
     "data": {
      "text/plain": [
       "tensor([0.0069, 0.0303, 0.0035, 0.0158, 0.0004, 0.0006, 0.0204, 0.0043],\n",
       "       grad_fn=<IndexPutBackward0>)"
      ]
     },
     "execution_count": null,
     "metadata": {},
     "output_type": "execute_result"
    }
   ],
   "source": [
    "alphas[alphas > lam_2] = 1\n",
    "alphas"
   ]
  },
  {
   "cell_type": "code",
   "execution_count": null,
   "metadata": {},
   "outputs": [],
   "source": [
    "a = alphas < lam"
   ]
  },
  {
   "cell_type": "code",
   "execution_count": null,
   "metadata": {},
   "outputs": [
    {
     "data": {
      "text/plain": [
       "tensor([0.0069, 0.0303, 0.0035, 0.0158, 0.0004, 0.0006, 0.0204, 0.0043],\n",
       "       grad_fn=<IndexPutBackward0>)"
      ]
     },
     "execution_count": null,
     "metadata": {},
     "output_type": "execute_result"
    }
   ],
   "source": [
    "alphas"
   ]
  },
  {
   "cell_type": "code",
   "execution_count": null,
   "metadata": {},
   "outputs": [],
   "source": [
    "assert torch.all(a)"
   ]
  },
  {
   "cell_type": "code",
   "execution_count": null,
   "metadata": {},
   "outputs": [],
   "source": [
    "assert alphas.shape == torch.Size([latents])\n",
    "assert a.shape == torch.Size([latents])"
   ]
  },
  {
   "cell_type": "markdown",
   "metadata": {},
   "source": [
    "### Latent Masking VAE\n"
   ]
  },
  {
   "cell_type": "markdown",
   "metadata": {},
   "source": [
    "$$\\bar{z}_n = \\frac{1}{B} \\sum_{b=1}^{B} q_{\\phi}(z_n|x_b)$$\n"
   ]
  },
  {
   "cell_type": "code",
   "execution_count": null,
   "metadata": {},
   "outputs": [],
   "source": [
    "#export \n",
    "def latent_mask(z, lam, lam_1=1e-4):\n",
    "    std, mean = torch.std_mean(z, dim=0)\n",
    "    std = std[:,None]\n",
    "    mean = mean[:, None]\n",
    "    logvar = torch.log(std.pow(2))\n",
    "    alphas = kl_div_stdnorm(mean, logvar)\n",
    "    alphas[alphas < lam_1] = 0\n",
    "    #alphas[alphas > lam_2] = 1\n",
    "    a = alphas < lam\n",
    "    return a"
   ]
  },
  {
   "cell_type": "code",
   "execution_count": null,
   "metadata": {},
   "outputs": [],
   "source": [
    "a = latent_mask(z, lam)\n",
    "assert torch.all(a)\n",
    "assert a.shape == torch.Size([latents])\n",
    "assert a.dtype == torch.bool"
   ]
  },
  {
   "cell_type": "code",
   "execution_count": null,
   "metadata": {},
   "outputs": [],
   "source": [
    "z[:,~a] = 0"
   ]
  },
  {
   "cell_type": "code",
   "execution_count": null,
   "metadata": {},
   "outputs": [],
   "source": [
    "z = torch.randn((batch_size, latents)) * 5\n",
    "a = latent_mask(z, lam)"
   ]
  },
  {
   "cell_type": "code",
   "execution_count": null,
   "metadata": {},
   "outputs": [],
   "source": [
    "assert torch.all(~a)"
   ]
  },
  {
   "cell_type": "code",
   "execution_count": null,
   "metadata": {},
   "outputs": [
    {
     "data": {
      "text/plain": [
       "torch.Size([128, 8])"
      ]
     },
     "execution_count": null,
     "metadata": {},
     "output_type": "execute_result"
    }
   ],
   "source": [
    "z.shape"
   ]
  },
  {
   "cell_type": "code",
   "execution_count": null,
   "metadata": {},
   "outputs": [],
   "source": [
    "z[:,~a] = 0\n",
    "assert torch.equal(z, torch.zeros(z.shape))"
   ]
  },
  {
   "cell_type": "code",
   "execution_count": null,
   "metadata": {},
   "outputs": [],
   "source": [
    "z = torch.randn((batch_size, latents)) * 1.7\n",
    "a = latent_mask(z, lam)"
   ]
  },
  {
   "cell_type": "code",
   "execution_count": null,
   "metadata": {},
   "outputs": [],
   "source": [
    "masked_z = torch.clone(z)\n",
    "masked_z[:, ~a] = 0"
   ]
  },
  {
   "cell_type": "code",
   "execution_count": null,
   "metadata": {},
   "outputs": [],
   "source": [
    "# assert not torch.equal(masked_z, z)\n",
    "# assert torch.equal(masked_z[:, a], z[:,a])\n",
    "# assert torch.equal(masked_z[:, ~a], torch.zeros([batch_size, torch.sum(~a)]))"
   ]
  },
  {
   "cell_type": "markdown",
   "metadata": {},
   "source": [
    "$$q(z^s|x^s) = a^s \\cdot \\mathcal{N}(\\mu(x), \\sigma(x)) + (1-a^s) \\cdot \\mathcal{N}(0,I)$$"
   ]
  },
  {
   "cell_type": "code",
   "execution_count": null,
   "metadata": {},
   "outputs": [],
   "source": [
    "#export \n",
    "def apply_mask(a, z, mu, logvar):\n",
    "    std_norm = torch.randn(z.shape)\n",
    "    z = a * z + (~a) * std_norm # \"reparam\" trick again\n",
    "    mu[:,~a] = 0\n",
    "    logvar[:,~a] = 0\n",
    "    return z, mu, logvar"
   ]
  },
  {
   "cell_type": "code",
   "execution_count": null,
   "metadata": {},
   "outputs": [],
   "source": [
    "#export\n",
    "class LatentMaskVAE(VanillaVAE):\n",
    "    def __init__(self, encoder: type, decoder: type, latents: int, device: str, lam: float):\n",
    "        self.lam = lam\n",
    "        super().__init__(encoder, decoder, latents, device)\n",
    "        \n",
    "    def forward(self, x):\n",
    "        mu, logvar, _final = self.encoder(x)\n",
    "        if self.training:\n",
    "            z = reparam(mu, logvar, device=self.device)\n",
    "        else:\n",
    "            z = mu\n",
    "        \n",
    "        #latent masking\n",
    "        a = latent_mask(z, self.lam)\n",
    "        z, mu, logvar = apply_mask(a, z, mu, logvar)\n",
    "        \n",
    "        rec_img = self.decoder(z=z)\n",
    "        return rec_img, mu, logvar"
   ]
  },
  {
   "cell_type": "code",
   "execution_count": null,
   "metadata": {},
   "outputs": [],
   "source": [
    "lm_vae = LatentMaskVAE(FCEncoder, FCDecoder, latents=latents, device='cpu', lam=lam)"
   ]
  },
  {
   "cell_type": "code",
   "execution_count": null,
   "metadata": {},
   "outputs": [],
   "source": [
    "rec_img, _mu, _logvar = lm_vae(mnist_batch)"
   ]
  },
  {
   "cell_type": "code",
   "execution_count": null,
   "metadata": {},
   "outputs": [],
   "source": [
    "assert rec_img.shape == torch.Size([batch_size, 1, 28, 28])"
   ]
  },
  {
   "cell_type": "markdown",
   "metadata": {},
   "source": [
    "## Environmental Inference VAE"
   ]
  },
  {
   "cell_type": "markdown",
   "metadata": {},
   "source": [
    "### Formal Setup\n",
    "\n",
    "To infer the environment, you take the most likely environment, reconstruct the image conditional on all previously seen enviornments. If the reconstruction loss is below some threshold and the latent mask is the same as it is for that environment typically, then it is classified as that environment. Else it is classified as a new environment:\n",
    "\n",
    "$$s = \\left\\{ \n",
    "  \\begin{array}{ c l }\n",
    "    \\hat{s} & \\quad \\textrm{if } E_{z^{\\hat{s}}}[p_{\\theta}(x^{s}_{batch}|z^{\\hat{s}, \\hat{s}})] \\leq \\kappa L_{\\hat{s}} \\land a^s = a^{\\hat{s}} \\\\\n",
    "    s_{r+t}                 & \\quad \\textrm{otherwise}\n",
    "  \\end{array}\n",
    "\\right.$$\n",
    "\n",
    "Where $\\hat{s} = \\argmax_{s} q(s|x^s_{batch})$ is the output of the auxiliary classifier trained to output the most likely environment, $L_{\\hat{s}}$ is the average reconstruction loss on $\\hat{s}$ previously, and $\\kappa$ is a hyper parameter.\n",
    "\n",
    "Also note that the comparision $a^s = a^{\\hat{s}}$ is only taken on \"used\" latent variables. To calculate whether a variable $z_n$ is used, the paper finds the maximum amount of noise to add to $z_n$ without changing the reconstruction performance of the network, solving the following optimization problem:\n",
    "\n",
    "$$\\Sigma = \\argmin_{\\Sigma = \\textrm{diag}(\\sigma_1, ..., \\sigma_N)} E_{\\epsilon \\sim \\mathcal{N}(0, \\sigma)}[-\\log(p_{\\theta}(x|z^{\\epsilon}, s)] - log|\\Sigma|$$\n",
    "\n",
    "with $z^{\\epsilon}_n = (1 - \\delta_{nm})z_n + \\delta_{nm}(z_n + \\epsilon)$. We then define the mask $u^s$ as\n",
    "\n",
    "$$ u_n^s = \\left\\{ \n",
    "  \\begin{array}{ c l }\n",
    "    1 & \\quad \\textrm{if } \\sigma_n' < T \\\\\n",
    "    0                & \\quad \\textrm{otherwise}\n",
    "  \\end{array}\n",
    "\\right.$$\n",
    "\n",
    "Three possible methods:\n",
    "1. actually just do SGD - I'll start with this, but it seems prohibitely slow to do sgd in every batch of this process? idk I guess you only have 24 parameters...\n",
    "2. Some special solver that does it faster\n",
    "3. Prescify some discrete set or something\n",
    "So I guess we could just take a discrete set for each variable ([0,1,2,3,4,5] or something), calculate the loss \n",
    "\n",
    "\n",
    "\n",
    "\n",
    "The enviornment detector itself is trained to predict the current enviornment from the current data, and past enviornments using past data. Formally, this loss function is given by:\n",
    "\n",
    "$$\\mathcal{L}_{\\textrm{env}} = E_{x}[-log(q_{\\psi}(\\hat{s}|x))] + E_{\\hat{s} \\neq s <m} E_{x' \\sim p_{\\theta'}(x'|z',s)}[-\\log q_{\\psi}(s|x')]$$\n",
    "\n",
    "(Note that expected negative likelihood is just cross entropy loss). Past environments are sampled using monte-carlo methods. No mention of optimizer used for environmental classifier (I think this is maximized with the rest of of the model even though gradients are stopped)\n",
    "\n",
    "Putting it all together, we have:\n",
    "\n",
    "![enf_inf_alg](assets/env_inf_alg.png)\n",
    "\n",
    "Note that this algorithm doesn't use the auxilary environmental inference network - rather it performs [analysis by synthesis](https://arxiv.org/abs/1805.09190), determing the environment by seeing which best fits the data. I like this approach better, and it doesn't seem less efficient? The auxilary network requires _more_ generation to prevent catastrophic forgetting \n",
    "Other details:\n",
    "  max_envs = 7"
   ]
  },
  {
   "cell_type": "markdown",
   "metadata": {},
   "source": [
    "### Used vs Unused Variables \n",
    "$$\\Sigma = \\argmin_{\\Sigma = \\textrm{diag}(\\sigma_1, ..., \\sigma_N)} E_{\\epsilon \\sim \\mathcal{N}(0, \\sigma)}[-\\log(p_{\\theta}(x|z^{\\epsilon}, s)] - log|\\Sigma|$$\n",
    "\n",
    "with $z^{\\epsilon}_n = (1 - \\delta_{nm})z_n + \\delta_{nm}(z_n + \\epsilon)$\n",
    "\n",
    "$$ u_n^s = \\left\\{ \n",
    "  \\begin{array}{ c l }\n",
    "    1 & \\quad \\textrm{if } \\sigma_n' < T \\\\\n",
    "    0                & \\quad \\textrm{otherwise}\n",
    "  \\end{array}\n",
    "\\right.$$"
   ]
  },
  {
   "cell_type": "markdown",
   "metadata": {},
   "source": [
    "#### Exploration (gradient based)"
   ]
  },
  {
   "cell_type": "code",
   "execution_count": null,
   "metadata": {},
   "outputs": [
    {
     "data": {
      "text/plain": [
       "True"
      ]
     },
     "execution_count": null,
     "metadata": {},
     "output_type": "execute_result"
    }
   ],
   "source": [
    "params = torch.randn((10,))\n",
    "params.requires_grad_(True)\n",
    "params.requires_grad"
   ]
  },
  {
   "cell_type": "code",
   "execution_count": null,
   "metadata": {},
   "outputs": [],
   "source": [
    "optimizer = torch.optim.SGD(params=[params], lr=1e-2)"
   ]
  },
  {
   "cell_type": "code",
   "execution_count": null,
   "metadata": {},
   "outputs": [],
   "source": [
    "class AbsDev(nn.Module):\n",
    "\n",
    "    def forward(self, x):\n",
    "        e = torch.randn(x.shape[0])\n",
    "        return torch.abs(x*e).sum()#(x * e).pow(2).sqrt().sum()"
   ]
  },
  {
   "cell_type": "code",
   "execution_count": null,
   "metadata": {},
   "outputs": [],
   "source": [
    "abs_dev = AbsDev()\n",
    "with torch.no_grad():\n",
    "    abs_dev(params)"
   ]
  },
  {
   "cell_type": "code",
   "execution_count": null,
   "metadata": {},
   "outputs": [
    {
     "name": "stdout",
     "output_type": "stream",
     "text": [
      "tensor(-3.6312, grad_fn=<SumBackward0>)\n",
      "tensor(-4.8140e-05, grad_fn=<SumBackward0>)\n",
      "tensor(-0.0250, grad_fn=<SumBackward0>)\n",
      "tensor(0.0182, grad_fn=<SumBackward0>)\n",
      "tensor(0.0174, grad_fn=<SumBackward0>)\n",
      "tensor(-0.0581, grad_fn=<SumBackward0>)\n",
      "tensor(0.0034, grad_fn=<SumBackward0>)\n",
      "tensor(-0.0036, grad_fn=<SumBackward0>)\n",
      "tensor(-0.0195, grad_fn=<SumBackward0>)\n",
      "tensor(0.0268, grad_fn=<SumBackward0>)\n"
     ]
    }
   ],
   "source": [
    "epochs=10000\n",
    "for i in range(epochs):\n",
    "    optimizer.zero_grad()\n",
    "    loss = abs_dev(params)\n",
    "    loss.backward()\n",
    "    optimizer.step()\n",
    "    if i % 1000 == 0:\n",
    "        pass\n",
    "        print(params.sum())"
   ]
  },
  {
   "cell_type": "markdown",
   "metadata": {},
   "source": [
    "#### Exploration (GA Based)"
   ]
  },
  {
   "cell_type": "code",
   "execution_count": null,
   "metadata": {},
   "outputs": [
    {
     "name": "stdout",
     "output_type": "stream",
     "text": [
      "#0 153.3914656566457 (x1=0.022844623803856448, x2 = -0.7978019650547085)\n",
      "#0 2181.8857724196428 (x1=1.765866673247174, x2 = 2.6694353912988666)\n",
      "#0 263.6699491276539 (x1=-2.46792723029124, x2 = -0.4710404814649489)\n",
      "#0 1189.950633981717 (x1=2.194998540961649, x2 = 1.4486266928049247)\n",
      "#0 218.99508841277918 (x1=-0.08664755482175873, x2 = -0.5527001164751929)\n",
      "#0 378.0867939815669 (x1=-1.1801367558266205, x2 = -0.10101803409259781)\n",
      "#1 11.174689576878126 (x1=1.3286340727316697, x2 = -1.7104965369111347)\n",
      "#1 648.8441907705972 (x1=-0.8834996630901313, x2 = 0.5174642423227703)\n",
      "#1 88.5074660800534 (x1=-0.45393041156239095, x2 = -1.1249123998585178)\n",
      "#1 1167.9048302952476 (x1=-1.8976136372631318, x2 = 1.3821859957065374)\n",
      "#1 23.939214988842963 (x1=-1.8104014079148965, x2 = -2.089400966637579)\n",
      "#1 13.822162164161377 (x1=-0.3660816958291384, x2 = -2.1578498077656545)\n",
      "#2 285.8502505871882 (x1=2.307396782589553, x2 = -3.6892914235572882)\n",
      "#2 172.10069430352536 (x1=-1.609712024156566, x2 = -3.228215165831589)\n",
      "#2 4.327651000463213 (x1=1.5367996235508223, x2 = -1.8521251996173047)\n",
      "#2 64.49381624802055 (x1=-0.08236544282606062, x2 = -2.74157157122487)\n",
      "#2 212.49743673749808 (x1=1.3501359138361022, x2 = -0.5516375272926854)\n",
      "#2 384.4600682525375 (x1=-0.24743035464384389, x2 = -3.9336862836155073)\n",
      "#3 79.28827799410354 (x1=0.1624905620052498, x2 = -1.1559809351478234)\n",
      "#3 177.0897135343637 (x1=0.8691541833269907, x2 = -3.313579878195197)\n",
      "#3 732.9132304115694 (x1=0.14197132400216195, x2 = 0.6921086577230562)\n",
      "#3 135.23701253683134 (x1=0.6393831770831102, x2 = -0.8612967869010244)\n",
      "#3 12.983357613489027 (x1=3.3459843170022596, x2 = -2.3586593434706185)\n",
      "#3 39.02591058379241 (x1=1.7893238251649175, x2 = -2.612863555642519)\n",
      "#4 34.22606963663064 (x1=2.429360366325971, x2 = -1.4177591559748577)\n",
      "#4 107.84905760706029 (x1=2.066195789452843, x2 = -0.965702812034062)\n",
      "#4 222.58986332564518 (x1=0.0035032241620185367, x2 = -3.461543261070427)\n",
      "#4 20.6001772425126 (x1=4.549279990299041, x2 = -2.426613510735087)\n",
      "#4 149.1476789764607 (x1=3.763633286389172, x2 = -0.7811294441968861)\n",
      "#4 130.89172550172037 (x1=3.983685789013111, x2 = -3.1398424793374478)\n",
      "#5 79.69655299252982 (x1=0.5066653415859843, x2 = -1.1427962011651998)\n",
      "#5 1117.0373447357683 (x1=6.481604301745593, x2 = -5.324027340774794)\n",
      "#5 616.2978074719931 (x1=1.9809924323995731, x2 = 0.4804423618563809)\n",
      "#5 34.45742557155211 (x1=8.349827278597852, x2 = -2.2415941568151516)\n",
      "#5 46.30450727097435 (x1=-3.7547962843207303, x2 = -2.0822942542527243)\n",
      "#5 86.31055843408416 (x1=3.521226562963202, x2 = -1.0724285401967903)\n",
      "#6 14.815029004658832 (x1=1.512837565195504, x2 = -1.6449876495505376)\n",
      "#6 134.80618108580728 (x1=3.8800514850409185, x2 = -3.1577205641668655)\n",
      "#6 216.2696350563413 (x1=5.082614191609251, x2 = -0.5442103407935299)\n",
      "#6 5.996009513771417 (x1=5.24454882311234, x2 = -1.9021220099084362)\n",
      "#6 5.188012691749859 (x1=1.022359039634737, x2 = -1.8869978352581058)\n",
      "#6 15.711797346533281 (x1=-0.952812396190601, x2 = -2.0295078814988807)\n",
      "#7 43.05864599453196 (x1=0.5086287018867495, x2 = -1.3929438654500768)\n",
      "#7 7.225156207600894 (x1=3.275788153220484, x2 = -2.2673779553767313)\n",
      "#7 12.26039042947301 (x1=1.586836615833709, x2 = -1.6796352129349312)\n",
      "#7 308.3165793781372 (x1=1.1219004325421986, x2 = -0.2541783556363726)\n",
      "#7 130.50806970239415 (x1=6.962455402666125, x2 = -3.071480363255791)\n",
      "#7 110.25456429447287 (x1=0.020168147159803862, x2 = -0.9931476452663388)\n",
      "#8 5.600558503903017 (x1=0.8588659567868475, x2 = -1.8991980400539397)\n",
      "#8 7.800677125655509 (x1=2.436221297276704, x2 = -2.2735476320499073)\n",
      "#8 26.235705160746637 (x1=4.086216647986106, x2 = -1.4994419259028533)\n",
      "#8 87.58669272366505 (x1=3.252973416060284, x2 = -2.9355356603274503)\n",
      "#8 7.366806052348037 (x1=1.6642318176817712, x2 = -1.763726230498299)\n",
      "#8 0.2521680258341486 (x1=3.4948090609275253, x2 = -2.008562720980021)\n",
      "#9 0.680129242183613 (x1=2.8862554155714646, x2 = -1.918318214288815)\n",
      "#9 11.283483395599925 (x1=2.423987572070727, x2 = -2.3309334234928674)\n",
      "#9 0.5501786176808956 (x1=2.3718776992869905, x2 = -2.0394513615769965)\n",
      "#9 9.228690347289719 (x1=1.3973381709449118, x2 = -1.7419270372747366)\n",
      "#9 2.930585481487835 (x1=1.488918438870704, x2 = -1.9195501400185877)\n",
      "#9 12.548372862876157 (x1=4.021697470035793, x2 = -2.3391829468384078)\n",
      "#10 1.7121583842234647 (x1=2.8698178835059167, x2 = -2.1302002688464423)\n",
      "#10 4.229687435803516 (x1=2.088991367905163, x2 = -2.184384129144897)\n",
      "#10 7.810731880782863 (x1=3.0196434479608865, x2 = -1.7205300371106929)\n",
      "#10 22.05327445853935 (x1=0.10052610586058242, x2 = -1.6305906661203138)\n",
      "#10 3.7640330092162584 (x1=1.5257776812326145, x2 = -1.8738769821141132)\n",
      "#10 3.7434409527249226 (x1=1.5317639344697065, x2 = -1.8739950870560578)\n",
      "#11 0.28349206061176724 (x1=2.7190577165090715, x2 = -2.0452286959748642)\n",
      "#11 1.5834167605698704 (x1=1.765205162951501, x2 = -1.9757722326723568)\n",
      "#11 0.32859338643879565 (x1=3.571325587873769, x2 = -2.0046695386062092)\n",
      "#11 1.8207080573167485 (x1=2.72284541118465, x2 = -1.8679434442666574)\n",
      "#11 1.9109157911930383 (x1=1.773734324558033, x2 = -1.9361886934449783)\n",
      "#11 15.609650329305776 (x1=1.7117269449342105, x2 = -2.373497026292007)\n",
      "#12 2.618250045464306 (x1=2.8730213288686146, x2 = -2.161311080293389)\n",
      "#12 0.17759088542386753 (x1=3.0096989807866357, x2 = -1.9578696291025621)\n",
      "#12 0.5293300792524225 (x1=2.413028570412694, x2 = -1.9570122552230689)\n",
      "#12 2.062452123347093 (x1=2.652171515647303, x2 = -1.86066344812577)\n",
      "#12 0.7241744693527984 (x1=2.8398463970370202, x2 = -1.9164221744234289)\n",
      "#12 0.1205078585284849 (x1=2.9064451960025246, x2 = -1.9665701694324547)\n",
      "#13 4.489811493291738 (x1=3.081949982444866, x2 = -1.788266778854403)\n",
      "#13 6.177951939374255 (x1=3.030891595529452, x2 = -2.2485356644165964)\n",
      "#13 0.7718298382921445 (x1=3.2060420765951396, x2 = -1.914596457862422)\n",
      "#13 0.2257974047877689 (x1=2.768142641557077, x2 = -1.9585223469656685)\n",
      "#13 0.060856801072264 (x1=2.896162447374292, x2 = -1.9776226534779104)\n",
      "#13 3.741663897229931 (x1=3.516413726907599, x2 = -1.8135869972375496)\n",
      "#14 0.6972898620535571 (x1=3.4311848901250555, x2 = -1.92848989913436)\n",
      "#14 0.3955121328845368 (x1=3.335855261453176, x2 = -1.946829201977142)\n",
      "#14 4.369543775411761 (x1=2.780622652785917, x2 = -1.7921198096272501)\n",
      "#14 0.8061230612764338 (x1=2.7513654491472757, x2 = -2.0862730503343134)\n",
      "#14 0.1446257311732151 (x1=3.186274245712244, x2 = -1.966844663090605)\n",
      "#14 0.48028392938748465 (x1=2.8883603077502396, x2 = -1.9316025944569633)\n",
      "#15 0.12266357520485839 (x1=3.339339227368588, x2 = -2.0086674471292003)\n",
      "#15 1.3561845357558864 (x1=3.0390808692183087, x2 = -1.8836102572639226)\n",
      "#15 1.1790503984612644 (x1=3.903934551631423, x2 = -2.060162506997977)\n",
      "#15 4.098243563316197 (x1=3.775508166376613, x2 = -1.813001854362152)\n",
      "#15 0.8845743926423504 (x1=2.6657159352807205, x2 = -1.9120893318921357)\n",
      "#15 3.881720460940342 (x1=3.6340936153947263, x2 = -1.8134619141339767)\n",
      "#16 0.25204566010056995 (x1=3.5017566202434773, x2 = -2.0016910178662948)\n",
      "#16 0.6562914383169145 (x1=3.596439018337272, x2 = -2.0548226172051085)\n",
      "#16 0.0011012206781465044 (x1=3.0328037964298526, x2 = -2.00050131445157)\n",
      "#16 0.0013844795023003774 (x1=3.022970538927747, x2 = -1.9970728275697027)\n",
      "#16 1.0267848255937913 (x1=2.8353071142926662, x2 = -1.9000169474865274)\n",
      "#16 0.13134994382276793 (x1=3.152342994450705, x2 = -1.967115116563296)\n",
      "#17 0.12269937179699714 (x1=3.0942038222273194, x2 = -2.033737962545886)\n",
      "#17 0.0061156405665854984 (x1=3.065782025970033, x2 = -2.0042289072180215)\n",
      "#17 0.008151985554092273 (x1=2.911381726231566, x2 = -1.998271454055007)\n",
      "#17 0.033600563111083344 (x1=2.8368701796173705, x2 = -2.0083601583794892)\n",
      "#17 0.25993549658560317 (x1=2.9470067903462542, x2 = -1.9492922869460476)\n",
      "#17 0.4504749192703925 (x1=2.755389778594024, x2 = -2.062501260695614)\n",
      "#18 0.10825054817194572 (x1=2.6777972026292116, x2 = -1.9933397405918505)\n",
      "#18 0.5329533963149864 (x1=2.7988546609594254, x2 = -1.9298220868864542)\n",
      "#18 0.3337965296065959 (x1=2.860620624647914, x2 = -1.9439312993433004)\n",
      "#18 0.10561170436499212 (x1=3.1038839113634316, x2 = -2.0307928298999665)\n",
      "#18 0.22041126387296864 (x1=3.05778742407521, x2 = -2.0465909731054976)\n",
      "#18 0.1548316798406466 (x1=2.890678387202644, x2 = -1.9622004676198195)\n",
      "#19 0.05335861883100736 (x1=2.8966446557031778, x2 = -2.0206582408825855)\n",
      "#19 0.007814331865226083 (x1=2.9118101188231953, x2 = -2.0006072620789013)\n",
      "#19 0.12007603140425266 (x1=2.7485769955312325, x2 = -2.0238458600658795)\n",
      "#19 0.18497640631970202 (x1=2.592479003109838, x2 = -2.013748833919046)\n",
      "#19 0.040381248252781124 (x1=2.9107639853461666, x2 = -2.018005049830945)\n",
      "#19 0.03567009462499836 (x1=2.8278940615169916, x2 = -2.007777943535332)\n",
      "#20 0.01077277997283382 (x1=2.903942745351051, x2 = -2.0039316457141263)\n",
      "#20 0.14101201501343832 (x1=2.62502882863889, x2 = -2.0020214738719937)\n",
      "#20 0.14774794390322632 (x1=2.6733050314339093, x2 = -1.979747014685033)\n",
      "#20 0.04388439114059073 (x1=2.85826909245127, x2 = -2.0154261923318764)\n",
      "#20 0.0554167296196566 (x1=2.797581717793021, x2 = -2.0120181398926924)\n",
      "#20 0.04679467646786603 (x1=2.8501719855933336, x2 = -2.015603282528629)\n",
      "#21 0.007967287757979877 (x1=2.922524635994249, x2 = -2.0044326693201233)\n",
      "#21 0.05807248469276813 (x1=2.838480332417825, x2 = -1.9821159619557238)\n",
      "#21 0.022832866674409386 (x1=2.8521048107475586, x2 = -2.003098192489814)\n",
      "#21 0.04589753453839163 (x1=2.934219113985325, x2 = -1.9796111771861356)\n",
      "#21 0.21214094291049795 (x1=2.7163394077160725, x2 = -2.036287409840829)\n",
      "#21 0.006678984296541067 (x1=2.9217045202442766, x2 = -1.9976573473446493)\n",
      "#22 0.059706658797926714 (x1=3.05307806682769, x2 = -2.0238514942131016)\n",
      "#22 0.057632101744601316 (x1=2.834889246698372, x2 = -2.017427145747015)\n",
      "#22 0.01942105527987182 (x1=2.9691188960986943, x2 = -1.986410514100339)\n",
      "#22 0.0055727389829041 (x1=3.021285166672692, x2 = -1.9928448056192583)\n",
      "#22 0.0013316210497963826 (x1=3.0277691207629864, x2 = -1.9976325182538253)\n",
      "#22 0.025750232055358185 (x1=2.8396522646826363, x2 = -1.9993768159665808)\n",
      "#23 0.17848818771676084 (x1=2.9937629584382477, x2 = -1.9577567417178412)\n",
      "#23 0.02705934322360045 (x1=3.074372232214392, x2 = -1.9853275379369892)\n",
      "#23 0.06279765434105306 (x1=2.874066760405604, x2 = -1.9783347112859502)\n",
      "#23 0.11078608035190828 (x1=3.3197394603170625, x2 = -1.9907518878315291)\n",
      "#23 0.03638877770266221 (x1=2.886308601245878, x2 = -2.015317651109747)\n",
      "#23 0.004123613089385804 (x1=3.0640887463067084, x2 = -2.00040305937801)\n",
      "#24 0.06632006975183483 (x1=3.179604961936621, x2 = -2.0184559278822767)\n",
      "#24 0.06956798398064311 (x1=3.263085224897277, x2 = -1.9981181168437114)\n",
      "#24 0.07413910454843065 (x1=3.1291763909023644, x2 = -1.9760307353926179)\n",
      "#24 0.010780862001082721 (x1=2.9281488149057577, x2 = -2.0074955114579565)\n",
      "#24 0.007359180467280789 (x1=3.058987324102108, x2 = -2.0062287045704172)\n",
      "#24 0.007995960038887341 (x1=2.955202014204577, x2 = -1.99226107209779)\n",
      "#25 0.0021243646552790625 (x1=2.9541745128731702, x2 = -2.0004938561011856)\n",
      "#25 0.004252495942959596 (x1=3.0458983236021497, x2 = -1.9953676789473613)\n",
      "#25 0.008457937461384596 (x1=2.9333885968073106, x2 = -2.0063410239126545)\n",
      "#25 0.012037040837956176 (x1=2.918278723472438, x2 = -2.0073202963059305)\n",
      "#25 0.03852419115382106 (x1=2.922792190407719, x2 = -2.0180452612316317)\n",
      "#25 0.0472246361181629 (x1=2.974269349366576, x2 = -2.0215783617858594)\n",
      "#26 0.010948734086112015 (x1=3.0002078030399053, x2 = -2.0104635992392716)\n",
      "#26 0.014305094283517308 (x1=2.9261125598735234, x2 = -1.9905948203233146)\n",
      "#26 0.0016399170408357196 (x1=2.977482478613257, x2 = -2.0033658257106293)\n",
      "#26 0.00034975434936697 (x1=3.0137135070898213, x2 = -2.001271589842144)\n",
      "#26 0.006759262775079882 (x1=2.9259865587480185, x2 = -1.9964205122026757)\n",
      "#26 0.001320204610297641 (x1=3.0298104286969916, x2 = -1.9979226388104154)\n",
      "#27 0.004082867655839786 (x1=3.034216097264754, x2 = -1.9946035879106496)\n",
      "#27 0.007594286187264195 (x1=3.085207557932784, x2 = -1.9981725475152676)\n",
      "#27 0.00020323912269810444 (x1=3.0127750063436505, x2 = -2.000632758529123)\n",
      "#27 0.0030067615304846824 (x1=2.955148984457859, x2 = -1.996845403456346)\n",
      "#27 0.0032335454457278374 (x1=2.956300574910664, x2 = -2.003638551487322)\n",
      "#27 0.0009822441537737185 (x1=3.007751865749751, x2 = -1.9969633032236136)\n",
      "#28 0.0018721459194833976 (x1=3.0295770577161765, x2 = -2.0031580746924944)\n",
      "#28 0.0005933777867030175 (x1=2.978161852239263, x2 = -2.0010792269876316)\n",
      "#28 0.001173915322332202 (x1=3.0310967614614137, x2 = -2.001438425350667)\n",
      "#28 0.00119631400320161 (x1=2.997107518260411, x2 = -1.9965533384956051)\n",
      "#28 0.002380054712749282 (x1=2.9816972401359183, x2 = -2.0045222380456)\n",
      "#28 0.0008227454561130432 (x1=3.010744945135671, x2 = -2.0026594954599406)\n",
      "#29 0.0011393502775365136 (x1=2.9785796910923485, x2 = -2.0026086790600557)\n",
      "#29 0.003908431152577093 (x1=3.0556113188381357, x2 = -1.997143757066249)\n",
      "#29 0.0005938278944171375 (x1=3.0165895336954827, x2 = -2.001784979737094)\n",
      "#29 0.0031649980207177873 (x1=3.018949844941219, x2 = -2.0052970759834285)\n",
      "#29 0.0005604754231176168 (x1=2.9910594947571085, x2 = -2.0021921286210427)\n",
      "#29 2.2000268866949493e-05 (x1=3.0033690993310924, x2 = -1.9996736652245901)\n",
      "#30 0.000906304456598826 (x1=3.0125965489162407, x2 = -1.9972657150623983)\n",
      "#30 0.0014034328299297521 (x1=3.0320847334959584, x2 = -1.998066085042141)\n",
      "#30 0.00010161242207921286 (x1=3.006300012374419, x2 = -1.9992130929777834)\n",
      "#30 0.00016297343789004292 (x1=2.999316696539691, x2 = -1.9987252194923393)\n",
      "#30 0.0006692546642722496 (x1=3.011722479227454, x2 = -2.002306161627107)\n",
      "#30 0.0005358995170589608 (x1=2.9931544621417254, x2 = -1.9977885793514352)\n",
      "#31 0.0009030576184899712 (x1=3.0045156251767198, x2 = -1.9970290292028474)\n",
      "#31 0.0010035289313405395 (x1=3.0180472678887, x2 = -2.0026035073518123)\n",
      "#31 0.0014752194555936818 (x1=2.9963180132984664, x2 = -1.9961768305955354)\n",
      "#31 0.00023158577477851343 (x1=3.0141681119237913, x2 = -2.000555431177496)\n",
      "#31 0.0008513671382984024 (x1=2.9788134407083815, x2 = -1.997993767601495)\n",
      "#31 0.0001842369438101097 (x1=3.011608934983943, x2 = -2.000703346090831)\n",
      "#32 5.859101909533636e-05 (x1=2.9970373397921475, x2 = -1.9992942120460921)\n",
      "#32 0.00025956577692191955 (x1=2.9992000001797954, x2 = -2.0016091170784303)\n",
      "#32 0.0002149578584446597 (x1=3.014548907410614, x2 = -2.0001813050358384)\n",
      "#32 0.0009589861728888548 (x1=3.0035158097459336, x2 = -2.003076727571169)\n",
      "#32 0.00018931998596652996 (x1=3.0134598483382775, x2 = -2.0002855252821923)\n",
      "#32 0.0005959440527342436 (x1=2.9999319501751534, x2 = -2.002441187051325)\n",
      "#33 0.00020923905821011593 (x1=3.008008544909436, x2 = -1.9987954159778427)\n",
      "#33 0.0014160812537307246 (x1=3.035282377869849, x2 = -1.9986914318298998)\n",
      "#33 2.0662840842833718e-05 (x1=3.00425141240922, x2 = -1.9998391170186265)\n",
      "#33 0.00021222131991229312 (x1=2.9890298347242923, x2 = -1.999041476167558)\n",
      "#33 0.00027400892015736486 (x1=3.011358709050714, x2 = -2.0012041123239075)\n",
      "#33 4.3051660331045125e-05 (x1=2.9945323274319944, x2 = -1.9996372850014112)\n",
      "#34 9.392338536254443e-05 (x1=3.004125727831547, x2 = -1.999123063541512)\n",
      "#34 2.8996832517384035e-05 (x1=2.99652307859877, x2 = -2.000411191562256)\n",
      "#34 1.8219281685329023e-05 (x1=3.004252970483182, x2 = -2.0000362662038973)\n",
      "#34 8.61868356412513e-06 (x1=3.0028482893347244, x2 = -1.9999288711429994)\n",
      "#34 5.4219003042111644e-05 (x1=3.00724074162602, x2 = -2.000133815684706)\n",
      "#34 5.741296266762647e-06 (x1=3.0022521843603545, x2 = -1.9999182099105186)\n",
      "#35 2.6045374873161415e-05 (x1=3.0038324583892457, x2 = -2.0003370109429657)\n",
      "#35 1.86041621924828e-05 (x1=2.997851249514682, x2 = -2.0003739924269865)\n",
      "#35 4.173196186297013e-05 (x1=3.005076928207285, x2 = -2.0003994591573746)\n",
      "#35 4.3307611573642935e-05 (x1=3.0016038968696273, x2 = -2.0006382407571226)\n",
      "#35 2.6643476476411903e-05 (x1=2.998607753724553, x2 = -2.000497042521168)\n",
      "#35 0.00033219104126652955 (x1=3.0171916284876152, x2 = -2.0006053011747085)\n",
      "#36 2.2263627489131937e-05 (x1=2.997410820487475, x2 = -2.000394458831072)\n",
      "#36 2.7423551237437078e-06 (x1=2.999057932021797, x2 = -2.000136193356967)\n",
      "#36 4.452945258482832e-05 (x1=3.0057682708843303, x2 = -1.9996644928675897)\n",
      "#36 0.00015876543558170905 (x1=2.9918513498744623, x2 = -2.00096106678599)\n",
      "#36 0.00016910429643599942 (x1=3.0050194475232024, x2 = -2.0011996226198177)\n",
      "#36 0.0001070374322493299 (x1=3.0005875082659235, x2 = -2.0010329194851817)\n",
      "#37 9.291905737236572e-05 (x1=2.990376996990564, x2 = -2.0000562912473434)\n",
      "#37 8.501319743096072e-06 (x1=2.9986294570345597, x2 = -1.9997426494273762)\n",
      "#37 1.2495549145843388e-06 (x1=2.9990506392441363, x2 = -1.9999409856737893)\n",
      "#37 0.00014243642018574204 (x1=2.9898515170217674, x2 = -2.000628050264121)\n",
      "#37 2.9023385380346067e-05 (x1=2.9950389978599765, x2 = -2.0002100438798687)\n",
      "#37 7.943356854239676e-07 (x1=3.0007533140219027, x2 = -2.000047629158068)\n",
      "#38 1.0025996861572831e-05 (x1=3.0030608997701234, x2 = -1.9999189512826239)\n",
      "#38 3.596040799423811e-05 (x1=2.995548088755944, x2 = -2.000401757318157)\n",
      "#38 8.108973333041738e-06 (x1=2.9981878397015023, x2 = -1.9997803400722574)\n",
      "#38 8.862275551781558e-06 (x1=2.9970526556934485, x2 = -2.000041885211044)\n",
      "#38 2.4432692295798974e-06 (x1=3.0008170033185215, x2 = -1.9998667417992353)\n",
      "#38 1.877897896370539e-05 (x1=2.9988130159535875, x2 = -2.0004167738935834)\n",
      "#39 1.725167205490086e-06 (x1=3.001313272970421, x2 = -2.00000219387933)\n",
      "#39 5.70176298469879e-06 (x1=3.002042326342119, x2 = -1.9998762799087866)\n",
      "#39 2.76040287750034e-06 (x1=3.001004821762831, x2 = -2.0001323153846853)\n",
      "#39 9.157991468730182e-06 (x1=3.0021730390758408, x2 = -1.999789384410748)\n",
      "#39 1.2427305251116638e-05 (x1=2.9992827770189256, x2 = -1.9996548493597495)\n",
      "#39 9.114282985431062e-07 (x1=3.0001203338755844, x2 = -1.9999052926583136)\n",
      "#40 1.22048149563069e-05 (x1=2.9972444311726725, x2 = -1.9997852523482278)\n",
      "#40 3.639940901452048e-07 (x1=3.0006033173550506, x2 = -2.000000150307683)\n",
      "#40 9.54605330164182e-06 (x1=3.001481511346627, x2 = -2.0002711305484717)\n",
      "#40 1.1661068884830292e-06 (x1=3.000359523082517, x2 = -2.000101825833737)\n",
      "#40 1.2783045396051751e-06 (x1=2.9993198930488325, x2 = -2.0000903193818944)\n",
      "#40 1.5571937551272335e-06 (x1=3.0012413387971426, x2 = -1.999987243924649)\n",
      "#41 3.0349172809033195e-06 (x1=3.00146840553995, x2 = -1.9999062608699023)\n",
      "#41 4.642076535247183e-06 (x1=2.9994224707300745, x2 = -2.0002075701442315)\n",
      "#41 2.9044484763924166e-06 (x1=3.00138307448549, x2 = -2.0000995767766088)\n",
      "#41 3.869278547761908e-06 (x1=3.0015947165215517, x2 = -1.9998848410766092)\n",
      "#41 4.104369570361744e-06 (x1=3.0016500750756916, x2 = -2.0001175424100035)\n",
      "#41 7.068202124857516e-07 (x1=3.0003447486650474, x2 = -2.0000766791086564)\n",
      "#42 3.03826131528792e-06 (x1=3.0016346394158253, x2 = -2.0000605157248588)\n",
      "#42 1.7737324365877934e-06 (x1=3.00096463038969, x2 = -1.9999081729534465)\n",
      "#42 1.8955123801128344e-06 (x1=3.0013686998359743, x2 = -2.0000148906477753)\n",
      "#42 2.3324638090250544e-06 (x1=3.0006075398143213, x2 = -2.0001401199194633)\n",
      "#42 1.064910131861234e-05 (x1=3.0017169347915837, x2 = -2.000277511013116)\n",
      "#42 9.590923016270117e-06 (x1=3.0026954999598843, x2 = -2.000152486162734)\n",
      "#43 2.5607823616187143e-06 (x1=3.0014024530441628, x2 = -1.9999229345848946)\n",
      "#43 9.066680548245471e-06 (x1=3.0021014604359793, x2 = -1.999784348786596)\n",
      "#43 1.850359671420334e-07 (x1=3.0004211512576937, x2 = -2.00000875647491)\n",
      "#43 5.732239570206033e-06 (x1=3.00236907336124, x2 = -2.0000346021645665)\n",
      "#43 1.6912860746582982e-06 (x1=3.0012961413574293, x2 = -2.0000106318654147)\n",
      "#43 1.4746258694477107e-06 (x1=3.0009693094110674, x2 = -1.9999268518534026)\n",
      "#44 1.2491487525860882e-07 (x1=2.9997251845802886, x2 = -1.9999777758328958)\n",
      "#44 6.389083496801207e-07 (x1=3.000765990877698, x2 = -2.000022839948547)\n",
      "#44 8.474991779244422e-08 (x1=3.000062703806003, x2 = -2.0000284285332905)\n",
      "#44 1.546192731106318e-06 (x1=3.000395894845305, x2 = -1.9998821246419913)\n",
      "#44 2.306895374296978e-06 (x1=3.001361278331603, x2 = -1.9999326340829346)\n",
      "#44 1.748229147881217e-06 (x1=3.000459335864407, x2 = -2.000123985471389)\n",
      "#45 2.431897481289865e-06 (x1=2.998837446175403, x2 = -2.0001039406602925)\n",
      "#45 7.131204935245593e-07 (x1=3.000587674888238, x2 = -2.0000606431133154)\n",
      "#45 2.273598952296938e-07 (x1=3.0004612255365277, x2 = -2.000012095825596)\n",
      "#45 6.060741289104219e-07 (x1=2.9994727690971708, x2 = -2.0000572801627103)\n",
      "#45 1.7306735473126474e-06 (x1=3.0002167525342722, x2 = -1.9998702428465864)\n",
      "#45 1.0855332349160665e-07 (x1=3.000129243179792, x2 = -2.000030306686386)\n",
      "#46 2.320883139988122e-07 (x1=2.999805100341452, x2 = -2.000044057058129)\n",
      "#46 6.187445011772575e-07 (x1=3.0005821653102953, x2 = -1.9999471012237697)\n",
      "#46 1.2732205628626728e-06 (x1=2.9994536972080623, x2 = -2.0000987306346776)\n",
      "#46 3.104114615783333e-08 (x1=2.999924741301114, x2 = -1.9999840697537998)\n",
      "#46 1.4617724569321402e-06 (x1=3.000265375323581, x2 = -2.000117955432031)\n",
      "#46 5.136766394990834e-08 (x1=3.000226026820324, x2 = -1.9999983280536964)\n",
      "#47 2.1169454615085923e-07 (x1=2.999592016960506, x2 = -2.0000212707276877)\n",
      "#47 7.973111042364647e-08 (x1=3.000229513929002, x2 = -2.0000164482421)\n",
      "#47 8.511685961326312e-07 (x1=2.9993698926953227, x2 = -2.0000673894191046)\n",
      "#47 2.791912174968291e-07 (x1=3.000288879531187, x2 = -1.999955757505274)\n",
      "#47 1.0566214868267535e-06 (x1=3.000735057276514, x2 = -1.999928145126326)\n",
      "#47 7.301205260346497e-07 (x1=3.000815283882124, x2 = -1.999974420180301)\n",
      "#48 8.717196259566921e-08 (x1=2.999704766537608, x2 = -1.9999996972578706)\n",
      "#48 2.9119408327993173e-07 (x1=3.0005388279493124, x2 = -1.9999970699414344)\n",
      "#48 2.3479722935507724e-07 (x1=3.0002069829998392, x2 = -2.0000438126998863)\n",
      "#48 4.3992173210505535e-07 (x1=3.0006526098585184, x2 = -2.0000118414968098)\n",
      "#48 2.2942991864563702e-07 (x1=3.000472826737657, x2 = -1.999992341805172)\n",
      "#48 7.904604573471637e-08 (x1=2.999940668742149, x2 = -2.0000274819663737)\n",
      "#49 1.5277931443073327e-07 (x1=2.999911364903392, x2 = -2.0000380687712016)\n",
      "#49 5.2375486162207815e-08 (x1=2.999946126768223, x2 = -2.0000222425630403)\n",
      "#49 1.4949680932651776e-07 (x1=2.999631654509013, x2 = -1.999988244827268)\n",
      "#49 5.009322158172121e-07 (x1=2.999417052863041, x2 = -2.0000401378688184)\n",
      "#49 8.571166468505253e-08 (x1=3.0002914116641572, x2 = -1.99999718769369)\n",
      "#49 3.6693625839399566e-08 (x1=3.000141936578288, x2 = -2.0000128637605634)\n"
     ]
    }
   ],
   "source": [
    "import numpy as np\n",
    "from cmaes import CMA\n",
    "\n",
    "def quadratic(x1, x2):\n",
    "    return (x1 - 3) ** 2 + (10 * (x2 + 2)) ** 2\n",
    "\n",
    "optimizer = CMA(mean=np.zeros(2), sigma=1.3)\n",
    "\n",
    "for generation in range(50):\n",
    "    solutions = []\n",
    "    for _ in range(optimizer.population_size):\n",
    "        x = optimizer.ask()\n",
    "        value = quadratic(x[0], x[1])\n",
    "        solutions.append((x, value))\n",
    "        print(f\"#{generation} {value} (x1={x[0]}, x2 = {x[1]})\")\n",
    "    optimizer.tell(solutions)"
   ]
  },
  {
   "cell_type": "code",
   "execution_count": null,
   "metadata": {},
   "outputs": [
    {
     "data": {
      "text/plain": [
       "6"
      ]
     },
     "execution_count": null,
     "metadata": {},
     "output_type": "execute_result"
    }
   ],
   "source": [
    "optimizer.population_size"
   ]
  },
  {
   "cell_type": "code",
   "execution_count": null,
   "metadata": {},
   "outputs": [
    {
     "data": {
      "text/plain": [
       "array([ 3.00003518, -2.00008481])"
      ]
     },
     "execution_count": null,
     "metadata": {},
     "output_type": "execute_result"
    }
   ],
   "source": [
    "sorted(solutions, key= lambda pair: pair[1], reverse=True)[0][0]"
   ]
  },
  {
   "cell_type": "markdown",
   "metadata": {},
   "source": [
    "### Environment Inference"
   ]
  },
  {
   "cell_type": "markdown",
   "metadata": {},
   "source": [
    "Note: likelihood not sufficient because the data may use the same generative factors as before (true in the fashion->mnist case)"
   ]
  },
  {
   "cell_type": "code",
   "execution_count": null,
   "metadata": {},
   "outputs": [],
   "source": [
    "#export\n",
    "class EnvInferVAE(nn.Module):\n",
    "    def __init__(self, encoder: type, decoder: type, latents: int, max_envs: int, lam: float, kappa: float, device: str,\n",
    "        Tau: float=2, used_epochs: int=100, used_lr: float=1e-2, used_delta: float=.95):\n",
    "        super().__init__()\n",
    "        self.latents = latents\n",
    "        self.m = 0\n",
    "        self.max_envs = max_envs\n",
    "        self.lam = lam\n",
    "        self.kappa = kappa\n",
    "        self.Tau = Tau\n",
    "        self.used_epochs = used_epochs\n",
    "        self.used_lr = used_lr\n",
    "        self.used_delta = used_delta\n",
    "        self.env_count = [0] * self.max_envs\n",
    "        self.rec_loss_avgs = []\n",
    "        self.latent_masks = []\n",
    "        self.used_masks = []\n",
    "        self.used_masks = []\n",
    "        self.encoder = encoder(latents=latents)\n",
    "        self.decoder = decoder(latents=latents, max_envs=max_envs)\n",
    "        self.device = device\n",
    "        \n",
    "    def forward(self, x):\n",
    "        batch_size = x.shape[0]\n",
    "        mu, logvar, _final = self.encoder(x)\n",
    "        if self.training:\n",
    "            z = reparam(mu, logvar, device=self.device)\n",
    "        else:\n",
    "            z = mu\n",
    "        \n",
    "        #latent masking\n",
    "        a = latent_mask(z, self.lam)\n",
    "        z, mu, logvar = apply_mask(a, z, mu, logvar)\n",
    "\n",
    "        #infer environment\n",
    "        env_idx = self.infer_env(x, z, a)\n",
    "        s = torch.ones(batch_size, dtype=torch.int64) * env_idx\n",
    "        \n",
    "        rec_img = self.decoder(z=z, s=s)\n",
    "        return rec_img, mu, logvar, env_idx, z\n",
    "    \n",
    "    def infer_env(self, x, z, a):\n",
    "        # u = model.used(z)\n",
    "        batch_size = x.shape[0]\n",
    "\n",
    "        #get maximum likelihood environment using \"analysis by synthesis\"\n",
    "        losses = []\n",
    "        for s_i in range(self.m+1):\n",
    "            s = torch.ones(batch_size, dtype=torch.int64) * s_i\n",
    "            with torch.no_grad():\n",
    "                x_rec = self.decoder(z, s)\n",
    "                losses.append(torch.sum(rec_likelihood(x, x_rec)))\n",
    "        env_idx = torch.argmin(torch.tensor(losses))\n",
    "        \n",
    "        #get used mask\n",
    "        u = self.used_latents(x, z, env_idx, batch_size, epochs=self.used_epochs, lr=self.used_lr, Tau=self.Tau, delta=self.used_delta)\n",
    "        if u.sum() == 0:\n",
    "            print(\"some latent(s) are not used!\")\n",
    "        \n",
    "        rec_loss = losses[env_idx]\n",
    "        avg_rec_loss = rec_loss / batch_size\n",
    "\n",
    "        if self.env_count[0] == 0:\n",
    "            self.init_env(batch_size, a, u, avg_rec_loss)\n",
    "            return self.m\n",
    "        elif avg_rec_loss > self.kappa * self.rec_loss_avgs[env_idx] and self.m < self.max_envs-1:\n",
    "            print(\"New environment: anomolous reconstruction loss\")\n",
    "            self.m +=1\n",
    "            self.init_env(batch_size, a, u, avg_rec_loss)\n",
    "            return self.m\n",
    "        elif not torch.equal(a * u, self.latent_masks[env_idx] * u) and self.m < self.max_envs-1: #note not sure if I should be comparing to \"env_used\"\n",
    "            print(\"New environment: latent masks did not match\")\n",
    "            self.m +=1\n",
    "            self.init_env(batch_size, a, u, avg_rec_loss)\n",
    "            return self.m\n",
    "        else:\n",
    "            #TODO add warning about exceeding max envs or something\n",
    "            self.env_count[env_idx] += batch_size\n",
    "            self.rec_loss_avgs[env_idx] = rec_loss #cumulative average\n",
    "            return env_idx\n",
    "    \n",
    "    def used_latents(self, batch, z, env_idx, batch_size, epochs, lr, Tau, delta):\n",
    "        sigma = torch.zeros([self.latents]) #TODO: could change init scheme\n",
    "        sigma.requires_grad_(True)\n",
    "        disable_gradient(self.decoder)\n",
    "        decoder_copy = copy.deepcopy(self.decoder)\n",
    "        disable_gradient(decoder_copy)\n",
    "        optimizer = torch.optim.SGD(params=[sigma], lr=lr)\n",
    "        s = torch.ones(batch_size, dtype=torch.int64) * env_idx\n",
    "        for i in range(epochs):\n",
    "            optimizer.zero_grad()\n",
    "            eps = torch.randn(sigma.shape[0]) * sigma\n",
    "            z_e = (1-delta) * z + (delta + eps)\n",
    "            rec_batch = self.decoder(z_e, s)\n",
    "            rec_loss = torch.mean(rec_likelihood(batch, rec_batch))\n",
    "            sum_sigma = torch.sum(sigma)\n",
    "            loss = rec_loss - sum_sigma\n",
    "            loss.backward(retain_graph=True)\n",
    "            optimizer.step()\n",
    "            if i % 10 == 0:\n",
    "                pass\n",
    "                #print(sigma)\n",
    "                #print(loss)\n",
    "                #print(sigma.sum())\n",
    "        return sigma < Tau\n",
    "    \n",
    "    def init_env(self, batch_size, a, u, avg_rec_loss):\n",
    "        self.env_count[self.m] += batch_size\n",
    "        self.latent_masks.append(a)\n",
    "        self.used_masks.append(u)\n",
    "        self.rec_loss_avgs.append(avg_rec_loss)\n",
    "\n"
   ]
  },
  {
   "cell_type": "code",
   "execution_count": null,
   "metadata": {},
   "outputs": [],
   "source": [
    "class EnvInferGAVAE(EnvInferVAE):\n",
    "\n",
    "    def used_latents(self, batch, z, env_idx, batch_size, epochs, lr, Tau, delta):\n",
    "        optimizer = CMA(mean=np.zeros(self.latents), sigma=1.3)\n",
    "        s = torch.ones(batch_size, dtype=torch.int64) * env_idx\n",
    "        for generation in range(epochs):\n",
    "            solutions = []\n",
    "            for _ in range(optimizer.population_size):\n",
    "                x = optimizer.ask()\n",
    "                with torch.no_grad():\n",
    "                    sigma = torch.tensor(x, dtype=torch.float)\n",
    "                    sigma = torch.abs(sigma)\n",
    "                    eps = torch.randn(sigma.shape[0]) * sigma\n",
    "                    z_e = (1-delta) * z + (delta + eps)\n",
    "                    rec_batch = self.decoder(z_e, s)\n",
    "                    rec_loss = torch.mean(rec_likelihood(batch, rec_batch))\n",
    "                    sum_sigma = torch.sum(sigma)\n",
    "                    loss = rec_loss - sum_sigma\n",
    "                value = loss.detach().numpy()\n",
    "                solutions.append((x, value))\n",
    "                #print(f\"#{generation} {value} (x1={x[0]}, x2 = {x[1]})\")\n",
    "            optimizer.tell(solutions)\n",
    "\n",
    "            if generation % 25 == 0:\n",
    "                x_prime = sorted(solutions, key= lambda pair: pair[1], reverse=True)[0][0]\n",
    "        x_prime = sorted(solutions, key= lambda pair: pair[1], reverse=True)[0][0]\n",
    "        sigma_prime = torch.tensor(x_prime, dtype=torch.float).abs()\n",
    "        used = torch.argmin(sigma_prime)\n",
    "        return sigma_prime < Tau"
   ]
  },
  {
   "cell_type": "code",
   "execution_count": null,
   "metadata": {},
   "outputs": [],
   "source": [
    "envinfer_vae = EnvInferGAVAE(FCEncoder, FCDecoder, 8, 7, lam=0.6, kappa=1.5, device='cpu', used_epochs=10, used_lr=1e-1)"
   ]
  },
  {
   "cell_type": "code",
   "execution_count": null,
   "metadata": {},
   "outputs": [],
   "source": [
    "rec_img, mu, logvar, env_idx, z = envinfer_vae(mnist_batch)"
   ]
  },
  {
   "cell_type": "code",
   "execution_count": null,
   "metadata": {},
   "outputs": [],
   "source": [
    "envinfer_vae = EnvInferVAE(FCEncoder, FCDecoder, 8, 7, lam=0.6, kappa=1.5, device='cpu', used_epochs=10, used_lr=1e-1)"
   ]
  },
  {
   "cell_type": "code",
   "execution_count": null,
   "metadata": {},
   "outputs": [],
   "source": [
    "rec_img, mu, logvar, env_idx, z = envinfer_vae(mnist_batch)"
   ]
  },
  {
   "cell_type": "code",
   "execution_count": null,
   "metadata": {},
   "outputs": [],
   "source": [
    "assert rec_img.shape == torch.Size([batch_size, 1, 28, 28])"
   ]
  },
  {
   "cell_type": "code",
   "execution_count": null,
   "metadata": {},
   "outputs": [],
   "source": [
    "envinfer_vae = EnvInferVAE(Encoder, Decoder, 8, 7, lam=0.6, kappa=1.5, device='cpu')"
   ]
  },
  {
   "cell_type": "code",
   "execution_count": null,
   "metadata": {},
   "outputs": [
    {
     "ename": "KeyboardInterrupt",
     "evalue": "",
     "output_type": "error",
     "traceback": [
      "\u001b[0;31m---------------------------------------------------------------------------\u001b[0m",
      "\u001b[0;31mKeyboardInterrupt\u001b[0m                         Traceback (most recent call last)",
      "\u001b[1;32m/Users/oliverdaniels-koch/NotebookProjects/lifelong_disrep/02a_core.models.ipynb Cell 132'\u001b[0m in \u001b[0;36m<cell line: 1>\u001b[0;34m()\u001b[0m\n\u001b[0;32m----> <a href='vscode-notebook-cell:/Users/oliverdaniels-koch/NotebookProjects/lifelong_disrep/02a_core.models.ipynb#ch0000126?line=0'>1</a>\u001b[0m rec_img, mu, logvar, env_idx, z \u001b[39m=\u001b[39m envinfer_vae(mm_batch)\n",
      "File \u001b[0;32m~/miniforge3/envs/lifelong_disrep/lib/python3.9/site-packages/torch/nn/modules/module.py:1110\u001b[0m, in \u001b[0;36mModule._call_impl\u001b[0;34m(self, *input, **kwargs)\u001b[0m\n\u001b[1;32m   <a href='file:///Users/oliverdaniels-koch/miniforge3/envs/lifelong_disrep/lib/python3.9/site-packages/torch/nn/modules/module.py?line=1105'>1106</a>\u001b[0m \u001b[39m# If we don't have any hooks, we want to skip the rest of the logic in\u001b[39;00m\n\u001b[1;32m   <a href='file:///Users/oliverdaniels-koch/miniforge3/envs/lifelong_disrep/lib/python3.9/site-packages/torch/nn/modules/module.py?line=1106'>1107</a>\u001b[0m \u001b[39m# this function, and just call forward.\u001b[39;00m\n\u001b[1;32m   <a href='file:///Users/oliverdaniels-koch/miniforge3/envs/lifelong_disrep/lib/python3.9/site-packages/torch/nn/modules/module.py?line=1107'>1108</a>\u001b[0m \u001b[39mif\u001b[39;00m \u001b[39mnot\u001b[39;00m (\u001b[39mself\u001b[39m\u001b[39m.\u001b[39m_backward_hooks \u001b[39mor\u001b[39;00m \u001b[39mself\u001b[39m\u001b[39m.\u001b[39m_forward_hooks \u001b[39mor\u001b[39;00m \u001b[39mself\u001b[39m\u001b[39m.\u001b[39m_forward_pre_hooks \u001b[39mor\u001b[39;00m _global_backward_hooks\n\u001b[1;32m   <a href='file:///Users/oliverdaniels-koch/miniforge3/envs/lifelong_disrep/lib/python3.9/site-packages/torch/nn/modules/module.py?line=1108'>1109</a>\u001b[0m         \u001b[39mor\u001b[39;00m _global_forward_hooks \u001b[39mor\u001b[39;00m _global_forward_pre_hooks):\n\u001b[0;32m-> <a href='file:///Users/oliverdaniels-koch/miniforge3/envs/lifelong_disrep/lib/python3.9/site-packages/torch/nn/modules/module.py?line=1109'>1110</a>\u001b[0m     \u001b[39mreturn\u001b[39;00m forward_call(\u001b[39m*\u001b[39;49m\u001b[39minput\u001b[39;49m, \u001b[39m*\u001b[39;49m\u001b[39m*\u001b[39;49mkwargs)\n\u001b[1;32m   <a href='file:///Users/oliverdaniels-koch/miniforge3/envs/lifelong_disrep/lib/python3.9/site-packages/torch/nn/modules/module.py?line=1110'>1111</a>\u001b[0m \u001b[39m# Do not call functions when jit is used\u001b[39;00m\n\u001b[1;32m   <a href='file:///Users/oliverdaniels-koch/miniforge3/envs/lifelong_disrep/lib/python3.9/site-packages/torch/nn/modules/module.py?line=1111'>1112</a>\u001b[0m full_backward_hooks, non_full_backward_hooks \u001b[39m=\u001b[39m [], []\n",
      "\u001b[1;32m/Users/oliverdaniels-koch/NotebookProjects/lifelong_disrep/02a_core.models.ipynb Cell 126'\u001b[0m in \u001b[0;36mEnvInferVAE.forward\u001b[0;34m(self, x)\u001b[0m\n\u001b[1;32m     <a href='vscode-notebook-cell:/Users/oliverdaniels-koch/NotebookProjects/lifelong_disrep/02a_core.models.ipynb#ch0000121?line=33'>34</a>\u001b[0m z, mu, logvar \u001b[39m=\u001b[39m apply_mask(a, z, mu, logvar)\n\u001b[1;32m     <a href='vscode-notebook-cell:/Users/oliverdaniels-koch/NotebookProjects/lifelong_disrep/02a_core.models.ipynb#ch0000121?line=35'>36</a>\u001b[0m \u001b[39m#infer environment\u001b[39;00m\n\u001b[0;32m---> <a href='vscode-notebook-cell:/Users/oliverdaniels-koch/NotebookProjects/lifelong_disrep/02a_core.models.ipynb#ch0000121?line=36'>37</a>\u001b[0m env_idx \u001b[39m=\u001b[39m \u001b[39mself\u001b[39;49m\u001b[39m.\u001b[39;49minfer_env(x, z, a)\n\u001b[1;32m     <a href='vscode-notebook-cell:/Users/oliverdaniels-koch/NotebookProjects/lifelong_disrep/02a_core.models.ipynb#ch0000121?line=37'>38</a>\u001b[0m s \u001b[39m=\u001b[39m torch\u001b[39m.\u001b[39mones(batch_size, dtype\u001b[39m=\u001b[39mtorch\u001b[39m.\u001b[39mint64) \u001b[39m*\u001b[39m env_idx\n\u001b[1;32m     <a href='vscode-notebook-cell:/Users/oliverdaniels-koch/NotebookProjects/lifelong_disrep/02a_core.models.ipynb#ch0000121?line=39'>40</a>\u001b[0m rec_img \u001b[39m=\u001b[39m \u001b[39mself\u001b[39m\u001b[39m.\u001b[39mdecoder(z\u001b[39m=\u001b[39mz, s\u001b[39m=\u001b[39ms)\n",
      "\u001b[1;32m/Users/oliverdaniels-koch/NotebookProjects/lifelong_disrep/02a_core.models.ipynb Cell 126'\u001b[0m in \u001b[0;36mEnvInferVAE.infer_env\u001b[0;34m(self, x, z, a)\u001b[0m\n\u001b[1;32m     <a href='vscode-notebook-cell:/Users/oliverdaniels-koch/NotebookProjects/lifelong_disrep/02a_core.models.ipynb#ch0000121?line=53'>54</a>\u001b[0m env_idx \u001b[39m=\u001b[39m torch\u001b[39m.\u001b[39margmin(torch\u001b[39m.\u001b[39mtensor(losses))\n\u001b[1;32m     <a href='vscode-notebook-cell:/Users/oliverdaniels-koch/NotebookProjects/lifelong_disrep/02a_core.models.ipynb#ch0000121?line=55'>56</a>\u001b[0m \u001b[39m#get used mask\u001b[39;00m\n\u001b[0;32m---> <a href='vscode-notebook-cell:/Users/oliverdaniels-koch/NotebookProjects/lifelong_disrep/02a_core.models.ipynb#ch0000121?line=56'>57</a>\u001b[0m u \u001b[39m=\u001b[39m \u001b[39mself\u001b[39;49m\u001b[39m.\u001b[39;49mused_latents(x, z, env_idx, batch_size, epochs\u001b[39m=\u001b[39;49m\u001b[39mself\u001b[39;49m\u001b[39m.\u001b[39;49mused_epochs, lr\u001b[39m=\u001b[39;49m\u001b[39mself\u001b[39;49m\u001b[39m.\u001b[39;49mused_lr, Tau\u001b[39m=\u001b[39;49m\u001b[39mself\u001b[39;49m\u001b[39m.\u001b[39;49mTau, delta\u001b[39m=\u001b[39;49m\u001b[39mself\u001b[39;49m\u001b[39m.\u001b[39;49mused_delta)\n\u001b[1;32m     <a href='vscode-notebook-cell:/Users/oliverdaniels-koch/NotebookProjects/lifelong_disrep/02a_core.models.ipynb#ch0000121?line=57'>58</a>\u001b[0m \u001b[39mif\u001b[39;00m u\u001b[39m.\u001b[39msum() \u001b[39m==\u001b[39m \u001b[39m0\u001b[39m:\n\u001b[1;32m     <a href='vscode-notebook-cell:/Users/oliverdaniels-koch/NotebookProjects/lifelong_disrep/02a_core.models.ipynb#ch0000121?line=58'>59</a>\u001b[0m     \u001b[39mprint\u001b[39m(\u001b[39m\"\u001b[39m\u001b[39msome latent(s) are not used!\u001b[39m\u001b[39m\"\u001b[39m)\n",
      "\u001b[1;32m/Users/oliverdaniels-koch/NotebookProjects/lifelong_disrep/02a_core.models.ipynb Cell 126'\u001b[0m in \u001b[0;36mEnvInferVAE.used_latents\u001b[0;34m(self, batch, z, env_idx, batch_size, epochs, lr, Tau, delta)\u001b[0m\n\u001b[1;32m     <a href='vscode-notebook-cell:/Users/oliverdaniels-koch/NotebookProjects/lifelong_disrep/02a_core.models.ipynb#ch0000121?line=96'>97</a>\u001b[0m sum_sigma \u001b[39m=\u001b[39m torch\u001b[39m.\u001b[39msum(sigma)\n\u001b[1;32m     <a href='vscode-notebook-cell:/Users/oliverdaniels-koch/NotebookProjects/lifelong_disrep/02a_core.models.ipynb#ch0000121?line=97'>98</a>\u001b[0m loss \u001b[39m=\u001b[39m rec_loss \u001b[39m-\u001b[39m sum_sigma\n\u001b[0;32m---> <a href='vscode-notebook-cell:/Users/oliverdaniels-koch/NotebookProjects/lifelong_disrep/02a_core.models.ipynb#ch0000121?line=98'>99</a>\u001b[0m loss\u001b[39m.\u001b[39;49mbackward(retain_graph\u001b[39m=\u001b[39;49m\u001b[39mTrue\u001b[39;49;00m)\n\u001b[1;32m    <a href='vscode-notebook-cell:/Users/oliverdaniels-koch/NotebookProjects/lifelong_disrep/02a_core.models.ipynb#ch0000121?line=99'>100</a>\u001b[0m optimizer\u001b[39m.\u001b[39mstep()\n\u001b[1;32m    <a href='vscode-notebook-cell:/Users/oliverdaniels-koch/NotebookProjects/lifelong_disrep/02a_core.models.ipynb#ch0000121?line=100'>101</a>\u001b[0m \u001b[39mif\u001b[39;00m i \u001b[39m%\u001b[39m \u001b[39m10\u001b[39m \u001b[39m==\u001b[39m \u001b[39m0\u001b[39m:\n",
      "File \u001b[0;32m~/miniforge3/envs/lifelong_disrep/lib/python3.9/site-packages/torch/_tensor.py:363\u001b[0m, in \u001b[0;36mTensor.backward\u001b[0;34m(self, gradient, retain_graph, create_graph, inputs)\u001b[0m\n\u001b[1;32m    <a href='file:///Users/oliverdaniels-koch/miniforge3/envs/lifelong_disrep/lib/python3.9/site-packages/torch/_tensor.py?line=353'>354</a>\u001b[0m \u001b[39mif\u001b[39;00m has_torch_function_unary(\u001b[39mself\u001b[39m):\n\u001b[1;32m    <a href='file:///Users/oliverdaniels-koch/miniforge3/envs/lifelong_disrep/lib/python3.9/site-packages/torch/_tensor.py?line=354'>355</a>\u001b[0m     \u001b[39mreturn\u001b[39;00m handle_torch_function(\n\u001b[1;32m    <a href='file:///Users/oliverdaniels-koch/miniforge3/envs/lifelong_disrep/lib/python3.9/site-packages/torch/_tensor.py?line=355'>356</a>\u001b[0m         Tensor\u001b[39m.\u001b[39mbackward,\n\u001b[1;32m    <a href='file:///Users/oliverdaniels-koch/miniforge3/envs/lifelong_disrep/lib/python3.9/site-packages/torch/_tensor.py?line=356'>357</a>\u001b[0m         (\u001b[39mself\u001b[39m,),\n\u001b[0;32m   (...)\u001b[0m\n\u001b[1;32m    <a href='file:///Users/oliverdaniels-koch/miniforge3/envs/lifelong_disrep/lib/python3.9/site-packages/torch/_tensor.py?line=360'>361</a>\u001b[0m         create_graph\u001b[39m=\u001b[39mcreate_graph,\n\u001b[1;32m    <a href='file:///Users/oliverdaniels-koch/miniforge3/envs/lifelong_disrep/lib/python3.9/site-packages/torch/_tensor.py?line=361'>362</a>\u001b[0m         inputs\u001b[39m=\u001b[39minputs)\n\u001b[0;32m--> <a href='file:///Users/oliverdaniels-koch/miniforge3/envs/lifelong_disrep/lib/python3.9/site-packages/torch/_tensor.py?line=362'>363</a>\u001b[0m torch\u001b[39m.\u001b[39;49mautograd\u001b[39m.\u001b[39;49mbackward(\u001b[39mself\u001b[39;49m, gradient, retain_graph, create_graph, inputs\u001b[39m=\u001b[39;49minputs)\n",
      "File \u001b[0;32m~/miniforge3/envs/lifelong_disrep/lib/python3.9/site-packages/torch/autograd/__init__.py:173\u001b[0m, in \u001b[0;36mbackward\u001b[0;34m(tensors, grad_tensors, retain_graph, create_graph, grad_variables, inputs)\u001b[0m\n\u001b[1;32m    <a href='file:///Users/oliverdaniels-koch/miniforge3/envs/lifelong_disrep/lib/python3.9/site-packages/torch/autograd/__init__.py?line=167'>168</a>\u001b[0m     retain_graph \u001b[39m=\u001b[39m create_graph\n\u001b[1;32m    <a href='file:///Users/oliverdaniels-koch/miniforge3/envs/lifelong_disrep/lib/python3.9/site-packages/torch/autograd/__init__.py?line=169'>170</a>\u001b[0m \u001b[39m# The reason we repeat same the comment below is that\u001b[39;00m\n\u001b[1;32m    <a href='file:///Users/oliverdaniels-koch/miniforge3/envs/lifelong_disrep/lib/python3.9/site-packages/torch/autograd/__init__.py?line=170'>171</a>\u001b[0m \u001b[39m# some Python versions print out the first line of a multi-line function\u001b[39;00m\n\u001b[1;32m    <a href='file:///Users/oliverdaniels-koch/miniforge3/envs/lifelong_disrep/lib/python3.9/site-packages/torch/autograd/__init__.py?line=171'>172</a>\u001b[0m \u001b[39m# calls in the traceback and some print out the last line\u001b[39;00m\n\u001b[0;32m--> <a href='file:///Users/oliverdaniels-koch/miniforge3/envs/lifelong_disrep/lib/python3.9/site-packages/torch/autograd/__init__.py?line=172'>173</a>\u001b[0m Variable\u001b[39m.\u001b[39;49m_execution_engine\u001b[39m.\u001b[39;49mrun_backward(  \u001b[39m# Calls into the C++ engine to run the backward pass\u001b[39;49;00m\n\u001b[1;32m    <a href='file:///Users/oliverdaniels-koch/miniforge3/envs/lifelong_disrep/lib/python3.9/site-packages/torch/autograd/__init__.py?line=173'>174</a>\u001b[0m     tensors, grad_tensors_, retain_graph, create_graph, inputs,\n\u001b[1;32m    <a href='file:///Users/oliverdaniels-koch/miniforge3/envs/lifelong_disrep/lib/python3.9/site-packages/torch/autograd/__init__.py?line=174'>175</a>\u001b[0m     allow_unreachable\u001b[39m=\u001b[39;49m\u001b[39mTrue\u001b[39;49;00m, accumulate_grad\u001b[39m=\u001b[39;49m\u001b[39mTrue\u001b[39;49;00m)\n",
      "\u001b[0;31mKeyboardInterrupt\u001b[0m: "
     ]
    }
   ],
   "source": [
    "rec_img, mu, logvar, env_idx, z = envinfer_vae(mm_batch)"
   ]
  },
  {
   "cell_type": "code",
   "execution_count": null,
   "metadata": {},
   "outputs": [],
   "source": [
    "assert rec_img.shape == torch.Size([128, 1, 64, 64])"
   ]
  },
  {
   "cell_type": "markdown",
   "metadata": {},
   "source": [
    "###"
   ]
  },
  {
   "cell_type": "markdown",
   "metadata": {},
   "source": [
    "## Generative Replay VAE"
   ]
  },
  {
   "cell_type": "markdown",
   "metadata": {},
   "source": [
    "### Generative Sampling\n",
    "We need to sample the latents and environments independantly (because the environemt is typically determined by the reconstruction loss, which we don't have access to when sampling, because there is no ground truth image)"
   ]
  },
  {
   "cell_type": "code",
   "execution_count": null,
   "metadata": {},
   "outputs": [
    {
     "data": {
      "text/plain": [
       "tensor([[ 2.4373, -1.5818]])"
      ]
     },
     "execution_count": null,
     "metadata": {},
     "output_type": "execute_result"
    }
   ],
   "source": [
    " torch.randn(size=(1,2))"
   ]
  },
  {
   "cell_type": "code",
   "execution_count": null,
   "metadata": {},
   "outputs": [
    {
     "data": {
      "text/plain": [
       "torch.Size([64])"
      ]
     },
     "execution_count": null,
     "metadata": {},
     "output_type": "execute_result"
    }
   ],
   "source": [
    "s = torch.randint(0, 3, (64,))\n",
    "s.shape"
   ]
  },
  {
   "cell_type": "code",
   "execution_count": null,
   "metadata": {},
   "outputs": [],
   "source": [
    "#export\n",
    "def generate_samples(vae: EnvInferVAE, batch_size: int):\n",
    "    z = torch.randn(size=(batch_size, vae.latents))\n",
    "    s = torch.randint(0, vae.m+1, (batch_size,))\n",
    "    x_sample = vae.decoder(z, s)\n",
    "    return x_sample"
   ]
  },
  {
   "cell_type": "code",
   "execution_count": null,
   "metadata": {},
   "outputs": [],
   "source": [
    "samples = generate_samples(envinfer_vae, 128)"
   ]
  },
  {
   "cell_type": "code",
   "execution_count": null,
   "metadata": {},
   "outputs": [],
   "source": [
    "assert samples.shape == torch.Size([batch_size, 1, 64, 64])"
   ]
  },
  {
   "cell_type": "code",
   "execution_count": null,
   "metadata": {},
   "outputs": [
    {
     "data": {
      "text/plain": [
       "<matplotlib.image.AxesImage at 0x12e62d370>"
      ]
     },
     "execution_count": null,
     "metadata": {},
     "output_type": "execute_result"
    },
    {
     "data": {
      "image/png": "[encoded data removed]",
      "text/plain": [
       "<Figure size 432x288 with 1 Axes>"
      ]
     },
     "metadata": {
      "needs_background": "light"
     },
     "output_type": "display_data"
    }
   ],
   "source": [
    "plt.imshow(samples[0].detach().numpy().squeeze())"
   ]
  },
  {
   "cell_type": "markdown",
   "metadata": {},
   "source": [
    "### Generative Replay VAE"
   ]
  },
  {
   "cell_type": "code",
   "execution_count": null,
   "metadata": {},
   "outputs": [],
   "source": [
    "#export\n",
    "class GenReplayVAE(EnvInferVAE):\n",
    "    def __init__(self, encoder: type, decoder: type, latents: int, max_envs: int, lam: float, kappa: float, device: str,\n",
    "        Tau: float=2, used_epochs: int=100, used_lr: float=1e-2, used_delta: float=.95):\n",
    "        self.encoder_type = encoder\n",
    "        self.decoder_type = decoder\n",
    "        super().__init__(encoder, decoder, latents, max_envs, lam, kappa, device, Tau, used_epochs, used_lr, used_delta)\n",
    "        self.old_model = []\n",
    "        \n",
    "    def sample(self, batch_size, increment=True):\n",
    "        if self.m == 0:\n",
    "            raise Exception(\"should not generate samples on current environment\")\n",
    "        samples = generate_samples(self.old_model[0], batch_size)\n",
    "        return samples\n",
    "    \n",
    "    def forward_halu(self, x):\n",
    "        rec_X, _mu, _logvar, _env_idx, z = self(x)\n",
    "        old_rec_X, _old_mu, _old_logvar, _old_env_idx, old_z = self.old_model[0](x)\n",
    "        return rec_X, old_rec_X, z, old_z\n",
    "    \n",
    "    def init_env(self, batch_size, a, u, avg_rec_loss):\n",
    "        if self.m > 0: #save current state of model for experience replay\n",
    "            old_model = self.copy_self(self.m-1)\n",
    "            disable_gradient(old_model)\n",
    "            self.old_model = [old_model]\n",
    "        super().init_env(batch_size, a, u, avg_rec_loss)\n",
    "    \n",
    "    def copy_self(self, m):\n",
    "        copy = EnvInferVAE(self.encoder_type, self.decoder_type, self.latents, self.max_envs, self.lam, self.kappa, self.device)\n",
    "        copy.load_state_dict(self.state_dict())\n",
    "        copy.m = m\n",
    "        return copy"
   ]
  },
  {
   "cell_type": "code",
   "execution_count": null,
   "metadata": {},
   "outputs": [
    {
     "data": {
      "text/plain": [
       "Decoder(\n",
       "  (linear2): Linear(in_features=15, out_features=256, bias=True)\n",
       "  (linear1): Linear(in_features=256, out_features=2048, bias=True)\n",
       "  (conv4): ConvTranspose2d(128, 128, kernel_size=(4, 4), stride=(2, 2), padding=(1, 1))\n",
       "  (conv3): ConvTranspose2d(128, 64, kernel_size=(4, 4), stride=(2, 2), padding=(1, 1))\n",
       "  (conv2): ConvTranspose2d(64, 64, kernel_size=(4, 4), stride=(2, 2), padding=(1, 1))\n",
       "  (conv1): ConvTranspose2d(64, 1, kernel_size=(4, 4), stride=(2, 2), padding=(1, 1))\n",
       "  (relu): ReLU()\n",
       "  (sigmoid): Sigmoid()\n",
       ")"
      ]
     },
     "execution_count": null,
     "metadata": {},
     "output_type": "execute_result"
    }
   ],
   "source": [
    "envinfer_vae.decoder"
   ]
  },
  {
   "cell_type": "code",
   "execution_count": null,
   "metadata": {},
   "outputs": [],
   "source": [
    "gen_replay_vae = GenReplayVAE(encoder=FCEncoder, decoder=FCDecoder, latents=latents, max_envs=max_environments, lam=lam, kappa=1.5, device=device)"
   ]
  },
  {
   "cell_type": "code",
   "execution_count": null,
   "metadata": {},
   "outputs": [],
   "source": [
    "rec_img, mu, logvar, env_idx, z = gen_replay_vae(mnist_batch)"
   ]
  },
  {
   "cell_type": "code",
   "execution_count": null,
   "metadata": {},
   "outputs": [],
   "source": [
    "assert rec_img.shape == torch.Size([batch_size, 1, 28, 28])"
   ]
  },
  {
   "cell_type": "code",
   "execution_count": null,
   "metadata": {},
   "outputs": [],
   "source": [
    "sample_batch_size=64"
   ]
  },
  {
   "cell_type": "code",
   "execution_count": null,
   "metadata": {},
   "outputs": [
    {
     "ename": "Exception",
     "evalue": "should not generate samples on current environment",
     "output_type": "error",
     "traceback": [
      "\u001b[0;31m---------------------------------------------------------------------------\u001b[0m",
      "\u001b[0;31mException\u001b[0m                                 Traceback (most recent call last)",
      "\u001b[1;32m/Users/oliverdaniels-koch/NotebookProjects/lifelong_disrep/02a_core.models.ipynb Cell 147'\u001b[0m in \u001b[0;36m<cell line: 1>\u001b[0;34m()\u001b[0m\n\u001b[0;32m----> <a href='vscode-notebook-cell:/Users/oliverdaniels-koch/NotebookProjects/lifelong_disrep/02a_core.models.ipynb#ch0000144?line=0'>1</a>\u001b[0m samples \u001b[39m=\u001b[39m gen_replay_vae\u001b[39m.\u001b[39;49msample(sample_batch_size)\n",
      "\u001b[1;32m/Users/oliverdaniels-koch/NotebookProjects/lifelong_disrep/02a_core.models.ipynb Cell 141'\u001b[0m in \u001b[0;36mGenReplayVAE.sample\u001b[0;34m(self, batch_size, increment)\u001b[0m\n\u001b[1;32m     <a href='vscode-notebook-cell:/Users/oliverdaniels-koch/NotebookProjects/lifelong_disrep/02a_core.models.ipynb#ch0000138?line=9'>10</a>\u001b[0m \u001b[39mdef\u001b[39;00m \u001b[39msample\u001b[39m(\u001b[39mself\u001b[39m, batch_size, increment\u001b[39m=\u001b[39m\u001b[39mTrue\u001b[39;00m):\n\u001b[1;32m     <a href='vscode-notebook-cell:/Users/oliverdaniels-koch/NotebookProjects/lifelong_disrep/02a_core.models.ipynb#ch0000138?line=10'>11</a>\u001b[0m     \u001b[39mif\u001b[39;00m \u001b[39mself\u001b[39m\u001b[39m.\u001b[39mm \u001b[39m==\u001b[39m \u001b[39m0\u001b[39m:\n\u001b[0;32m---> <a href='vscode-notebook-cell:/Users/oliverdaniels-koch/NotebookProjects/lifelong_disrep/02a_core.models.ipynb#ch0000138?line=11'>12</a>\u001b[0m         \u001b[39mraise\u001b[39;00m \u001b[39mException\u001b[39;00m(\u001b[39m\"\u001b[39m\u001b[39mshould not generate samples on current environment\u001b[39m\u001b[39m\"\u001b[39m)\n\u001b[1;32m     <a href='vscode-notebook-cell:/Users/oliverdaniels-koch/NotebookProjects/lifelong_disrep/02a_core.models.ipynb#ch0000138?line=12'>13</a>\u001b[0m     samples \u001b[39m=\u001b[39m generate_samples(\u001b[39mself\u001b[39m\u001b[39m.\u001b[39mold_model[\u001b[39m0\u001b[39m], batch_size)\n\u001b[1;32m     <a href='vscode-notebook-cell:/Users/oliverdaniels-koch/NotebookProjects/lifelong_disrep/02a_core.models.ipynb#ch0000138?line=13'>14</a>\u001b[0m     \u001b[39mreturn\u001b[39;00m samples\n",
      "\u001b[0;31mException\u001b[0m: should not generate samples on current environment"
     ]
    }
   ],
   "source": [
    "samples = gen_replay_vae.sample(sample_batch_size)"
   ]
  },
  {
   "cell_type": "code",
   "execution_count": null,
   "metadata": {},
   "outputs": [
    {
     "ename": "AssertionError",
     "evalue": "",
     "output_type": "error",
     "traceback": [
      "\u001b[0;31m---------------------------------------------------------------------------\u001b[0m",
      "\u001b[0;31mAssertionError\u001b[0m                            Traceback (most recent call last)",
      "\u001b[1;32m/Users/oliverdaniels-koch/NotebookProjects/lifelong_disrep/02a_core.models.ipynb Cell 146'\u001b[0m in \u001b[0;36m<cell line: 1>\u001b[0;34m()\u001b[0m\n\u001b[0;32m----> <a href='vscode-notebook-cell:/Users/oliverdaniels-koch/NotebookProjects/lifelong_disrep/02a_core.models.ipynb#ch0000145?line=0'>1</a>\u001b[0m \u001b[39massert\u001b[39;00m samples\u001b[39m.\u001b[39mshape \u001b[39m==\u001b[39m torch\u001b[39m.\u001b[39mSize([sample_batch_size, \u001b[39m1\u001b[39m, \u001b[39m28\u001b[39m, \u001b[39m28\u001b[39m])\n",
      "\u001b[0;31mAssertionError\u001b[0m: "
     ]
    }
   ],
   "source": [
    "assert samples.shape == torch.Size([sample_batch_size, 1, 28, 28])"
   ]
  },
  {
   "cell_type": "markdown",
   "metadata": {},
   "source": [
    "## Classifiers and Regressors"
   ]
  }
 ],
 "metadata": {
  "kernelspec": {
   "display_name": "Python 3.9.10 ('lifelong_disrep')",
   "language": "python",
   "name": "python3"
  }
 },
 "nbformat": 4,
 "nbformat_minor": 2
}
