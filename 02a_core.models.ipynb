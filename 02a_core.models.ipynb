{
 "cells": [
  {
   "cell_type": "code",
   "execution_count": null,
   "metadata": {},
   "outputs": [],
   "source": [
    "#default_exp core.models"
   ]
  },
  {
   "cell_type": "code",
   "execution_count": null,
   "metadata": {},
   "outputs": [],
   "source": [
    "#export\n",
    "import torch\n",
    "from torch import nn\n",
    "from torch.nn import functional as F\n",
    "import numpy as np\n",
    "import copy\n",
    "\n",
    "from vase.config import DATA_PATH\n",
    "from vase.core.utils import rec_likelihood, kl_div_stdnorm, disable_gradient, enable_gradient"
   ]
  },
  {
   "cell_type": "code",
   "execution_count": null,
   "metadata": {},
   "outputs": [],
   "source": [
    "#hide\n",
    "from vase.core.datasets.moving_mnist import MovingMNIST\n",
    "from torchvision.transforms import ToTensor\n",
    "from torch.utils.data import DataLoader\n",
    "import matplotlib.pyplot as plt"
   ]
  },
  {
   "cell_type": "markdown",
   "metadata": {},
   "source": [
    "# Models\n",
    "> Pytorch Models used for encoders, decoders, and classifiers. See Section A.1 of [Aachille et al.](https://arxiv.org/pdf/1808.06508.pdf) for details"
   ]
  },
  {
   "cell_type": "code",
   "execution_count": null,
   "metadata": {},
   "outputs": [],
   "source": [
    "#hide \n",
    "from vase.core.datasets.moving_mnist import MovingMNIST, CommonMNIST"
   ]
  },
  {
   "cell_type": "code",
   "execution_count": null,
   "metadata": {},
   "outputs": [],
   "source": [
    "#hide\n",
    "batch_size = 128\n",
    "latents = 24\n",
    "max_environments = 30\n",
    "moving_mnist = MovingMNIST(DATA_PATH, transform=ToTensor())\n",
    "mnist = CommonMNIST(DATA_PATH, transform=ToTensor())\n",
    "mm_loader = DataLoader(moving_mnist, batch_size)\n",
    "mnist_loader = DataLoader(mnist, batch_size)\n",
    "\n",
    "mm_batch, _, _= iter(mm_loader).next()\n",
    "mnist_batch, _ = iter(mnist_loader).next()"
   ]
  },
  {
   "cell_type": "markdown",
   "metadata": {},
   "source": [
    "## Encoders\n"
   ]
  },
  {
   "cell_type": "markdown",
   "metadata": {},
   "source": [
    "### Encoder Architecture From Paper"
   ]
  },
  {
   "cell_type": "code",
   "execution_count": null,
   "metadata": {},
   "outputs": [],
   "source": [
    "#export\n",
    "class Encoder(nn.Module):\n",
    "    def __init__(self, latents=10):\n",
    "        super().__init__()\n",
    "        self.latents = latents\n",
    "        #NOTE: no pooling? should compare results with and without\n",
    "        self.conv1 = nn.Conv2d(1, 64, (4,4), stride=2, padding=1)\n",
    "        self.conv2 = nn.Conv2d(64, 64, (4,4), 2, padding=1)\n",
    "        self.conv3 = nn.Conv2d(64, 128, (4,4), 2, padding=1)\n",
    "        self.conv4 = nn.Conv2d(128, 128, (4,4), 2, padding=1)\n",
    "        self.linear = nn.Linear(2048, 256)\n",
    "        self.linear_mu = nn.Linear(256, self.latents)\n",
    "        self.linear_logvar = nn.Linear(256, self.latents)\n",
    "        self.relu = nn.ReLU()\n",
    "\n",
    "    def forward(self, x):\n",
    "        \"\"\"\n",
    "        Returns mean and standard deviation to parameterize sigmoid, \n",
    "        and final layer to compute environment\n",
    "        \"\"\"\n",
    "        x = self.relu(self.conv1(x)) # (batch_size, 64, 32, 32)\n",
    "        x = self.relu(self.conv2(x)) # (batch_size, 64, 16, 16)\n",
    "        x = self.relu(self.conv3(x)) # (batch_size, 128, 8, 8)\n",
    "        x = self.relu(self.conv4(x)) # (batch_size, 128, 4, 4)\n",
    "        x = x.reshape(-1, 2048)\n",
    "        final = self.relu(self.linear(x))\n",
    "        mu = self.linear_mu(final)\n",
    "        logvar = self.linear_logvar(final)\n",
    "        return mu, logvar, final.detach() #detach to prevent gradient flow"
   ]
  },
  {
   "cell_type": "code",
   "execution_count": null,
   "metadata": {},
   "outputs": [],
   "source": [
    "encoder = Encoder(latents=latents)"
   ]
  },
  {
   "cell_type": "code",
   "execution_count": null,
   "metadata": {},
   "outputs": [],
   "source": [
    "mu, sigma, final = encoder(mm_batch)"
   ]
  },
  {
   "cell_type": "code",
   "execution_count": null,
   "metadata": {},
   "outputs": [],
   "source": [
    "assert mu.shape == torch.Size((batch_size, latents))\n",
    "assert sigma.shape == torch.Size((batch_size, latents))"
   ]
  },
  {
   "cell_type": "markdown",
   "metadata": {},
   "source": [
    "### FC Encoder"
   ]
  },
  {
   "cell_type": "code",
   "execution_count": null,
   "metadata": {},
   "outputs": [],
   "source": [
    "#export\n",
    "class FCEncoder(nn.Module):\n",
    "    def __init__(self, latents: int):\n",
    "        super().__init__()\n",
    "        self.latents = latents\n",
    "        self.latents = latents\n",
    "        self.linear1 = nn.Linear(784, 50)\n",
    "        self.linear_mu = nn.Linear(50, latents)\n",
    "        self.linear_logvar = nn.Linear(50, latents)\n",
    "        self.act = nn.ReLU()\n",
    "    \n",
    "    def forward(self, x):\n",
    "        x = x.reshape(-1, 784)\n",
    "        final = self.act(self.linear1(x))\n",
    "        mu = self.linear_mu(final)\n",
    "        logvar = self.linear_logvar(final) #TODO: should this be exponentiated?\n",
    "        return mu, logvar, final"
   ]
  },
  {
   "cell_type": "code",
   "execution_count": null,
   "metadata": {},
   "outputs": [],
   "source": [
    "fc_encoder = FCEncoder(latents=latents)"
   ]
  },
  {
   "cell_type": "code",
   "execution_count": null,
   "metadata": {},
   "outputs": [],
   "source": [
    "mu, sigma, final = fc_encoder(mnist_batch)"
   ]
  },
  {
   "cell_type": "code",
   "execution_count": null,
   "metadata": {},
   "outputs": [],
   "source": [
    "assert mu.shape == torch.Size((batch_size, latents))\n",
    "assert sigma.shape == torch.Size((batch_size, latents))"
   ]
  },
  {
   "cell_type": "markdown",
   "metadata": {},
   "source": [
    "## Environmental Inference Network\n",
    "NOTE: not sure if this receives the $\\mu$'s or the layer before the $\\mu's$ - I think the layer before?\n",
    "\n",
    "Section A.1: \"We attach an additional fully connected layer to the last layer of the encoder (gradients to the encoder are stopped).\""
   ]
  },
  {
   "cell_type": "code",
   "execution_count": null,
   "metadata": {},
   "outputs": [],
   "source": [
    "#export\n",
    "class EnvironmentInference(nn.Module):\n",
    "    def __init__(self, max_environmnets: int, input_dim:int):\n",
    "        super().__init__()\n",
    "        self.max_environments = max_environmnets\n",
    "        self.input_dim = input_dim\n",
    "        self.linear = nn.Linear(input_dim, max_environmnets)\n",
    "        self.softmax = nn.Softmax(dim=1)\n",
    "    \n",
    "    def forward(self, final_latent):\n",
    "        x = self.linear(final_latent)\n",
    "        return self.softmax(x)"
   ]
  },
  {
   "cell_type": "code",
   "execution_count": null,
   "metadata": {},
   "outputs": [],
   "source": [
    "_, _, final = encoder(mm_batch)"
   ]
  },
  {
   "cell_type": "code",
   "execution_count": null,
   "metadata": {},
   "outputs": [],
   "source": [
    "env_inf = EnvironmentInference(max_environmnets=max_environments, input_dim=256)\n",
    "env_dist = env_inf(final)"
   ]
  },
  {
   "cell_type": "code",
   "execution_count": null,
   "metadata": {},
   "outputs": [],
   "source": [
    "assert env_dist.shape == torch.Size([batch_size, max_environments])"
   ]
  },
  {
   "cell_type": "code",
   "execution_count": null,
   "metadata": {},
   "outputs": [
    {
     "data": {
      "text/plain": [
       "torch.Size([128])"
      ]
     },
     "execution_count": null,
     "metadata": {},
     "output_type": "execute_result"
    }
   ],
   "source": [
    "env_dist.sum(dim=1).shape"
   ]
  },
  {
   "cell_type": "code",
   "execution_count": null,
   "metadata": {},
   "outputs": [],
   "source": [
    "assert torch.all(torch.isclose(env_dist.sum(dim=1), torch.ones(128)))"
   ]
  },
  {
   "cell_type": "markdown",
   "metadata": {},
   "source": [
    "### Environmental  Encoding"
   ]
  },
  {
   "cell_type": "markdown",
   "metadata": {},
   "source": [
    "See \"Environment index\" in section A.2 - softmax is averaged across data in batch, then argmax is taken"
   ]
  },
  {
   "cell_type": "code",
   "execution_count": null,
   "metadata": {},
   "outputs": [],
   "source": [
    "avg_env_dist = env_dist.mean(dim=0)"
   ]
  },
  {
   "cell_type": "code",
   "execution_count": null,
   "metadata": {},
   "outputs": [],
   "source": [
    "assert avg_env_dist.shape == torch.Size((max_environments,))"
   ]
  },
  {
   "cell_type": "code",
   "execution_count": null,
   "metadata": {},
   "outputs": [
    {
     "data": {
      "text/plain": [
       "tensor(10)"
      ]
     },
     "execution_count": null,
     "metadata": {},
     "output_type": "execute_result"
    }
   ],
   "source": [
    "env_idx = torch.argmax(avg_env_dist)\n",
    "env_idx"
   ]
  },
  {
   "cell_type": "code",
   "execution_count": null,
   "metadata": {},
   "outputs": [
    {
     "data": {
      "text/plain": [
       "tensor([0, 0, 0, 0, 0, 0, 0, 0, 0, 0, 1, 0, 0, 0, 0, 0, 0, 0, 0, 0, 0, 0, 0, 0,\n",
       "        0, 0, 0, 0, 0, 0])"
      ]
     },
     "execution_count": null,
     "metadata": {},
     "output_type": "execute_result"
    }
   ],
   "source": [
    "F.one_hot(env_idx, num_classes=max_environments)"
   ]
  },
  {
   "cell_type": "code",
   "execution_count": null,
   "metadata": {},
   "outputs": [],
   "source": [
    "#export\n",
    "def env_dist_to_idx(env_dist: torch.Tensor, max_environments: int) -> torch.Tensor:\n",
    "    \"\"\"Converts a batch of distributions to a one-hot vector\"\"\"\n",
    "    batch_size = env_dist.shape[0]\n",
    "    avg_env_dist = env_dist.mean(dim=0)\n",
    "    env_idx = torch.argmax(avg_env_dist)\n",
    "    return torch.ones((batch_size), dtype=torch.int64) * env_idx\n"
   ]
  },
  {
   "cell_type": "code",
   "execution_count": null,
   "metadata": {},
   "outputs": [],
   "source": [
    "_, _, final = encoder(mm_batch)\n",
    "env_dist = env_inf(final)\n",
    "env_idx = env_dist_to_idx(env_dist, max_environments=max_environments)"
   ]
  },
  {
   "cell_type": "code",
   "execution_count": null,
   "metadata": {},
   "outputs": [],
   "source": [
    "assert env_idx.shape == torch.Size([batch_size])\n",
    "assert env_idx[0].dtype == torch.int64"
   ]
  },
  {
   "cell_type": "markdown",
   "metadata": {},
   "source": [
    "## Decoder"
   ]
  },
  {
   "cell_type": "markdown",
   "metadata": {},
   "source": [
    "### Decoder Architecture From Paper"
   ]
  },
  {
   "cell_type": "code",
   "execution_count": null,
   "metadata": {},
   "outputs": [],
   "source": [
    "#export\n",
    "class Decoder(nn.Module):\n",
    "    def __init__(self, latents:int, max_envs=0):\n",
    "        super().__init__()\n",
    "        self.max_envs = max_envs\n",
    "        self.latents = latents\n",
    "        self.linear2 = nn.Linear(latents + max_envs, 256)\n",
    "        self.linear1 = nn.Linear(256, 2048)\n",
    "        self.conv4 = nn.ConvTranspose2d(128, 128, (4,4), 2, padding=1)\n",
    "        self.conv3 = nn.ConvTranspose2d(128, 64, (4,4), 2, padding=1)\n",
    "        self.conv2 = nn.ConvTranspose2d(64, 64, (4,4), 2, padding=1)\n",
    "        self.conv1 = nn.ConvTranspose2d(64, 1, (4,4), 2, padding=1)\n",
    "        self.relu = nn.ReLU()\n",
    "        self.sigmoid = nn.Sigmoid()\n",
    "        \n",
    "    def forward(self, z, s=None):\n",
    "        \"\"\"\n",
    "        Decode the latent and environmental variables\n",
    "\n",
    "        Args: \n",
    "            z (Tensor): latent variables\n",
    "            s (Tensor): environment indicies (not one hot)\n",
    "        \n",
    "        Returns:\n",
    "            Means for (batchsize, widgt, height) Bernoulli's (which can be interpreted as the reconstructed image)\n",
    "        \"\"\"\n",
    "        \n",
    "        if s is not None:\n",
    "            s_one_hot = F.one_hot(s, num_classes=self.max_envs)\n",
    "            z = torch.cat((z, s_one_hot), dim=1)\n",
    "        x = self.relu(self.linear2(z)) # (batch_size, 256)\n",
    "        x = self.relu(self.linear1(x)) # (batch_size, 512)\n",
    "        x = x.reshape(-1, 128, 4, 4) # (batch_size, 128, 2, 2)\n",
    "        x = self.relu(self.conv4(x)) # (batch_size, 128, 6, 6)\n",
    "        x = self.relu(self.conv3(x)) # (batch_size, 64, 14, 14)\n",
    "        x = self.relu(self.conv2(x)) # (batch_size, 64, 30, 30) WRONG (should be 31)\n",
    "        out = self.sigmoid(self.conv1(x))\n",
    "        return out"
   ]
  },
  {
   "cell_type": "code",
   "execution_count": null,
   "metadata": {},
   "outputs": [],
   "source": [
    "mu, sigma, final = encoder(mm_batch)\n",
    "env_dist = env_inf(final)\n",
    "env_idx = env_dist_to_idx(env_dist, max_environments=max_environments)\n",
    "z = mu\n",
    "s = env_idx"
   ]
  },
  {
   "cell_type": "code",
   "execution_count": null,
   "metadata": {},
   "outputs": [],
   "source": [
    "decoder = Decoder(latents=latents, max_envs=max_environments)"
   ]
  },
  {
   "cell_type": "code",
   "execution_count": null,
   "metadata": {},
   "outputs": [],
   "source": [
    "rec_img = decoder(z, s)"
   ]
  },
  {
   "cell_type": "code",
   "execution_count": null,
   "metadata": {},
   "outputs": [
    {
     "data": {
      "text/plain": [
       "torch.Size([128, 1, 64, 64])"
      ]
     },
     "execution_count": null,
     "metadata": {},
     "output_type": "execute_result"
    }
   ],
   "source": [
    "rec_img.shape"
   ]
  },
  {
   "cell_type": "code",
   "execution_count": null,
   "metadata": {},
   "outputs": [
    {
     "data": {
      "text/plain": [
       "<matplotlib.image.AxesImage at 0x13f41ebb0>"
      ]
     },
     "execution_count": null,
     "metadata": {},
     "output_type": "execute_result"
    },
    {
     "data": {
      "image/png": "[encoded data removed]",
      "text/plain": [
       "<Figure size 432x288 with 1 Axes>"
      ]
     },
     "metadata": {
      "needs_background": "light"
     },
     "output_type": "display_data"
    }
   ],
   "source": [
    "plt.imshow(rec_img[0].detach().numpy().squeeze(), cmap='gray')"
   ]
  },
  {
   "cell_type": "code",
   "execution_count": null,
   "metadata": {},
   "outputs": [],
   "source": [
    "decoder = Decoder(latents=latents, max_envs=0)"
   ]
  },
  {
   "cell_type": "code",
   "execution_count": null,
   "metadata": {},
   "outputs": [],
   "source": [
    "rec_img = decoder(z, None)"
   ]
  },
  {
   "cell_type": "code",
   "execution_count": null,
   "metadata": {},
   "outputs": [],
   "source": [
    "assert rec_img.shape == torch.Size([batch_size, 1, 64, 64])"
   ]
  },
  {
   "cell_type": "markdown",
   "metadata": {},
   "source": [
    "### FC Decoder"
   ]
  },
  {
   "cell_type": "code",
   "execution_count": null,
   "metadata": {},
   "outputs": [],
   "source": [
    "#export\n",
    "class FCDecoder(nn.Module):\n",
    "    def __init__(self, latents: int, max_envs=0):\n",
    "        super().__init__()\n",
    "        self.max_envs = max_envs\n",
    "        self.latents = latents\n",
    "        self.linear1 = nn.Linear(latents + max_envs, 50)\n",
    "        self.linear2 = nn.Linear(50, 784)\n",
    "        self.relu = nn.ReLU()\n",
    "        self.sigmoid = nn.Sigmoid()\n",
    "        \n",
    "    def forward(self, z, s=None):\n",
    "        \"\"\"\n",
    "        Decode the latent and environmental variables\n",
    "\n",
    "        Args: \n",
    "            z (Tensor): latent variables\n",
    "            s (Tensor): one-hot encoded environmental variable (not sure how this works...)\n",
    "        \n",
    "        Returns:\n",
    "            Means for (batchsize, widgt, height) Bernoulli's (which can be interpreted as the reconstructed image)\n",
    "        \"\"\"\n",
    "        if s is not None:\n",
    "            s_one_hot = F.one_hot(s, num_classes=self.max_envs)\n",
    "            z = torch.cat((z, s_one_hot), dim=1)\n",
    "        x = self.relu(self.linear1(z))\n",
    "        x = self.linear2(x)\n",
    "        out = self.sigmoid(x)\n",
    "        out = out.reshape(-1, 1, 28, 28)\n",
    "        return out"
   ]
  },
  {
   "cell_type": "code",
   "execution_count": null,
   "metadata": {},
   "outputs": [],
   "source": [
    "mu, sigma, final = fc_encoder(mnist_batch)\n",
    "env_inf = EnvironmentInference(max_environmnets=max_environments, input_dim=50)\n",
    "env_dist = env_inf(final)\n",
    "env_idx = env_dist_to_idx(env_dist, max_environments=max_environments)\n",
    "z = mu\n",
    "s = env_idx"
   ]
  },
  {
   "cell_type": "code",
   "execution_count": null,
   "metadata": {},
   "outputs": [],
   "source": [
    "fc_decoder = FCDecoder(latents=latents, max_envs=max_environments)"
   ]
  },
  {
   "cell_type": "code",
   "execution_count": null,
   "metadata": {},
   "outputs": [],
   "source": [
    "rec_img = fc_decoder(z, s)"
   ]
  },
  {
   "cell_type": "code",
   "execution_count": null,
   "metadata": {},
   "outputs": [
    {
     "data": {
      "text/plain": [
       "torch.Size([128, 1, 28, 28])"
      ]
     },
     "execution_count": null,
     "metadata": {},
     "output_type": "execute_result"
    }
   ],
   "source": [
    "rec_img.shape"
   ]
  },
  {
   "cell_type": "code",
   "execution_count": null,
   "metadata": {},
   "outputs": [
    {
     "data": {
      "text/plain": [
       "<matplotlib.image.AxesImage at 0x13fd3bb20>"
      ]
     },
     "execution_count": null,
     "metadata": {},
     "output_type": "execute_result"
    },
    {
     "data": {
      "image/png": "[encoded data removed]",
      "text/plain": [
       "<Figure size 432x288 with 1 Axes>"
      ]
     },
     "metadata": {
      "needs_background": "light"
     },
     "output_type": "display_data"
    }
   ],
   "source": [
    "plt.imshow(rec_img[0].detach().numpy().squeeze(), cmap='gray')"
   ]
  },
  {
   "cell_type": "code",
   "execution_count": null,
   "metadata": {},
   "outputs": [],
   "source": [
    "fc_decoder = FCDecoder(max_envs=0, latents=latents)"
   ]
  },
  {
   "cell_type": "code",
   "execution_count": null,
   "metadata": {},
   "outputs": [],
   "source": [
    "rec_img = fc_decoder(z, None)"
   ]
  },
  {
   "cell_type": "code",
   "execution_count": null,
   "metadata": {},
   "outputs": [],
   "source": [
    "assert rec_img.shape == mnist_batch.shape"
   ]
  },
  {
   "cell_type": "markdown",
   "metadata": {},
   "source": [
    "## Vanilla VAEs"
   ]
  },
  {
   "cell_type": "markdown",
   "metadata": {},
   "source": [
    "### Reparameterization Trick\n",
    "\n",
    "TODO: explain why you have to do this to compute gradients"
   ]
  },
  {
   "cell_type": "code",
   "execution_count": null,
   "metadata": {},
   "outputs": [],
   "source": [
    "#export\n",
    "def reparam(mu, logvar, device='cpu'):\n",
    "    eps = torch.randn(logvar.shape).to(device)\n",
    "    std = (0.5 * logvar).exp()\n",
    "    return mu + std * eps"
   ]
  },
  {
   "cell_type": "markdown",
   "metadata": {},
   "source": [
    "### Vanilla VAE (From Paper)"
   ]
  },
  {
   "cell_type": "code",
   "execution_count": null,
   "metadata": {},
   "outputs": [],
   "source": [
    "#export\n",
    "class VanillaVAE(nn.Module):\n",
    "    def __init__(self, encoder: type, decoder: type, latents: int, device: str):\n",
    "        super().__init__()\n",
    "        self.encoder = encoder(latents=latents)\n",
    "        self.decoder = decoder(latents=latents)\n",
    "        self.device = device\n",
    "        \n",
    "    def forward(self, x):\n",
    "        mu, logvar, _final = self.encoder(x)\n",
    "        if self.training:\n",
    "            z = reparam(mu, logvar, device=self.device)\n",
    "        else:\n",
    "            z = mu\n",
    "        rec_img = self.decoder(z=z)\n",
    "        return rec_img, mu, logvar"
   ]
  },
  {
   "cell_type": "code",
   "execution_count": null,
   "metadata": {},
   "outputs": [],
   "source": [
    "#export\n",
    "class PaperVanillaVAE(VanillaVAE):\n",
    "    def __init__(self, latents: int, device:str):\n",
    "        super().__init__(encoder=Encoder, decoder=Decoder, latents=latents, device=device)"
   ]
  },
  {
   "cell_type": "code",
   "execution_count": null,
   "metadata": {},
   "outputs": [],
   "source": [
    "device = torch.device('cuda:0' if torch.cuda.is_available() else 'cpu')"
   ]
  },
  {
   "cell_type": "code",
   "execution_count": null,
   "metadata": {},
   "outputs": [],
   "source": [
    "vvae = PaperVanillaVAE(latents=latents, device=device)"
   ]
  },
  {
   "cell_type": "code",
   "execution_count": null,
   "metadata": {},
   "outputs": [],
   "source": [
    "rec_img, mu, logvar = vvae(mm_batch)"
   ]
  },
  {
   "cell_type": "code",
   "execution_count": null,
   "metadata": {},
   "outputs": [
    {
     "data": {
      "text/plain": [
       "Decoder(\n",
       "  (linear2): Linear(in_features=24, out_features=256, bias=True)\n",
       "  (linear1): Linear(in_features=256, out_features=2048, bias=True)\n",
       "  (conv4): ConvTranspose2d(128, 128, kernel_size=(4, 4), stride=(2, 2), padding=(1, 1))\n",
       "  (conv3): ConvTranspose2d(128, 64, kernel_size=(4, 4), stride=(2, 2), padding=(1, 1))\n",
       "  (conv2): ConvTranspose2d(64, 64, kernel_size=(4, 4), stride=(2, 2), padding=(1, 1))\n",
       "  (conv1): ConvTranspose2d(64, 1, kernel_size=(4, 4), stride=(2, 2), padding=(1, 1))\n",
       "  (relu): ReLU()\n",
       "  (sigmoid): Sigmoid()\n",
       ")"
      ]
     },
     "execution_count": null,
     "metadata": {},
     "output_type": "execute_result"
    }
   ],
   "source": [
    "vvae.decoder"
   ]
  },
  {
   "cell_type": "code",
   "execution_count": null,
   "metadata": {},
   "outputs": [
    {
     "data": {
      "text/plain": [
       "torch.Size([128, 1, 64, 64])"
      ]
     },
     "execution_count": null,
     "metadata": {},
     "output_type": "execute_result"
    }
   ],
   "source": [
    "rec_img.shape"
   ]
  },
  {
   "cell_type": "code",
   "execution_count": null,
   "metadata": {},
   "outputs": [],
   "source": [
    "assert rec_img.shape == mm_batch.shape"
   ]
  },
  {
   "cell_type": "code",
   "execution_count": null,
   "metadata": {},
   "outputs": [
    {
     "data": {
      "text/plain": [
       "<matplotlib.image.AxesImage at 0x13fd85220>"
      ]
     },
     "execution_count": null,
     "metadata": {},
     "output_type": "execute_result"
    },
    {
     "data": {
      "image/png": "[encoded data removed]",
      "text/plain": [
       "<Figure size 432x288 with 1 Axes>"
      ]
     },
     "metadata": {
      "needs_background": "light"
     },
     "output_type": "display_data"
    }
   ],
   "source": [
    "plt.imshow(rec_img[0].detach().numpy().squeeze())"
   ]
  },
  {
   "cell_type": "code",
   "execution_count": null,
   "metadata": {},
   "outputs": [],
   "source": [
    "assert mu.shape == torch.Size([batch_size, latents])\n",
    "assert logvar.shape == torch.Size([batch_size, latents])"
   ]
  },
  {
   "cell_type": "code",
   "execution_count": null,
   "metadata": {},
   "outputs": [
    {
     "data": {
      "text/plain": [
       "PaperVanillaVAE(\n",
       "  (encoder): Encoder(\n",
       "    (conv1): Conv2d(1, 64, kernel_size=(4, 4), stride=(2, 2), padding=(1, 1))\n",
       "    (conv2): Conv2d(64, 64, kernel_size=(4, 4), stride=(2, 2), padding=(1, 1))\n",
       "    (conv3): Conv2d(64, 128, kernel_size=(4, 4), stride=(2, 2), padding=(1, 1))\n",
       "    (conv4): Conv2d(128, 128, kernel_size=(4, 4), stride=(2, 2), padding=(1, 1))\n",
       "    (linear): Linear(in_features=2048, out_features=256, bias=True)\n",
       "    (linear_mu): Linear(in_features=256, out_features=24, bias=True)\n",
       "    (linear_logvar): Linear(in_features=256, out_features=24, bias=True)\n",
       "    (relu): ReLU()\n",
       "  )\n",
       "  (decoder): Decoder(\n",
       "    (linear2): Linear(in_features=24, out_features=256, bias=True)\n",
       "    (linear1): Linear(in_features=256, out_features=2048, bias=True)\n",
       "    (conv4): ConvTranspose2d(128, 128, kernel_size=(4, 4), stride=(2, 2), padding=(1, 1))\n",
       "    (conv3): ConvTranspose2d(128, 64, kernel_size=(4, 4), stride=(2, 2), padding=(1, 1))\n",
       "    (conv2): ConvTranspose2d(64, 64, kernel_size=(4, 4), stride=(2, 2), padding=(1, 1))\n",
       "    (conv1): ConvTranspose2d(64, 1, kernel_size=(4, 4), stride=(2, 2), padding=(1, 1))\n",
       "    (relu): ReLU()\n",
       "    (sigmoid): Sigmoid()\n",
       "  )\n",
       ")"
      ]
     },
     "execution_count": null,
     "metadata": {},
     "output_type": "execute_result"
    }
   ],
   "source": [
    "vvae.eval()\n"
   ]
  },
  {
   "cell_type": "code",
   "execution_count": null,
   "metadata": {},
   "outputs": [],
   "source": [
    "assert not vvae.training"
   ]
  },
  {
   "cell_type": "code",
   "execution_count": null,
   "metadata": {},
   "outputs": [],
   "source": [
    "rec_img, mu, logvar = vvae(mm_batch)"
   ]
  },
  {
   "cell_type": "code",
   "execution_count": null,
   "metadata": {},
   "outputs": [],
   "source": [
    "rec_img_decode = vvae.decoder(mu)"
   ]
  },
  {
   "cell_type": "code",
   "execution_count": null,
   "metadata": {},
   "outputs": [],
   "source": [
    "assert torch.equal(rec_img, rec_img_decode)"
   ]
  },
  {
   "cell_type": "markdown",
   "metadata": {},
   "source": [
    "### FC Vanilla VAE"
   ]
  },
  {
   "cell_type": "code",
   "execution_count": null,
   "metadata": {},
   "outputs": [],
   "source": [
    "#export\n",
    "class FCVAE(VanillaVAE):\n",
    "    def __init__(self, latents: int, device='cpu'):\n",
    "        super().__init__(encoder=FCEncoder, decoder=FCDecoder, latents=latents, device=device)\n",
    "        "
   ]
  },
  {
   "cell_type": "code",
   "execution_count": null,
   "metadata": {},
   "outputs": [],
   "source": [
    "fc_vae = FCVAE(latents=latents)"
   ]
  },
  {
   "cell_type": "code",
   "execution_count": null,
   "metadata": {},
   "outputs": [],
   "source": [
    "rec_img, _, _ = fc_vae(mnist_batch)"
   ]
  },
  {
   "cell_type": "code",
   "execution_count": null,
   "metadata": {},
   "outputs": [],
   "source": [
    "assert rec_img.shape == mnist_batch.shape"
   ]
  },
  {
   "cell_type": "markdown",
   "metadata": {},
   "source": [
    "## Latent Masking VAEs\n",
    "\n",
    "The paper introduces latent masking for three reasons:\n",
    "1. Help with Environmental Inference\n",
    "2. Promote cross-domain homologies \n",
    "3. Prevent Catestrophic forgetting \n",
    "Latent masking is performed as follows: if the kl divergence between a latent and the standard normal prior passes some threshold $\\lambda$ the the latent is masked (its value is set to 0). More formally:\n",
    "\n",
    "$$ \\alpha_n = KL(E_{x^{s}_{batch}}[q_{\\phi}(z^s_n|x^s_{batch})] || p(z_n)) $$\n",
    "\n",
    "$$a_n = \\left\\{ \n",
    "  \\begin{array}{ c l }\n",
    "    1 & \\quad \\textrm{if } \\alpha_n < \\lambda \\\\\n",
    "    0                 & \\quad \\textrm{otherwise}\n",
    "  \\end{array}\n",
    "\\right.$$\n",
    "\n",
    "(TODO: this makes me confused about the C parameter - if the c difference is taken element wise, then the KL divergence is going to be a lot higher (~C), but the $\\lambda$ values in the paper range from 0 to 1 - so probably C is the sum over the batch, perhaps with C divided by batch size?)\n",
    "\n",
    "Rather then estimate the KL divergence of each individual sample, the paper takes the mean and standard deviation of the distribution of latent samples in the batch:\n",
    "\n",
    "$$ \\frac{1}{B} \\sum_{b=1}^{B} q_{\\phi}(z_n|x_b) $$\n",
    "fit a gaussian to this distribution, and then take the KL divergence of this fitted distribution\n",
    "\n",
    "Later on in Appendix A.2, the paper notes that \"since atypicality is computed on a relatively small batch of B samples, \\alpha_i may be a noisy estimate of atypicality\". The authors try to reduce this noise by introducing two more hyerpameters $\\lambda_1, \\lambda_2$, such that $\\alpha_n = 1 \\textrm{if } \\alpha_n > \\lambda_1$ and $\\alpha_n = 0$ if $\\alpha_n < \\lambda_0$. If $\\lambda_0 < \\alpha_n < \\lambda_1$, it remains unchanged. The authors don't specify values for $\\lambda_1$ or $\\lambda_2$"
   ]
  },
  {
   "cell_type": "markdown",
   "metadata": {},
   "source": [
    "### Exploration"
   ]
  },
  {
   "cell_type": "code",
   "execution_count": null,
   "metadata": {},
   "outputs": [],
   "source": [
    "latents = 8\n",
    "batch_size = 128"
   ]
  },
  {
   "cell_type": "code",
   "execution_count": null,
   "metadata": {},
   "outputs": [],
   "source": [
    "fc_vae = FCVAE(latents=latents)"
   ]
  },
  {
   "cell_type": "code",
   "execution_count": null,
   "metadata": {},
   "outputs": [],
   "source": [
    "mu, logvar, _final = fc_vae.encoder(mnist_batch)\n",
    "z = reparam(mu, logvar)"
   ]
  },
  {
   "cell_type": "code",
   "execution_count": null,
   "metadata": {},
   "outputs": [
    {
     "data": {
      "text/plain": [
       "torch.Size([128, 8])"
      ]
     },
     "execution_count": null,
     "metadata": {},
     "output_type": "execute_result"
    }
   ],
   "source": [
    "z.shape"
   ]
  },
  {
   "cell_type": "code",
   "execution_count": null,
   "metadata": {},
   "outputs": [],
   "source": [
    "lam = 1\n",
    "lam_1 = 1e-4\n",
    "lam_2 = .85"
   ]
  },
  {
   "cell_type": "code",
   "execution_count": null,
   "metadata": {},
   "outputs": [],
   "source": [
    "std, mean = torch.std_mean(z, dim=0)\n",
    "logvar = 2 * torch.log(std)\n",
    "mean = mean[:,None]\n",
    "logvar = logvar[:,None]"
   ]
  },
  {
   "cell_type": "code",
   "execution_count": null,
   "metadata": {},
   "outputs": [],
   "source": [
    "assert mean.shape == torch.Size([latents, 1])\n",
    "assert logvar.shape == torch.Size([latents, 1])"
   ]
  },
  {
   "cell_type": "code",
   "execution_count": null,
   "metadata": {},
   "outputs": [
    {
     "data": {
      "text/plain": [
       "tensor([0.0207, 0.0171, 0.0137, 0.0429, 0.0170, 0.0370, 0.0041, 0.0030],\n",
       "       grad_fn=<MulBackward0>)"
      ]
     },
     "execution_count": null,
     "metadata": {},
     "output_type": "execute_result"
    }
   ],
   "source": [
    "alphas = kl_div_stdnorm(mean, logvar)\n",
    "alphas"
   ]
  },
  {
   "cell_type": "code",
   "execution_count": null,
   "metadata": {},
   "outputs": [
    {
     "data": {
      "text/plain": [
       "tensor([0.0207, 0.0171, 0.0137, 0.0429, 0.0170, 0.0370, 0.0041, 0.0030],\n",
       "       grad_fn=<IndexPutBackward0>)"
      ]
     },
     "execution_count": null,
     "metadata": {},
     "output_type": "execute_result"
    }
   ],
   "source": [
    "alphas[alphas < lam_1] = 0\n",
    "alphas"
   ]
  },
  {
   "cell_type": "code",
   "execution_count": null,
   "metadata": {},
   "outputs": [
    {
     "data": {
      "text/plain": [
       "tensor([0.0207, 0.0171, 0.0137, 0.0429, 0.0170, 0.0370, 0.0041, 0.0030],\n",
       "       grad_fn=<IndexPutBackward0>)"
      ]
     },
     "execution_count": null,
     "metadata": {},
     "output_type": "execute_result"
    }
   ],
   "source": [
    "alphas[alphas > lam_2] = 1\n",
    "alphas"
   ]
  },
  {
   "cell_type": "code",
   "execution_count": null,
   "metadata": {},
   "outputs": [],
   "source": [
    "a = alphas < lam"
   ]
  },
  {
   "cell_type": "code",
   "execution_count": null,
   "metadata": {},
   "outputs": [
    {
     "data": {
      "text/plain": [
       "tensor([0.0207, 0.0171, 0.0137, 0.0429, 0.0170, 0.0370, 0.0041, 0.0030],\n",
       "       grad_fn=<IndexPutBackward0>)"
      ]
     },
     "execution_count": null,
     "metadata": {},
     "output_type": "execute_result"
    }
   ],
   "source": [
    "alphas"
   ]
  },
  {
   "cell_type": "code",
   "execution_count": null,
   "metadata": {},
   "outputs": [],
   "source": [
    "assert torch.all(a)"
   ]
  },
  {
   "cell_type": "code",
   "execution_count": null,
   "metadata": {},
   "outputs": [],
   "source": [
    "assert alphas.shape == torch.Size([latents])\n",
    "assert a.shape == torch.Size([latents])"
   ]
  },
  {
   "cell_type": "markdown",
   "metadata": {},
   "source": [
    "### Latent Masking VAE\n"
   ]
  },
  {
   "cell_type": "markdown",
   "metadata": {},
   "source": [
    "$$\\bar{z}_n = \\frac{1}{B} \\sum_{b=1}^{B} q_{\\phi}(z_n|x_b)$$\n"
   ]
  },
  {
   "cell_type": "code",
   "execution_count": null,
   "metadata": {},
   "outputs": [],
   "source": [
    "#export \n",
    "def latent_mask(z, lam, lam_1=1e-4):\n",
    "    std, mean = torch.std_mean(z, dim=0)\n",
    "    std = std[:,None]\n",
    "    mean = mean[:, None]\n",
    "    logvar = torch.log(std.pow(2))\n",
    "    alphas = kl_div_stdnorm(mean, logvar)\n",
    "    alphas[alphas < lam_1] = 0\n",
    "    #alphas[alphas > lam_2] = 1\n",
    "    a = alphas < lam\n",
    "    return a"
   ]
  },
  {
   "cell_type": "code",
   "execution_count": null,
   "metadata": {},
   "outputs": [],
   "source": [
    "a = latent_mask(z, lam)\n",
    "assert torch.all(a)\n",
    "assert a.shape == torch.Size([latents])\n",
    "assert a.dtype == torch.bool"
   ]
  },
  {
   "cell_type": "code",
   "execution_count": null,
   "metadata": {},
   "outputs": [],
   "source": [
    "z[:,~a] = 0"
   ]
  },
  {
   "cell_type": "code",
   "execution_count": null,
   "metadata": {},
   "outputs": [],
   "source": [
    "z = torch.randn((batch_size, latents)) * 5\n",
    "a = latent_mask(z, lam)"
   ]
  },
  {
   "cell_type": "code",
   "execution_count": null,
   "metadata": {},
   "outputs": [],
   "source": [
    "assert torch.all(~a)"
   ]
  },
  {
   "cell_type": "code",
   "execution_count": null,
   "metadata": {},
   "outputs": [
    {
     "data": {
      "text/plain": [
       "torch.Size([128, 8])"
      ]
     },
     "execution_count": null,
     "metadata": {},
     "output_type": "execute_result"
    }
   ],
   "source": [
    "z.shape"
   ]
  },
  {
   "cell_type": "code",
   "execution_count": null,
   "metadata": {},
   "outputs": [],
   "source": [
    "z[:,~a] = 0\n",
    "assert torch.equal(z, torch.zeros(z.shape))"
   ]
  },
  {
   "cell_type": "code",
   "execution_count": null,
   "metadata": {},
   "outputs": [],
   "source": [
    "z = torch.randn((batch_size, latents)) * 1.7\n",
    "a = latent_mask(z, lam)"
   ]
  },
  {
   "cell_type": "code",
   "execution_count": null,
   "metadata": {},
   "outputs": [],
   "source": [
    "masked_z = torch.clone(z)\n",
    "masked_z[:, ~a] = 0"
   ]
  },
  {
   "cell_type": "code",
   "execution_count": null,
   "metadata": {},
   "outputs": [],
   "source": [
    "# assert not torch.equal(masked_z, z)\n",
    "# assert torch.equal(masked_z[:, a], z[:,a])\n",
    "# assert torch.equal(masked_z[:, ~a], torch.zeros([batch_size, torch.sum(~a)]))"
   ]
  },
  {
   "cell_type": "code",
   "execution_count": null,
   "metadata": {},
   "outputs": [],
   "source": [
    "#export \n",
    "def apply_mask(a, z):\n",
    "    masked_z = torch.clone(z)\n",
    "    masked_z[:, ~a] = 0\n",
    "    return masked_z"
   ]
  },
  {
   "cell_type": "code",
   "execution_count": null,
   "metadata": {},
   "outputs": [],
   "source": [
    "#export\n",
    "class LatentMaskVAE(VanillaVAE):\n",
    "    def __init__(self, encoder: type, decoder: type, latents: int, device: str, lam: float):\n",
    "        self.lam = lam\n",
    "        super().__init__(encoder, decoder, latents, device)\n",
    "        \n",
    "    def forward(self, x):\n",
    "        mu, logvar, _final = self.encoder(x)\n",
    "        if self.training:\n",
    "            z = reparam(mu, logvar, device=self.device)\n",
    "        else:\n",
    "            z = mu\n",
    "        \n",
    "        #latent masking\n",
    "        a = latent_mask(z, self.lam)\n",
    "        masked_z = apply_mask(a, z)\n",
    "        \n",
    "        rec_img = self.decoder(z=masked_z)\n",
    "        return rec_img, mu, logvar"
   ]
  },
  {
   "cell_type": "code",
   "execution_count": null,
   "metadata": {},
   "outputs": [],
   "source": [
    "lm_vae = LatentMaskVAE(FCEncoder, FCDecoder, latents=latents, device='cpu', lam=lam)"
   ]
  },
  {
   "cell_type": "code",
   "execution_count": null,
   "metadata": {},
   "outputs": [],
   "source": [
    "rec_img, _mu, _logvar = lm_vae(mnist_batch)"
   ]
  },
  {
   "cell_type": "code",
   "execution_count": null,
   "metadata": {},
   "outputs": [],
   "source": [
    "assert rec_img.shape == torch.Size([batch_size, 1, 28, 28])"
   ]
  },
  {
   "cell_type": "markdown",
   "metadata": {},
   "source": [
    "## Environmental Inference VAE"
   ]
  },
  {
   "cell_type": "markdown",
   "metadata": {},
   "source": [
    "### Formal Setup\n",
    "\n",
    "To infer the environment, you take the most likely environment, reconstruct the image conditional on all previously seen enviornments. If the reconstruction loss is below some threshold and the latent mask is the same as it is for that environment typically, then it is classified as that environment. Else it is classified as a new environment:\n",
    "\n",
    "$$s = \\left\\{ \n",
    "  \\begin{array}{ c l }\n",
    "    \\hat{s} & \\quad \\textrm{if } E_{z^{\\hat{s}}}[p_{\\theta}(x^{s}_{batch}|z^{\\hat{s}, \\hat{s}})] \\leq \\kappa L_{\\hat{s}} \\land a^s = a^{\\hat{s}} \\\\\n",
    "    s_{r+t}                 & \\quad \\textrm{otherwise}\n",
    "  \\end{array}\n",
    "\\right.$$\n",
    "\n",
    "Where $\\hat{s} = \\argmax_{s} q(s|x^s_{batch})$ is the output of the auxiliary classifier trained to output the most likely environment, $L_{\\hat{s}}$ is the average reconstruction loss on $\\hat{s}$ previously, and $\\kappa$ is a hyper parameter.\n",
    "\n",
    "Also note that the comparision $a^s = a^{\\hat{s}}$ is only taken on \"used\" latent variables. To calculate whether a variable $z_n$ is used, the paper finds the maximum amount of noise to add to $z_n$ without changing the reconstruction performance of the network, solving the following optimization problem:\n",
    "\n",
    "$$\\Sigma = \\argmin_{\\Sigma = \\textrm{diag}(\\sigma_1, ..., \\sigma_N)} E_{\\epsilon \\sim \\mathcal{N}(0, \\sigma)}[-\\log(p_{\\theta}(x|z^{\\epsilon}, s)] - log|\\Sigma|$$\n",
    "\n",
    "with $z^{\\epsilon}_n = (1 - \\delta_{nm})z_n + \\delta_{nm}(z_n + \\epsilon)$. We then define the mask $u^s$ as\n",
    "\n",
    "$$ u_n^s = \\left\\{ \n",
    "  \\begin{array}{ c l }\n",
    "    1 & \\quad \\textrm{if } \\sigma_n' < T \\\\\n",
    "    0                & \\quad \\textrm{otherwise}\n",
    "  \\end{array}\n",
    "\\right.$$\n",
    "\n",
    "Three possible methods:\n",
    "1. actually just do SGD - I'll start with this, but it seems prohibitely slow to do sgd in every batch of this process? idk I guess you only have 24 parameters...\n",
    "2. Some special solver that does it faster\n",
    "3. Prescify some discrete set or something\n",
    "So I guess we could just take a discrete set for each variable ([0,1,2,3,4,5] or something), calculate the loss \n",
    "\n",
    "\n",
    "\n",
    "\n",
    "The enviornment detector itself is trained to predict the current enviornment from the current data, and past enviornments using past data. Formally, this loss function is given by:\n",
    "\n",
    "$$\\mathcal{L}_{\\textrm{env}} = E_{x}[-log(q_{\\psi}(\\hat{s}|x))] + E_{\\hat{s} \\neq s <m} E_{x' \\sim p_{\\theta'}(x'|z',s)}[-\\log q_{\\psi}(s|x')]$$\n",
    "\n",
    "(Note that expected negative likelihood is just cross entropy loss). Past environments are sampled using monte-carlo methods. No mention of optimizer used for environmental classifier (I think this is maximized with the rest of of the model even though gradients are stopped)\n",
    "\n",
    "Putting it all together, we have:\n",
    "\n",
    "![enf_inf_alg](assets/env_inf_alg.png)\n",
    "\n",
    "Note that this algorithm doesn't use the auxilary environmental inference network - rather it performs [analysis by synthesis](https://arxiv.org/abs/1805.09190), determing the environment by seeing which best fits the data. I like this approach better, and it doesn't seem less efficient? The auxilary network requires _more_ generation to prevent catastrophic forgetting \n",
    "Other details:\n",
    "  max_envs = 7"
   ]
  },
  {
   "cell_type": "markdown",
   "metadata": {},
   "source": [
    "### Used vs Unused Variables \n",
    "$$\\Sigma = \\argmin_{\\Sigma = \\textrm{diag}(\\sigma_1, ..., \\sigma_N)} E_{\\epsilon \\sim \\mathcal{N}(0, \\sigma)}[-\\log(p_{\\theta}(x|z^{\\epsilon}, s)] - log|\\Sigma|$$\n",
    "\n",
    "with $z^{\\epsilon}_n = (1 - \\delta_{nm})z_n + \\delta_{nm}(z_n + \\epsilon)$\n",
    "\n",
    "$$ u_n^s = \\left\\{ \n",
    "  \\begin{array}{ c l }\n",
    "    1 & \\quad \\textrm{if } \\sigma_n' < T \\\\\n",
    "    0                & \\quad \\textrm{otherwise}\n",
    "  \\end{array}\n",
    "\\right.$$"
   ]
  },
  {
   "cell_type": "markdown",
   "metadata": {},
   "source": [
    "#### Exploration"
   ]
  },
  {
   "cell_type": "code",
   "execution_count": null,
   "metadata": {},
   "outputs": [
    {
     "data": {
      "text/plain": [
       "True"
      ]
     },
     "execution_count": null,
     "metadata": {},
     "output_type": "execute_result"
    }
   ],
   "source": [
    "params = torch.randn((10,))\n",
    "params.requires_grad_(True)\n",
    "params.requires_grad"
   ]
  },
  {
   "cell_type": "code",
   "execution_count": null,
   "metadata": {},
   "outputs": [],
   "source": [
    "optimizer = torch.optim.SGD(params=[params], lr=1e-2)"
   ]
  },
  {
   "cell_type": "code",
   "execution_count": null,
   "metadata": {},
   "outputs": [],
   "source": [
    "class AbsDev(nn.Module):\n",
    "\n",
    "    def forward(self, x):\n",
    "        e = torch.randn(x.shape[0])\n",
    "        return torch.abs(x*e).sum()#(x * e).pow(2).sqrt().sum()"
   ]
  },
  {
   "cell_type": "code",
   "execution_count": null,
   "metadata": {},
   "outputs": [],
   "source": [
    "abs_dev = AbsDev()\n",
    "with torch.no_grad():\n",
    "    abs_dev(params)"
   ]
  },
  {
   "cell_type": "code",
   "execution_count": null,
   "metadata": {},
   "outputs": [
    {
     "name": "stdout",
     "output_type": "stream",
     "text": [
      "tensor(-0.1905, grad_fn=<SumBackward0>)\n",
      "tensor(0.0429, grad_fn=<SumBackward0>)\n",
      "tensor(-0.0349, grad_fn=<SumBackward0>)\n",
      "tensor(-0.0006, grad_fn=<SumBackward0>)\n",
      "tensor(0.0148, grad_fn=<SumBackward0>)\n",
      "tensor(0.0084, grad_fn=<SumBackward0>)\n",
      "tensor(-0.0253, grad_fn=<SumBackward0>)\n",
      "tensor(0.0363, grad_fn=<SumBackward0>)\n",
      "tensor(-0.0140, grad_fn=<SumBackward0>)\n",
      "tensor(0.0100, grad_fn=<SumBackward0>)\n"
     ]
    }
   ],
   "source": [
    "epochs=10000\n",
    "for i in range(epochs):\n",
    "    optimizer.zero_grad()\n",
    "    loss = abs_dev(params)\n",
    "    loss.backward()\n",
    "    optimizer.step()\n",
    "    if i % 1000 == 0:\n",
    "        pass\n",
    "        print(params.sum())"
   ]
  },
  {
   "cell_type": "markdown",
   "metadata": {},
   "source": [
    "### Environment Inference"
   ]
  },
  {
   "cell_type": "code",
   "execution_count": null,
   "metadata": {},
   "outputs": [],
   "source": [
    "#export\n",
    "class EnvInferVAE(nn.Module):\n",
    "    def __init__(self, encoder: type, decoder: type, latents: int, max_envs: int, lam: float, kappa: float, device: str,\n",
    "        Tau: float=2, used_epochs: int=100, used_lr: float=1e-2, used_delta: float=.95):\n",
    "        super().__init__()\n",
    "        self.latents = latents\n",
    "        self.m = 0\n",
    "        self.max_envs = max_envs\n",
    "        self.lam = lam\n",
    "        self.kappa = kappa\n",
    "        self.Tau = Tau\n",
    "        self.used_epochs = used_epochs\n",
    "        self.used_lr = used_lr\n",
    "        self.used_delta = used_delta\n",
    "        self.env_count = [0] * self.max_envs\n",
    "        self.rec_loss_avgs = []\n",
    "        self.latent_masks = []\n",
    "        self.used_masks = []\n",
    "        self.used_masks = []\n",
    "        self.encoder = encoder(latents=latents)\n",
    "        self.decoder = decoder(latents=latents, max_envs=max_envs)\n",
    "        self.device = device\n",
    "        \n",
    "    def forward(self, x):\n",
    "        batch_size = x.shape[0]\n",
    "        mu, logvar, _final = self.encoder(x)\n",
    "        if self.training:\n",
    "            z = reparam(mu, logvar, device=self.device)\n",
    "        else:\n",
    "            z = mu\n",
    "        \n",
    "        #latent masking\n",
    "        a = latent_mask(z, self.lam)\n",
    "        masked_z = apply_mask(a, z)\n",
    "\n",
    "        #infer environment\n",
    "        env_idx = self.infer_env(x, z, a, masked_z)\n",
    "        s = torch.ones(batch_size, dtype=torch.int64) * env_idx\n",
    "        \n",
    "        rec_img = self.decoder(z=masked_z, s=s)\n",
    "        return rec_img, mu, logvar, env_idx, z\n",
    "    \n",
    "    def infer_env(self, x, z, a, masked_z):\n",
    "        # u = model.used(z)\n",
    "        batch_size = x.shape[0]\n",
    "\n",
    "        #get maximum likelihood environment using \"analysis by synthesis\"\n",
    "        losses = []\n",
    "        for s_i in range(self.m+1):\n",
    "            s = torch.ones(batch_size, dtype=torch.int64) * s_i\n",
    "            with torch.no_grad():\n",
    "                x_rec = self.decoder(masked_z, s)\n",
    "                losses.append(torch.sum(rec_likelihood(x, x_rec)))\n",
    "        env_idx = torch.argmin(torch.tensor(losses))\n",
    "        \n",
    "        #get used mask\n",
    "        u = self.used_latents(x, z, env_idx, batch_size, epochs=self.used_epochs, lr=self.used_lr, Tau=self.Tau, delta=self.used_delta)\n",
    "        if u.sum() > 0:\n",
    "            print(\"latents are used!\")\n",
    "        \n",
    "        rec_loss = losses[env_idx]\n",
    "        avg_rec_loss = rec_loss / batch_size\n",
    "\n",
    "        if self.env_count[0] == 0:\n",
    "            self.init_env(batch_size, a, u, avg_rec_loss)\n",
    "            return self.m\n",
    "        elif avg_rec_loss > self.kappa * self.rec_loss_avgs[env_idx] and self.m < self.max_envs-1:\n",
    "            print(\"New environment: anomolous reconstruction loss\")\n",
    "            self.m +=1\n",
    "            self.init_env(batch_size, a, u, avg_rec_loss)\n",
    "            return self.m\n",
    "        elif not torch.equal(a * self.used_masks[env_idx], self.latent_masks[env_idx] * u) and self.m < self.max_envs-1:\n",
    "            print(\"New environment: latent masks did not match\")\n",
    "            self.m +=1\n",
    "            self.init_env(batch_size, a, u, avg_rec_loss)\n",
    "            return self.m\n",
    "        else:\n",
    "            #TODO add warning about exceeding max envs or something\n",
    "            self.env_count[env_idx] += batch_size\n",
    "            n = self.env_count[env_idx]\n",
    "            m = batch_size\n",
    "            self.rec_loss_avgs[env_idx] = self.rec_loss_avgs[env_idx] * ((n-m)/n) + rec_loss/n #cumulative average\n",
    "            return env_idx\n",
    "    \n",
    "    def used_latents(self, batch, z, env_idx, batch_size, epochs, lr, Tau, delta):\n",
    "        sigma = torch.ones([self.latents]) #TODO: could change init scheme\n",
    "        sigma.requires_grad_(True)\n",
    "        decoder_copy = copy.deepcopy(self.decoder)\n",
    "        disable_gradient(decoder_copy)\n",
    "        optimizer = torch.optim.SGD(params=[sigma], lr=lr)\n",
    "        s = torch.ones(batch_size, dtype=torch.int64) * env_idx\n",
    "        for i in range(epochs):\n",
    "            optimizer.zero_grad()\n",
    "            eps = torch.randn(sigma.shape[0]) * sigma\n",
    "            z_e = (1-delta) * z + (delta + eps)\n",
    "            rec_batch = self.decoder(z_e, s)\n",
    "            rec_loss = torch.mean(rec_likelihood(batch, rec_batch))\n",
    "            sum_sigma = torch.sum(sigma)\n",
    "            loss = rec_loss - sum_sigma\n",
    "            loss.backward(retain_graph=True)\n",
    "            optimizer.step()\n",
    "            if i % 10 == 0:\n",
    "                pass\n",
    "                #print(sigma)\n",
    "                #print(loss)\n",
    "                #print(sigma.sum())\n",
    "        return sigma < Tau\n",
    "    \n",
    "    def init_env(self, batch_size, a, u, avg_rec_loss):\n",
    "        self.env_count[self.m] += batch_size\n",
    "        self.latent_masks.append(a)\n",
    "        self.used_masks.append(u)\n",
    "        self.rec_loss_avgs.append(avg_rec_loss)\n",
    "\n"
   ]
  },
  {
   "cell_type": "code",
   "execution_count": null,
   "metadata": {},
   "outputs": [],
   "source": [
    "envinfer_vae = EnvInferVAE(FCEncoder, FCDecoder, 8, 7, lam=0.6, kappa=1.5, device='cpu', used_epochs=10, used_lr=1e-1)"
   ]
  },
  {
   "cell_type": "code",
   "execution_count": null,
   "metadata": {},
   "outputs": [
    {
     "name": "stdout",
     "output_type": "stream",
     "text": [
      "latents are used!\n"
     ]
    }
   ],
   "source": [
    "rec_img, mu, logvar, env_idx, z = envinfer_vae(mnist_batch)"
   ]
  },
  {
   "cell_type": "code",
   "execution_count": null,
   "metadata": {},
   "outputs": [],
   "source": [
    "assert rec_img.shape == torch.Size([batch_size, 1, 28, 28])"
   ]
  },
  {
   "cell_type": "code",
   "execution_count": null,
   "metadata": {},
   "outputs": [],
   "source": [
    "envinfer_vae = EnvInferVAE(Encoder, Decoder, 8, 7, lam=0.6, kappa=1.5, device='cpu')"
   ]
  },
  {
   "cell_type": "code",
   "execution_count": null,
   "metadata": {},
   "outputs": [
    {
     "name": "stdout",
     "output_type": "stream",
     "text": [
      "latents are used!\n"
     ]
    }
   ],
   "source": [
    "rec_img, mu, logvar, env_idx, z = envinfer_vae(mm_batch)"
   ]
  },
  {
   "cell_type": "code",
   "execution_count": null,
   "metadata": {},
   "outputs": [],
   "source": [
    "assert rec_img.shape == torch.Size([128, 1, 64, 64])"
   ]
  },
  {
   "cell_type": "markdown",
   "metadata": {},
   "source": [
    "###"
   ]
  },
  {
   "cell_type": "markdown",
   "metadata": {},
   "source": [
    "## Generative Replay VAE"
   ]
  },
  {
   "cell_type": "markdown",
   "metadata": {},
   "source": [
    "### Generative Sampling\n",
    "We need to sample the latents and environments independantly (because the environemt is typically determined by the reconstruction loss, which we don't have access to when sampling, because there is no ground truth image)"
   ]
  },
  {
   "cell_type": "code",
   "execution_count": null,
   "metadata": {},
   "outputs": [
    {
     "data": {
      "text/plain": [
       "tensor([[-1.5134, -0.5844]])"
      ]
     },
     "execution_count": null,
     "metadata": {},
     "output_type": "execute_result"
    }
   ],
   "source": [
    " torch.randn(size=(1,2))"
   ]
  },
  {
   "cell_type": "code",
   "execution_count": null,
   "metadata": {},
   "outputs": [
    {
     "data": {
      "text/plain": [
       "torch.Size([64])"
      ]
     },
     "execution_count": null,
     "metadata": {},
     "output_type": "execute_result"
    }
   ],
   "source": [
    "s = torch.randint(0, 3, (64,))\n",
    "s.shape"
   ]
  },
  {
   "cell_type": "code",
   "execution_count": null,
   "metadata": {},
   "outputs": [],
   "source": [
    "#export\n",
    "def generate_samples(vae: EnvInferVAE, batch_size: int):\n",
    "    z = torch.randn(size=(batch_size, vae.latents))\n",
    "    s = torch.randint(0, vae.m+1, (batch_size,))\n",
    "    x_sample = vae.decoder(z, s)\n",
    "    return x_sample"
   ]
  },
  {
   "cell_type": "code",
   "execution_count": null,
   "metadata": {},
   "outputs": [],
   "source": [
    "samples = generate_samples(envinfer_vae, 128)"
   ]
  },
  {
   "cell_type": "code",
   "execution_count": null,
   "metadata": {},
   "outputs": [],
   "source": [
    "assert samples.shape == torch.Size([batch_size, 1, 64, 64])"
   ]
  },
  {
   "cell_type": "code",
   "execution_count": null,
   "metadata": {},
   "outputs": [
    {
     "data": {
      "text/plain": [
       "<matplotlib.image.AxesImage at 0x13f1a2c70>"
      ]
     },
     "execution_count": null,
     "metadata": {},
     "output_type": "execute_result"
    },
    {
     "data": {
      "image/png": "[encoded data removed]",
      "text/plain": [
       "<Figure size 432x288 with 1 Axes>"
      ]
     },
     "metadata": {
      "needs_background": "light"
     },
     "output_type": "display_data"
    }
   ],
   "source": [
    "plt.imshow(samples[0].detach().numpy().squeeze())"
   ]
  },
  {
   "cell_type": "markdown",
   "metadata": {},
   "source": [
    "### Generative Replay VAE"
   ]
  },
  {
   "cell_type": "code",
   "execution_count": null,
   "metadata": {},
   "outputs": [],
   "source": [
    "#export\n",
    "class GenReplayVAE(EnvInferVAE):\n",
    "    def __init__(self, encoder: type, decoder: type, latents: int, max_envs: int, lam: float, kappa: float, device: str,\n",
    "        Tau: float=2, used_epochs: int=100, used_lr: float=1e-2, used_delta: float=.95):\n",
    "        self.encoder_type = encoder\n",
    "        self.decoder_type = decoder\n",
    "        super().__init__(encoder, decoder, latents, max_envs, lam, kappa, device, Tau, used_epochs, used_lr, used_delta)\n",
    "        self.old_model = []\n",
    "        \n",
    "    def sample(self, batch_size, increment=True):\n",
    "        if self.m == 0:\n",
    "            raise Exception(\"should not generate samples on current environment\")\n",
    "        samples = generate_samples(self.old_model[0], batch_size)\n",
    "        return samples\n",
    "    \n",
    "    def forward_halu(self, x):\n",
    "        rec_X, _mu, _logvar, _env_idx, z = self(x)\n",
    "        old_rec_X, _old_mu, _old_logvar, _old_env_idx, old_z = self.old_model[0](x)\n",
    "        return rec_X, old_rec_X, z, old_z\n",
    "    \n",
    "    def init_env(self, batch_size, a, u, avg_rec_loss):\n",
    "        if self.m > 0: #save current state of model for experience replay\n",
    "            old_model = self.copy_self(self.m-1)\n",
    "            disable_gradient(old_model)\n",
    "            self.old_model = [old_model]\n",
    "        super().init_env(batch_size, a, u, avg_rec_loss)\n",
    "    \n",
    "    def copy_self(self, m):\n",
    "        copy = EnvInferVAE(self.encoder_type, self.decoder_type, self.latents, self.max_envs, self.lam, self.kappa, self.device)\n",
    "        copy.load_state_dict(self.state_dict())\n",
    "        copy.m = m\n",
    "        return copy"
   ]
  },
  {
   "cell_type": "code",
   "execution_count": null,
   "metadata": {},
   "outputs": [
    {
     "data": {
      "text/plain": [
       "Decoder(\n",
       "  (linear2): Linear(in_features=15, out_features=256, bias=True)\n",
       "  (linear1): Linear(in_features=256, out_features=2048, bias=True)\n",
       "  (conv4): ConvTranspose2d(128, 128, kernel_size=(4, 4), stride=(2, 2), padding=(1, 1))\n",
       "  (conv3): ConvTranspose2d(128, 64, kernel_size=(4, 4), stride=(2, 2), padding=(1, 1))\n",
       "  (conv2): ConvTranspose2d(64, 64, kernel_size=(4, 4), stride=(2, 2), padding=(1, 1))\n",
       "  (conv1): ConvTranspose2d(64, 1, kernel_size=(4, 4), stride=(2, 2), padding=(1, 1))\n",
       "  (relu): ReLU()\n",
       "  (sigmoid): Sigmoid()\n",
       ")"
      ]
     },
     "execution_count": null,
     "metadata": {},
     "output_type": "execute_result"
    }
   ],
   "source": [
    "envinfer_vae.decoder"
   ]
  },
  {
   "cell_type": "code",
   "execution_count": null,
   "metadata": {},
   "outputs": [],
   "source": [
    "gen_replay_vae = GenReplayVAE(encoder=FCEncoder, decoder=FCDecoder, latents=latents, max_envs=max_environments, lam=lam, kappa=1.5, device=device)"
   ]
  },
  {
   "cell_type": "code",
   "execution_count": null,
   "metadata": {},
   "outputs": [
    {
     "name": "stdout",
     "output_type": "stream",
     "text": [
      "latents are used!\n"
     ]
    }
   ],
   "source": [
    "rec_img, mu, logvar, env_idx, z = gen_replay_vae(mnist_batch)"
   ]
  },
  {
   "cell_type": "code",
   "execution_count": null,
   "metadata": {},
   "outputs": [],
   "source": [
    "assert rec_img.shape == torch.Size([batch_size, 1, 28, 28])"
   ]
  },
  {
   "cell_type": "code",
   "execution_count": null,
   "metadata": {},
   "outputs": [],
   "source": [
    "sample_batch_size=64"
   ]
  },
  {
   "cell_type": "code",
   "execution_count": null,
   "metadata": {},
   "outputs": [
    {
     "ename": "Exception",
     "evalue": "should not generate samples on current environment",
     "output_type": "error",
     "traceback": [
      "\u001b[0;31m---------------------------------------------------------------------------\u001b[0m",
      "\u001b[0;31mException\u001b[0m                                 Traceback (most recent call last)",
      "\u001b[1;32m/Users/oliverdaniels-koch/NotebookProjects/lifelong_disrep/02a_core.models.ipynb Cell 145'\u001b[0m in \u001b[0;36m<cell line: 1>\u001b[0;34m()\u001b[0m\n\u001b[0;32m----> <a href='vscode-notebook-cell:/Users/oliverdaniels-koch/NotebookProjects/lifelong_disrep/02a_core.models.ipynb#ch0000144?line=0'>1</a>\u001b[0m samples \u001b[39m=\u001b[39m gen_replay_vae\u001b[39m.\u001b[39;49msample(sample_batch_size)\n",
      "\u001b[1;32m/Users/oliverdaniels-koch/NotebookProjects/lifelong_disrep/02a_core.models.ipynb Cell 139'\u001b[0m in \u001b[0;36mGenReplayVAE.sample\u001b[0;34m(self, batch_size, increment)\u001b[0m\n\u001b[1;32m     <a href='vscode-notebook-cell:/Users/oliverdaniels-koch/NotebookProjects/lifelong_disrep/02a_core.models.ipynb#ch0000138?line=9'>10</a>\u001b[0m \u001b[39mdef\u001b[39;00m \u001b[39msample\u001b[39m(\u001b[39mself\u001b[39m, batch_size, increment\u001b[39m=\u001b[39m\u001b[39mTrue\u001b[39;00m):\n\u001b[1;32m     <a href='vscode-notebook-cell:/Users/oliverdaniels-koch/NotebookProjects/lifelong_disrep/02a_core.models.ipynb#ch0000138?line=10'>11</a>\u001b[0m     \u001b[39mif\u001b[39;00m \u001b[39mself\u001b[39m\u001b[39m.\u001b[39mm \u001b[39m==\u001b[39m \u001b[39m0\u001b[39m:\n\u001b[0;32m---> <a href='vscode-notebook-cell:/Users/oliverdaniels-koch/NotebookProjects/lifelong_disrep/02a_core.models.ipynb#ch0000138?line=11'>12</a>\u001b[0m         \u001b[39mraise\u001b[39;00m \u001b[39mException\u001b[39;00m(\u001b[39m\"\u001b[39m\u001b[39mshould not generate samples on current environment\u001b[39m\u001b[39m\"\u001b[39m)\n\u001b[1;32m     <a href='vscode-notebook-cell:/Users/oliverdaniels-koch/NotebookProjects/lifelong_disrep/02a_core.models.ipynb#ch0000138?line=12'>13</a>\u001b[0m     samples \u001b[39m=\u001b[39m generate_samples(\u001b[39mself\u001b[39m\u001b[39m.\u001b[39mold_model[\u001b[39m0\u001b[39m], batch_size)\n\u001b[1;32m     <a href='vscode-notebook-cell:/Users/oliverdaniels-koch/NotebookProjects/lifelong_disrep/02a_core.models.ipynb#ch0000138?line=13'>14</a>\u001b[0m     \u001b[39mreturn\u001b[39;00m samples\n",
      "\u001b[0;31mException\u001b[0m: should not generate samples on current environment"
     ]
    }
   ],
   "source": [
    "samples = gen_replay_vae.sample(sample_batch_size)"
   ]
  },
  {
   "cell_type": "code",
   "execution_count": null,
   "metadata": {},
   "outputs": [
    {
     "ename": "AssertionError",
     "evalue": "",
     "output_type": "error",
     "traceback": [
      "\u001b[0;31m---------------------------------------------------------------------------\u001b[0m",
      "\u001b[0;31mAssertionError\u001b[0m                            Traceback (most recent call last)",
      "\u001b[1;32m/Users/oliverdaniels-koch/NotebookProjects/lifelong_disrep/02a_core.models.ipynb Cell 146'\u001b[0m in \u001b[0;36m<cell line: 1>\u001b[0;34m()\u001b[0m\n\u001b[0;32m----> <a href='vscode-notebook-cell:/Users/oliverdaniels-koch/NotebookProjects/lifelong_disrep/02a_core.models.ipynb#ch0000145?line=0'>1</a>\u001b[0m \u001b[39massert\u001b[39;00m samples\u001b[39m.\u001b[39mshape \u001b[39m==\u001b[39m torch\u001b[39m.\u001b[39mSize([sample_batch_size, \u001b[39m1\u001b[39m, \u001b[39m28\u001b[39m, \u001b[39m28\u001b[39m])\n",
      "\u001b[0;31mAssertionError\u001b[0m: "
     ]
    }
   ],
   "source": [
    "assert samples.shape == torch.Size([sample_batch_size, 1, 28, 28])"
   ]
  },
  {
   "cell_type": "markdown",
   "metadata": {},
   "source": [
    "## Classifiers and Regressors"
   ]
  }
 ],
 "metadata": {
  "kernelspec": {
   "display_name": "Python 3.9.10 ('lifelong_disrep')",
   "language": "python",
   "name": "python3"
  }
 },
 "nbformat": 4,
 "nbformat_minor": 2
}
