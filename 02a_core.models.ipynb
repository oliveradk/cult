{
 "cells": [
  {
   "cell_type": "code",
   "execution_count": null,
   "metadata": {},
   "outputs": [],
   "source": [
    "#default_exp core.models"
   ]
  },
  {
   "cell_type": "code",
   "execution_count": null,
   "metadata": {},
   "outputs": [],
   "source": [
    "#export\n",
    "import torch\n",
    "from torch import nn\n",
    "from torch.nn import functional as F\n",
    "\n",
    "from vase.config import DATA_PATH"
   ]
  },
  {
   "cell_type": "code",
   "execution_count": null,
   "metadata": {},
   "outputs": [],
   "source": [
    "#hide\n",
    "from vase.core.datasets.moving_mnist import MovingMNIST\n",
    "from torchvision.transforms import ToTensor\n",
    "from torch.utils.data import DataLoader\n",
    "import matplotlib.pyplot as plt"
   ]
  },
  {
   "cell_type": "markdown",
   "metadata": {},
   "source": [
    "# Models\n",
    "> Pytorch Models used for encoders, decoders, and classifiers. See Section A.1 of [Aachille et al.](https://arxiv.org/pdf/1808.06508.pdf) for details"
   ]
  },
  {
   "cell_type": "code",
   "execution_count": null,
   "metadata": {},
   "outputs": [],
   "source": [
    "#hide \n",
    "from vase.core.datasets.moving_mnist import MovingMNIST"
   ]
  },
  {
   "cell_type": "code",
   "execution_count": null,
   "metadata": {},
   "outputs": [
    {
     "name": "stderr",
     "output_type": "stream",
     "text": [
      "1.1%"
     ]
    },
    {
     "name": "stdout",
     "output_type": "stream",
     "text": [
      "Downloading http://yann.lecun.com/exdb/mnist/train-images-idx3-ubyte.gz\n",
      "Downloading http://yann.lecun.com/exdb/mnist/train-images-idx3-ubyte.gz to /home/oliverdaniels-koch/vase/vase/data/MNIST/raw/train-images-idx3-ubyte.gz\n"
     ]
    },
    {
     "name": "stderr",
     "output_type": "stream",
     "text": [
      "100.0%\n"
     ]
    },
    {
     "name": "stdout",
     "output_type": "stream",
     "text": [
      "Extracting /home/oliverdaniels-koch/vase/vase/data/MNIST/raw/train-images-idx3-ubyte.gz to /home/oliverdaniels-koch/vase/vase/data/MNIST/raw\n"
     ]
    },
    {
     "name": "stderr",
     "output_type": "stream",
     "text": [
      "102.8%"
     ]
    },
    {
     "name": "stdout",
     "output_type": "stream",
     "text": [
      "\n",
      "Downloading http://yann.lecun.com/exdb/mnist/train-labels-idx1-ubyte.gz\n",
      "Downloading http://yann.lecun.com/exdb/mnist/train-labels-idx1-ubyte.gz to /home/oliverdaniels-koch/vase/vase/data/MNIST/raw/train-labels-idx1-ubyte.gz\n",
      "Extracting /home/oliverdaniels-koch/vase/vase/data/MNIST/raw/train-labels-idx1-ubyte.gz to /home/oliverdaniels-koch/vase/vase/data/MNIST/raw\n",
      "\n",
      "Downloading http://yann.lecun.com/exdb/mnist/t10k-images-idx3-ubyte.gz\n",
      "Downloading http://yann.lecun.com/exdb/mnist/t10k-images-idx3-ubyte.gz to /home/oliverdaniels-koch/vase/vase/data/MNIST/raw/t10k-images-idx3-ubyte.gz\n"
     ]
    },
    {
     "name": "stderr",
     "output_type": "stream",
     "text": [
      "\n",
      "100.0%\n"
     ]
    },
    {
     "name": "stdout",
     "output_type": "stream",
     "text": [
      "Extracting /home/oliverdaniels-koch/vase/vase/data/MNIST/raw/t10k-images-idx3-ubyte.gz to /home/oliverdaniels-koch/vase/vase/data/MNIST/raw\n",
      "\n",
      "Downloading http://yann.lecun.com/exdb/mnist/t10k-labels-idx1-ubyte.gz\n"
     ]
    },
    {
     "name": "stderr",
     "output_type": "stream",
     "text": [
      "112.7%"
     ]
    },
    {
     "name": "stdout",
     "output_type": "stream",
     "text": [
      "Downloading http://yann.lecun.com/exdb/mnist/t10k-labels-idx1-ubyte.gz to /home/oliverdaniels-koch/vase/vase/data/MNIST/raw/t10k-labels-idx1-ubyte.gz\n",
      "Extracting /home/oliverdaniels-koch/vase/vase/data/MNIST/raw/t10k-labels-idx1-ubyte.gz to /home/oliverdaniels-koch/vase/vase/data/MNIST/raw\n",
      "\n"
     ]
    },
    {
     "name": "stderr",
     "output_type": "stream",
     "text": [
      "\n"
     ]
    }
   ],
   "source": [
    "#hide\n",
    "batch_size = 128\n",
    "latents = 5\n",
    "max_environments = 24\n",
    "mm = MovingMNIST(DATA_PATH, transform=ToTensor(), download=True)\n",
    "loader = DataLoader(mm, batch_size)"
   ]
  },
  {
   "cell_type": "markdown",
   "metadata": {},
   "source": [
    "## Encoder\n"
   ]
  },
  {
   "cell_type": "code",
   "execution_count": null,
   "metadata": {},
   "outputs": [],
   "source": [
    "#export\n",
    "class Encoder(nn.Module):\n",
    "    def __init__(self, latents=10):\n",
    "        super().__init__()\n",
    "        self.latents = latents\n",
    "        #NOTE: no pooling? should compare results with and without\n",
    "        self.conv1 = nn.Conv2d(1, 64, (4,4), stride=2, padding=1)\n",
    "        self.conv2 = nn.Conv2d(64, 64, (4,4), 2, padding=1)\n",
    "        self.conv3 = nn.Conv2d(64, 128, (4,4), 2, padding=1)\n",
    "        self.conv4 = nn.Conv2d(128, 128, (4,4), 2, padding=1)\n",
    "        self.linear = nn.Linear(2048, 256)\n",
    "        self.linear_mu = nn.Linear(256, self.latents)\n",
    "        self.linear_sigma = nn.Linear(256, self.latents)\n",
    "        self.relu = nn.ReLU()\n",
    "\n",
    "    def forward(self, x):\n",
    "        \"\"\"\n",
    "        Returns mean and standard deviation to parameterize sigmoid, \n",
    "        and final layer to compute environment\n",
    "        \"\"\"\n",
    "        x = self.relu(self.conv1(x)) # (batch_size, 64, 32, 32)\n",
    "        x = self.relu(self.conv2(x)) # (batch_size, 64, 16, 16)\n",
    "        x = self.relu(self.conv3(x)) # (batch_size, 128, 8, 8)\n",
    "        x = self.relu(self.conv4(x)) # (batch_size, 128, 4, 4)\n",
    "        x = x.reshape(-1, 2048)\n",
    "        final = self.relu(self.linear(x))\n",
    "        mu = self.linear_mu(final)\n",
    "        sigma = torch.exp(self.linear_sigma(final))\n",
    "        return mu, sigma, final.detach() #detach to prevent gradient flow"
   ]
  },
  {
   "cell_type": "code",
   "execution_count": null,
   "metadata": {},
   "outputs": [],
   "source": [
    "batch_size = 128\n",
    "latents = 5"
   ]
  },
  {
   "cell_type": "code",
   "execution_count": null,
   "metadata": {},
   "outputs": [],
   "source": [
    "mm = MovingMNIST(DATA_PATH, transform=ToTensor())\n",
    "loader = DataLoader(mm, batch_size)\n",
    "batch, _, _= iter(loader).next()"
   ]
  },
  {
   "cell_type": "code",
   "execution_count": null,
   "metadata": {},
   "outputs": [],
   "source": [
    "encoder = Encoder(latents=latents)"
   ]
  },
  {
   "cell_type": "code",
   "execution_count": null,
   "metadata": {},
   "outputs": [],
   "source": [
    "mu, sigma, final = encoder(batch)"
   ]
  },
  {
   "cell_type": "code",
   "execution_count": null,
   "metadata": {},
   "outputs": [],
   "source": [
    "assert mu.shape == torch.Size((batch_size, latents))\n",
    "assert sigma.shape == torch.Size((batch_size, latents))"
   ]
  },
  {
   "cell_type": "markdown",
   "metadata": {},
   "source": [
    "## Environmental Inference Network\n",
    "NOTE: not sure if this receives the $\\mu$'s or the layer before the $\\mu's$ - I think the layer before?\n",
    "\n",
    "Section A.1: \"We attach an additional fully connected layer to the last layer of the encoder (gradients to the encoder are stopped).\""
   ]
  },
  {
   "cell_type": "code",
   "execution_count": null,
   "metadata": {},
   "outputs": [],
   "source": [
    "#export\n",
    "class EnvironmentInference(nn.Module):\n",
    "    def __init__(self, max_environmnets: int, input_dim=256):\n",
    "        super().__init__()\n",
    "        self.max_environments = max_environmnets\n",
    "        self.input_dim = input_dim\n",
    "        self.linear = nn.Linear(input_dim, max_environmnets)\n",
    "        self.softmax = nn.Softmax(dim=1)\n",
    "    \n",
    "    def forward(self, final_latent):\n",
    "        x = self.linear(final_latent)\n",
    "        return self.softmax(x)"
   ]
  },
  {
   "cell_type": "code",
   "execution_count": null,
   "metadata": {},
   "outputs": [],
   "source": [
    "env_inf = EnvironmentInference(max_environmnets=max_environments)\n",
    "env_dist = env_inf(final)"
   ]
  },
  {
   "cell_type": "code",
   "execution_count": null,
   "metadata": {},
   "outputs": [],
   "source": [
    "assert env_dist.shape == torch.Size([batch_size, max_environments])"
   ]
  },
  {
   "cell_type": "code",
   "execution_count": null,
   "metadata": {},
   "outputs": [
    {
     "data": {
      "text/plain": [
       "torch.Size([128])"
      ]
     },
     "execution_count": null,
     "metadata": {},
     "output_type": "execute_result"
    }
   ],
   "source": [
    "env_dist.sum(dim=1).shape"
   ]
  },
  {
   "cell_type": "code",
   "execution_count": null,
   "metadata": {},
   "outputs": [],
   "source": [
    "assert torch.all(torch.isclose(env_dist.sum(dim=1), torch.ones(128)))"
   ]
  },
  {
   "cell_type": "markdown",
   "metadata": {},
   "source": [
    "### Environmental  Encoding"
   ]
  },
  {
   "cell_type": "markdown",
   "metadata": {},
   "source": [
    "See \"Environment index\" in section A.2 - softmax is averaged across data in batch, then argmax is taken"
   ]
  },
  {
   "cell_type": "code",
   "execution_count": null,
   "metadata": {},
   "outputs": [],
   "source": [
    "avg_env_dist = env_dist.mean(dim=0)"
   ]
  },
  {
   "cell_type": "code",
   "execution_count": null,
   "metadata": {},
   "outputs": [],
   "source": [
    "assert avg_env_dist.shape == torch.Size((24,))"
   ]
  },
  {
   "cell_type": "code",
   "execution_count": null,
   "metadata": {},
   "outputs": [
    {
     "data": {
      "text/plain": [
       "tensor(2)"
      ]
     },
     "execution_count": null,
     "metadata": {},
     "output_type": "execute_result"
    }
   ],
   "source": [
    "env_idx = torch.argmax(avg_env_dist)\n",
    "env_idx"
   ]
  },
  {
   "cell_type": "code",
   "execution_count": null,
   "metadata": {},
   "outputs": [
    {
     "data": {
      "text/plain": [
       "tensor([0, 0, 1, 0, 0, 0, 0, 0, 0, 0, 0, 0, 0, 0, 0, 0, 0, 0, 0, 0, 0, 0, 0, 0])"
      ]
     },
     "execution_count": null,
     "metadata": {},
     "output_type": "execute_result"
    }
   ],
   "source": [
    "F.one_hot(env_idx, num_classes=max_environments)"
   ]
  },
  {
   "cell_type": "code",
   "execution_count": null,
   "metadata": {},
   "outputs": [],
   "source": [
    "#export\n",
    "def env_dist_to_one_hot(env_dist: torch.Tensor, max_environments: int) -> torch.Tensor:\n",
    "    \"\"\"Converts a batch of distributions to a one-hot vector\"\"\"\n",
    "    avg_env_dist = env_dist.mean(dim=0)\n",
    "    env_idx = torch.argmax(avg_env_dist)\n",
    "    return F.one_hot(env_idx, num_classes=max_environments)\n"
   ]
  },
  {
   "cell_type": "code",
   "execution_count": null,
   "metadata": {},
   "outputs": [],
   "source": [
    "batch, _, _= iter(loader).next()\n",
    "_, _, final = encoder(batch)\n",
    "env_dist = env_inf(final)\n",
    "one_hot_env_idx = env_dist_to_one_hot(env_dist, max_environments=max_environments)"
   ]
  },
  {
   "cell_type": "code",
   "execution_count": null,
   "metadata": {},
   "outputs": [],
   "source": [
    "assert one_hot_env_idx.shape == torch.Size([max_environments])\n",
    "assert one_hot_env_idx.max() == 1\n",
    "assert one_hot_env_idx.sum() == 1"
   ]
  },
  {
   "cell_type": "markdown",
   "metadata": {},
   "source": [
    "## Decoder"
   ]
  },
  {
   "cell_type": "code",
   "execution_count": null,
   "metadata": {},
   "outputs": [
    {
     "data": {
      "text/plain": [
       "torch.Size([128, 24])"
      ]
     },
     "execution_count": null,
     "metadata": {},
     "output_type": "execute_result"
    }
   ],
   "source": [
    "broad_env_idx = one_hot_env_idx.expand((batch_size, -1))\n",
    "broad_env_idx.shape"
   ]
  },
  {
   "cell_type": "code",
   "execution_count": null,
   "metadata": {},
   "outputs": [],
   "source": [
    "assert torch.equal(broad_env_idx[0], broad_env_idx[1])"
   ]
  },
  {
   "cell_type": "code",
   "execution_count": null,
   "metadata": {},
   "outputs": [],
   "source": [
    "latent_and_env = torch.cat((mu, broad_env_idx), dim=1)"
   ]
  },
  {
   "cell_type": "code",
   "execution_count": null,
   "metadata": {},
   "outputs": [],
   "source": [
    "assert latent_and_env.shape == torch.Size([batch_size, latents + max_environments])"
   ]
  },
  {
   "cell_type": "code",
   "execution_count": null,
   "metadata": {},
   "outputs": [],
   "source": [
    "#export\n",
    "class Decoder(nn.Module):\n",
    "    def __init__(self, max_envs=0, latents=10):\n",
    "        super().__init__()\n",
    "        self.max_envs = max_envs\n",
    "        self.latents = latents\n",
    "        self.linear2 = nn.Linear(latents + max_envs, 256)\n",
    "        self.linear1 = nn.Linear(256, 2048)\n",
    "        self.conv4 = nn.ConvTranspose2d(128, 128, (4,4), 2, padding=1)\n",
    "        self.conv3 = nn.ConvTranspose2d(128, 64, (4,4), 2, padding=1)\n",
    "        self.conv2 = nn.ConvTranspose2d(64, 64, (4,4), 2, padding=1)\n",
    "        self.conv1 = nn.ConvTranspose2d(64, 1, (4,4), 2, padding=1)\n",
    "        self.relu = nn.ReLU()\n",
    "        self.sigmoid = nn.Sigmoid()\n",
    "        \n",
    "    def forward(self, z, s=None):\n",
    "        \"\"\"\n",
    "        Decode the latent and environmental variables\n",
    "\n",
    "        Args: \n",
    "            z (Tensor): latent variables\n",
    "            s (Tesnor): one-hot encoded environmental variable (not sure how this works...)\n",
    "        \n",
    "        Returns:\n",
    "            Means for (batchsize, widgt, height) Bernoulli's (which can be interpreted as the reconstructed image)\n",
    "        \"\"\"\n",
    "        batch_size = z.shape[0]\n",
    "        if s is not None:\n",
    "            s = s.expand(batch_size, -1)\n",
    "            z = torch.cat((z, s), dim=1)\n",
    "        x = self.relu(self.linear2(z)) # (batch_size, 256)\n",
    "        x = self.relu(self.linear1(x)) # (batch_size, 512)\n",
    "        x = x.reshape(-1, 128, 4, 4) # (batch_size, 128, 2, 2)\n",
    "        x = self.relu(self.conv4(x)) # (batch_size, 128, 6, 6)\n",
    "        x = self.relu(self.conv3(x)) # (batch_size, 64, 14, 14)\n",
    "        x = self.relu(self.conv2(x)) # (batch_size, 64, 30, 30) WRONG (should be 31)\n",
    "        out = self.sigmoid(self.conv1(x))\n",
    "        return out"
   ]
  },
  {
   "cell_type": "code",
   "execution_count": null,
   "metadata": {},
   "outputs": [
    {
     "data": {
      "text/plain": [
       "torch.Size([128, 1, 64, 64])"
      ]
     },
     "execution_count": null,
     "metadata": {},
     "output_type": "execute_result"
    }
   ],
   "source": [
    "batch.shape"
   ]
  },
  {
   "cell_type": "code",
   "execution_count": null,
   "metadata": {},
   "outputs": [],
   "source": [
    "mu, sigma, final = encoder(batch)\n",
    "env_dist = env_inf(final)\n",
    "env_idx = env_dist_to_one_hot(env_dist, max_environments=max_environments)\n",
    "z = mu\n",
    "s = env_idx"
   ]
  },
  {
   "cell_type": "code",
   "execution_count": null,
   "metadata": {},
   "outputs": [],
   "source": [
    "decoder = Decoder(max_environments, latents)"
   ]
  },
  {
   "cell_type": "code",
   "execution_count": null,
   "metadata": {},
   "outputs": [
    {
     "data": {
      "text/plain": [
       "torch.Size([128, 5])"
      ]
     },
     "execution_count": null,
     "metadata": {},
     "output_type": "execute_result"
    }
   ],
   "source": [
    "z.shape"
   ]
  },
  {
   "cell_type": "code",
   "execution_count": null,
   "metadata": {},
   "outputs": [],
   "source": [
    "rec_img = decoder(z, s)"
   ]
  },
  {
   "cell_type": "code",
   "execution_count": null,
   "metadata": {},
   "outputs": [
    {
     "data": {
      "text/plain": [
       "torch.Size([128, 1, 64, 64])"
      ]
     },
     "execution_count": null,
     "metadata": {},
     "output_type": "execute_result"
    }
   ],
   "source": [
    "rec_img.shape"
   ]
  },
  {
   "cell_type": "code",
   "execution_count": null,
   "metadata": {},
   "outputs": [
    {
     "data": {
      "text/plain": [
       "<matplotlib.image.AxesImage at 0x7fcdc5ac5be0>"
      ]
     },
     "execution_count": null,
     "metadata": {},
     "output_type": "execute_result"
    },
    {
     "data": {
      "image/png": "[encoded data removed]",
      "text/plain": [
       "<Figure size 432x288 with 1 Axes>"
      ]
     },
     "metadata": {
      "needs_background": "light"
     },
     "output_type": "display_data"
    }
   ],
   "source": [
    "plt.imshow(rec_img[0].detach().numpy().squeeze(), cmap='gray')"
   ]
  },
  {
   "cell_type": "code",
   "execution_count": null,
   "metadata": {},
   "outputs": [],
   "source": [
    "decoder = Decoder(max_envs=0, latents=latents)"
   ]
  },
  {
   "cell_type": "code",
   "execution_count": null,
   "metadata": {},
   "outputs": [],
   "source": [
    "rec_img = decoder(z, None)"
   ]
  },
  {
   "cell_type": "code",
   "execution_count": null,
   "metadata": {},
   "outputs": [],
   "source": [
    "assert rec_img.shape == torch.Size([batch_size, 1, 64, 64])"
   ]
  },
  {
   "cell_type": "markdown",
   "metadata": {},
   "source": [
    "## VAEs"
   ]
  },
  {
   "cell_type": "markdown",
   "metadata": {},
   "source": [
    "### Reparameterization Trick\n",
    "\n",
    "TODO: explain why you have to do this to compute gradients"
   ]
  },
  {
   "cell_type": "code",
   "execution_count": null,
   "metadata": {},
   "outputs": [],
   "source": [
    "#export\n",
    "def reparam(mu, logvar):\n",
    "    eps = torch.randn(logvar.shape)\n",
    "    std = (0.5 * logvar).exp()\n",
    "    return mu + std * eps"
   ]
  },
  {
   "cell_type": "markdown",
   "metadata": {},
   "source": [
    "### Vanilla VAE"
   ]
  },
  {
   "cell_type": "code",
   "execution_count": null,
   "metadata": {},
   "outputs": [],
   "source": [
    "#export\n",
    "class VanillaVAE(nn.Module):\n",
    "    def __init__(self,latents=10):\n",
    "        super().__init__()\n",
    "        self.encoder = Encoder(latents=latents)\n",
    "        self.decoder = Decoder(latents=latents)\n",
    "    \n",
    "    def forward(self, x):\n",
    "        mu, logvar, _final = self.encoder(x)\n",
    "        if self.training:\n",
    "            z = reparam(mu, logvar)\n",
    "        else:\n",
    "            z = mu\n",
    "        rec_img = self.decoder(z=z)\n",
    "        return rec_img, mu, logvar"
   ]
  },
  {
   "cell_type": "code",
   "execution_count": null,
   "metadata": {},
   "outputs": [],
   "source": [
    "latents=20\n",
    "vvae = VanillaVAE(latents=latents)"
   ]
  },
  {
   "cell_type": "code",
   "execution_count": null,
   "metadata": {},
   "outputs": [],
   "source": [
    "rec_img, mu, logvar = vvae(batch)"
   ]
  },
  {
   "cell_type": "code",
   "execution_count": null,
   "metadata": {},
   "outputs": [],
   "source": [
    "assert rec_img.shape == batch.shape"
   ]
  },
  {
   "cell_type": "code",
   "execution_count": null,
   "metadata": {},
   "outputs": [
    {
     "data": {
      "text/plain": [
       "<matplotlib.image.AxesImage at 0x7fcdc594cdf0>"
      ]
     },
     "execution_count": null,
     "metadata": {},
     "output_type": "execute_result"
    },
    {
     "data": {
      "image/png": "[encoded data removed]",
      "text/plain": [
       "<Figure size 432x288 with 1 Axes>"
      ]
     },
     "metadata": {
      "needs_background": "light"
     },
     "output_type": "display_data"
    }
   ],
   "source": [
    "plt.imshow(rec_img[0].detach().numpy().squeeze())"
   ]
  },
  {
   "cell_type": "code",
   "execution_count": null,
   "metadata": {},
   "outputs": [],
   "source": [
    "assert mu.shape == torch.Size([batch_size, latents])\n",
    "assert logvar.shape == torch.Size([batch_size, latents])"
   ]
  },
  {
   "cell_type": "code",
   "execution_count": null,
   "metadata": {},
   "outputs": [
    {
     "data": {
      "text/plain": [
       "VanillaVAE(\n",
       "  (encoder): Encoder(\n",
       "    (conv1): Conv2d(1, 64, kernel_size=(4, 4), stride=(2, 2), padding=(1, 1))\n",
       "    (conv2): Conv2d(64, 64, kernel_size=(4, 4), stride=(2, 2), padding=(1, 1))\n",
       "    (conv3): Conv2d(64, 128, kernel_size=(4, 4), stride=(2, 2), padding=(1, 1))\n",
       "    (conv4): Conv2d(128, 128, kernel_size=(4, 4), stride=(2, 2), padding=(1, 1))\n",
       "    (linear): Linear(in_features=2048, out_features=256, bias=True)\n",
       "    (linear_mu): Linear(in_features=256, out_features=20, bias=True)\n",
       "    (linear_sigma): Linear(in_features=256, out_features=20, bias=True)\n",
       "    (relu): ReLU()\n",
       "  )\n",
       "  (decoder): Decoder(\n",
       "    (linear2): Linear(in_features=20, out_features=256, bias=True)\n",
       "    (linear1): Linear(in_features=256, out_features=2048, bias=True)\n",
       "    (conv4): ConvTranspose2d(128, 128, kernel_size=(4, 4), stride=(2, 2), padding=(1, 1))\n",
       "    (conv3): ConvTranspose2d(128, 64, kernel_size=(4, 4), stride=(2, 2), padding=(1, 1))\n",
       "    (conv2): ConvTranspose2d(64, 64, kernel_size=(4, 4), stride=(2, 2), padding=(1, 1))\n",
       "    (conv1): ConvTranspose2d(64, 1, kernel_size=(4, 4), stride=(2, 2), padding=(1, 1))\n",
       "    (relu): ReLU()\n",
       "    (sigmoid): Sigmoid()\n",
       "  )\n",
       ")"
      ]
     },
     "execution_count": null,
     "metadata": {},
     "output_type": "execute_result"
    }
   ],
   "source": [
    "vvae.eval()\n"
   ]
  },
  {
   "cell_type": "code",
   "execution_count": null,
   "metadata": {},
   "outputs": [],
   "source": [
    "assert not vvae.training"
   ]
  },
  {
   "cell_type": "code",
   "execution_count": null,
   "metadata": {},
   "outputs": [],
   "source": [
    "rec_img, mu, logvar = vvae(batch)"
   ]
  },
  {
   "cell_type": "code",
   "execution_count": null,
   "metadata": {},
   "outputs": [],
   "source": [
    "rec_img_decode = vvae.decoder(mu)"
   ]
  },
  {
   "cell_type": "code",
   "execution_count": null,
   "metadata": {},
   "outputs": [],
   "source": [
    "assert torch.equal(rec_img, rec_img_decode)"
   ]
  },
  {
   "cell_type": "markdown",
   "metadata": {},
   "source": [
    "## Classifiers and Regressors"
   ]
  }
 ],
 "metadata": {
  "kernelspec": {
   "display_name": "Python 3.9.10 ('lifelong_disrep')",
   "language": "python",
   "name": "python3"
  }
 },
 "nbformat": 4,
 "nbformat_minor": 2
}
