{
 "cells": [
  {
   "cell_type": "code",
   "execution_count": null,
   "metadata": {},
   "outputs": [],
   "source": [
    "#default_exp core.models"
   ]
  },
  {
   "cell_type": "code",
   "execution_count": null,
   "metadata": {},
   "outputs": [],
   "source": [
    "#export\n",
    "import torch\n",
    "from torch import nn\n",
    "from torch.nn import functional as F\n",
    "import numpy as np\n",
    "import copy\n",
    "from cmaes import CMA\n",
    "from vase.config import DATA_PATH\n",
    "from vase.core.utils import rec_likelihood, kl_div_stdnorm, disable_gradient, enable_gradient"
   ]
  },
  {
   "cell_type": "code",
   "execution_count": null,
   "metadata": {},
   "outputs": [],
   "source": [
    "#hide\n",
    "from vase.core.datasets.moving_mnist import MovingMNIST\n",
    "from torchvision.transforms import ToTensor\n",
    "from torch.utils.data import DataLoader\n",
    "import matplotlib.pyplot as plt"
   ]
  },
  {
   "cell_type": "markdown",
   "metadata": {},
   "source": [
    "# Models\n",
    "> Pytorch Models used for encoders, decoders, and classifiers. See Section A.1 of [Aachille et al.](https://arxiv.org/pdf/1808.06508.pdf) for details"
   ]
  },
  {
   "cell_type": "code",
   "execution_count": null,
   "metadata": {},
   "outputs": [],
   "source": [
    "#hide \n",
    "from vase.core.datasets.moving_mnist import MovingMNIST, CommonMNIST"
   ]
  },
  {
   "cell_type": "code",
   "execution_count": null,
   "metadata": {},
   "outputs": [],
   "source": [
    "#hide\n",
    "batch_size = 128\n",
    "latents = 24\n",
    "max_environments = 30\n",
    "moving_mnist = MovingMNIST(DATA_PATH, transform=ToTensor())\n",
    "mnist = CommonMNIST(DATA_PATH, transform=ToTensor())\n",
    "mm_loader = DataLoader(moving_mnist, batch_size)\n",
    "mnist_loader = DataLoader(mnist, batch_size)\n",
    "\n",
    "mm_batch, _, _= iter(mm_loader).next()\n",
    "mnist_batch, _ = iter(mnist_loader).next()"
   ]
  },
  {
   "cell_type": "markdown",
   "metadata": {},
   "source": [
    "## Encoders\n"
   ]
  },
  {
   "cell_type": "markdown",
   "metadata": {},
   "source": [
    "### Encoder Architecture From Paper"
   ]
  },
  {
   "cell_type": "code",
   "execution_count": null,
   "metadata": {},
   "outputs": [],
   "source": [
    "#export\n",
    "class Encoder(nn.Module):\n",
    "    def __init__(self, latents=10):\n",
    "        super().__init__()\n",
    "        self.latents = latents\n",
    "        #NOTE: no pooling? should compare results with and without\n",
    "        self.conv1 = nn.Conv2d(1, 64, (4,4), stride=2, padding=1)\n",
    "        self.conv2 = nn.Conv2d(64, 64, (4,4), 2, padding=1)\n",
    "        self.conv3 = nn.Conv2d(64, 128, (4,4), 2, padding=1)\n",
    "        self.conv4 = nn.Conv2d(128, 128, (4,4), 2, padding=1)\n",
    "        self.linear = nn.Linear(2048, 256)\n",
    "        self.linear_mu = nn.Linear(256, self.latents)\n",
    "        self.linear_logvar = nn.Linear(256, self.latents)\n",
    "        self.relu = nn.ReLU()\n",
    "\n",
    "    def forward(self, x):\n",
    "        \"\"\"\n",
    "        Returns mean and standard deviation to parameterize sigmoid, \n",
    "        and final layer to compute environment\n",
    "        \"\"\"\n",
    "        x = self.relu(self.conv1(x)) # (batch_size, 64, 32, 32)\n",
    "        x = self.relu(self.conv2(x)) # (batch_size, 64, 16, 16)\n",
    "        x = self.relu(self.conv3(x)) # (batch_size, 128, 8, 8)\n",
    "        x = self.relu(self.conv4(x)) # (batch_size, 128, 4, 4)\n",
    "        x = x.reshape(-1, 2048)\n",
    "        final = self.relu(self.linear(x))\n",
    "        mu = self.linear_mu(final)\n",
    "        logvar = self.linear_logvar(final)\n",
    "        return mu, logvar, final.detach() #detach to prevent gradient flow"
   ]
  },
  {
   "cell_type": "code",
   "execution_count": null,
   "metadata": {},
   "outputs": [],
   "source": [
    "encoder = Encoder(latents=latents)"
   ]
  },
  {
   "cell_type": "code",
   "execution_count": null,
   "metadata": {},
   "outputs": [],
   "source": [
    "mu, sigma, final = encoder(mm_batch)"
   ]
  },
  {
   "cell_type": "code",
   "execution_count": null,
   "metadata": {},
   "outputs": [],
   "source": [
    "assert mu.shape == torch.Size((batch_size, latents))\n",
    "assert sigma.shape == torch.Size((batch_size, latents))"
   ]
  },
  {
   "cell_type": "markdown",
   "metadata": {},
   "source": [
    "### FC Encoder"
   ]
  },
  {
   "cell_type": "code",
   "execution_count": null,
   "metadata": {},
   "outputs": [],
   "source": [
    "#export\n",
    "class FCEncoder(nn.Module):\n",
    "    def __init__(self, latents: int):\n",
    "        super().__init__()\n",
    "        self.latents = latents\n",
    "        self.latents = latents\n",
    "        self.linear1 = nn.Linear(784, 50)\n",
    "        self.linear_mu = nn.Linear(50, latents)\n",
    "        self.linear_logvar = nn.Linear(50, latents)\n",
    "        self.act = nn.ReLU()\n",
    "    \n",
    "    def forward(self, x):\n",
    "        x = x.reshape(-1, 784)\n",
    "        final = self.act(self.linear1(x))\n",
    "        mu = self.linear_mu(final)\n",
    "        logvar = self.linear_logvar(final) #TODO: should this be exponentiated?\n",
    "        return mu, logvar, final"
   ]
  },
  {
   "cell_type": "code",
   "execution_count": null,
   "metadata": {},
   "outputs": [],
   "source": [
    "fc_encoder = FCEncoder(latents=latents)"
   ]
  },
  {
   "cell_type": "code",
   "execution_count": null,
   "metadata": {},
   "outputs": [],
   "source": [
    "mu, sigma, final = fc_encoder(mnist_batch)"
   ]
  },
  {
   "cell_type": "code",
   "execution_count": null,
   "metadata": {},
   "outputs": [],
   "source": [
    "assert mu.shape == torch.Size((batch_size, latents))\n",
    "assert sigma.shape == torch.Size((batch_size, latents))"
   ]
  },
  {
   "cell_type": "markdown",
   "metadata": {},
   "source": [
    "## Environmental Inference Network\n",
    "NOTE: not sure if this receives the $\\mu$'s or the layer before the $\\mu's$ - I think the layer before?\n",
    "\n",
    "Section A.1: \"We attach an additional fully connected layer to the last layer of the encoder (gradients to the encoder are stopped).\""
   ]
  },
  {
   "cell_type": "code",
   "execution_count": null,
   "metadata": {},
   "outputs": [],
   "source": [
    "#export\n",
    "class EnvironmentInference(nn.Module):\n",
    "    def __init__(self, max_environmnets: int, input_dim:int):\n",
    "        super().__init__()\n",
    "        self.max_environments = max_environmnets\n",
    "        self.input_dim = input_dim\n",
    "        self.linear = nn.Linear(input_dim, max_environmnets)\n",
    "        self.softmax = nn.Softmax(dim=1)\n",
    "    \n",
    "    def forward(self, final_latent):\n",
    "        x = self.linear(final_latent)\n",
    "        return self.softmax(x)"
   ]
  },
  {
   "cell_type": "code",
   "execution_count": null,
   "metadata": {},
   "outputs": [],
   "source": [
    "_, _, final = encoder(mm_batch)"
   ]
  },
  {
   "cell_type": "code",
   "execution_count": null,
   "metadata": {},
   "outputs": [],
   "source": [
    "env_inf = EnvironmentInference(max_environmnets=max_environments, input_dim=256)\n",
    "env_dist = env_inf(final)"
   ]
  },
  {
   "cell_type": "code",
   "execution_count": null,
   "metadata": {},
   "outputs": [],
   "source": [
    "assert env_dist.shape == torch.Size([batch_size, max_environments])"
   ]
  },
  {
   "cell_type": "code",
   "execution_count": null,
   "metadata": {},
   "outputs": [
    {
     "data": {
      "text/plain": [
       "torch.Size([128])"
      ]
     },
     "execution_count": null,
     "metadata": {},
     "output_type": "execute_result"
    }
   ],
   "source": [
    "env_dist.sum(dim=1).shape"
   ]
  },
  {
   "cell_type": "code",
   "execution_count": null,
   "metadata": {},
   "outputs": [],
   "source": [
    "assert torch.all(torch.isclose(env_dist.sum(dim=1), torch.ones(128)))"
   ]
  },
  {
   "cell_type": "markdown",
   "metadata": {},
   "source": [
    "### Environmental  Encoding"
   ]
  },
  {
   "cell_type": "markdown",
   "metadata": {},
   "source": [
    "See \"Environment index\" in section A.2 - softmax is averaged across data in batch, then argmax is taken"
   ]
  },
  {
   "cell_type": "code",
   "execution_count": null,
   "metadata": {},
   "outputs": [],
   "source": [
    "avg_env_dist = env_dist.mean(dim=0)"
   ]
  },
  {
   "cell_type": "code",
   "execution_count": null,
   "metadata": {},
   "outputs": [],
   "source": [
    "assert avg_env_dist.shape == torch.Size((max_environments,))"
   ]
  },
  {
   "cell_type": "code",
   "execution_count": null,
   "metadata": {},
   "outputs": [
    {
     "data": {
      "text/plain": [
       "tensor(1)"
      ]
     },
     "execution_count": null,
     "metadata": {},
     "output_type": "execute_result"
    }
   ],
   "source": [
    "env_idx = torch.argmax(avg_env_dist)\n",
    "env_idx"
   ]
  },
  {
   "cell_type": "code",
   "execution_count": null,
   "metadata": {},
   "outputs": [
    {
     "data": {
      "text/plain": [
       "tensor([0, 1, 0, 0, 0, 0, 0, 0, 0, 0, 0, 0, 0, 0, 0, 0, 0, 0, 0, 0, 0, 0, 0, 0,\n",
       "        0, 0, 0, 0, 0, 0])"
      ]
     },
     "execution_count": null,
     "metadata": {},
     "output_type": "execute_result"
    }
   ],
   "source": [
    "F.one_hot(env_idx, num_classes=max_environments)"
   ]
  },
  {
   "cell_type": "code",
   "execution_count": null,
   "metadata": {},
   "outputs": [],
   "source": [
    "#export\n",
    "def env_dist_to_idx(env_dist: torch.Tensor, max_environments: int) -> torch.Tensor:\n",
    "    \"\"\"Converts a batch of distributions to a one-hot vector\"\"\"\n",
    "    batch_size = env_dist.shape[0]\n",
    "    avg_env_dist = env_dist.mean(dim=0)\n",
    "    env_idx = torch.argmax(avg_env_dist)\n",
    "    return torch.ones((batch_size), dtype=torch.int64) * env_idx\n"
   ]
  },
  {
   "cell_type": "code",
   "execution_count": null,
   "metadata": {},
   "outputs": [],
   "source": [
    "_, _, final = encoder(mm_batch)\n",
    "env_dist = env_inf(final)\n",
    "env_idx = env_dist_to_idx(env_dist, max_environments=max_environments)"
   ]
  },
  {
   "cell_type": "code",
   "execution_count": null,
   "metadata": {},
   "outputs": [],
   "source": [
    "assert env_idx.shape == torch.Size([batch_size])\n",
    "assert env_idx[0].dtype == torch.int64"
   ]
  },
  {
   "cell_type": "markdown",
   "metadata": {},
   "source": [
    "## Decoder"
   ]
  },
  {
   "cell_type": "markdown",
   "metadata": {},
   "source": [
    "### Decoder Architecture From Paper"
   ]
  },
  {
   "cell_type": "code",
   "execution_count": null,
   "metadata": {},
   "outputs": [],
   "source": [
    "#export\n",
    "class Decoder(nn.Module):\n",
    "    def __init__(self, latents:int, max_envs=0):\n",
    "        super().__init__()\n",
    "        self.max_envs = max_envs\n",
    "        self.latents = latents\n",
    "        self.linear2 = nn.Linear(latents + max_envs, 256)\n",
    "        self.linear1 = nn.Linear(256, 2048)\n",
    "        self.conv4 = nn.ConvTranspose2d(128, 128, (4,4), 2, padding=1)\n",
    "        self.conv3 = nn.ConvTranspose2d(128, 64, (4,4), 2, padding=1)\n",
    "        self.conv2 = nn.ConvTranspose2d(64, 64, (4,4), 2, padding=1)\n",
    "        self.conv1 = nn.ConvTranspose2d(64, 1, (4,4), 2, padding=1)\n",
    "        self.relu = nn.ReLU()\n",
    "        self.sigmoid = nn.Sigmoid()\n",
    "        \n",
    "    def forward(self, z, s=None):\n",
    "        \"\"\"\n",
    "        Decode the latent and environmental variables\n",
    "\n",
    "        Args: \n",
    "            z (Tensor): latent variables\n",
    "            s (Tensor): environment indicies (not one hot)\n",
    "        \n",
    "        Returns:\n",
    "            Means for (batchsize, widgt, height) Bernoulli's (which can be interpreted as the reconstructed image)\n",
    "        \"\"\"\n",
    "        \n",
    "        if s is not None:\n",
    "            s_one_hot = F.one_hot(s, num_classes=self.max_envs)\n",
    "            z = torch.cat((z, s_one_hot), dim=1)\n",
    "        x = self.relu(self.linear2(z)) # (batch_size, 256)\n",
    "        x = self.relu(self.linear1(x)) # (batch_size, 512)\n",
    "        x = x.reshape(-1, 128, 4, 4) # (batch_size, 128, 2, 2)\n",
    "        x = self.relu(self.conv4(x)) # (batch_size, 128, 6, 6)\n",
    "        x = self.relu(self.conv3(x)) # (batch_size, 64, 14, 14)\n",
    "        x = self.relu(self.conv2(x)) # (batch_size, 64, 30, 30) WRONG (should be 31)\n",
    "        out = self.sigmoid(self.conv1(x))\n",
    "        return out"
   ]
  },
  {
   "cell_type": "code",
   "execution_count": null,
   "metadata": {},
   "outputs": [],
   "source": [
    "mu, sigma, final = encoder(mm_batch)\n",
    "env_dist = env_inf(final)\n",
    "env_idx = env_dist_to_idx(env_dist, max_environments=max_environments)\n",
    "z = mu\n",
    "s = env_idx"
   ]
  },
  {
   "cell_type": "code",
   "execution_count": null,
   "metadata": {},
   "outputs": [],
   "source": [
    "decoder = Decoder(latents=latents, max_envs=max_environments)"
   ]
  },
  {
   "cell_type": "code",
   "execution_count": null,
   "metadata": {},
   "outputs": [],
   "source": [
    "rec_img = decoder(z, s)"
   ]
  },
  {
   "cell_type": "code",
   "execution_count": null,
   "metadata": {},
   "outputs": [
    {
     "data": {
      "text/plain": [
       "torch.Size([128, 1, 64, 64])"
      ]
     },
     "execution_count": null,
     "metadata": {},
     "output_type": "execute_result"
    }
   ],
   "source": [
    "rec_img.shape"
   ]
  },
  {
   "cell_type": "code",
   "execution_count": null,
   "metadata": {},
   "outputs": [
    {
     "data": {
      "text/plain": [
       "<matplotlib.image.AxesImage at 0x12b676910>"
      ]
     },
     "execution_count": null,
     "metadata": {},
     "output_type": "execute_result"
    },
    {
     "data": {
      "image/png": "[encoded data removed]",
      "text/plain": [
       "<Figure size 432x288 with 1 Axes>"
      ]
     },
     "metadata": {
      "needs_background": "light"
     },
     "output_type": "display_data"
    }
   ],
   "source": [
    "plt.imshow(rec_img[0].detach().numpy().squeeze(), cmap='gray')"
   ]
  },
  {
   "cell_type": "code",
   "execution_count": null,
   "metadata": {},
   "outputs": [],
   "source": [
    "decoder = Decoder(latents=latents, max_envs=0)"
   ]
  },
  {
   "cell_type": "code",
   "execution_count": null,
   "metadata": {},
   "outputs": [],
   "source": [
    "rec_img = decoder(z, None)"
   ]
  },
  {
   "cell_type": "code",
   "execution_count": null,
   "metadata": {},
   "outputs": [],
   "source": [
    "assert rec_img.shape == torch.Size([batch_size, 1, 64, 64])"
   ]
  },
  {
   "cell_type": "markdown",
   "metadata": {},
   "source": [
    "### FC Decoder"
   ]
  },
  {
   "cell_type": "code",
   "execution_count": null,
   "metadata": {},
   "outputs": [],
   "source": [
    "#export\n",
    "class FCDecoder(nn.Module):\n",
    "    def __init__(self, latents: int, max_envs=0):\n",
    "        super().__init__()\n",
    "        self.max_envs = max_envs\n",
    "        self.latents = latents\n",
    "        self.linear1 = nn.Linear(latents + max_envs, 50)\n",
    "        self.linear2 = nn.Linear(50, 784)\n",
    "        self.relu = nn.ReLU()\n",
    "        self.sigmoid = nn.Sigmoid()\n",
    "        \n",
    "    def forward(self, z, s=None):\n",
    "        \"\"\"\n",
    "        Decode the latent and environmental variables\n",
    "\n",
    "        Args: \n",
    "            z (Tensor): latent variables\n",
    "            s (Tensor): one-hot encoded environmental variable (not sure how this works...)\n",
    "        \n",
    "        Returns:\n",
    "            Means for (batchsize, widgt, height) Bernoulli's (which can be interpreted as the reconstructed image)\n",
    "        \"\"\"\n",
    "        if s is not None:\n",
    "            s_one_hot = F.one_hot(s, num_classes=self.max_envs)\n",
    "            z = torch.cat((z, s_one_hot), dim=1)\n",
    "        x = self.relu(self.linear1(z))\n",
    "        x = self.linear2(x)\n",
    "        out = self.sigmoid(x)\n",
    "        out = out.reshape(-1, 1, 28, 28)\n",
    "        return out"
   ]
  },
  {
   "cell_type": "code",
   "execution_count": null,
   "metadata": {},
   "outputs": [],
   "source": [
    "mu, sigma, final = fc_encoder(mnist_batch)\n",
    "env_inf = EnvironmentInference(max_environmnets=max_environments, input_dim=50)\n",
    "env_dist = env_inf(final)\n",
    "env_idx = env_dist_to_idx(env_dist, max_environments=max_environments)\n",
    "z = mu\n",
    "s = env_idx"
   ]
  },
  {
   "cell_type": "code",
   "execution_count": null,
   "metadata": {},
   "outputs": [],
   "source": [
    "fc_decoder = FCDecoder(latents=latents, max_envs=max_environments)"
   ]
  },
  {
   "cell_type": "code",
   "execution_count": null,
   "metadata": {},
   "outputs": [],
   "source": [
    "rec_img = fc_decoder(z, s)"
   ]
  },
  {
   "cell_type": "code",
   "execution_count": null,
   "metadata": {},
   "outputs": [
    {
     "data": {
      "text/plain": [
       "torch.Size([128, 1, 28, 28])"
      ]
     },
     "execution_count": null,
     "metadata": {},
     "output_type": "execute_result"
    }
   ],
   "source": [
    "rec_img.shape"
   ]
  },
  {
   "cell_type": "code",
   "execution_count": null,
   "metadata": {},
   "outputs": [
    {
     "data": {
      "text/plain": [
       "<matplotlib.image.AxesImage at 0x12b86f4c0>"
      ]
     },
     "execution_count": null,
     "metadata": {},
     "output_type": "execute_result"
    },
    {
     "data": {
      "image/png": "[encoded data removed]",
      "text/plain": [
       "<Figure size 432x288 with 1 Axes>"
      ]
     },
     "metadata": {
      "needs_background": "light"
     },
     "output_type": "display_data"
    }
   ],
   "source": [
    "plt.imshow(rec_img[0].detach().numpy().squeeze(), cmap='gray')"
   ]
  },
  {
   "cell_type": "code",
   "execution_count": null,
   "metadata": {},
   "outputs": [],
   "source": [
    "fc_decoder = FCDecoder(max_envs=0, latents=latents)"
   ]
  },
  {
   "cell_type": "code",
   "execution_count": null,
   "metadata": {},
   "outputs": [],
   "source": [
    "rec_img = fc_decoder(z, None)"
   ]
  },
  {
   "cell_type": "code",
   "execution_count": null,
   "metadata": {},
   "outputs": [],
   "source": [
    "assert rec_img.shape == mnist_batch.shape"
   ]
  },
  {
   "cell_type": "markdown",
   "metadata": {},
   "source": [
    "## Vanilla VAEs"
   ]
  },
  {
   "cell_type": "markdown",
   "metadata": {},
   "source": [
    "### Reparameterization Trick\n",
    "\n",
    "TODO: explain why you have to do this to compute gradients"
   ]
  },
  {
   "cell_type": "code",
   "execution_count": null,
   "metadata": {},
   "outputs": [],
   "source": [
    "#export\n",
    "def reparam(mu, logvar, device='cpu'):\n",
    "    eps = torch.randn(logvar.shape).to(device)\n",
    "    std = (0.5 * logvar).exp()\n",
    "    return mu + std * eps"
   ]
  },
  {
   "cell_type": "markdown",
   "metadata": {},
   "source": [
    "### Vanilla VAE (From Paper)"
   ]
  },
  {
   "cell_type": "code",
   "execution_count": null,
   "metadata": {},
   "outputs": [],
   "source": [
    "#export\n",
    "class VanillaVAE(nn.Module):\n",
    "    def __init__(self, encoder: type, decoder: type, latents: int, device: str):\n",
    "        super().__init__()\n",
    "        self.encoder = encoder(latents=latents)\n",
    "        self.decoder = decoder(latents=latents)\n",
    "        self.device = device\n",
    "        \n",
    "    def forward(self, x):\n",
    "        mu, logvar, _final = self.encoder(x)\n",
    "        if self.training:\n",
    "            z = reparam(mu, logvar, device=self.device)\n",
    "        else:\n",
    "            z = mu\n",
    "        rec_img = self.decoder(z=z)\n",
    "        return rec_img, mu, logvar"
   ]
  },
  {
   "cell_type": "code",
   "execution_count": null,
   "metadata": {},
   "outputs": [],
   "source": [
    "#export\n",
    "class PaperVanillaVAE(VanillaVAE):\n",
    "    def __init__(self, latents: int, device:str):\n",
    "        super().__init__(encoder=Encoder, decoder=Decoder, latents=latents, device=device)"
   ]
  },
  {
   "cell_type": "code",
   "execution_count": null,
   "metadata": {},
   "outputs": [],
   "source": [
    "device = torch.device('cuda:0' if torch.cuda.is_available() else 'cpu')"
   ]
  },
  {
   "cell_type": "code",
   "execution_count": null,
   "metadata": {},
   "outputs": [],
   "source": [
    "vvae = PaperVanillaVAE(latents=latents, device=device)"
   ]
  },
  {
   "cell_type": "code",
   "execution_count": null,
   "metadata": {},
   "outputs": [],
   "source": [
    "rec_img, mu, logvar = vvae(mm_batch)"
   ]
  },
  {
   "cell_type": "code",
   "execution_count": null,
   "metadata": {},
   "outputs": [
    {
     "data": {
      "text/plain": [
       "Decoder(\n",
       "  (linear2): Linear(in_features=24, out_features=256, bias=True)\n",
       "  (linear1): Linear(in_features=256, out_features=2048, bias=True)\n",
       "  (conv4): ConvTranspose2d(128, 128, kernel_size=(4, 4), stride=(2, 2), padding=(1, 1))\n",
       "  (conv3): ConvTranspose2d(128, 64, kernel_size=(4, 4), stride=(2, 2), padding=(1, 1))\n",
       "  (conv2): ConvTranspose2d(64, 64, kernel_size=(4, 4), stride=(2, 2), padding=(1, 1))\n",
       "  (conv1): ConvTranspose2d(64, 1, kernel_size=(4, 4), stride=(2, 2), padding=(1, 1))\n",
       "  (relu): ReLU()\n",
       "  (sigmoid): Sigmoid()\n",
       ")"
      ]
     },
     "execution_count": null,
     "metadata": {},
     "output_type": "execute_result"
    }
   ],
   "source": [
    "vvae.decoder"
   ]
  },
  {
   "cell_type": "code",
   "execution_count": null,
   "metadata": {},
   "outputs": [
    {
     "data": {
      "text/plain": [
       "torch.Size([128, 1, 64, 64])"
      ]
     },
     "execution_count": null,
     "metadata": {},
     "output_type": "execute_result"
    }
   ],
   "source": [
    "rec_img.shape"
   ]
  },
  {
   "cell_type": "code",
   "execution_count": null,
   "metadata": {},
   "outputs": [],
   "source": [
    "assert rec_img.shape == mm_batch.shape"
   ]
  },
  {
   "cell_type": "code",
   "execution_count": null,
   "metadata": {},
   "outputs": [
    {
     "data": {
      "text/plain": [
       "<matplotlib.image.AxesImage at 0x12b8f51f0>"
      ]
     },
     "execution_count": null,
     "metadata": {},
     "output_type": "execute_result"
    },
    {
     "data": {
      "image/png": "[encoded data removed]",
      "text/plain": [
       "<Figure size 432x288 with 1 Axes>"
      ]
     },
     "metadata": {
      "needs_background": "light"
     },
     "output_type": "display_data"
    }
   ],
   "source": [
    "plt.imshow(rec_img[0].detach().numpy().squeeze())"
   ]
  },
  {
   "cell_type": "code",
   "execution_count": null,
   "metadata": {},
   "outputs": [],
   "source": [
    "assert mu.shape == torch.Size([batch_size, latents])\n",
    "assert logvar.shape == torch.Size([batch_size, latents])"
   ]
  },
  {
   "cell_type": "code",
   "execution_count": null,
   "metadata": {},
   "outputs": [
    {
     "data": {
      "text/plain": [
       "PaperVanillaVAE(\n",
       "  (encoder): Encoder(\n",
       "    (conv1): Conv2d(1, 64, kernel_size=(4, 4), stride=(2, 2), padding=(1, 1))\n",
       "    (conv2): Conv2d(64, 64, kernel_size=(4, 4), stride=(2, 2), padding=(1, 1))\n",
       "    (conv3): Conv2d(64, 128, kernel_size=(4, 4), stride=(2, 2), padding=(1, 1))\n",
       "    (conv4): Conv2d(128, 128, kernel_size=(4, 4), stride=(2, 2), padding=(1, 1))\n",
       "    (linear): Linear(in_features=2048, out_features=256, bias=True)\n",
       "    (linear_mu): Linear(in_features=256, out_features=24, bias=True)\n",
       "    (linear_logvar): Linear(in_features=256, out_features=24, bias=True)\n",
       "    (relu): ReLU()\n",
       "  )\n",
       "  (decoder): Decoder(\n",
       "    (linear2): Linear(in_features=24, out_features=256, bias=True)\n",
       "    (linear1): Linear(in_features=256, out_features=2048, bias=True)\n",
       "    (conv4): ConvTranspose2d(128, 128, kernel_size=(4, 4), stride=(2, 2), padding=(1, 1))\n",
       "    (conv3): ConvTranspose2d(128, 64, kernel_size=(4, 4), stride=(2, 2), padding=(1, 1))\n",
       "    (conv2): ConvTranspose2d(64, 64, kernel_size=(4, 4), stride=(2, 2), padding=(1, 1))\n",
       "    (conv1): ConvTranspose2d(64, 1, kernel_size=(4, 4), stride=(2, 2), padding=(1, 1))\n",
       "    (relu): ReLU()\n",
       "    (sigmoid): Sigmoid()\n",
       "  )\n",
       ")"
      ]
     },
     "execution_count": null,
     "metadata": {},
     "output_type": "execute_result"
    }
   ],
   "source": [
    "vvae.eval()\n"
   ]
  },
  {
   "cell_type": "code",
   "execution_count": null,
   "metadata": {},
   "outputs": [],
   "source": [
    "assert not vvae.training"
   ]
  },
  {
   "cell_type": "code",
   "execution_count": null,
   "metadata": {},
   "outputs": [],
   "source": [
    "rec_img, mu, logvar = vvae(mm_batch)"
   ]
  },
  {
   "cell_type": "code",
   "execution_count": null,
   "metadata": {},
   "outputs": [],
   "source": [
    "rec_img_decode = vvae.decoder(mu)"
   ]
  },
  {
   "cell_type": "code",
   "execution_count": null,
   "metadata": {},
   "outputs": [],
   "source": [
    "assert torch.equal(rec_img, rec_img_decode)"
   ]
  },
  {
   "cell_type": "markdown",
   "metadata": {},
   "source": [
    "### FC Vanilla VAE"
   ]
  },
  {
   "cell_type": "code",
   "execution_count": null,
   "metadata": {},
   "outputs": [],
   "source": [
    "#export\n",
    "class FCVAE(VanillaVAE):\n",
    "    def __init__(self, latents: int, device='cpu'):\n",
    "        super().__init__(encoder=FCEncoder, decoder=FCDecoder, latents=latents, device=device)\n",
    "        "
   ]
  },
  {
   "cell_type": "code",
   "execution_count": null,
   "metadata": {},
   "outputs": [],
   "source": [
    "fc_vae = FCVAE(latents=latents)"
   ]
  },
  {
   "cell_type": "code",
   "execution_count": null,
   "metadata": {},
   "outputs": [],
   "source": [
    "rec_img, _, _ = fc_vae(mnist_batch)"
   ]
  },
  {
   "cell_type": "code",
   "execution_count": null,
   "metadata": {},
   "outputs": [],
   "source": [
    "assert rec_img.shape == mnist_batch.shape"
   ]
  },
  {
   "cell_type": "markdown",
   "metadata": {},
   "source": [
    "## Latent Masking VAEs\n",
    "\n",
    "The paper introduces latent masking for three reasons:\n",
    "1. Help with Environmental Inference\n",
    "2. Promote cross-domain homologies \n",
    "3. Prevent Catestrophic forgetting \n",
    "Latent masking is performed as follows: if the kl divergence between a latent and the standard normal prior passes some threshold $\\lambda$ the the latent is masked (its value is set to 0). More formally:\n",
    "\n",
    "$$ \\alpha_n = KL(E_{x^{s}_{batch}}[q_{\\phi}(z^s_n|x^s_{batch})] || p(z_n)) $$\n",
    "\n",
    "$$a_n = \\left\\{ \n",
    "  \\begin{array}{ c l }\n",
    "    1 & \\quad \\textrm{if } \\alpha_n < \\lambda \\\\\n",
    "    0                 & \\quad \\textrm{otherwise}\n",
    "  \\end{array}\n",
    "\\right.$$\n",
    "\n",
    "(TODO: this makes me confused about the C parameter - if the c difference is taken element wise, then the KL divergence is going to be a lot higher (~C), but the $\\lambda$ values in the paper range from 0 to 1 - so probably C is the sum over the batch, perhaps with C divided by batch size?)\n",
    "\n",
    "Rather then estimate the KL divergence of each individual sample, the paper takes the mean and standard deviation of the distribution of latent samples in the batch:\n",
    "\n",
    "$$ \\frac{1}{B} \\sum_{b=1}^{B} q_{\\phi}(z_n|x_b) $$\n",
    "fit a gaussian to this distribution, and then take the KL divergence of this fitted distribution\n",
    "\n",
    "Later on in Appendix A.2, the paper notes that \"since atypicality is computed on a relatively small batch of B samples, \\alpha_i may be a noisy estimate of atypicality\". The authors try to reduce this noise by introducing two more hyerpameters $\\lambda_1, \\lambda_2$, such that $\\alpha_n = 1 \\textrm{if } \\alpha_n > \\lambda_1$ and $\\alpha_n = 0$ if $\\alpha_n < \\lambda_0$. If $\\lambda_0 < \\alpha_n < \\lambda_1$, it remains unchanged. The authors don't specify values for $\\lambda_1$ or $\\lambda_2$"
   ]
  },
  {
   "cell_type": "markdown",
   "metadata": {},
   "source": [
    "### Exploration"
   ]
  },
  {
   "cell_type": "code",
   "execution_count": null,
   "metadata": {},
   "outputs": [],
   "source": [
    "latents = 8\n",
    "batch_size = 128"
   ]
  },
  {
   "cell_type": "code",
   "execution_count": null,
   "metadata": {},
   "outputs": [],
   "source": [
    "fc_vae = FCVAE(latents=latents)"
   ]
  },
  {
   "cell_type": "code",
   "execution_count": null,
   "metadata": {},
   "outputs": [],
   "source": [
    "mu, logvar, _final = fc_vae.encoder(mnist_batch)\n",
    "z = reparam(mu, logvar)"
   ]
  },
  {
   "cell_type": "code",
   "execution_count": null,
   "metadata": {},
   "outputs": [
    {
     "data": {
      "text/plain": [
       "torch.Size([128, 8])"
      ]
     },
     "execution_count": null,
     "metadata": {},
     "output_type": "execute_result"
    }
   ],
   "source": [
    "z.shape"
   ]
  },
  {
   "cell_type": "code",
   "execution_count": null,
   "metadata": {},
   "outputs": [],
   "source": [
    "lam = 1\n",
    "lam_1 = 1e-4\n",
    "lam_2 = .85"
   ]
  },
  {
   "cell_type": "code",
   "execution_count": null,
   "metadata": {},
   "outputs": [],
   "source": [
    "std, mean = torch.std_mean(z, dim=0)\n",
    "logvar = 2 * torch.log(std)\n",
    "mean = mean[:,None]\n",
    "logvar = logvar[:,None]"
   ]
  },
  {
   "cell_type": "code",
   "execution_count": null,
   "metadata": {},
   "outputs": [],
   "source": [
    "assert mean.shape == torch.Size([latents, 1])\n",
    "assert logvar.shape == torch.Size([latents, 1])"
   ]
  },
  {
   "cell_type": "code",
   "execution_count": null,
   "metadata": {},
   "outputs": [
    {
     "data": {
      "text/plain": [
       "tensor([0.0079, 0.0059, 0.0129, 0.0039, 0.0116, 0.0394, 0.0012, 0.0920],\n",
       "       grad_fn=<MulBackward0>)"
      ]
     },
     "execution_count": null,
     "metadata": {},
     "output_type": "execute_result"
    }
   ],
   "source": [
    "alphas = kl_div_stdnorm(mean, logvar)\n",
    "alphas"
   ]
  },
  {
   "cell_type": "code",
   "execution_count": null,
   "metadata": {},
   "outputs": [
    {
     "data": {
      "text/plain": [
       "tensor([0.0079, 0.0059, 0.0129, 0.0039, 0.0116, 0.0394, 0.0012, 0.0920],\n",
       "       grad_fn=<IndexPutBackward0>)"
      ]
     },
     "execution_count": null,
     "metadata": {},
     "output_type": "execute_result"
    }
   ],
   "source": [
    "alphas[alphas < lam_1] = 0\n",
    "alphas"
   ]
  },
  {
   "cell_type": "code",
   "execution_count": null,
   "metadata": {},
   "outputs": [
    {
     "data": {
      "text/plain": [
       "tensor([0.0079, 0.0059, 0.0129, 0.0039, 0.0116, 0.0394, 0.0012, 0.0920],\n",
       "       grad_fn=<IndexPutBackward0>)"
      ]
     },
     "execution_count": null,
     "metadata": {},
     "output_type": "execute_result"
    }
   ],
   "source": [
    "alphas[alphas > lam_2] = 1\n",
    "alphas"
   ]
  },
  {
   "cell_type": "code",
   "execution_count": null,
   "metadata": {},
   "outputs": [],
   "source": [
    "a = alphas < lam"
   ]
  },
  {
   "cell_type": "code",
   "execution_count": null,
   "metadata": {},
   "outputs": [
    {
     "data": {
      "text/plain": [
       "tensor([0.0079, 0.0059, 0.0129, 0.0039, 0.0116, 0.0394, 0.0012, 0.0920],\n",
       "       grad_fn=<IndexPutBackward0>)"
      ]
     },
     "execution_count": null,
     "metadata": {},
     "output_type": "execute_result"
    }
   ],
   "source": [
    "alphas"
   ]
  },
  {
   "cell_type": "code",
   "execution_count": null,
   "metadata": {},
   "outputs": [],
   "source": [
    "assert torch.all(a)"
   ]
  },
  {
   "cell_type": "code",
   "execution_count": null,
   "metadata": {},
   "outputs": [],
   "source": [
    "assert alphas.shape == torch.Size([latents])\n",
    "assert a.shape == torch.Size([latents])"
   ]
  },
  {
   "cell_type": "markdown",
   "metadata": {},
   "source": [
    "### Latent Masking VAE\n"
   ]
  },
  {
   "cell_type": "markdown",
   "metadata": {},
   "source": [
    "$$\\bar{z}_n = \\frac{1}{B} \\sum_{b=1}^{B} q_{\\phi}(z_n|x_b)$$\n"
   ]
  },
  {
   "cell_type": "markdown",
   "metadata": {},
   "source": [
    "NOTE: the lower bound is a way of testing like \"inner typicaliy\" or somethign (essencially if everything is supsiciously close to the prior)\n",
    "\n",
    "We want so "
   ]
  },
  {
   "cell_type": "code",
   "execution_count": null,
   "metadata": {},
   "outputs": [],
   "source": [
    "#export \n",
    "def latent_mask(z, lam, lam_1=1e-4):\n",
    "    std, mean = torch.std_mean(z, dim=0)\n",
    "    std = std[:,None]\n",
    "    mean = mean[:, None]\n",
    "    logvar = torch.log(std.pow(2))\n",
    "    alphas = kl_div_stdnorm(mean, logvar)\n",
    "    alphas[alphas < lam_1] = 0\n",
    "    #alphas[alphas > lam_2] = 1\n",
    "    a = alphas < lam\n",
    "    return a, alphas"
   ]
  },
  {
   "cell_type": "code",
   "execution_count": null,
   "metadata": {},
   "outputs": [],
   "source": [
    "a, alphas = latent_mask(z, lam)\n",
    "assert torch.all(a)\n",
    "assert a.shape == torch.Size([latents])\n",
    "assert a.dtype == torch.bool"
   ]
  },
  {
   "cell_type": "code",
   "execution_count": null,
   "metadata": {},
   "outputs": [],
   "source": [
    "z[:,~a] = 0"
   ]
  },
  {
   "cell_type": "code",
   "execution_count": null,
   "metadata": {},
   "outputs": [],
   "source": [
    "z = torch.randn((batch_size, latents)) * 5\n",
    "a, alphas = latent_mask(z, lam)"
   ]
  },
  {
   "cell_type": "code",
   "execution_count": null,
   "metadata": {},
   "outputs": [],
   "source": [
    "assert torch.all(~a)"
   ]
  },
  {
   "cell_type": "code",
   "execution_count": null,
   "metadata": {},
   "outputs": [
    {
     "data": {
      "text/plain": [
       "torch.Size([128, 8])"
      ]
     },
     "execution_count": null,
     "metadata": {},
     "output_type": "execute_result"
    }
   ],
   "source": [
    "z.shape"
   ]
  },
  {
   "cell_type": "code",
   "execution_count": null,
   "metadata": {},
   "outputs": [],
   "source": [
    "z[:,~a] = 0\n",
    "assert torch.equal(z, torch.zeros(z.shape))"
   ]
  },
  {
   "cell_type": "code",
   "execution_count": null,
   "metadata": {},
   "outputs": [],
   "source": [
    "z = torch.randn((batch_size, latents)) * 1.7\n",
    "a, alphs = latent_mask(z, lam)"
   ]
  },
  {
   "cell_type": "code",
   "execution_count": null,
   "metadata": {},
   "outputs": [],
   "source": [
    "masked_z = torch.clone(z)\n",
    "masked_z[:, ~a] = 0"
   ]
  },
  {
   "cell_type": "code",
   "execution_count": null,
   "metadata": {},
   "outputs": [],
   "source": [
    "# assert not torch.equal(masked_z, z)\n",
    "# assert torch.equal(masked_z[:, a], z[:,a])\n",
    "# assert torch.equal(masked_z[:, ~a], torch.zeros([batch_size, torch.sum(~a)]))"
   ]
  },
  {
   "cell_type": "markdown",
   "metadata": {},
   "source": [
    "$$q(z^s|x^s) = a^s \\cdot \\mathcal{N}(\\mu(x), \\sigma(x)) + (1-a^s) \\cdot \\mathcal{N}(0,I)$$"
   ]
  },
  {
   "cell_type": "code",
   "execution_count": null,
   "metadata": {},
   "outputs": [],
   "source": [
    "#export \n",
    "def apply_mask(a, z, mu, logvar):\n",
    "    std_norm = torch.randn(z.shape)\n",
    "    z = a * z + (~a) * std_norm # \"reparam\" trick again\n",
    "    mu[:,~a] = 0\n",
    "    logvar[:,~a] = 0\n",
    "    return z, mu, logvar"
   ]
  },
  {
   "cell_type": "code",
   "execution_count": null,
   "metadata": {},
   "outputs": [],
   "source": [
    "#export\n",
    "class LatentMaskVAE(VanillaVAE):\n",
    "    def __init__(self, encoder: type, decoder: type, latents: int, device: str, lam: float):\n",
    "        self.lam = lam\n",
    "        super().__init__(encoder, decoder, latents, device)\n",
    "        \n",
    "    def forward(self, x):\n",
    "        mu, logvar, _final = self.encoder(x)\n",
    "        if self.training:\n",
    "            z = reparam(mu, logvar, device=self.device)\n",
    "        else:\n",
    "            z = mu\n",
    "        \n",
    "        #latent masking\n",
    "        a, alphas = latent_mask(z, self.lam)\n",
    "        z, mu, logvar = apply_mask(a, z, mu, logvar)\n",
    "        \n",
    "        rec_img = self.decoder(z=z)\n",
    "        return rec_img, mu, logvar, alphas"
   ]
  },
  {
   "cell_type": "code",
   "execution_count": null,
   "metadata": {},
   "outputs": [],
   "source": [
    "lm_vae = LatentMaskVAE(FCEncoder, FCDecoder, latents=latents, device='cpu', lam=lam)"
   ]
  },
  {
   "cell_type": "code",
   "execution_count": null,
   "metadata": {},
   "outputs": [],
   "source": [
    "rec_img, _mu, _logvar, _alphas = lm_vae(mnist_batch)"
   ]
  },
  {
   "cell_type": "code",
   "execution_count": null,
   "metadata": {},
   "outputs": [
    {
     "data": {
      "text/plain": [
       "tensor([10.5964,  7.6669,  9.4145,  9.3530, 10.5149,  8.6823, 11.3677, 12.3926])"
      ]
     },
     "execution_count": null,
     "metadata": {},
     "output_type": "execute_result"
    }
   ],
   "source": [
    "alphas"
   ]
  },
  {
   "cell_type": "code",
   "execution_count": null,
   "metadata": {},
   "outputs": [],
   "source": [
    "assert rec_img.shape == torch.Size([batch_size, 1, 28, 28])"
   ]
  },
  {
   "cell_type": "markdown",
   "metadata": {},
   "source": [
    "## Environmental Inference VAE"
   ]
  },
  {
   "cell_type": "markdown",
   "metadata": {},
   "source": [
    "### Formal Setup\n",
    "\n",
    "To infer the environment, you take the most likely environment, reconstruct the image conditional on all previously seen enviornments. If the reconstruction loss is below some threshold and the latent mask is the same as it is for that environment typically, then it is classified as that environment. Else it is classified as a new environment:\n",
    "\n",
    "$$s = \\left\\{ \n",
    "  \\begin{array}{ c l }\n",
    "    \\hat{s} & \\quad \\textrm{if } E_{z^{\\hat{s}}}[p_{\\theta}(x^{s}_{batch}|z^{\\hat{s}, \\hat{s}})] \\leq \\kappa L_{\\hat{s}} \\land a^s = a^{\\hat{s}} \\\\\n",
    "    s_{r+t}                 & \\quad \\textrm{otherwise}\n",
    "  \\end{array}\n",
    "\\right.$$\n",
    "\n",
    "Where $\\hat{s} = \\argmax_{s} q(s|x^s_{batch})$ is the output of the auxiliary classifier trained to output the most likely environment, $L_{\\hat{s}}$ is the average reconstruction loss on $\\hat{s}$ previously, and $\\kappa$ is a hyper parameter.\n",
    "\n",
    "Also note that the comparision $a^s = a^{\\hat{s}}$ is only taken on \"used\" latent variables. To calculate whether a variable $z_n$ is used, the paper finds the maximum amount of noise to add to $z_n$ without changing the reconstruction performance of the network, solving the following optimization problem:\n",
    "\n",
    "$$\\Sigma = \\argmin_{\\Sigma = \\textrm{diag}(\\sigma_1, ..., \\sigma_N)} E_{\\epsilon \\sim \\mathcal{N}(0, \\sigma)}[-\\log(p_{\\theta}(x|z^{\\epsilon}, s)] - log|\\Sigma|$$\n",
    "\n",
    "with $z^{\\epsilon}_n = (1 - \\delta_{nm})z_n + \\delta_{nm}(z_n + \\epsilon)$. We then define the mask $u^s$ as\n",
    "\n",
    "$$ u_n^s = \\left\\{ \n",
    "  \\begin{array}{ c l }\n",
    "    1 & \\quad \\textrm{if } \\sigma_n' < T \\\\\n",
    "    0                & \\quad \\textrm{otherwise}\n",
    "  \\end{array}\n",
    "\\right.$$\n",
    "\n",
    "Three possible methods:\n",
    "1. actually just do SGD - I'll start with this, but it seems prohibitely slow to do sgd in every batch of this process? idk I guess you only have 24 parameters...\n",
    "2. Some special solver that does it faster\n",
    "3. Prescify some discrete set or something\n",
    "So I guess we could just take a discrete set for each variable ([0,1,2,3,4,5] or something), calculate the loss \n",
    "\n",
    "\n",
    "\n",
    "\n",
    "The enviornment detector itself is trained to predict the current enviornment from the current data, and past enviornments using past data. Formally, this loss function is given by:\n",
    "\n",
    "$$\\mathcal{L}_{\\textrm{env}} = E_{x}[-log(q_{\\psi}(\\hat{s}|x))] + E_{\\hat{s} \\neq s <m} E_{x' \\sim p_{\\theta'}(x'|z',s)}[-\\log q_{\\psi}(s|x')]$$\n",
    "\n",
    "(Note that expected negative likelihood is just cross entropy loss). Past environments are sampled using monte-carlo methods. No mention of optimizer used for environmental classifier (I think this is maximized with the rest of of the model even though gradients are stopped)\n",
    "\n",
    "Putting it all together, we have:\n",
    "\n",
    "![enf_inf_alg](assets/env_inf_alg.png)\n",
    "\n",
    "Note that this algorithm doesn't use the auxilary environmental inference network - rather it performs [analysis by synthesis](https://arxiv.org/abs/1805.09190), determing the environment by seeing which best fits the data. I like this approach better, and it doesn't seem less efficient? The auxilary network requires _more_ generation to prevent catastrophic forgetting \n",
    "Other details:\n",
    "  max_envs = 7"
   ]
  },
  {
   "cell_type": "markdown",
   "metadata": {},
   "source": [
    "### Used vs Unused Variables \n",
    "$$\\Sigma = \\argmin_{\\Sigma = \\textrm{diag}(\\sigma_1, ..., \\sigma_N)} E_{\\epsilon \\sim \\mathcal{N}(0, \\sigma)}[-\\log(p_{\\theta}(x|z^{\\epsilon}, s)] - log|\\Sigma|$$\n",
    "\n",
    "with $z^{\\epsilon}_n = (1 - \\delta_{nm})z_n + \\delta_{nm}(z_n + \\epsilon)$\n",
    "\n",
    "$$ u_n^s = \\left\\{ \n",
    "  \\begin{array}{ c l }\n",
    "    1 & \\quad \\textrm{if } \\sigma_n' < T \\\\\n",
    "    0                & \\quad \\textrm{otherwise}\n",
    "  \\end{array}\n",
    "\\right.$$"
   ]
  },
  {
   "cell_type": "markdown",
   "metadata": {},
   "source": [
    "#### Exploration (gradient based)"
   ]
  },
  {
   "cell_type": "code",
   "execution_count": null,
   "metadata": {},
   "outputs": [
    {
     "data": {
      "text/plain": [
       "True"
      ]
     },
     "execution_count": null,
     "metadata": {},
     "output_type": "execute_result"
    }
   ],
   "source": [
    "params = torch.randn((10,))\n",
    "params.requires_grad_(True)\n",
    "params.requires_grad"
   ]
  },
  {
   "cell_type": "code",
   "execution_count": null,
   "metadata": {},
   "outputs": [],
   "source": [
    "optimizer = torch.optim.SGD(params=[params], lr=1e-2)"
   ]
  },
  {
   "cell_type": "code",
   "execution_count": null,
   "metadata": {},
   "outputs": [],
   "source": [
    "class AbsDev(nn.Module):\n",
    "\n",
    "    def forward(self, x):\n",
    "        e = torch.randn(x.shape[0])\n",
    "        return torch.abs(x*e).sum()#(x * e).pow(2).sqrt().sum()"
   ]
  },
  {
   "cell_type": "code",
   "execution_count": null,
   "metadata": {},
   "outputs": [],
   "source": [
    "abs_dev = AbsDev()\n",
    "with torch.no_grad():\n",
    "    abs_dev(params)"
   ]
  },
  {
   "cell_type": "code",
   "execution_count": null,
   "metadata": {},
   "outputs": [
    {
     "name": "stdout",
     "output_type": "stream",
     "text": [
      "tensor(-0.7987, grad_fn=<SumBackward0>)\n",
      "tensor(-0.0299, grad_fn=<SumBackward0>)\n",
      "tensor(0.0379, grad_fn=<SumBackward0>)\n",
      "tensor(0.0090, grad_fn=<SumBackward0>)\n",
      "tensor(-0.0018, grad_fn=<SumBackward0>)\n",
      "tensor(-0.0733, grad_fn=<SumBackward0>)\n",
      "tensor(-0.0181, grad_fn=<SumBackward0>)\n",
      "tensor(0.0004, grad_fn=<SumBackward0>)\n",
      "tensor(0.0142, grad_fn=<SumBackward0>)\n",
      "tensor(-0.0183, grad_fn=<SumBackward0>)\n"
     ]
    }
   ],
   "source": [
    "epochs=10000\n",
    "for i in range(epochs):\n",
    "    optimizer.zero_grad()\n",
    "    loss = abs_dev(params)\n",
    "    loss.backward()\n",
    "    optimizer.step()\n",
    "    if i % 1000 == 0:\n",
    "        pass\n",
    "        print(params.sum())"
   ]
  },
  {
   "cell_type": "markdown",
   "metadata": {},
   "source": [
    "#### Exploration (GA Based)"
   ]
  },
  {
   "cell_type": "code",
   "execution_count": null,
   "metadata": {},
   "outputs": [
    {
     "name": "stdout",
     "output_type": "stream",
     "text": [
      "#0 254.26978716306397 (x1=-0.9574062882102083, x2 = -0.4553035164372961)\n",
      "#0 11.067064285719752 (x1=-0.015151774038449257, x2 = -1.8594324338535897)\n",
      "#0 1042.9060022411618 (x1=2.4025533920219173, x2 = 1.2288528300183912)\n",
      "#0 23.236375382567076 (x1=0.22805292644318115, x2 = -2.394368923775275)\n",
      "#0 930.3313185863615 (x1=-2.6717797944706487, x2 = 0.9969354890444274)\n",
      "#0 767.3895695465062 (x1=0.12247701002082495, x2 = 0.7551940602952955)\n",
      "#1 355.9215908867891 (x1=1.561074257715168, x2 = -3.8810929897136375)\n",
      "#1 700.8438383131429 (x1=-1.992270446118872, x2 = -4.5998482150040045)\n",
      "#1 17.43163857641752 (x1=-0.08771023902140135, x2 = -1.7189718153590299)\n",
      "#1 1186.6071290681823 (x1=0.6515473840610584, x2 = 1.4367017609604589)\n",
      "#1 9.54127887271226 (x1=0.20737869858525812, x2 = -1.8679945024024798)\n",
      "#1 460.3078259212759 (x1=0.1274868494883204, x2 = 0.12616202139303878)\n",
      "#2 49.02999749607838 (x1=-0.39804115345640045, x2 = -2.61223617841071)\n",
      "#2 1265.9570242217235 (x1=-0.33544239978920387, x2 = 1.5423605804878358)\n",
      "#2 75.73511354047204 (x1=1.3665815925475642, x2 = -1.1452072891825318)\n",
      "#2 40.08148819994813 (x1=0.8700778392491685, x2 = -1.4038043962834794)\n",
      "#2 94.73150204007561 (x1=2.2913359392151245, x2 = -1.0292822382946345)\n",
      "#2 13.104452065561158 (x1=0.5762969301913716, x2 = -2.268888740838314)\n",
      "#3 640.7933057124343 (x1=-0.9227931357343124, x2 = 0.5008098682760154)\n",
      "#3 295.39528134209485 (x1=1.363558047912762, x2 = -3.710898416270071)\n",
      "#3 98.49201332196711 (x1=-1.2811216867328121, x2 = -1.10465643228226)\n",
      "#3 398.7279029000693 (x1=-0.28194312127250143, x2 = -0.03033822129584518)\n",
      "#3 70.01410682675736 (x1=1.8051823064215118, x2 = -2.8281697742967267)\n",
      "#3 58.56665151128115 (x1=0.5327546267216248, x2 = -1.2755736629627716)\n",
      "#4 5.231317512460234 (x1=1.2380049164835496, x2 = -2.1458317811083747)\n",
      "#4 107.5786321895398 (x1=0.3798821615617585, x2 = -3.003561730548936)\n",
      "#4 7.537187383046104 (x1=1.5381440649080638, x2 = -1.7676174574525318)\n",
      "#4 4.698601553580964 (x1=1.4449391336868205, x2 = -2.1510095114766705)\n",
      "#4 59.35993456262411 (x1=0.1810212551611391, x2 = -2.7170306367148536)\n",
      "#4 52.98531626206389 (x1=0.5112810722167587, x2 = -1.315956182978332)\n",
      "#5 14.004501412048237 (x1=1.7869027101382875, x2 = -1.6459816900585733)\n",
      "#5 13.732992597150544 (x1=1.6922005651109229, x2 = -2.346736978634445)\n",
      "#5 22.48912493699458 (x1=1.8841684138683008, x2 = -2.4609126252163787)\n",
      "#5 0.9762844995373398 (x1=2.1249706969931537, x2 = -2.04589207103811)\n",
      "#5 41.35956421721122 (x1=1.723173548256956, x2 = -2.6303116564790825)\n",
      "#5 15.443835943729153 (x1=0.7371202218708195, x2 = -2.3212975420612985)\n",
      "#6 11.801334337336012 (x1=1.6564347921862828, x2 = -1.6838328469039123)\n",
      "#6 0.847235356286141 (x1=2.778395593635416, x2 = -1.9106620549057713)\n",
      "#6 15.385578090705899 (x1=0.879001489051316, x2 = -1.6700463152613785)\n",
      "#6 121.90082654339905 (x1=1.8050282941506581, x2 = -3.097601335483966)\n",
      "#6 0.4100397150292248 (x1=2.379152098103903, x2 = -2.015680432946969)\n",
      "#6 3.4320546315574907 (x1=1.5166066460076635, x2 = -1.8890225793736015)\n",
      "#7 0.6875381280857233 (x1=3.7206295699303435, x2 = -1.9589840090906325)\n",
      "#7 80.91578779743469 (x1=2.8947528843349986, x2 = -2.8994704600045456)\n",
      "#7 23.32446954698832 (x1=1.2129893056143162, x2 = -2.4486765240698416)\n",
      "#7 20.302231712709727 (x1=1.0563086992601727, x2 = -1.5934991286585225)\n",
      "#7 72.8846566081738 (x1=0.38997157214823197, x2 = -2.812849360053752)\n",
      "#7 10.746788267129302 (x1=2.9905428551884796, x2 = -2.327821579972114)\n",
      "#8 17.043558157672283 (x1=1.509092640390993, x2 = -1.615022683749601)\n",
      "#8 1.4103356754768797 (x1=2.7672670466076696, x2 = -1.883545242781492)\n",
      "#8 96.36433160734603 (x1=3.0501335569356525, x2 = -2.9816405565878736)\n",
      "#8 96.16982441689493 (x1=2.6190691814407225, x2 = -2.979922017960443)\n",
      "#8 51.675698076674756 (x1=3.431266914997949, x2 = -2.7175632858828753)\n",
      "#8 4.2796285156034966 (x1=5.043621229024589, x2 = -1.9678688954619479)\n",
      "#9 0.8369957760740883 (x1=2.234256029719055, x2 = -1.9499368450801926)\n",
      "#9 26.429049316196345 (x1=1.5616300900513012, x2 = -1.5064400612048165)\n",
      "#9 8.73291516304563 (x1=5.862523376384174, x2 = -2.0734081114523306)\n",
      "#9 0.8263002043725953 (x1=2.309067414524346, x2 = -1.9409311954835275)\n",
      "#9 27.803451366821285 (x1=4.660037181899154, x2 = -2.5004770516370716)\n",
      "#9 51.177267474439034 (x1=3.626796052639738, x2 = -1.2873682986083606)\n",
      "#10 17.372907876235594 (x1=3.0906757380717114, x2 = -1.5832904394334018)\n",
      "#10 23.002529896550588 (x1=2.115018459307508, x2 = -1.5286260765678257)\n",
      "#10 66.45743711247621 (x1=4.163214774525625, x2 = -2.806872781179298)\n",
      "#10 15.940055420671968 (x1=1.503860990002662, x2 = -2.3701570407737256)\n",
      "#10 55.08872788511474 (x1=1.8846956351324027, x2 = -1.2662096753239245)\n",
      "#10 0.3591182132315504 (x1=3.1159330638644946, x2 = -2.058794365200633)\n",
      "#11 0.44279399353683785 (x1=3.6506280745499295, x2 = -2.013956038887983)\n",
      "#11 24.91172736027219 (x1=2.6891890391503024, x2 = -2.4981478084553608)\n",
      "#11 7.457639356095473 (x1=4.1937823510214844, x2 = -2.2456119511441797)\n",
      "#11 1.5418110061500974 (x1=1.8022749736838417, x2 = -2.032751453019073)\n",
      "#11 39.41370326263458 (x1=4.0122622889429, x2 = -2.6195888017146425)\n",
      "#11 15.934181377643922 (x1=2.0023919606577065, x2 = -2.3865095028260437)\n",
      "#12 0.6002069955375309 (x1=3.5679117397421227, x2 = -1.9473043406530854)\n",
      "#12 9.507141682546944 (x1=3.712193946709542, x2 = -2.2999986910774317)\n",
      "#12 1.8988582171019033 (x1=3.5043751630238096, x2 = -2.1282366527957826)\n",
      "#12 4.422706488999805 (x1=3.17166668612446, x2 = -2.2096005018571008)\n",
      "#12 2.939897686264533 (x1=3.1511702303611036, x2 = -2.1707935961245943)\n",
      "#12 13.100316724317238 (x1=2.93830084397327, x2 = -1.6381089951592769)\n",
      "#13 1.0818109790482875 (x1=3.8873037661680927, x2 = -1.9457318688738772)\n",
      "#13 3.0239805393552777 (x1=3.550149253721717, x2 = -2.1649641275545903)\n",
      "#13 0.9934416804482566 (x1=2.387464208607845, x2 = -2.0786283399743275)\n",
      "#13 1.5210631516916138 (x1=3.8434417964656906, x2 = -2.089981614103457)\n",
      "#13 7.28318278318077 (x1=3.46517746483225, x2 = -1.734165602124311)\n",
      "#13 13.656004894774 (x1=2.8963801903727107, x2 = -2.369395016612661)\n",
      "#14 3.9066788848780227 (x1=2.5442274077304874, x2 = -2.1923265511835)\n",
      "#14 1.1175897052093913 (x1=4.04768896684355, x2 = -1.9858799667267792)\n",
      "#14 0.06531666672507941 (x1=2.74590997036161, x2 = -2.002747587238727)\n",
      "#14 0.28942458056930603 (x1=2.5376226631006964, x2 = -1.9724987675019439)\n",
      "#14 5.777265015579562 (x1=3.1370333103777215, x2 = -2.2399684747508823)\n",
      "#14 2.588757766676957 (x1=3.6587123917360254, x2 = -2.1467942693585265)\n",
      "#15 1.484776635607631 (x1=2.640849261813042, x2 = -2.1164382833464748)\n",
      "#15 2.9877090058273614 (x1=1.6155255181443504, x2 = -1.8965137973004182)\n",
      "#15 0.919202223938775 (x1=2.0608901967144297, x2 = -1.9806932650839888)\n",
      "#15 0.9317797633981323 (x1=2.748930608078573, x2 = -1.906793566539732)\n",
      "#15 1.0073793724583786 (x1=2.5574393086106157, x2 = -1.9099156280537335)\n",
      "#15 0.5413084874532917 (x1=2.623891299589764, x2 = -1.9367662484958377)\n",
      "#16 3.4824549572586085 (x1=1.1702385009109284, x2 = -2.036664398769095)\n",
      "#16 0.29383115626368767 (x1=2.901235049698076, x2 = -1.946701159407024)\n",
      "#16 3.3504559554687363 (x1=2.044412593280181, x2 = -2.1561188221703977)\n",
      "#16 5.8380553366293375 (x1=0.6455936712216641, x2 = -1.94570210173148)\n",
      "#16 3.2955271274596476 (x1=2.665177670449605, x2 = -2.178421443080536)\n",
      "#16 1.0965917694330891 (x1=2.2371235349090606, x2 = -2.0717364111482754)\n",
      "#17 6.709606375160827 (x1=2.4117528171588205, x2 = -1.7477387935682491)\n",
      "#17 0.3398145430744194 (x1=2.6659497203699276, x2 = -2.0477728954275842)\n",
      "#17 0.0006514257484874037 (x1=2.988159180647054, x2 = -1.9977389808812434)\n",
      "#17 1.89929067793775 (x1=2.730811052207308, x2 = -2.13516020081089)\n",
      "#17 1.7228687262931905 (x1=2.8687085186935857, x2 = -2.1305998190362283)\n",
      "#17 1.2975361021121206 (x1=2.333329089773609, x2 = -2.0923626547675)\n",
      "#18 0.10240625510088455 (x1=2.770600022906352, x2 = -1.9776881409088534)\n",
      "#18 0.2447258961218866 (x1=2.548489871447223, x2 = -1.9797850303151003)\n",
      "#18 0.43137432823804733 (x1=2.539475142267855, x2 = -2.046828536561464)\n",
      "#18 0.1601424379219525 (x1=2.6368070817545037, x2 = -1.9831972198555499)\n",
      "#18 0.3660740579032845 (x1=2.6810328872065026, x2 = -2.0514134261511003)\n",
      "#18 1.4390206433062975 (x1=2.8600737564444967, x2 = -2.1191403076070707)\n",
      "#19 1.172185242918032 (x1=2.726327771499155, x2 = -1.8952484484952412)\n",
      "#19 0.2196624272157052 (x1=2.5452510923554823, x2 = -2.0113427766494025)\n",
      "#19 1.0427900214966659 (x1=2.867273367474327, x2 = -1.8987491401263643)\n",
      "#19 0.11028505621851054 (x1=3.0274661508227227, x2 = -2.033095417625027)\n",
      "#19 0.387546072859127 (x1=2.6455540293099613, x2 = -1.9488224534858574)\n",
      "#19 0.10672332107193071 (x1=2.6742345672542536, x2 = -1.9975500940836284)\n",
      "#20 0.11155566770318129 (x1=3.226246573545943, x2 = -2.0245699319620347)\n",
      "#20 0.021745698553499455 (x1=2.865363911720961, x2 = -2.0060156647898784)\n",
      "#20 0.5313538610993402 (x1=2.987290842027246, x2 = -2.0728829430253035)\n",
      "#20 0.38806962166109915 (x1=2.769555494256224, x2 = -2.0578761566997676)\n",
      "#20 0.011275450643019996 (x1=3.0155578265991, x2 = -2.0105040014635054)\n",
      "#20 0.18828741573694024 (x1=2.6017865404163576, x2 = -2.0172375915786884)\n",
      "#21 0.024150737444902867 (x1=2.8691987762740494, x2 = -2.008391529846635)\n",
      "#21 0.03335435215431133 (x1=3.18261880821023, x2 = -1.9997826743874607)\n",
      "#21 0.34430910322052 (x1=3.4071501598466605, x2 = -2.0422537395454365)\n",
      "#21 0.13184214544156822 (x1=3.233536990794474, x2 = -2.0278033486062794)\n",
      "#21 0.0522769167757001 (x1=2.840238314897919, x2 = -2.016356381246793)\n",
      "#21 0.036950385520123724 (x1=2.841937947835343, x2 = -2.0109392747408688)\n",
      "#22 0.19368709950411694 (x1=2.5717964049375968, x2 = -1.9898369391029325)\n",
      "#22 0.026485560693488057 (x1=2.92819652837326, x2 = -2.014604732847894)\n",
      "#22 0.02909413827890176 (x1=3.1510843660474572, x2 = -2.007916850772207)\n",
      "#22 0.053550434902034094 (x1=2.8063043729460477, x2 = -1.9873380732263173)\n",
      "#22 0.07796955265436545 (x1=2.75276999238175, x2 = -1.9870204483947074)\n",
      "#22 0.0030254006477739596 (x1=3.047096835506438, x2 = -1.997158717308937)\n",
      "#23 0.12801781475447133 (x1=3.23339912282638, x2 = -1.9728812492510537)\n",
      "#23 0.0201897489033718 (x1=2.9818979976947952, x2 = -2.0140932843638075)\n",
      "#23 0.0007799225768625057 (x1=2.998253223746733, x2 = -2.0027872411980012)\n",
      "#23 0.01808614725730245 (x1=3.011249072346935, x2 = -2.0134013453162867)\n",
      "#23 0.10737618781676446 (x1=3.1215778788652893, x2 = -2.0304294277283326)\n",
      "#23 0.04358462108291444 (x1=2.988071546856125, x2 = -1.9791571755540405)\n",
      "#24 0.009965649567942145 (x1=2.9102338654137294, x2 = -2.004367711814419)\n",
      "#24 0.029438620505923097 (x1=2.945184826378637, x2 = -2.016258510770296)\n",
      "#24 0.016988074874716534 (x1=2.960164752868085, x2 = -2.012410168395576)\n",
      "#24 0.04407853600874638 (x1=3.1707237530919827, x2 = -1.9877803698341832)\n",
      "#24 0.06745758690408182 (x1=2.8624455175199124, x2 = -2.022030967126687)\n",
      "#24 0.007007182209910294 (x1=2.9483484678258676, x2 = -2.0065873374241607)\n",
      "#25 0.04538469871917871 (x1=2.792186803124653, x2 = -1.9953113179638335)\n",
      "#25 0.009107668500802323 (x1=3.034196951305168, x2 = -1.9910903215421463)\n",
      "#25 0.018335563175964992 (x1=2.864955069079669, x2 = -1.9990078820196773)\n",
      "#25 0.013648067930360145 (x1=2.9757221252843533, x2 = -2.0114274462281174)\n",
      "#25 0.005005679726518157 (x1=2.931213840093187, x2 = -1.9983442707594763)\n",
      "#25 0.017659396856132863 (x1=2.873972965164528, x2 = -2.004214953554562)\n",
      "#26 0.007651562999357031 (x1=2.9152439041613047, x2 = -2.0021632549954615)\n",
      "#26 0.035321743657049834 (x1=2.8558429771471254, x2 = -1.9879416019226244)\n",
      "#26 0.00022909219967828042 (x1=2.9863486562295063, x2 = -2.000653704925315)\n",
      "#26 0.00347322474373311 (x1=2.969185223887146, x2 = -1.994976381466664)\n",
      "#26 5.1104748865024385e-05 (x1=2.9978741633358403, x2 = -1.9993174637933242)\n",
      "#26 0.008278928377450498 (x1=3.000643165126808, x2 = -2.0090986343569077)\n",
      "#27 0.008590252522660024 (x1=2.976856241364393, x2 = -1.9910252471015204)\n",
      "#27 0.005037490688097715 (x1=3.0214856019954275, x2 = -1.9932354899697082)\n",
      "#27 0.04339483887390609 (x1=2.7923832646335764, x2 = -2.0017033204915533)\n",
      "#27 0.03662321928681522 (x1=2.875926665473658, x2 = -2.0145701842631896)\n",
      "#27 0.005815861262658527 (x1=3.058390865158671, x2 = -1.9950945253759902)\n",
      "#27 0.002090242304127417 (x1=3.008056205319742, x2 = -2.00450037760635)\n",
      "#28 0.007089646739452342 (x1=3.03412514688758, x2 = -1.9923025191852441)\n",
      "#28 0.018259230157389377 (x1=3.0996919045394717, x2 = -2.0091218168840874)\n",
      "#28 0.0011180760784199458 (x1=2.970280426955373, x2 = -1.9984676062631783)\n",
      "#28 0.002795966983316384 (x1=2.9498122018581245, x2 = -1.9983352120225484)\n",
      "#28 0.005394396121643521 (x1=3.0486643395289255, x2 = -1.994498929031673)\n",
      "#28 0.01471169120024253 (x1=3.0001508330253017, x2 = -1.987870833314015)\n",
      "#29 0.016311692689799866 (x1=2.880654822075897, x2 = -1.9954520101186743)\n",
      "#29 0.0041595833743408505 (x1=2.9692892190788958, x2 = -2.005671359016635)\n",
      "#29 0.008912462862254568 (x1=2.9067094471470765, x2 = -2.001446843497585)\n",
      "#29 0.004415883223654646 (x1=3.042562718196476, x2 = -1.9948967674525042)\n",
      "#29 0.008355838861538657 (x1=2.9119111185546376, x2 = -1.997558304221973)\n",
      "#29 0.0004172542547114697 (x1=2.979841136879389, x2 = -1.9996702350474058)\n",
      "#30 0.002994768740006295 (x1=2.979688075546411, x2 = -2.0050815297549045)\n",
      "#30 0.004994408963366229 (x1=3.047312906366638, x2 = -2.005249664612628)\n",
      "#30 0.0006815254398462276 (x1=3.0224194167038383, x2 = -1.998662482917844)\n",
      "#30 0.004309712357687682 (x1=2.954699360242862, x2 = -1.9952486166274634)\n",
      "#30 0.0013576832053123137 (x1=2.976248415369168, x2 = -1.9971830061540061)\n",
      "#30 0.0007481001775812042 (x1=2.9883742224361938, x2 = -1.9975242345151083)\n",
      "#31 0.0024739361628863432 (x1=2.9566315881425833, x2 = -2.0024353993837805)\n",
      "#31 0.007193618606606886 (x1=2.9717027897799095, x2 = -1.9920044471733551)\n",
      "#31 0.00513482197578708 (x1=3.0504950215980595, x2 = -1.994915636942941)\n",
      "#31 0.0034858178245799425 (x1=2.9822497287482133, x2 = -2.0056309374841743)\n",
      "#31 0.004280473486281932 (x1=3.0098513352212852, x2 = -1.9935320600801802)\n",
      "#31 0.0007668355184841014 (x1=2.9901734332190872, x2 = -1.9974110347553813)\n",
      "#32 0.003137288587573202 (x1=2.9757957015840426, x2 = -1.994948821399154)\n",
      "#32 0.0019942111735370763 (x1=2.986425721207844, x2 = -1.995745649134345)\n",
      "#32 0.00025644557738316277 (x1=3.013295240184556, x2 = -1.9991073513243267)\n",
      "#32 0.002095251557042781 (x1=2.993759163841316, x2 = -1.995465351699323)\n",
      "#32 0.00253625525993828 (x1=2.969519153448631, x2 = -1.995991043460637)\n",
      "#32 0.002932922476244177 (x1=2.9504563709557114, x2 = -2.0021871243617273)\n",
      "#33 0.0017521442433517211 (x1=2.9941871085289087, x2 = -1.9958546959869063)\n",
      "#33 0.0007965507480385161 (x1=2.972489437347017, x2 = -2.0006302355952723)\n",
      "#33 0.004292635330963375 (x1=3.044885828348242, x2 = -1.9952272672980194)\n",
      "#33 0.0053964974733503 (x1=3.0452618640072293, x2 = -1.9942139295372927)\n",
      "#33 0.005694180540797074 (x1=3.0530777224050465, x2 = -1.994636292396961)\n",
      "#33 0.003098491143279165 (x1=3.0042911623586956, x2 = -1.994450155795979)\n",
      "#34 0.0007442603142347795 (x1=2.9731360968834193, x2 = -1.999524699846647)\n",
      "#34 0.0021107495143887593 (x1=2.9593814405105694, x2 = -1.9978531834279745)\n",
      "#34 0.0004291847325406028 (x1=2.98081047012584, x2 = -2.0007806835194195)\n",
      "#34 0.0020630424103137376 (x1=3.032802492745297, x2 = -1.996858282507913)\n",
      "#34 0.00023962056261904314 (x1=2.9970962100919394, x2 = -1.9984795113719962)\n",
      "#34 0.0020225719157828228 (x1=2.9697930288206007, x2 = -1.9966681674592655)\n",
      "#35 0.00025839281280489547 (x1=3.0062489675734083, x2 = -1.99851897597227)\n",
      "#35 8.59952497542636e-05 (x1=3.001855429253674, x2 = -1.999091415210127)\n",
      "#35 0.00011683086678956199 (x1=3.002407603638326, x2 = -1.9989462718020747)\n",
      "#35 0.0015030534792918615 (x1=2.963381170988384, x2 = -2.001273243264698)\n",
      "#35 0.0010175631586200802 (x1=3.00452976388355, x2 = -1.9968423990154243)\n",
      "#35 0.002446347729353389 (x1=2.9882232216855873, x2 = -1.995196193986133)\n",
      "#36 0.00011492192675632414 (x1=3.0038262772144315, x2 = -1.99899859334217)\n",
      "#36 0.0004175634938882683 (x1=3.0078846370113776, x2 = -1.9981148050682036)\n",
      "#36 0.0004386042305951428 (x1=2.9887791003307265, x2 = -1.9982316797767168)\n",
      "#36 0.0012356214524045258 (x1=3.02937282181859, x2 = -1.9980690448197385)\n",
      "#36 0.000537042318624441 (x1=3.0191615950388107, x2 = -1.9986966366807637)\n",
      "#36 0.0007397016099423417 (x1=2.974911221786958, x2 = -2.001050022941269)\n",
      "#37 7.341857341783038e-05 (x1=3.0009341342547673, x2 = -2.0008517392007645)\n",
      "#37 0.0003490165367963926 (x1=2.9847560569867277, x2 = -1.9989200058416616)\n",
      "#37 6.657918178781211e-05 (x1=2.9934943035541353, x2 = -1.9995075053752367)\n",
      "#37 0.0004940390608409919 (x1=2.991321885418227, x2 = -1.9979537121704252)\n",
      "#37 5.0173702878774046e-05 (x1=2.9974046447286407, x2 = -2.000659073849384)\n",
      "#37 0.0015678751839698457 (x1=3.01651877076673, x2 = -1.996401381659128)\n",
      "#38 0.00020478671005618674 (x1=3.0100403738530312, x2 = -2.0010196940862217)\n",
      "#38 0.0004978136955283694 (x1=3.00524885841976, x2 = -1.9978314447647854)\n",
      "#38 0.000262389577201005 (x1=3.0028335154058605, x2 = -2.0015948691722074)\n",
      "#38 0.0003237744812151716 (x1=3.016235124268378, x2 = -1.9992241442066627)\n",
      "#38 0.0002805678837444502 (x1=2.984060341250477, x2 = -1.999485265479172)\n",
      "#38 0.0006951801025060075 (x1=3.006180267026721, x2 = -2.0025631706965874)\n",
      "#39 0.000694039918230895 (x1=3.0133832069586437, x2 = -2.0022692062262673)\n",
      "#39 0.000624690290342338 (x1=2.9981460740476162, x2 = -2.002492495233507)\n",
      "#39 0.0011253464142711024 (x1=2.9768700703042286, x2 = -2.002429717610217)\n",
      "#39 0.0006812818305054395 (x1=2.987186101357833, x2 = -2.0022739521369055)\n",
      "#39 8.933464302309536e-05 (x1=2.9976025562346256, x2 = -2.000914258751202)\n",
      "#39 0.00029540815623048383 (x1=2.9991551336344773, x2 = -2.001716666412134)\n",
      "#40 0.000534519419550417 (x1=3.0002854741512435, x2 = -2.002311791348845)\n",
      "#40 0.0006727939942673547 (x1=3.0179912522204266, x2 = -2.0018684454442353)\n",
      "#40 0.0001121784854732531 (x1=3.0018228091032557, x2 = -2.0010433400809244)\n",
      "#40 8.840437639706575e-05 (x1=2.9953363550556964, x2 = -1.9991835761380843)\n",
      "#40 0.0010027762005660268 (x1=2.9761268072105618, x2 = -2.0020804972160624)\n",
      "#40 0.00018324699918870636 (x1=3.0006160585031894, x2 = -2.001352284996254)\n",
      "#41 0.0003084270089601444 (x1=2.989772231566024, x2 = -1.9985723454135502)\n",
      "#41 0.00023431475271345082 (x1=2.991396074022165, x2 = -2.0012660458541514)\n",
      "#41 5.824931062560735e-05 (x1=3.0035986550578326, x2 = -2.000673045261482)\n",
      "#41 0.0002290640748525224 (x1=2.990192731660896, x2 = -2.0011527426537494)\n",
      "#41 0.0005027002271534787 (x1=2.9951061291167793, x2 = -2.0021880362312627)\n",
      "#41 2.1044689917684628e-05 (x1=3.0033217922826085, x2 = -2.000316391939671)\n",
      "#42 7.814766002673682e-06 (x1=3.001585652240016, x2 = -2.0002302275608264)\n",
      "#42 5.545452527302226e-05 (x1=3.0066436904415648, x2 = -2.0003363911798737)\n",
      "#42 3.444293270788266e-05 (x1=2.9995478210159074, x2 = -2.0005851364530964)\n",
      "#42 0.0001756088610055256 (x1=3.00547871462327, x2 = -2.0012066173671976)\n",
      "#42 0.0011277635986501144 (x1=3.0075190100421643, x2 = -2.003272962093633)\n",
      "#42 0.0001774488335138027 (x1=3.0024006865264146, x2 = -2.0013102882801723)\n",
      "#43 2.235989619665252e-06 (x1=3.0013873845540675, x2 = -1.9999442188455838)\n",
      "#43 4.320276248919619e-06 (x1=3.0017016584540133, x2 = -2.000119358064445)\n",
      "#43 6.2557051471986515e-06 (x1=2.9983643572750007, x2 = -1.9998107811314019)\n",
      "#43 3.6460444337624075e-05 (x1=3.000207121802466, x2 = -1.9993965304904424)\n",
      "#43 6.140496029118218e-05 (x1=3.001993331041809, x2 = -2.000757836338855)\n",
      "#43 0.0001257816953397396 (x1=3.0095789325459874, x2 = -2.0005833159231425)\n",
      "#44 3.263328916940454e-05 (x1=3.0039769332389077, x2 = -1.9995899110927777)\n",
      "#44 4.762205099232644e-05 (x1=3.00575937572614, x2 = -2.000380153156471)\n",
      "#44 2.9248885608092223e-05 (x1=3.0052929027974735, x2 = -2.0001110885045623)\n",
      "#44 7.562759378132994e-07 (x1=3.000109354272411, x2 = -2.0000862738419753)\n",
      "#44 1.0480166059356424e-05 (x1=2.9990168610208294, x2 = -2.000308441304092)\n",
      "#44 2.2761824037022707e-05 (x1=3.0045682413155843, x2 = -2.0001375861664417)\n",
      "#45 2.1332109411096047e-06 (x1=2.9995129263687783, x2 = -2.0001376942344065)\n",
      "#45 1.8654852476898535e-05 (x1=3.0041858614642916, x2 = -1.9998935379749085)\n",
      "#45 8.726693392789936e-05 (x1=3.0007636647658544, x2 = -2.0009310410842347)\n",
      "#45 4.6384722976667305e-06 (x1=3.0010576927469543, x2 = -1.999812389809693)\n",
      "#45 5.810228259973443e-06 (x1=2.9998396297638608, x2 = -2.000240510075617)\n",
      "#45 1.559146047904126e-05 (x1=2.9977809092900127, x2 = -2.000326605218879)\n",
      "#46 1.871301310139786e-05 (x1=2.999192106830926, x2 = -2.000424974372507)\n",
      "#46 2.1923118917149887e-05 (x1=3.000079474764251, x2 = -2.0004681538494875)\n",
      "#46 2.738971380781287e-05 (x1=3.0041022955221077, x2 = -2.000324975156852)\n",
      "#46 2.1256482245391414e-05 (x1=2.9955677972298616, x2 = -2.000126966958291)\n",
      "#46 1.9351394352375633e-05 (x1=2.9992439347027853, x2 = -1.9995666437998745)\n",
      "#46 3.1476808045268754e-06 (x1=2.9998202622474683, x2 = -2.0001765042533437)\n",
      "#47 8.481097543944196e-07 (x1=2.999741310661121, x2 = -1.9999116150702696)\n",
      "#47 1.5475470889433018e-06 (x1=2.9991963610271255, x2 = -2.0000949584904166)\n",
      "#47 5.233008390698537e-05 (x1=2.997872002623747, x2 = -2.0006913878150043)\n",
      "#47 1.7043012453017847e-05 (x1=2.9998920971602527, x2 = -2.0004126907974524)\n",
      "#47 8.42087485356525e-06 (x1=3.001316832178242, x2 = -2.000258589015001)\n",
      "#47 9.259866463058936e-06 (x1=3.00049552690158, x2 = -2.0003002385643596)\n",
      "#48 2.8310545660624395e-06 (x1=2.9983248614361546, x2 = -2.000015800429735)\n",
      "#48 1.9636921444819026e-05 (x1=3.0001450818705235, x2 = -1.9995571019000304)\n",
      "#48 7.459179334346556e-06 (x1=2.998548643392182, x2 = -1.9997686400351986)\n",
      "#48 6.67615141997173e-06 (x1=2.9995023853881913, x2 = -2.000253545481484)\n",
      "#48 2.438920139211972e-06 (x1=3.0009064689328135, x2 = -2.0001271705238275)\n",
      "#48 6.029435186603501e-07 (x1=3.0006109314840894, x2 = -2.000047927678893)\n",
      "#49 5.567436207209101e-07 (x1=3.0006123702237213, x2 = -1.999957368282955)\n",
      "#49 5.271138408532165e-06 (x1=3.0019103654024244, x2 = -2.0001273437253166)\n",
      "#49 2.4456454234692254e-06 (x1=2.9998922436536435, x2 = -2.000156013909421)\n",
      "#49 1.0746828925264214e-05 (x1=3.001819227106914, x2 = -1.9997272869335962)\n",
      "#49 6.8611871244016935e-06 (x1=3.0020577599531255, x2 = -2.0001620743995736)\n",
      "#49 1.3302538446653275e-06 (x1=2.999588124598334, x2 = -2.000107731726904)\n"
     ]
    }
   ],
   "source": [
    "import numpy as np\n",
    "\n",
    "def quadratic(x1, x2):\n",
    "    return (x1 - 3) ** 2 + (10 * (x2 + 2)) ** 2\n",
    "\n",
    "optimizer = CMA(mean=np.zeros(2), sigma=1.3)\n",
    "\n",
    "for generation in range(50):\n",
    "    solutions = []\n",
    "    for _ in range(optimizer.population_size):\n",
    "        x = optimizer.ask()\n",
    "        value = quadratic(x[0], x[1])\n",
    "        solutions.append((x, value))\n",
    "        print(f\"#{generation} {value} (x1={x[0]}, x2 = {x[1]})\")\n",
    "    optimizer.tell(solutions)"
   ]
  },
  {
   "cell_type": "code",
   "execution_count": null,
   "metadata": {},
   "outputs": [
    {
     "data": {
      "text/plain": [
       "6"
      ]
     },
     "execution_count": null,
     "metadata": {},
     "output_type": "execute_result"
    }
   ],
   "source": [
    "optimizer.population_size"
   ]
  },
  {
   "cell_type": "code",
   "execution_count": null,
   "metadata": {},
   "outputs": [
    {
     "data": {
      "text/plain": [
       "array([ 3.00181923, -1.99972729])"
      ]
     },
     "execution_count": null,
     "metadata": {},
     "output_type": "execute_result"
    }
   ],
   "source": [
    "sorted(solutions, key= lambda pair: pair[1], reverse=True)[0][0]"
   ]
  },
  {
   "cell_type": "markdown",
   "metadata": {},
   "source": [
    "### Environment Inference"
   ]
  },
  {
   "cell_type": "markdown",
   "metadata": {},
   "source": [
    "Note: likelihood not sufficient because the data may use the same generative factors as before (true in the fashion->mnist case)"
   ]
  },
  {
   "cell_type": "code",
   "execution_count": null,
   "metadata": {},
   "outputs": [],
   "source": [
    "#export\n",
    "class EnvInferVAE(nn.Module):\n",
    "    def __init__(self, encoder: type, decoder: type, latents: int, max_envs: int, lam: float, kappa: float, device: str,\n",
    "        Tau: float=2, used_epochs: int=100, used_lr: float=1e-2, used_delta: float=.95):\n",
    "        super().__init__()\n",
    "        self.latents = latents\n",
    "        self.m = 0\n",
    "        self.max_envs = max_envs\n",
    "        self.lam = lam\n",
    "        self.kappa = kappa\n",
    "        self.Tau = Tau\n",
    "        self.used_epochs = used_epochs\n",
    "        self.used_lr = used_lr\n",
    "        self.used_delta = used_delta\n",
    "        self.env_count = [0] * self.max_envs\n",
    "        self.rec_loss_avgs = []\n",
    "        self.latent_masks = []\n",
    "        self.encoder = encoder(latents=latents)\n",
    "        self.decoder = decoder(latents=latents, max_envs=max_envs)\n",
    "        self.device = device\n",
    "        \n",
    "    def forward(self, x):\n",
    "        batch_size = x.shape[0]\n",
    "        mu, logvar, _final = self.encoder(x)\n",
    "        if self.training:\n",
    "            z = reparam(mu, logvar, device=self.device)\n",
    "        else:\n",
    "            z = mu\n",
    "        \n",
    "        #latent masking\n",
    "        a, alphas = latent_mask(z, self.lam)\n",
    "        z, mu, logvar = apply_mask(a, z, mu, logvar)\n",
    "\n",
    "        #infer environment\n",
    "        env_idx = self.infer_env(x, z, a)\n",
    "        s = torch.ones(batch_size, dtype=torch.int64) * env_idx\n",
    "        \n",
    "        rec_img = self.decoder(z=z, s=s)\n",
    "        return rec_img, mu, logvar, env_idx, z, alphas\n",
    "    \n",
    "    def infer_env(self, x, z, a):\n",
    "        # u = model.used(z)\n",
    "        batch_size = x.shape[0]\n",
    "\n",
    "        env_idx = self.get_env_idx(x, z, batch_size)\n",
    "\n",
    "        s = torch.ones(batch_size, dtype=torch.int64) * env_idx\n",
    "        with torch.no_grad():\n",
    "            x_rec = self.decoder(z, s)\n",
    "        rec_loss = torch.sum(rec_likelihood(x, x_rec))\n",
    "        avg_rec_loss = rec_loss / batch_size\n",
    "\n",
    "        if self.env_count[0] == 0:\n",
    "            self.init_env(batch_size, a, avg_rec_loss)\n",
    "            return self.m\n",
    "        \n",
    "        if avg_rec_loss > self.kappa * self.rec_loss_avgs[env_idx] and self.m < self.max_envs-1:\n",
    "            print(\"New environment: anomolous reconstruction loss\")\n",
    "            self.m +=1\n",
    "            self.init_env(batch_size, a, avg_rec_loss)\n",
    "            return self.m\n",
    "        \n",
    "        #get used mask\n",
    "        if not torch.equal(a, self.latent_masks[env_idx]):\n",
    "            print(\"Calculating used - masks did not match\")\n",
    "            u = self.used_latents(x, z, env_idx, batch_size, epochs=self.used_epochs, lr=self.used_lr, Tau=self.Tau, delta=self.used_delta)\n",
    "        else:\n",
    "            u = torch.ones([self.latents])\n",
    "        if u.sum() == 0:\n",
    "            print(\"some latent(s) are not used!\")\n",
    "\n",
    "        if not torch.equal(a * u, self.latent_masks[env_idx] * u) and self.m < self.max_envs-1: #note not sure if I should be comparing to \"env_used\"\n",
    "            print(\"New environment: latent masks did not match\")\n",
    "            self.m +=1\n",
    "            self.init_env(batch_size, a, avg_rec_loss)\n",
    "            return self.m\n",
    "        \n",
    "        #TODO add warning about exceeding max envs or something\n",
    "        self.env_count[env_idx] += batch_size\n",
    "        self.rec_loss_avgs[env_idx] = rec_loss #cumulative average\n",
    "        return env_idx\n",
    "    \n",
    "    def used_latents(self, batch, z, env_idx, batch_size, epochs, lr, Tau, delta):\n",
    "        sigma = torch.zeros([self.latents]) #TODO: could change init scheme\n",
    "        sigma.requires_grad_(True)\n",
    "        disable_gradient(self.decoder)\n",
    "        decoder_copy = copy.deepcopy(self.decoder)\n",
    "        disable_gradient(decoder_copy)\n",
    "        optimizer = torch.optim.SGD(params=[sigma], lr=lr)\n",
    "        s = torch.ones(batch_size, dtype=torch.int64) * env_idx\n",
    "        for i in range(epochs):\n",
    "            optimizer.zero_grad()\n",
    "            eps = torch.randn(sigma.shape[0]) * sigma\n",
    "            z_e = (1-delta) * z + (delta + eps)\n",
    "            rec_batch = self.decoder(z_e, s)\n",
    "            rec_loss = torch.mean(rec_likelihood(batch, rec_batch))\n",
    "            sum_sigma = torch.sum(sigma)\n",
    "            loss = rec_loss - sum_sigma\n",
    "            loss.backward(retain_graph=True)\n",
    "            optimizer.step()\n",
    "            if i % 10 == 0:\n",
    "                pass\n",
    "                #print(sigma)\n",
    "                #print(loss)\n",
    "                #print(sigma.sum())\n",
    "        return sigma < Tau\n",
    "    \n",
    "    def get_env_idx(self, x, z, batch_size):\n",
    "        \"\"\"get maximum likelihood environment using \"analysis by synthesis\"\"\"\n",
    "        losses = []\n",
    "        for s_i in range(self.m+1):\n",
    "            s = torch.ones(batch_size, dtype=torch.int64) * s_i\n",
    "            with torch.no_grad():\n",
    "                x_rec = self.decoder(z, s)\n",
    "                losses.append(torch.sum(rec_likelihood(x, x_rec)))\n",
    "        env_idx = torch.argmin(torch.tensor(losses))\n",
    "        return env_idx\n",
    "\n",
    "    def init_env(self, batch_size, a, avg_rec_loss):\n",
    "        self.env_count[self.m] += batch_size\n",
    "        self.latent_masks.append(a)\n",
    "        self.rec_loss_avgs.append(avg_rec_loss)\n",
    "\n"
   ]
  },
  {
   "cell_type": "code",
   "execution_count": null,
   "metadata": {},
   "outputs": [],
   "source": [
    "#export\n",
    "class EnvInferGAVAE(EnvInferVAE):\n",
    "\n",
    "    def used_latents(self, batch, z, env_idx, batch_size, epochs, lr, Tau, delta):\n",
    "        optimizer = CMA(mean=np.zeros(self.latents), sigma=1.3)\n",
    "        s = torch.ones(batch_size, dtype=torch.int64) * env_idx\n",
    "        for generation in range(epochs):\n",
    "            solutions = []\n",
    "            for _ in range(optimizer.population_size):\n",
    "                x = optimizer.ask()\n",
    "                with torch.no_grad():\n",
    "                    sigma = torch.tensor(x, dtype=torch.float)\n",
    "                    sigma = torch.abs(sigma)\n",
    "                    eps = torch.randn(sigma.shape[0]) * sigma\n",
    "                    z_e = (1-delta) * z + (delta + eps)\n",
    "                    rec_batch = self.decoder(z_e, s)\n",
    "                    rec_loss = torch.mean(rec_likelihood(batch, rec_batch))\n",
    "                    sum_sigma = torch.sum(sigma)\n",
    "                    loss = rec_loss - sum_sigma\n",
    "                value = loss.detach().numpy()\n",
    "                solutions.append((x, value))\n",
    "                #print(f\"#{generation} {value} (x1={x[0]}, x2 = {x[1]})\")\n",
    "            optimizer.tell(solutions)\n",
    "\n",
    "            if generation % 25 == 0:\n",
    "                x_prime = sorted(solutions, key= lambda pair: pair[1], reverse=True)[0][0]\n",
    "        x_prime = sorted(solutions, key= lambda pair: pair[1], reverse=True)[0][0]\n",
    "        sigma_prime = torch.tensor(x_prime, dtype=torch.float).abs()\n",
    "        used = torch.argmin(sigma_prime)\n",
    "        return sigma_prime < Tau"
   ]
  },
  {
   "cell_type": "code",
   "execution_count": null,
   "metadata": {},
   "outputs": [],
   "source": [
    "envinfer_vae = EnvInferGAVAE(FCEncoder, FCDecoder, 8, 7, lam=0.6, kappa=1.5, device='cpu', used_epochs=10, used_lr=1e-1)"
   ]
  },
  {
   "cell_type": "code",
   "execution_count": null,
   "metadata": {},
   "outputs": [],
   "source": [
    "rec_img, mu, logvar, env_idx, z, alpas = envinfer_vae(mnist_batch)"
   ]
  },
  {
   "cell_type": "code",
   "execution_count": null,
   "metadata": {},
   "outputs": [
    {
     "data": {
      "text/plain": [
       "tensor([10.5964,  7.6669,  9.4145,  9.3530, 10.5149,  8.6823, 11.3677, 12.3926])"
      ]
     },
     "execution_count": null,
     "metadata": {},
     "output_type": "execute_result"
    }
   ],
   "source": [
    "alphas"
   ]
  },
  {
   "cell_type": "code",
   "execution_count": null,
   "metadata": {},
   "outputs": [],
   "source": [
    "envinfer_vae = EnvInferVAE(FCEncoder, FCDecoder, 8, 7, lam=0.6, kappa=1.5, device='cpu', used_epochs=10, used_lr=1e-1)"
   ]
  },
  {
   "cell_type": "code",
   "execution_count": null,
   "metadata": {},
   "outputs": [],
   "source": [
    "rec_img, mu, logvar, env_idx, z, alphas = envinfer_vae(mnist_batch)"
   ]
  },
  {
   "cell_type": "code",
   "execution_count": null,
   "metadata": {},
   "outputs": [],
   "source": [
    "assert rec_img.shape == torch.Size([batch_size, 1, 28, 28])"
   ]
  },
  {
   "cell_type": "code",
   "execution_count": null,
   "metadata": {},
   "outputs": [],
   "source": [
    "envinfer_vae = EnvInferVAE(Encoder, Decoder, 8, 7, lam=0.6, kappa=1.5, device='cpu')"
   ]
  },
  {
   "cell_type": "code",
   "execution_count": null,
   "metadata": {},
   "outputs": [],
   "source": [
    "rec_img, mu, logvar, env_idx, z, alphas = envinfer_vae(mm_batch)"
   ]
  },
  {
   "cell_type": "code",
   "execution_count": null,
   "metadata": {},
   "outputs": [],
   "source": [
    "assert rec_img.shape == torch.Size([128, 1, 64, 64])"
   ]
  },
  {
   "cell_type": "markdown",
   "metadata": {},
   "source": [
    "###"
   ]
  },
  {
   "cell_type": "markdown",
   "metadata": {},
   "source": [
    "## Generative Replay VAE"
   ]
  },
  {
   "cell_type": "markdown",
   "metadata": {},
   "source": [
    "### Generative Sampling\n",
    "We need to sample the latents and environments independantly (because the environemt is typically determined by the reconstruction loss, which we don't have access to when sampling, because there is no ground truth image)"
   ]
  },
  {
   "cell_type": "code",
   "execution_count": null,
   "metadata": {},
   "outputs": [
    {
     "data": {
      "text/plain": [
       "tensor([[-0.7873,  1.7472]])"
      ]
     },
     "execution_count": null,
     "metadata": {},
     "output_type": "execute_result"
    }
   ],
   "source": [
    " torch.randn(size=(1,2))"
   ]
  },
  {
   "cell_type": "code",
   "execution_count": null,
   "metadata": {},
   "outputs": [
    {
     "data": {
      "text/plain": [
       "torch.Size([64])"
      ]
     },
     "execution_count": null,
     "metadata": {},
     "output_type": "execute_result"
    }
   ],
   "source": [
    "s = torch.randint(0, 3, (64,))\n",
    "s.shape"
   ]
  },
  {
   "cell_type": "code",
   "execution_count": null,
   "metadata": {},
   "outputs": [],
   "source": [
    "#export\n",
    "def generate_samples(vae: EnvInferVAE, batch_size: int):\n",
    "    z = torch.randn(size=(batch_size, vae.latents))\n",
    "    s = torch.randint(0, vae.m+1, (batch_size,))\n",
    "    x_sample = vae.decoder(z, s)\n",
    "    return x_sample"
   ]
  },
  {
   "cell_type": "code",
   "execution_count": null,
   "metadata": {},
   "outputs": [],
   "source": [
    "samples = generate_samples(envinfer_vae, 128)"
   ]
  },
  {
   "cell_type": "code",
   "execution_count": null,
   "metadata": {},
   "outputs": [],
   "source": [
    "assert samples.shape == torch.Size([batch_size, 1, 64, 64])"
   ]
  },
  {
   "cell_type": "code",
   "execution_count": null,
   "metadata": {},
   "outputs": [
    {
     "data": {
      "text/plain": [
       "<matplotlib.image.AxesImage at 0x11ce56f10>"
      ]
     },
     "execution_count": null,
     "metadata": {},
     "output_type": "execute_result"
    },
    {
     "data": {
      "image/png": "[encoded data removed]",
      "text/plain": [
       "<Figure size 432x288 with 1 Axes>"
      ]
     },
     "metadata": {
      "needs_background": "light"
     },
     "output_type": "display_data"
    }
   ],
   "source": [
    "plt.imshow(samples[0].detach().numpy().squeeze())"
   ]
  },
  {
   "cell_type": "markdown",
   "metadata": {},
   "source": [
    "### Generative Replay VAE"
   ]
  },
  {
   "cell_type": "code",
   "execution_count": null,
   "metadata": {},
   "outputs": [],
   "source": [
    "#export\n",
    "class GenReplayVAE(EnvInferVAE):\n",
    "    def __init__(self, encoder: type, decoder: type, latents: int, max_envs: int, lam: float, kappa: float, final_size: int, device: str,\n",
    "        Tau: float=2, used_epochs: int=100, used_lr: float=1e-2, used_delta: float=.95):\n",
    "        self.encoder_type = encoder\n",
    "        self.decoder_type = decoder\n",
    "        self.env_network = EnvironmentInference(max_envs, final_size)\n",
    "        self.env_optim = torch.optim.Adam(params=self.env_network.parameters(), lr=6e-4)\n",
    "        self.last_preds = None\n",
    "        super().__init__(encoder, decoder, latents, max_envs, lam, kappa, device, Tau, used_epochs, used_lr, used_delta)\n",
    "        self.old_model = []\n",
    "        \n",
    "    def sample(self, batch_size, increment=True):\n",
    "        if self.m == 0:\n",
    "            raise Exception(\"should not generate samples on current environment\")\n",
    "        samples = generate_samples(self.old_model[0], batch_size)\n",
    "        return samples\n",
    "    \n",
    "    def get_env_idx(self, x, z, batch_size):\n",
    "        env_preds = self.env_network(x) #batch_size x max_envs\n",
    "        env_idx = torch.argmax(env_preds.mean(dim=0))\n",
    "        self.last_preds = env_preds\n",
    "        return env_idx\n",
    "    \n",
    "    def train_env_inf_network(env_idx, halu_X, halu_y):\n",
    "        cur_env_labels = torch.ones([self.last_labels.shape[0]])\n",
    "        cur_loss = nn.CrossEntropyLoss()(self.last_labels, cur_env_labels)\n",
    "\n",
    "        \n",
    "\n",
    "    \n",
    "    def forward_halu(self, x):\n",
    "        rec_X, _mu, _logvar, _env_idx, z = self(x)\n",
    "        old_rec_X, _old_mu, _old_logvar, _old_env_idx, old_z = self.old_model[0](x)\n",
    "        return rec_X, old_rec_X, z, old_z\n",
    "    \n",
    "    def init_env(self, batch_size, a, avg_rec_loss):\n",
    "        if self.m > 0: #save current state of model for experience replay\n",
    "            old_model = self.copy_self(self.m-1)\n",
    "            disable_gradient(old_model)\n",
    "            self.old_model = [old_model]\n",
    "        super().init_env(batch_size, a, avg_rec_loss)\n",
    "    \n",
    "    def copy_self(self, m):\n",
    "        copy = EnvInferVAE(self.encoder_type, self.decoder_type, self.latents, self.max_envs, self.lam, self.kappa, self.device)\n",
    "        copy.load_state_dict(self.state_dict())\n",
    "        copy.m = m\n",
    "        return copy"
   ]
  },
  {
   "cell_type": "code",
   "execution_count": null,
   "metadata": {},
   "outputs": [
    {
     "data": {
      "text/plain": [
       "Decoder(\n",
       "  (linear2): Linear(in_features=15, out_features=256, bias=True)\n",
       "  (linear1): Linear(in_features=256, out_features=2048, bias=True)\n",
       "  (conv4): ConvTranspose2d(128, 128, kernel_size=(4, 4), stride=(2, 2), padding=(1, 1))\n",
       "  (conv3): ConvTranspose2d(128, 64, kernel_size=(4, 4), stride=(2, 2), padding=(1, 1))\n",
       "  (conv2): ConvTranspose2d(64, 64, kernel_size=(4, 4), stride=(2, 2), padding=(1, 1))\n",
       "  (conv1): ConvTranspose2d(64, 1, kernel_size=(4, 4), stride=(2, 2), padding=(1, 1))\n",
       "  (relu): ReLU()\n",
       "  (sigmoid): Sigmoid()\n",
       ")"
      ]
     },
     "execution_count": null,
     "metadata": {},
     "output_type": "execute_result"
    }
   ],
   "source": [
    "envinfer_vae.decoder"
   ]
  },
  {
   "cell_type": "code",
   "execution_count": null,
   "metadata": {},
   "outputs": [],
   "source": [
    "gen_replay_vae = GenReplayVAE(encoder=FCEncoder, decoder=FCDecoder, latents=latents, max_envs=max_environments, lam=lam, kappa=1.5, device=device)"
   ]
  },
  {
   "cell_type": "code",
   "execution_count": null,
   "metadata": {},
   "outputs": [],
   "source": [
    "rec_img, mu, logvar, env_idx, z, alphas = gen_replay_vae(mnist_batch)"
   ]
  },
  {
   "cell_type": "code",
   "execution_count": null,
   "metadata": {},
   "outputs": [],
   "source": [
    "assert rec_img.shape == torch.Size([batch_size, 1, 28, 28])"
   ]
  },
  {
   "cell_type": "code",
   "execution_count": null,
   "metadata": {},
   "outputs": [],
   "source": [
    "sample_batch_size=64"
   ]
  },
  {
   "cell_type": "code",
   "execution_count": null,
   "metadata": {},
   "outputs": [
    {
     "ename": "Exception",
     "evalue": "should not generate samples on current environment",
     "output_type": "error",
     "traceback": [
      "\u001b[0;31m---------------------------------------------------------------------------\u001b[0m",
      "\u001b[0;31mException\u001b[0m                                 Traceback (most recent call last)",
      "\u001b[1;32m/Users/oliverdaniels-koch/NotebookProjects/lifelong_disrep/02a_core.models.ipynb Cell 156'\u001b[0m in \u001b[0;36m<cell line: 1>\u001b[0;34m()\u001b[0m\n\u001b[0;32m----> <a href='vscode-notebook-cell:/Users/oliverdaniels-koch/NotebookProjects/lifelong_disrep/02a_core.models.ipynb#ch0000144?line=0'>1</a>\u001b[0m samples \u001b[39m=\u001b[39m gen_replay_vae\u001b[39m.\u001b[39;49msample(sample_batch_size)\n",
      "\u001b[1;32m/Users/oliverdaniels-koch/NotebookProjects/lifelong_disrep/02a_core.models.ipynb Cell 150'\u001b[0m in \u001b[0;36mGenReplayVAE.sample\u001b[0;34m(self, batch_size, increment)\u001b[0m\n\u001b[1;32m     <a href='vscode-notebook-cell:/Users/oliverdaniels-koch/NotebookProjects/lifelong_disrep/02a_core.models.ipynb#ch0000138?line=9'>10</a>\u001b[0m \u001b[39mdef\u001b[39;00m \u001b[39msample\u001b[39m(\u001b[39mself\u001b[39m, batch_size, increment\u001b[39m=\u001b[39m\u001b[39mTrue\u001b[39;00m):\n\u001b[1;32m     <a href='vscode-notebook-cell:/Users/oliverdaniels-koch/NotebookProjects/lifelong_disrep/02a_core.models.ipynb#ch0000138?line=10'>11</a>\u001b[0m     \u001b[39mif\u001b[39;00m \u001b[39mself\u001b[39m\u001b[39m.\u001b[39mm \u001b[39m==\u001b[39m \u001b[39m0\u001b[39m:\n\u001b[0;32m---> <a href='vscode-notebook-cell:/Users/oliverdaniels-koch/NotebookProjects/lifelong_disrep/02a_core.models.ipynb#ch0000138?line=11'>12</a>\u001b[0m         \u001b[39mraise\u001b[39;00m \u001b[39mException\u001b[39;00m(\u001b[39m\"\u001b[39m\u001b[39mshould not generate samples on current environment\u001b[39m\u001b[39m\"\u001b[39m)\n\u001b[1;32m     <a href='vscode-notebook-cell:/Users/oliverdaniels-koch/NotebookProjects/lifelong_disrep/02a_core.models.ipynb#ch0000138?line=12'>13</a>\u001b[0m     samples \u001b[39m=\u001b[39m generate_samples(\u001b[39mself\u001b[39m\u001b[39m.\u001b[39mold_model[\u001b[39m0\u001b[39m], batch_size)\n\u001b[1;32m     <a href='vscode-notebook-cell:/Users/oliverdaniels-koch/NotebookProjects/lifelong_disrep/02a_core.models.ipynb#ch0000138?line=13'>14</a>\u001b[0m     \u001b[39mreturn\u001b[39;00m samples\n",
      "\u001b[0;31mException\u001b[0m: should not generate samples on current environment"
     ]
    }
   ],
   "source": [
    "samples = gen_replay_vae.sample(sample_batch_size)"
   ]
  },
  {
   "cell_type": "code",
   "execution_count": null,
   "metadata": {},
   "outputs": [
    {
     "ename": "AssertionError",
     "evalue": "",
     "output_type": "error",
     "traceback": [
      "\u001b[0;31m---------------------------------------------------------------------------\u001b[0m",
      "\u001b[0;31mAssertionError\u001b[0m                            Traceback (most recent call last)",
      "\u001b[1;32m/Users/oliverdaniels-koch/NotebookProjects/lifelong_disrep/02a_core.models.ipynb Cell 157'\u001b[0m in \u001b[0;36m<cell line: 1>\u001b[0;34m()\u001b[0m\n\u001b[0;32m----> <a href='vscode-notebook-cell:/Users/oliverdaniels-koch/NotebookProjects/lifelong_disrep/02a_core.models.ipynb#ch0000145?line=0'>1</a>\u001b[0m \u001b[39massert\u001b[39;00m samples\u001b[39m.\u001b[39mshape \u001b[39m==\u001b[39m torch\u001b[39m.\u001b[39mSize([sample_batch_size, \u001b[39m1\u001b[39m, \u001b[39m28\u001b[39m, \u001b[39m28\u001b[39m])\n",
      "\u001b[0;31mAssertionError\u001b[0m: "
     ]
    }
   ],
   "source": [
    "assert samples.shape == torch.Size([sample_batch_size, 1, 28, 28])"
   ]
  },
  {
   "cell_type": "markdown",
   "metadata": {},
   "source": [
    "## Classifiers and Regressors"
   ]
  }
 ],
 "metadata": {
  "kernelspec": {
   "display_name": "Python 3.9.10 ('lifelong_disrep')",
   "language": "python",
   "name": "python3"
  }
 },
 "nbformat": 4,
 "nbformat_minor": 2
}
